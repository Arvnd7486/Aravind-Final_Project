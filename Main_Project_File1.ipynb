{
  "cells": [
    {
      "cell_type": "markdown",
      "metadata": {
        "id": "rw23nCtv-avE"
      },
      "source": [
        "# **1.Data understanding and EDA**"
      ]
    },
    {
      "cell_type": "code",
      "execution_count": 1,
      "metadata": {
        "id": "nzY1_pymm-Jf"
      },
      "outputs": [],
      "source": [
        "# Import Libraries\n",
        "import numpy as np\n",
        "import pandas as pd\n",
        "import seaborn as sns\n",
        "import matplotlib.pyplot as plt"
      ]
    },
    {
      "cell_type": "code",
      "execution_count": 2,
      "metadata": {
        "id": "_qn5niA7po9r"
      },
      "outputs": [],
      "source": [
        "data=pd.read_excel('/content/Datafiniti_Womens_Shoes 1.xlsx') "
      ]
    },
    {
      "cell_type": "code",
      "execution_count": 3,
      "metadata": {
        "id": "oyzXBdZyppJJ",
        "colab": {
          "base_uri": "https://localhost:8080/",
          "height": 473
        },
        "outputId": "4c0ce322-2759-4fa2-d0aa-2c66febb57cc"
      },
      "outputs": [
        {
          "output_type": "execute_result",
          "data": {
            "text/html": [
              "\n",
              "  <div id=\"df-80241f2e-6e34-4e55-87e6-276be78c90a3\">\n",
              "    <div class=\"colab-df-container\">\n",
              "      <div>\n",
              "<style scoped>\n",
              "    .dataframe tbody tr th:only-of-type {\n",
              "        vertical-align: middle;\n",
              "    }\n",
              "\n",
              "    .dataframe tbody tr th {\n",
              "        vertical-align: top;\n",
              "    }\n",
              "\n",
              "    .dataframe thead th {\n",
              "        text-align: right;\n",
              "    }\n",
              "</style>\n",
              "<table border=\"1\" class=\"dataframe\">\n",
              "  <thead>\n",
              "    <tr style=\"text-align: right;\">\n",
              "      <th></th>\n",
              "      <th>id</th>\n",
              "      <th>dateAdded</th>\n",
              "      <th>dateUpdated</th>\n",
              "      <th>brand</th>\n",
              "      <th>categories</th>\n",
              "      <th>primaryCategories</th>\n",
              "      <th>colors</th>\n",
              "      <th>dimension</th>\n",
              "      <th>ean</th>\n",
              "      <th>imageURLs</th>\n",
              "      <th>...</th>\n",
              "      <th>prices.dateAdded</th>\n",
              "      <th>prices.dateSeen</th>\n",
              "      <th>prices.isSale</th>\n",
              "      <th>prices.merchant</th>\n",
              "      <th>prices.shipping</th>\n",
              "      <th>prices.size</th>\n",
              "      <th>prices.sourceURLs</th>\n",
              "      <th>sizes</th>\n",
              "      <th>sourceURLs</th>\n",
              "      <th>upc</th>\n",
              "    </tr>\n",
              "  </thead>\n",
              "  <tbody>\n",
              "    <tr>\n",
              "      <th>0</th>\n",
              "      <td>AVpfEf_hLJeJML431ueH</td>\n",
              "      <td>2015-05-04T12:13:08Z</td>\n",
              "      <td>2018-01-29T04:38:43Z</td>\n",
              "      <td>Naturalizer</td>\n",
              "      <td>Clothing,Shoes,Women's Shoes,All Women's Shoes...</td>\n",
              "      <td>Shoes</td>\n",
              "      <td>Silver,Cream Watercolor Floral</td>\n",
              "      <td>NaN</td>\n",
              "      <td>NaN</td>\n",
              "      <td>https://i5.walmartimages.com/asr/861ca6cf-fa55...</td>\n",
              "      <td>...</td>\n",
              "      <td>2017-03-28T11:40:25Z</td>\n",
              "      <td>2017-03-25T09:19:24.819Z,2017-03-25T09:19:19.600Z</td>\n",
              "      <td>False</td>\n",
              "      <td>Overstock.com</td>\n",
              "      <td>NaN</td>\n",
              "      <td>S</td>\n",
              "      <td>https://www.overstock.com/Clothing-Shoes/Women...</td>\n",
              "      <td>6W,9W,7.5W,12W,8.5M,9N,9M,9.5M,10.5M,10W,8.5W,...</td>\n",
              "      <td>https://www.walmart.com/ip/Naturalizer-Danya-W...</td>\n",
              "      <td>17136472311</td>\n",
              "    </tr>\n",
              "    <tr>\n",
              "      <th>1</th>\n",
              "      <td>AVpi74XfLJeJML43qZAc</td>\n",
              "      <td>2017-01-27T01:23:39Z</td>\n",
              "      <td>2018-01-03T05:21:54Z</td>\n",
              "      <td>MUK LUKS</td>\n",
              "      <td>Clothing,Shoes,Women's Shoes,Women's Casual Sh...</td>\n",
              "      <td>Shoes</td>\n",
              "      <td>Grey</td>\n",
              "      <td>NaN</td>\n",
              "      <td>3.397705e+10</td>\n",
              "      <td>https://i5.walmartimages.com/asr/421de5d5-3a74...</td>\n",
              "      <td>...</td>\n",
              "      <td>2018-01-03T05:21:54Z</td>\n",
              "      <td>2017-12-08T14:24:00.000Z,2017-11-01T02:52:00.000Z</td>\n",
              "      <td>True</td>\n",
              "      <td>Walmart.com</td>\n",
              "      <td>Standard</td>\n",
              "      <td>6</td>\n",
              "      <td>https://www.walmart.com/ip/MUK-LUKS-Womens-Jan...</td>\n",
              "      <td>10,7,6,9,8</td>\n",
              "      <td>https://www.walmart.com/ip/MUK-LUKS-Womens-Jan...</td>\n",
              "      <td>33977045743</td>\n",
              "    </tr>\n",
              "    <tr>\n",
              "      <th>2</th>\n",
              "      <td>AVpi74XfLJeJML43qZAc</td>\n",
              "      <td>2017-01-27T01:23:39Z</td>\n",
              "      <td>2018-01-03T05:21:54Z</td>\n",
              "      <td>MUK LUKS</td>\n",
              "      <td>Clothing,Shoes,Women's Shoes,Women's Casual Sh...</td>\n",
              "      <td>Shoes</td>\n",
              "      <td>Grey</td>\n",
              "      <td>NaN</td>\n",
              "      <td>3.397705e+10</td>\n",
              "      <td>https://i5.walmartimages.com/asr/421de5d5-3a74...</td>\n",
              "      <td>...</td>\n",
              "      <td>2017-12-06T05:02:42Z</td>\n",
              "      <td>2017-11-10T15:11:00.000Z,2017-11-18T08:00:00.000Z</td>\n",
              "      <td>False</td>\n",
              "      <td>Slippers Dot Com</td>\n",
              "      <td>Value</td>\n",
              "      <td>6</td>\n",
              "      <td>https://www.walmart.com/ip/MUK-LUKS-Womens-Jan...</td>\n",
              "      <td>10,7,6,9,8</td>\n",
              "      <td>https://www.walmart.com/ip/MUK-LUKS-Womens-Jan...</td>\n",
              "      <td>33977045743</td>\n",
              "    </tr>\n",
              "    <tr>\n",
              "      <th>3</th>\n",
              "      <td>AVpjXyCc1cnluZ0-V-Gj</td>\n",
              "      <td>2017-01-27T01:25:56Z</td>\n",
              "      <td>2018-01-04T11:52:35Z</td>\n",
              "      <td>MUK LUKS</td>\n",
              "      <td>Clothing,Shoes,Women's Shoes,All Women's Shoes...</td>\n",
              "      <td>Shoes,Shoes</td>\n",
              "      <td>Black</td>\n",
              "      <td>6.0 in x 6.0 in x 1.0 in</td>\n",
              "      <td>3.397705e+10</td>\n",
              "      <td>https://i5.walmartimages.com/asr/950d38a5-0113...</td>\n",
              "      <td>...</td>\n",
              "      <td>2018-01-04T11:52:35Z</td>\n",
              "      <td>2017-12-07T16:37:00.000Z</td>\n",
              "      <td>False</td>\n",
              "      <td>Slippers Dot Com</td>\n",
              "      <td>Value</td>\n",
              "      <td>6</td>\n",
              "      <td>https://www.walmart.com/ip/MUK-LUKS-Womens-Daw...</td>\n",
              "      <td>10,7,6,9,8</td>\n",
              "      <td>https://www.walmart.com/ip/MUK-LUKS-Womens-Daw...</td>\n",
              "      <td>33977045903</td>\n",
              "    </tr>\n",
              "    <tr>\n",
              "      <th>4</th>\n",
              "      <td>AVphGKLPilAPnD_x1Nrm</td>\n",
              "      <td>2017-01-27T01:25:56Z</td>\n",
              "      <td>2018-01-18T03:55:18Z</td>\n",
              "      <td>MUK LUKS</td>\n",
              "      <td>Clothing,Shoes,Women's Shoes,All Women's Shoes...</td>\n",
              "      <td>Shoes</td>\n",
              "      <td>Grey</td>\n",
              "      <td>6.0 in x 6.0 in x 1.0 in</td>\n",
              "      <td>3.397705e+10</td>\n",
              "      <td>https://i5.walmartimages.com/asr/5e137bc3-c900...</td>\n",
              "      <td>...</td>\n",
              "      <td>2017-12-04T21:35:47Z</td>\n",
              "      <td>2017-11-17T21:15:00.000Z</td>\n",
              "      <td>True</td>\n",
              "      <td>Walmart.com</td>\n",
              "      <td>Expedited</td>\n",
              "      <td>6</td>\n",
              "      <td>https://www.walmart.com/ip/MUK-LUKS-Womens-Daw...</td>\n",
              "      <td>10,7,6,9,8</td>\n",
              "      <td>https://www.walmart.com/ip/MUK-LUKS-Womens-Daw...</td>\n",
              "      <td>33977045958</td>\n",
              "    </tr>\n",
              "  </tbody>\n",
              "</table>\n",
              "<p>5 rows × 29 columns</p>\n",
              "</div>\n",
              "      <button class=\"colab-df-convert\" onclick=\"convertToInteractive('df-80241f2e-6e34-4e55-87e6-276be78c90a3')\"\n",
              "              title=\"Convert this dataframe to an interactive table.\"\n",
              "              style=\"display:none;\">\n",
              "        \n",
              "  <svg xmlns=\"http://www.w3.org/2000/svg\" height=\"24px\"viewBox=\"0 0 24 24\"\n",
              "       width=\"24px\">\n",
              "    <path d=\"M0 0h24v24H0V0z\" fill=\"none\"/>\n",
              "    <path d=\"M18.56 5.44l.94 2.06.94-2.06 2.06-.94-2.06-.94-.94-2.06-.94 2.06-2.06.94zm-11 1L8.5 8.5l.94-2.06 2.06-.94-2.06-.94L8.5 2.5l-.94 2.06-2.06.94zm10 10l.94 2.06.94-2.06 2.06-.94-2.06-.94-.94-2.06-.94 2.06-2.06.94z\"/><path d=\"M17.41 7.96l-1.37-1.37c-.4-.4-.92-.59-1.43-.59-.52 0-1.04.2-1.43.59L10.3 9.45l-7.72 7.72c-.78.78-.78 2.05 0 2.83L4 21.41c.39.39.9.59 1.41.59.51 0 1.02-.2 1.41-.59l7.78-7.78 2.81-2.81c.8-.78.8-2.07 0-2.86zM5.41 20L4 18.59l7.72-7.72 1.47 1.35L5.41 20z\"/>\n",
              "  </svg>\n",
              "      </button>\n",
              "      \n",
              "  <style>\n",
              "    .colab-df-container {\n",
              "      display:flex;\n",
              "      flex-wrap:wrap;\n",
              "      gap: 12px;\n",
              "    }\n",
              "\n",
              "    .colab-df-convert {\n",
              "      background-color: #E8F0FE;\n",
              "      border: none;\n",
              "      border-radius: 50%;\n",
              "      cursor: pointer;\n",
              "      display: none;\n",
              "      fill: #1967D2;\n",
              "      height: 32px;\n",
              "      padding: 0 0 0 0;\n",
              "      width: 32px;\n",
              "    }\n",
              "\n",
              "    .colab-df-convert:hover {\n",
              "      background-color: #E2EBFA;\n",
              "      box-shadow: 0px 1px 2px rgba(60, 64, 67, 0.3), 0px 1px 3px 1px rgba(60, 64, 67, 0.15);\n",
              "      fill: #174EA6;\n",
              "    }\n",
              "\n",
              "    [theme=dark] .colab-df-convert {\n",
              "      background-color: #3B4455;\n",
              "      fill: #D2E3FC;\n",
              "    }\n",
              "\n",
              "    [theme=dark] .colab-df-convert:hover {\n",
              "      background-color: #434B5C;\n",
              "      box-shadow: 0px 1px 3px 1px rgba(0, 0, 0, 0.15);\n",
              "      filter: drop-shadow(0px 1px 2px rgba(0, 0, 0, 0.3));\n",
              "      fill: #FFFFFF;\n",
              "    }\n",
              "  </style>\n",
              "\n",
              "      <script>\n",
              "        const buttonEl =\n",
              "          document.querySelector('#df-80241f2e-6e34-4e55-87e6-276be78c90a3 button.colab-df-convert');\n",
              "        buttonEl.style.display =\n",
              "          google.colab.kernel.accessAllowed ? 'block' : 'none';\n",
              "\n",
              "        async function convertToInteractive(key) {\n",
              "          const element = document.querySelector('#df-80241f2e-6e34-4e55-87e6-276be78c90a3');\n",
              "          const dataTable =\n",
              "            await google.colab.kernel.invokeFunction('convertToInteractive',\n",
              "                                                     [key], {});\n",
              "          if (!dataTable) return;\n",
              "\n",
              "          const docLinkHtml = 'Like what you see? Visit the ' +\n",
              "            '<a target=\"_blank\" href=https://colab.research.google.com/notebooks/data_table.ipynb>data table notebook</a>'\n",
              "            + ' to learn more about interactive tables.';\n",
              "          element.innerHTML = '';\n",
              "          dataTable['output_type'] = 'display_data';\n",
              "          await google.colab.output.renderOutput(dataTable, element);\n",
              "          const docLink = document.createElement('div');\n",
              "          docLink.innerHTML = docLinkHtml;\n",
              "          element.appendChild(docLink);\n",
              "        }\n",
              "      </script>\n",
              "    </div>\n",
              "  </div>\n",
              "  "
            ],
            "text/plain": [
              "                     id             dateAdded           dateUpdated  \\\n",
              "0  AVpfEf_hLJeJML431ueH  2015-05-04T12:13:08Z  2018-01-29T04:38:43Z   \n",
              "1  AVpi74XfLJeJML43qZAc  2017-01-27T01:23:39Z  2018-01-03T05:21:54Z   \n",
              "2  AVpi74XfLJeJML43qZAc  2017-01-27T01:23:39Z  2018-01-03T05:21:54Z   \n",
              "3  AVpjXyCc1cnluZ0-V-Gj  2017-01-27T01:25:56Z  2018-01-04T11:52:35Z   \n",
              "4  AVphGKLPilAPnD_x1Nrm  2017-01-27T01:25:56Z  2018-01-18T03:55:18Z   \n",
              "\n",
              "         brand                                         categories  \\\n",
              "0  Naturalizer  Clothing,Shoes,Women's Shoes,All Women's Shoes...   \n",
              "1     MUK LUKS  Clothing,Shoes,Women's Shoes,Women's Casual Sh...   \n",
              "2     MUK LUKS  Clothing,Shoes,Women's Shoes,Women's Casual Sh...   \n",
              "3     MUK LUKS  Clothing,Shoes,Women's Shoes,All Women's Shoes...   \n",
              "4     MUK LUKS  Clothing,Shoes,Women's Shoes,All Women's Shoes...   \n",
              "\n",
              "  primaryCategories                          colors                 dimension  \\\n",
              "0             Shoes  Silver,Cream Watercolor Floral                       NaN   \n",
              "1             Shoes                            Grey                       NaN   \n",
              "2             Shoes                            Grey                       NaN   \n",
              "3       Shoes,Shoes                           Black  6.0 in x 6.0 in x 1.0 in   \n",
              "4             Shoes                            Grey  6.0 in x 6.0 in x 1.0 in   \n",
              "\n",
              "            ean                                          imageURLs  ...  \\\n",
              "0           NaN  https://i5.walmartimages.com/asr/861ca6cf-fa55...  ...   \n",
              "1  3.397705e+10  https://i5.walmartimages.com/asr/421de5d5-3a74...  ...   \n",
              "2  3.397705e+10  https://i5.walmartimages.com/asr/421de5d5-3a74...  ...   \n",
              "3  3.397705e+10  https://i5.walmartimages.com/asr/950d38a5-0113...  ...   \n",
              "4  3.397705e+10  https://i5.walmartimages.com/asr/5e137bc3-c900...  ...   \n",
              "\n",
              "       prices.dateAdded                                    prices.dateSeen  \\\n",
              "0  2017-03-28T11:40:25Z  2017-03-25T09:19:24.819Z,2017-03-25T09:19:19.600Z   \n",
              "1  2018-01-03T05:21:54Z  2017-12-08T14:24:00.000Z,2017-11-01T02:52:00.000Z   \n",
              "2  2017-12-06T05:02:42Z  2017-11-10T15:11:00.000Z,2017-11-18T08:00:00.000Z   \n",
              "3  2018-01-04T11:52:35Z                           2017-12-07T16:37:00.000Z   \n",
              "4  2017-12-04T21:35:47Z                           2017-11-17T21:15:00.000Z   \n",
              "\n",
              "  prices.isSale   prices.merchant  prices.shipping prices.size  \\\n",
              "0         False     Overstock.com              NaN           S   \n",
              "1          True       Walmart.com         Standard           6   \n",
              "2         False  Slippers Dot Com            Value           6   \n",
              "3         False  Slippers Dot Com            Value           6   \n",
              "4          True       Walmart.com        Expedited           6   \n",
              "\n",
              "                                   prices.sourceURLs  \\\n",
              "0  https://www.overstock.com/Clothing-Shoes/Women...   \n",
              "1  https://www.walmart.com/ip/MUK-LUKS-Womens-Jan...   \n",
              "2  https://www.walmart.com/ip/MUK-LUKS-Womens-Jan...   \n",
              "3  https://www.walmart.com/ip/MUK-LUKS-Womens-Daw...   \n",
              "4  https://www.walmart.com/ip/MUK-LUKS-Womens-Daw...   \n",
              "\n",
              "                                               sizes  \\\n",
              "0  6W,9W,7.5W,12W,8.5M,9N,9M,9.5M,10.5M,10W,8.5W,...   \n",
              "1                                         10,7,6,9,8   \n",
              "2                                         10,7,6,9,8   \n",
              "3                                         10,7,6,9,8   \n",
              "4                                         10,7,6,9,8   \n",
              "\n",
              "                                          sourceURLs          upc  \n",
              "0  https://www.walmart.com/ip/Naturalizer-Danya-W...  17136472311  \n",
              "1  https://www.walmart.com/ip/MUK-LUKS-Womens-Jan...  33977045743  \n",
              "2  https://www.walmart.com/ip/MUK-LUKS-Womens-Jan...  33977045743  \n",
              "3  https://www.walmart.com/ip/MUK-LUKS-Womens-Daw...  33977045903  \n",
              "4  https://www.walmart.com/ip/MUK-LUKS-Womens-Daw...  33977045958  \n",
              "\n",
              "[5 rows x 29 columns]"
            ]
          },
          "metadata": {},
          "execution_count": 3
        }
      ],
      "source": [
        "data.head()"
      ]
    },
    {
      "cell_type": "code",
      "execution_count": 4,
      "metadata": {
        "id": "3phoIvTUQ4Dx",
        "colab": {
          "base_uri": "https://localhost:8080/"
        },
        "outputId": "be09b163-713a-4dcd-f482-59bf5fcb5564"
      },
      "outputs": [
        {
          "output_type": "stream",
          "name": "stderr",
          "text": [
            "/usr/local/lib/python3.7/dist-packages/ipykernel_launcher.py:1: FutureWarning: The default value of regex will change from True to False in a future version. In addition, single character regular expressions will *not* be treated as literal strings when regex=True.\n",
            "  \"\"\"Entry point for launching an IPython kernel.\n"
          ]
        }
      ],
      "source": [
        "data.columns = data.columns.str.replace('.','_')"
      ]
    },
    {
      "cell_type": "code",
      "execution_count": 5,
      "metadata": {
        "id": "gdycxCFDRAeZ",
        "colab": {
          "base_uri": "https://localhost:8080/",
          "height": 473
        },
        "outputId": "a69c8509-dc32-4ca8-e1c7-ed9bed2eb454"
      },
      "outputs": [
        {
          "output_type": "execute_result",
          "data": {
            "text/html": [
              "\n",
              "  <div id=\"df-ae006686-bb4e-4369-bd63-8a079aa72224\">\n",
              "    <div class=\"colab-df-container\">\n",
              "      <div>\n",
              "<style scoped>\n",
              "    .dataframe tbody tr th:only-of-type {\n",
              "        vertical-align: middle;\n",
              "    }\n",
              "\n",
              "    .dataframe tbody tr th {\n",
              "        vertical-align: top;\n",
              "    }\n",
              "\n",
              "    .dataframe thead th {\n",
              "        text-align: right;\n",
              "    }\n",
              "</style>\n",
              "<table border=\"1\" class=\"dataframe\">\n",
              "  <thead>\n",
              "    <tr style=\"text-align: right;\">\n",
              "      <th></th>\n",
              "      <th>id</th>\n",
              "      <th>dateAdded</th>\n",
              "      <th>dateUpdated</th>\n",
              "      <th>brand</th>\n",
              "      <th>categories</th>\n",
              "      <th>primaryCategories</th>\n",
              "      <th>colors</th>\n",
              "      <th>dimension</th>\n",
              "      <th>ean</th>\n",
              "      <th>imageURLs</th>\n",
              "      <th>...</th>\n",
              "      <th>prices_dateAdded</th>\n",
              "      <th>prices_dateSeen</th>\n",
              "      <th>prices_isSale</th>\n",
              "      <th>prices_merchant</th>\n",
              "      <th>prices_shipping</th>\n",
              "      <th>prices_size</th>\n",
              "      <th>prices_sourceURLs</th>\n",
              "      <th>sizes</th>\n",
              "      <th>sourceURLs</th>\n",
              "      <th>upc</th>\n",
              "    </tr>\n",
              "  </thead>\n",
              "  <tbody>\n",
              "    <tr>\n",
              "      <th>0</th>\n",
              "      <td>AVpfEf_hLJeJML431ueH</td>\n",
              "      <td>2015-05-04T12:13:08Z</td>\n",
              "      <td>2018-01-29T04:38:43Z</td>\n",
              "      <td>Naturalizer</td>\n",
              "      <td>Clothing,Shoes,Women's Shoes,All Women's Shoes...</td>\n",
              "      <td>Shoes</td>\n",
              "      <td>Silver,Cream Watercolor Floral</td>\n",
              "      <td>NaN</td>\n",
              "      <td>NaN</td>\n",
              "      <td>https://i5.walmartimages.com/asr/861ca6cf-fa55...</td>\n",
              "      <td>...</td>\n",
              "      <td>2017-03-28T11:40:25Z</td>\n",
              "      <td>2017-03-25T09:19:24.819Z,2017-03-25T09:19:19.600Z</td>\n",
              "      <td>False</td>\n",
              "      <td>Overstock.com</td>\n",
              "      <td>NaN</td>\n",
              "      <td>S</td>\n",
              "      <td>https://www.overstock.com/Clothing-Shoes/Women...</td>\n",
              "      <td>6W,9W,7.5W,12W,8.5M,9N,9M,9.5M,10.5M,10W,8.5W,...</td>\n",
              "      <td>https://www.walmart.com/ip/Naturalizer-Danya-W...</td>\n",
              "      <td>17136472311</td>\n",
              "    </tr>\n",
              "    <tr>\n",
              "      <th>1</th>\n",
              "      <td>AVpi74XfLJeJML43qZAc</td>\n",
              "      <td>2017-01-27T01:23:39Z</td>\n",
              "      <td>2018-01-03T05:21:54Z</td>\n",
              "      <td>MUK LUKS</td>\n",
              "      <td>Clothing,Shoes,Women's Shoes,Women's Casual Sh...</td>\n",
              "      <td>Shoes</td>\n",
              "      <td>Grey</td>\n",
              "      <td>NaN</td>\n",
              "      <td>3.397705e+10</td>\n",
              "      <td>https://i5.walmartimages.com/asr/421de5d5-3a74...</td>\n",
              "      <td>...</td>\n",
              "      <td>2018-01-03T05:21:54Z</td>\n",
              "      <td>2017-12-08T14:24:00.000Z,2017-11-01T02:52:00.000Z</td>\n",
              "      <td>True</td>\n",
              "      <td>Walmart.com</td>\n",
              "      <td>Standard</td>\n",
              "      <td>6</td>\n",
              "      <td>https://www.walmart.com/ip/MUK-LUKS-Womens-Jan...</td>\n",
              "      <td>10,7,6,9,8</td>\n",
              "      <td>https://www.walmart.com/ip/MUK-LUKS-Womens-Jan...</td>\n",
              "      <td>33977045743</td>\n",
              "    </tr>\n",
              "    <tr>\n",
              "      <th>2</th>\n",
              "      <td>AVpi74XfLJeJML43qZAc</td>\n",
              "      <td>2017-01-27T01:23:39Z</td>\n",
              "      <td>2018-01-03T05:21:54Z</td>\n",
              "      <td>MUK LUKS</td>\n",
              "      <td>Clothing,Shoes,Women's Shoes,Women's Casual Sh...</td>\n",
              "      <td>Shoes</td>\n",
              "      <td>Grey</td>\n",
              "      <td>NaN</td>\n",
              "      <td>3.397705e+10</td>\n",
              "      <td>https://i5.walmartimages.com/asr/421de5d5-3a74...</td>\n",
              "      <td>...</td>\n",
              "      <td>2017-12-06T05:02:42Z</td>\n",
              "      <td>2017-11-10T15:11:00.000Z,2017-11-18T08:00:00.000Z</td>\n",
              "      <td>False</td>\n",
              "      <td>Slippers Dot Com</td>\n",
              "      <td>Value</td>\n",
              "      <td>6</td>\n",
              "      <td>https://www.walmart.com/ip/MUK-LUKS-Womens-Jan...</td>\n",
              "      <td>10,7,6,9,8</td>\n",
              "      <td>https://www.walmart.com/ip/MUK-LUKS-Womens-Jan...</td>\n",
              "      <td>33977045743</td>\n",
              "    </tr>\n",
              "    <tr>\n",
              "      <th>3</th>\n",
              "      <td>AVpjXyCc1cnluZ0-V-Gj</td>\n",
              "      <td>2017-01-27T01:25:56Z</td>\n",
              "      <td>2018-01-04T11:52:35Z</td>\n",
              "      <td>MUK LUKS</td>\n",
              "      <td>Clothing,Shoes,Women's Shoes,All Women's Shoes...</td>\n",
              "      <td>Shoes,Shoes</td>\n",
              "      <td>Black</td>\n",
              "      <td>6.0 in x 6.0 in x 1.0 in</td>\n",
              "      <td>3.397705e+10</td>\n",
              "      <td>https://i5.walmartimages.com/asr/950d38a5-0113...</td>\n",
              "      <td>...</td>\n",
              "      <td>2018-01-04T11:52:35Z</td>\n",
              "      <td>2017-12-07T16:37:00.000Z</td>\n",
              "      <td>False</td>\n",
              "      <td>Slippers Dot Com</td>\n",
              "      <td>Value</td>\n",
              "      <td>6</td>\n",
              "      <td>https://www.walmart.com/ip/MUK-LUKS-Womens-Daw...</td>\n",
              "      <td>10,7,6,9,8</td>\n",
              "      <td>https://www.walmart.com/ip/MUK-LUKS-Womens-Daw...</td>\n",
              "      <td>33977045903</td>\n",
              "    </tr>\n",
              "    <tr>\n",
              "      <th>4</th>\n",
              "      <td>AVphGKLPilAPnD_x1Nrm</td>\n",
              "      <td>2017-01-27T01:25:56Z</td>\n",
              "      <td>2018-01-18T03:55:18Z</td>\n",
              "      <td>MUK LUKS</td>\n",
              "      <td>Clothing,Shoes,Women's Shoes,All Women's Shoes...</td>\n",
              "      <td>Shoes</td>\n",
              "      <td>Grey</td>\n",
              "      <td>6.0 in x 6.0 in x 1.0 in</td>\n",
              "      <td>3.397705e+10</td>\n",
              "      <td>https://i5.walmartimages.com/asr/5e137bc3-c900...</td>\n",
              "      <td>...</td>\n",
              "      <td>2017-12-04T21:35:47Z</td>\n",
              "      <td>2017-11-17T21:15:00.000Z</td>\n",
              "      <td>True</td>\n",
              "      <td>Walmart.com</td>\n",
              "      <td>Expedited</td>\n",
              "      <td>6</td>\n",
              "      <td>https://www.walmart.com/ip/MUK-LUKS-Womens-Daw...</td>\n",
              "      <td>10,7,6,9,8</td>\n",
              "      <td>https://www.walmart.com/ip/MUK-LUKS-Womens-Daw...</td>\n",
              "      <td>33977045958</td>\n",
              "    </tr>\n",
              "  </tbody>\n",
              "</table>\n",
              "<p>5 rows × 29 columns</p>\n",
              "</div>\n",
              "      <button class=\"colab-df-convert\" onclick=\"convertToInteractive('df-ae006686-bb4e-4369-bd63-8a079aa72224')\"\n",
              "              title=\"Convert this dataframe to an interactive table.\"\n",
              "              style=\"display:none;\">\n",
              "        \n",
              "  <svg xmlns=\"http://www.w3.org/2000/svg\" height=\"24px\"viewBox=\"0 0 24 24\"\n",
              "       width=\"24px\">\n",
              "    <path d=\"M0 0h24v24H0V0z\" fill=\"none\"/>\n",
              "    <path d=\"M18.56 5.44l.94 2.06.94-2.06 2.06-.94-2.06-.94-.94-2.06-.94 2.06-2.06.94zm-11 1L8.5 8.5l.94-2.06 2.06-.94-2.06-.94L8.5 2.5l-.94 2.06-2.06.94zm10 10l.94 2.06.94-2.06 2.06-.94-2.06-.94-.94-2.06-.94 2.06-2.06.94z\"/><path d=\"M17.41 7.96l-1.37-1.37c-.4-.4-.92-.59-1.43-.59-.52 0-1.04.2-1.43.59L10.3 9.45l-7.72 7.72c-.78.78-.78 2.05 0 2.83L4 21.41c.39.39.9.59 1.41.59.51 0 1.02-.2 1.41-.59l7.78-7.78 2.81-2.81c.8-.78.8-2.07 0-2.86zM5.41 20L4 18.59l7.72-7.72 1.47 1.35L5.41 20z\"/>\n",
              "  </svg>\n",
              "      </button>\n",
              "      \n",
              "  <style>\n",
              "    .colab-df-container {\n",
              "      display:flex;\n",
              "      flex-wrap:wrap;\n",
              "      gap: 12px;\n",
              "    }\n",
              "\n",
              "    .colab-df-convert {\n",
              "      background-color: #E8F0FE;\n",
              "      border: none;\n",
              "      border-radius: 50%;\n",
              "      cursor: pointer;\n",
              "      display: none;\n",
              "      fill: #1967D2;\n",
              "      height: 32px;\n",
              "      padding: 0 0 0 0;\n",
              "      width: 32px;\n",
              "    }\n",
              "\n",
              "    .colab-df-convert:hover {\n",
              "      background-color: #E2EBFA;\n",
              "      box-shadow: 0px 1px 2px rgba(60, 64, 67, 0.3), 0px 1px 3px 1px rgba(60, 64, 67, 0.15);\n",
              "      fill: #174EA6;\n",
              "    }\n",
              "\n",
              "    [theme=dark] .colab-df-convert {\n",
              "      background-color: #3B4455;\n",
              "      fill: #D2E3FC;\n",
              "    }\n",
              "\n",
              "    [theme=dark] .colab-df-convert:hover {\n",
              "      background-color: #434B5C;\n",
              "      box-shadow: 0px 1px 3px 1px rgba(0, 0, 0, 0.15);\n",
              "      filter: drop-shadow(0px 1px 2px rgba(0, 0, 0, 0.3));\n",
              "      fill: #FFFFFF;\n",
              "    }\n",
              "  </style>\n",
              "\n",
              "      <script>\n",
              "        const buttonEl =\n",
              "          document.querySelector('#df-ae006686-bb4e-4369-bd63-8a079aa72224 button.colab-df-convert');\n",
              "        buttonEl.style.display =\n",
              "          google.colab.kernel.accessAllowed ? 'block' : 'none';\n",
              "\n",
              "        async function convertToInteractive(key) {\n",
              "          const element = document.querySelector('#df-ae006686-bb4e-4369-bd63-8a079aa72224');\n",
              "          const dataTable =\n",
              "            await google.colab.kernel.invokeFunction('convertToInteractive',\n",
              "                                                     [key], {});\n",
              "          if (!dataTable) return;\n",
              "\n",
              "          const docLinkHtml = 'Like what you see? Visit the ' +\n",
              "            '<a target=\"_blank\" href=https://colab.research.google.com/notebooks/data_table.ipynb>data table notebook</a>'\n",
              "            + ' to learn more about interactive tables.';\n",
              "          element.innerHTML = '';\n",
              "          dataTable['output_type'] = 'display_data';\n",
              "          await google.colab.output.renderOutput(dataTable, element);\n",
              "          const docLink = document.createElement('div');\n",
              "          docLink.innerHTML = docLinkHtml;\n",
              "          element.appendChild(docLink);\n",
              "        }\n",
              "      </script>\n",
              "    </div>\n",
              "  </div>\n",
              "  "
            ],
            "text/plain": [
              "                     id             dateAdded           dateUpdated  \\\n",
              "0  AVpfEf_hLJeJML431ueH  2015-05-04T12:13:08Z  2018-01-29T04:38:43Z   \n",
              "1  AVpi74XfLJeJML43qZAc  2017-01-27T01:23:39Z  2018-01-03T05:21:54Z   \n",
              "2  AVpi74XfLJeJML43qZAc  2017-01-27T01:23:39Z  2018-01-03T05:21:54Z   \n",
              "3  AVpjXyCc1cnluZ0-V-Gj  2017-01-27T01:25:56Z  2018-01-04T11:52:35Z   \n",
              "4  AVphGKLPilAPnD_x1Nrm  2017-01-27T01:25:56Z  2018-01-18T03:55:18Z   \n",
              "\n",
              "         brand                                         categories  \\\n",
              "0  Naturalizer  Clothing,Shoes,Women's Shoes,All Women's Shoes...   \n",
              "1     MUK LUKS  Clothing,Shoes,Women's Shoes,Women's Casual Sh...   \n",
              "2     MUK LUKS  Clothing,Shoes,Women's Shoes,Women's Casual Sh...   \n",
              "3     MUK LUKS  Clothing,Shoes,Women's Shoes,All Women's Shoes...   \n",
              "4     MUK LUKS  Clothing,Shoes,Women's Shoes,All Women's Shoes...   \n",
              "\n",
              "  primaryCategories                          colors                 dimension  \\\n",
              "0             Shoes  Silver,Cream Watercolor Floral                       NaN   \n",
              "1             Shoes                            Grey                       NaN   \n",
              "2             Shoes                            Grey                       NaN   \n",
              "3       Shoes,Shoes                           Black  6.0 in x 6.0 in x 1.0 in   \n",
              "4             Shoes                            Grey  6.0 in x 6.0 in x 1.0 in   \n",
              "\n",
              "            ean                                          imageURLs  ...  \\\n",
              "0           NaN  https://i5.walmartimages.com/asr/861ca6cf-fa55...  ...   \n",
              "1  3.397705e+10  https://i5.walmartimages.com/asr/421de5d5-3a74...  ...   \n",
              "2  3.397705e+10  https://i5.walmartimages.com/asr/421de5d5-3a74...  ...   \n",
              "3  3.397705e+10  https://i5.walmartimages.com/asr/950d38a5-0113...  ...   \n",
              "4  3.397705e+10  https://i5.walmartimages.com/asr/5e137bc3-c900...  ...   \n",
              "\n",
              "       prices_dateAdded                                    prices_dateSeen  \\\n",
              "0  2017-03-28T11:40:25Z  2017-03-25T09:19:24.819Z,2017-03-25T09:19:19.600Z   \n",
              "1  2018-01-03T05:21:54Z  2017-12-08T14:24:00.000Z,2017-11-01T02:52:00.000Z   \n",
              "2  2017-12-06T05:02:42Z  2017-11-10T15:11:00.000Z,2017-11-18T08:00:00.000Z   \n",
              "3  2018-01-04T11:52:35Z                           2017-12-07T16:37:00.000Z   \n",
              "4  2017-12-04T21:35:47Z                           2017-11-17T21:15:00.000Z   \n",
              "\n",
              "  prices_isSale   prices_merchant  prices_shipping prices_size  \\\n",
              "0         False     Overstock.com              NaN           S   \n",
              "1          True       Walmart.com         Standard           6   \n",
              "2         False  Slippers Dot Com            Value           6   \n",
              "3         False  Slippers Dot Com            Value           6   \n",
              "4          True       Walmart.com        Expedited           6   \n",
              "\n",
              "                                   prices_sourceURLs  \\\n",
              "0  https://www.overstock.com/Clothing-Shoes/Women...   \n",
              "1  https://www.walmart.com/ip/MUK-LUKS-Womens-Jan...   \n",
              "2  https://www.walmart.com/ip/MUK-LUKS-Womens-Jan...   \n",
              "3  https://www.walmart.com/ip/MUK-LUKS-Womens-Daw...   \n",
              "4  https://www.walmart.com/ip/MUK-LUKS-Womens-Daw...   \n",
              "\n",
              "                                               sizes  \\\n",
              "0  6W,9W,7.5W,12W,8.5M,9N,9M,9.5M,10.5M,10W,8.5W,...   \n",
              "1                                         10,7,6,9,8   \n",
              "2                                         10,7,6,9,8   \n",
              "3                                         10,7,6,9,8   \n",
              "4                                         10,7,6,9,8   \n",
              "\n",
              "                                          sourceURLs          upc  \n",
              "0  https://www.walmart.com/ip/Naturalizer-Danya-W...  17136472311  \n",
              "1  https://www.walmart.com/ip/MUK-LUKS-Womens-Jan...  33977045743  \n",
              "2  https://www.walmart.com/ip/MUK-LUKS-Womens-Jan...  33977045743  \n",
              "3  https://www.walmart.com/ip/MUK-LUKS-Womens-Daw...  33977045903  \n",
              "4  https://www.walmart.com/ip/MUK-LUKS-Womens-Daw...  33977045958  \n",
              "\n",
              "[5 rows x 29 columns]"
            ]
          },
          "metadata": {},
          "execution_count": 5
        }
      ],
      "source": [
        "data.head()"
      ]
    },
    {
      "cell_type": "code",
      "execution_count": 6,
      "metadata": {
        "id": "x_abV4vXppML",
        "colab": {
          "base_uri": "https://localhost:8080/"
        },
        "outputId": "19b3e0d2-7dd0-47c5-cba4-8acdbc3c7679"
      },
      "outputs": [
        {
          "output_type": "execute_result",
          "data": {
            "text/plain": [
              "(10000, 29)"
            ]
          },
          "metadata": {},
          "execution_count": 6
        }
      ],
      "source": [
        "data.shape"
      ]
    },
    {
      "cell_type": "code",
      "execution_count": 7,
      "metadata": {
        "id": "8yDKuebHppPl",
        "colab": {
          "base_uri": "https://localhost:8080/"
        },
        "outputId": "e0e3adae-1b77-4294-b839-6c2cb3581940"
      },
      "outputs": [
        {
          "output_type": "execute_result",
          "data": {
            "text/plain": [
              "id                        0\n",
              "dateAdded                 0\n",
              "dateUpdated               0\n",
              "brand                     0\n",
              "categories                0\n",
              "primaryCategories         0\n",
              "colors                 7369\n",
              "dimension              9883\n",
              "ean                    9329\n",
              "imageURLs                 0\n",
              "keys                      0\n",
              "manufacturer           9473\n",
              "manufacturerNumber     7518\n",
              "name                      0\n",
              "prices_amount             0\n",
              "prices_availability    9566\n",
              "prices_color              0\n",
              "prices_condition       9562\n",
              "prices_currency           0\n",
              "prices_dateAdded        777\n",
              "prices_dateSeen           0\n",
              "prices_isSale             0\n",
              "prices_merchant        9565\n",
              "prices_shipping        9588\n",
              "prices_size               0\n",
              "prices_sourceURLs         0\n",
              "sizes                     0\n",
              "sourceURLs                0\n",
              "upc                     360\n",
              "dtype: int64"
            ]
          },
          "metadata": {},
          "execution_count": 7
        }
      ],
      "source": [
        "data.isna().sum()"
      ]
    },
    {
      "cell_type": "code",
      "execution_count": 8,
      "metadata": {
        "id": "Awx8R9bJuV7q",
        "colab": {
          "base_uri": "https://localhost:8080/"
        },
        "outputId": "720a312d-6efe-468d-ce8e-ae67e4ad353a"
      },
      "outputs": [
        {
          "output_type": "stream",
          "name": "stdout",
          "text": [
            "<class 'pandas.core.frame.DataFrame'>\n",
            "RangeIndex: 10000 entries, 0 to 9999\n",
            "Data columns (total 29 columns):\n",
            " #   Column               Non-Null Count  Dtype  \n",
            "---  ------               --------------  -----  \n",
            " 0   id                   10000 non-null  object \n",
            " 1   dateAdded            10000 non-null  object \n",
            " 2   dateUpdated          10000 non-null  object \n",
            " 3   brand                10000 non-null  object \n",
            " 4   categories           10000 non-null  object \n",
            " 5   primaryCategories    10000 non-null  object \n",
            " 6   colors               2631 non-null   object \n",
            " 7   dimension            117 non-null    object \n",
            " 8   ean                  671 non-null    float64\n",
            " 9   imageURLs            10000 non-null  object \n",
            " 10  keys                 10000 non-null  object \n",
            " 11  manufacturer         527 non-null    object \n",
            " 12  manufacturerNumber   2482 non-null   object \n",
            " 13  name                 10000 non-null  object \n",
            " 14  prices_amount        10000 non-null  float64\n",
            " 15  prices_availability  434 non-null    object \n",
            " 16  prices_color         10000 non-null  object \n",
            " 17  prices_condition     438 non-null    object \n",
            " 18  prices_currency      10000 non-null  object \n",
            " 19  prices_dateAdded     9223 non-null   object \n",
            " 20  prices_dateSeen      10000 non-null  object \n",
            " 21  prices_isSale        10000 non-null  bool   \n",
            " 22  prices_merchant      435 non-null    object \n",
            " 23  prices_shipping      412 non-null    object \n",
            " 24  prices_size          10000 non-null  object \n",
            " 25  prices_sourceURLs    10000 non-null  object \n",
            " 26  sizes                10000 non-null  object \n",
            " 27  sourceURLs           10000 non-null  object \n",
            " 28  upc                  9640 non-null   object \n",
            "dtypes: bool(1), float64(2), object(26)\n",
            "memory usage: 2.1+ MB\n"
          ]
        }
      ],
      "source": [
        "data.info()"
      ]
    },
    {
      "cell_type": "code",
      "execution_count": 9,
      "metadata": {
        "id": "S3oLW-ZpuWJW",
        "colab": {
          "base_uri": "https://localhost:8080/",
          "height": 608
        },
        "outputId": "b1fed030-a228-4019-f996-fa0b095bf3b2"
      },
      "outputs": [
        {
          "output_type": "execute_result",
          "data": {
            "text/html": [
              "\n",
              "  <div id=\"df-35dbf814-f5c1-4d7b-bcd4-59b9956d75cb\">\n",
              "    <div class=\"colab-df-container\">\n",
              "      <div>\n",
              "<style scoped>\n",
              "    .dataframe tbody tr th:only-of-type {\n",
              "        vertical-align: middle;\n",
              "    }\n",
              "\n",
              "    .dataframe tbody tr th {\n",
              "        vertical-align: top;\n",
              "    }\n",
              "\n",
              "    .dataframe thead th {\n",
              "        text-align: right;\n",
              "    }\n",
              "</style>\n",
              "<table border=\"1\" class=\"dataframe\">\n",
              "  <thead>\n",
              "    <tr style=\"text-align: right;\">\n",
              "      <th></th>\n",
              "      <th>id</th>\n",
              "      <th>dateAdded</th>\n",
              "      <th>dateUpdated</th>\n",
              "      <th>brand</th>\n",
              "      <th>categories</th>\n",
              "      <th>primaryCategories</th>\n",
              "      <th>colors</th>\n",
              "      <th>dimension</th>\n",
              "      <th>ean</th>\n",
              "      <th>imageURLs</th>\n",
              "      <th>...</th>\n",
              "      <th>prices_dateAdded</th>\n",
              "      <th>prices_dateSeen</th>\n",
              "      <th>prices_isSale</th>\n",
              "      <th>prices_merchant</th>\n",
              "      <th>prices_shipping</th>\n",
              "      <th>prices_size</th>\n",
              "      <th>prices_sourceURLs</th>\n",
              "      <th>sizes</th>\n",
              "      <th>sourceURLs</th>\n",
              "      <th>upc</th>\n",
              "    </tr>\n",
              "  </thead>\n",
              "  <tbody>\n",
              "    <tr>\n",
              "      <th>count</th>\n",
              "      <td>10000</td>\n",
              "      <td>10000</td>\n",
              "      <td>10000</td>\n",
              "      <td>10000</td>\n",
              "      <td>10000</td>\n",
              "      <td>10000</td>\n",
              "      <td>2631</td>\n",
              "      <td>117</td>\n",
              "      <td>6.710000e+02</td>\n",
              "      <td>10000</td>\n",
              "      <td>...</td>\n",
              "      <td>9223</td>\n",
              "      <td>10000</td>\n",
              "      <td>10000</td>\n",
              "      <td>435</td>\n",
              "      <td>412</td>\n",
              "      <td>10000.0</td>\n",
              "      <td>10000</td>\n",
              "      <td>10000</td>\n",
              "      <td>10000</td>\n",
              "      <td>9640</td>\n",
              "    </tr>\n",
              "    <tr>\n",
              "      <th>unique</th>\n",
              "      <td>653</td>\n",
              "      <td>440</td>\n",
              "      <td>495</td>\n",
              "      <td>129</td>\n",
              "      <td>207</td>\n",
              "      <td>2</td>\n",
              "      <td>219</td>\n",
              "      <td>19</td>\n",
              "      <td>NaN</td>\n",
              "      <td>653</td>\n",
              "      <td>...</td>\n",
              "      <td>2004</td>\n",
              "      <td>3800</td>\n",
              "      <td>2</td>\n",
              "      <td>11</td>\n",
              "      <td>7</td>\n",
              "      <td>83.0</td>\n",
              "      <td>754</td>\n",
              "      <td>336</td>\n",
              "      <td>653</td>\n",
              "      <td>476</td>\n",
              "    </tr>\n",
              "    <tr>\n",
              "      <th>top</th>\n",
              "      <td>AV46uYe4glJLPUi8VW57</td>\n",
              "      <td>2017-11-10T19:33:19Z</td>\n",
              "      <td>2018-02-01T07:33:40Z</td>\n",
              "      <td>journee collection</td>\n",
              "      <td>Womens,Shoes,Boots,Journee Collection</td>\n",
              "      <td>Shoes</td>\n",
              "      <td>Blackchrome-Aurora Green-Hot Punch,Pure Platin...</td>\n",
              "      <td>8.0 in x 12.0 in x 4.0 in</td>\n",
              "      <td>NaN</td>\n",
              "      <td>https://media.kohlsimg.com/is/image/kohls/2734...</td>\n",
              "      <td>...</td>\n",
              "      <td>2018-02-01T07:35:51Z</td>\n",
              "      <td>2018-01-16T11:37:00.000Z,2018-01-17T12:17:00.0...</td>\n",
              "      <td>False</td>\n",
              "      <td>Backcountry.com</td>\n",
              "      <td>Free 2-Day shipping on orders over $50</td>\n",
              "      <td>6.0</td>\n",
              "      <td>https://www.kohls.com/product/prd-2734966/nike...</td>\n",
              "      <td>5 MED,5.5 MED,6 MED,6.5 MED,7 MED,7.5 MED,8 ME...</td>\n",
              "      <td>https://www.kohls.com/product/prd-2734966/nike...</td>\n",
              "      <td>884500153103,884500152984,884500152991,8845001...</td>\n",
              "    </tr>\n",
              "    <tr>\n",
              "      <th>freq</th>\n",
              "      <td>185</td>\n",
              "      <td>265</td>\n",
              "      <td>235</td>\n",
              "      <td>2182</td>\n",
              "      <td>835</td>\n",
              "      <td>9361</td>\n",
              "      <td>185</td>\n",
              "      <td>82</td>\n",
              "      <td>NaN</td>\n",
              "      <td>185</td>\n",
              "      <td>...</td>\n",
              "      <td>74</td>\n",
              "      <td>46</td>\n",
              "      <td>9830</td>\n",
              "      <td>352</td>\n",
              "      <td>352</td>\n",
              "      <td>435.0</td>\n",
              "      <td>185</td>\n",
              "      <td>725</td>\n",
              "      <td>185</td>\n",
              "      <td>185</td>\n",
              "    </tr>\n",
              "    <tr>\n",
              "      <th>mean</th>\n",
              "      <td>NaN</td>\n",
              "      <td>NaN</td>\n",
              "      <td>NaN</td>\n",
              "      <td>NaN</td>\n",
              "      <td>NaN</td>\n",
              "      <td>NaN</td>\n",
              "      <td>NaN</td>\n",
              "      <td>NaN</td>\n",
              "      <td>7.714949e+11</td>\n",
              "      <td>NaN</td>\n",
              "      <td>...</td>\n",
              "      <td>NaN</td>\n",
              "      <td>NaN</td>\n",
              "      <td>NaN</td>\n",
              "      <td>NaN</td>\n",
              "      <td>NaN</td>\n",
              "      <td>NaN</td>\n",
              "      <td>NaN</td>\n",
              "      <td>NaN</td>\n",
              "      <td>NaN</td>\n",
              "      <td>NaN</td>\n",
              "    </tr>\n",
              "    <tr>\n",
              "      <th>std</th>\n",
              "      <td>NaN</td>\n",
              "      <td>NaN</td>\n",
              "      <td>NaN</td>\n",
              "      <td>NaN</td>\n",
              "      <td>NaN</td>\n",
              "      <td>NaN</td>\n",
              "      <td>NaN</td>\n",
              "      <td>NaN</td>\n",
              "      <td>1.846577e+11</td>\n",
              "      <td>NaN</td>\n",
              "      <td>...</td>\n",
              "      <td>NaN</td>\n",
              "      <td>NaN</td>\n",
              "      <td>NaN</td>\n",
              "      <td>NaN</td>\n",
              "      <td>NaN</td>\n",
              "      <td>NaN</td>\n",
              "      <td>NaN</td>\n",
              "      <td>NaN</td>\n",
              "      <td>NaN</td>\n",
              "      <td>NaN</td>\n",
              "    </tr>\n",
              "    <tr>\n",
              "      <th>min</th>\n",
              "      <td>NaN</td>\n",
              "      <td>NaN</td>\n",
              "      <td>NaN</td>\n",
              "      <td>NaN</td>\n",
              "      <td>NaN</td>\n",
              "      <td>NaN</td>\n",
              "      <td>NaN</td>\n",
              "      <td>NaN</td>\n",
              "      <td>3.397705e+10</td>\n",
              "      <td>NaN</td>\n",
              "      <td>...</td>\n",
              "      <td>NaN</td>\n",
              "      <td>NaN</td>\n",
              "      <td>NaN</td>\n",
              "      <td>NaN</td>\n",
              "      <td>NaN</td>\n",
              "      <td>NaN</td>\n",
              "      <td>NaN</td>\n",
              "      <td>NaN</td>\n",
              "      <td>NaN</td>\n",
              "      <td>NaN</td>\n",
              "    </tr>\n",
              "    <tr>\n",
              "      <th>25%</th>\n",
              "      <td>NaN</td>\n",
              "      <td>NaN</td>\n",
              "      <td>NaN</td>\n",
              "      <td>NaN</td>\n",
              "      <td>NaN</td>\n",
              "      <td>NaN</td>\n",
              "      <td>NaN</td>\n",
              "      <td>NaN</td>\n",
              "      <td>7.280000e+11</td>\n",
              "      <td>NaN</td>\n",
              "      <td>...</td>\n",
              "      <td>NaN</td>\n",
              "      <td>NaN</td>\n",
              "      <td>NaN</td>\n",
              "      <td>NaN</td>\n",
              "      <td>NaN</td>\n",
              "      <td>NaN</td>\n",
              "      <td>NaN</td>\n",
              "      <td>NaN</td>\n",
              "      <td>NaN</td>\n",
              "      <td>NaN</td>\n",
              "    </tr>\n",
              "    <tr>\n",
              "      <th>50%</th>\n",
              "      <td>NaN</td>\n",
              "      <td>NaN</td>\n",
              "      <td>NaN</td>\n",
              "      <td>NaN</td>\n",
              "      <td>NaN</td>\n",
              "      <td>NaN</td>\n",
              "      <td>NaN</td>\n",
              "      <td>NaN</td>\n",
              "      <td>8.700000e+11</td>\n",
              "      <td>NaN</td>\n",
              "      <td>...</td>\n",
              "      <td>NaN</td>\n",
              "      <td>NaN</td>\n",
              "      <td>NaN</td>\n",
              "      <td>NaN</td>\n",
              "      <td>NaN</td>\n",
              "      <td>NaN</td>\n",
              "      <td>NaN</td>\n",
              "      <td>NaN</td>\n",
              "      <td>NaN</td>\n",
              "      <td>NaN</td>\n",
              "    </tr>\n",
              "    <tr>\n",
              "      <th>75%</th>\n",
              "      <td>NaN</td>\n",
              "      <td>NaN</td>\n",
              "      <td>NaN</td>\n",
              "      <td>NaN</td>\n",
              "      <td>NaN</td>\n",
              "      <td>NaN</td>\n",
              "      <td>NaN</td>\n",
              "      <td>NaN</td>\n",
              "      <td>8.860000e+11</td>\n",
              "      <td>NaN</td>\n",
              "      <td>...</td>\n",
              "      <td>NaN</td>\n",
              "      <td>NaN</td>\n",
              "      <td>NaN</td>\n",
              "      <td>NaN</td>\n",
              "      <td>NaN</td>\n",
              "      <td>NaN</td>\n",
              "      <td>NaN</td>\n",
              "      <td>NaN</td>\n",
              "      <td>NaN</td>\n",
              "      <td>NaN</td>\n",
              "    </tr>\n",
              "    <tr>\n",
              "      <th>max</th>\n",
              "      <td>NaN</td>\n",
              "      <td>NaN</td>\n",
              "      <td>NaN</td>\n",
              "      <td>NaN</td>\n",
              "      <td>NaN</td>\n",
              "      <td>NaN</td>\n",
              "      <td>NaN</td>\n",
              "      <td>NaN</td>\n",
              "      <td>8.900000e+11</td>\n",
              "      <td>NaN</td>\n",
              "      <td>...</td>\n",
              "      <td>NaN</td>\n",
              "      <td>NaN</td>\n",
              "      <td>NaN</td>\n",
              "      <td>NaN</td>\n",
              "      <td>NaN</td>\n",
              "      <td>NaN</td>\n",
              "      <td>NaN</td>\n",
              "      <td>NaN</td>\n",
              "      <td>NaN</td>\n",
              "      <td>NaN</td>\n",
              "    </tr>\n",
              "  </tbody>\n",
              "</table>\n",
              "<p>11 rows × 29 columns</p>\n",
              "</div>\n",
              "      <button class=\"colab-df-convert\" onclick=\"convertToInteractive('df-35dbf814-f5c1-4d7b-bcd4-59b9956d75cb')\"\n",
              "              title=\"Convert this dataframe to an interactive table.\"\n",
              "              style=\"display:none;\">\n",
              "        \n",
              "  <svg xmlns=\"http://www.w3.org/2000/svg\" height=\"24px\"viewBox=\"0 0 24 24\"\n",
              "       width=\"24px\">\n",
              "    <path d=\"M0 0h24v24H0V0z\" fill=\"none\"/>\n",
              "    <path d=\"M18.56 5.44l.94 2.06.94-2.06 2.06-.94-2.06-.94-.94-2.06-.94 2.06-2.06.94zm-11 1L8.5 8.5l.94-2.06 2.06-.94-2.06-.94L8.5 2.5l-.94 2.06-2.06.94zm10 10l.94 2.06.94-2.06 2.06-.94-2.06-.94-.94-2.06-.94 2.06-2.06.94z\"/><path d=\"M17.41 7.96l-1.37-1.37c-.4-.4-.92-.59-1.43-.59-.52 0-1.04.2-1.43.59L10.3 9.45l-7.72 7.72c-.78.78-.78 2.05 0 2.83L4 21.41c.39.39.9.59 1.41.59.51 0 1.02-.2 1.41-.59l7.78-7.78 2.81-2.81c.8-.78.8-2.07 0-2.86zM5.41 20L4 18.59l7.72-7.72 1.47 1.35L5.41 20z\"/>\n",
              "  </svg>\n",
              "      </button>\n",
              "      \n",
              "  <style>\n",
              "    .colab-df-container {\n",
              "      display:flex;\n",
              "      flex-wrap:wrap;\n",
              "      gap: 12px;\n",
              "    }\n",
              "\n",
              "    .colab-df-convert {\n",
              "      background-color: #E8F0FE;\n",
              "      border: none;\n",
              "      border-radius: 50%;\n",
              "      cursor: pointer;\n",
              "      display: none;\n",
              "      fill: #1967D2;\n",
              "      height: 32px;\n",
              "      padding: 0 0 0 0;\n",
              "      width: 32px;\n",
              "    }\n",
              "\n",
              "    .colab-df-convert:hover {\n",
              "      background-color: #E2EBFA;\n",
              "      box-shadow: 0px 1px 2px rgba(60, 64, 67, 0.3), 0px 1px 3px 1px rgba(60, 64, 67, 0.15);\n",
              "      fill: #174EA6;\n",
              "    }\n",
              "\n",
              "    [theme=dark] .colab-df-convert {\n",
              "      background-color: #3B4455;\n",
              "      fill: #D2E3FC;\n",
              "    }\n",
              "\n",
              "    [theme=dark] .colab-df-convert:hover {\n",
              "      background-color: #434B5C;\n",
              "      box-shadow: 0px 1px 3px 1px rgba(0, 0, 0, 0.15);\n",
              "      filter: drop-shadow(0px 1px 2px rgba(0, 0, 0, 0.3));\n",
              "      fill: #FFFFFF;\n",
              "    }\n",
              "  </style>\n",
              "\n",
              "      <script>\n",
              "        const buttonEl =\n",
              "          document.querySelector('#df-35dbf814-f5c1-4d7b-bcd4-59b9956d75cb button.colab-df-convert');\n",
              "        buttonEl.style.display =\n",
              "          google.colab.kernel.accessAllowed ? 'block' : 'none';\n",
              "\n",
              "        async function convertToInteractive(key) {\n",
              "          const element = document.querySelector('#df-35dbf814-f5c1-4d7b-bcd4-59b9956d75cb');\n",
              "          const dataTable =\n",
              "            await google.colab.kernel.invokeFunction('convertToInteractive',\n",
              "                                                     [key], {});\n",
              "          if (!dataTable) return;\n",
              "\n",
              "          const docLinkHtml = 'Like what you see? Visit the ' +\n",
              "            '<a target=\"_blank\" href=https://colab.research.google.com/notebooks/data_table.ipynb>data table notebook</a>'\n",
              "            + ' to learn more about interactive tables.';\n",
              "          element.innerHTML = '';\n",
              "          dataTable['output_type'] = 'display_data';\n",
              "          await google.colab.output.renderOutput(dataTable, element);\n",
              "          const docLink = document.createElement('div');\n",
              "          docLink.innerHTML = docLinkHtml;\n",
              "          element.appendChild(docLink);\n",
              "        }\n",
              "      </script>\n",
              "    </div>\n",
              "  </div>\n",
              "  "
            ],
            "text/plain": [
              "                          id             dateAdded           dateUpdated  \\\n",
              "count                  10000                 10000                 10000   \n",
              "unique                   653                   440                   495   \n",
              "top     AV46uYe4glJLPUi8VW57  2017-11-10T19:33:19Z  2018-02-01T07:33:40Z   \n",
              "freq                     185                   265                   235   \n",
              "mean                     NaN                   NaN                   NaN   \n",
              "std                      NaN                   NaN                   NaN   \n",
              "min                      NaN                   NaN                   NaN   \n",
              "25%                      NaN                   NaN                   NaN   \n",
              "50%                      NaN                   NaN                   NaN   \n",
              "75%                      NaN                   NaN                   NaN   \n",
              "max                      NaN                   NaN                   NaN   \n",
              "\n",
              "                     brand                             categories  \\\n",
              "count                10000                                  10000   \n",
              "unique                 129                                    207   \n",
              "top     journee collection  Womens,Shoes,Boots,Journee Collection   \n",
              "freq                  2182                                    835   \n",
              "mean                   NaN                                    NaN   \n",
              "std                    NaN                                    NaN   \n",
              "min                    NaN                                    NaN   \n",
              "25%                    NaN                                    NaN   \n",
              "50%                    NaN                                    NaN   \n",
              "75%                    NaN                                    NaN   \n",
              "max                    NaN                                    NaN   \n",
              "\n",
              "       primaryCategories                                             colors  \\\n",
              "count              10000                                               2631   \n",
              "unique                 2                                                219   \n",
              "top                Shoes  Blackchrome-Aurora Green-Hot Punch,Pure Platin...   \n",
              "freq                9361                                                185   \n",
              "mean                 NaN                                                NaN   \n",
              "std                  NaN                                                NaN   \n",
              "min                  NaN                                                NaN   \n",
              "25%                  NaN                                                NaN   \n",
              "50%                  NaN                                                NaN   \n",
              "75%                  NaN                                                NaN   \n",
              "max                  NaN                                                NaN   \n",
              "\n",
              "                        dimension           ean  \\\n",
              "count                         117  6.710000e+02   \n",
              "unique                         19           NaN   \n",
              "top     8.0 in x 12.0 in x 4.0 in           NaN   \n",
              "freq                           82           NaN   \n",
              "mean                          NaN  7.714949e+11   \n",
              "std                           NaN  1.846577e+11   \n",
              "min                           NaN  3.397705e+10   \n",
              "25%                           NaN  7.280000e+11   \n",
              "50%                           NaN  8.700000e+11   \n",
              "75%                           NaN  8.860000e+11   \n",
              "max                           NaN  8.900000e+11   \n",
              "\n",
              "                                                imageURLs  ...  \\\n",
              "count                                               10000  ...   \n",
              "unique                                                653  ...   \n",
              "top     https://media.kohlsimg.com/is/image/kohls/2734...  ...   \n",
              "freq                                                  185  ...   \n",
              "mean                                                  NaN  ...   \n",
              "std                                                   NaN  ...   \n",
              "min                                                   NaN  ...   \n",
              "25%                                                   NaN  ...   \n",
              "50%                                                   NaN  ...   \n",
              "75%                                                   NaN  ...   \n",
              "max                                                   NaN  ...   \n",
              "\n",
              "            prices_dateAdded  \\\n",
              "count                   9223   \n",
              "unique                  2004   \n",
              "top     2018-02-01T07:35:51Z   \n",
              "freq                      74   \n",
              "mean                     NaN   \n",
              "std                      NaN   \n",
              "min                      NaN   \n",
              "25%                      NaN   \n",
              "50%                      NaN   \n",
              "75%                      NaN   \n",
              "max                      NaN   \n",
              "\n",
              "                                          prices_dateSeen prices_isSale  \\\n",
              "count                                               10000         10000   \n",
              "unique                                               3800             2   \n",
              "top     2018-01-16T11:37:00.000Z,2018-01-17T12:17:00.0...         False   \n",
              "freq                                                   46          9830   \n",
              "mean                                                  NaN           NaN   \n",
              "std                                                   NaN           NaN   \n",
              "min                                                   NaN           NaN   \n",
              "25%                                                   NaN           NaN   \n",
              "50%                                                   NaN           NaN   \n",
              "75%                                                   NaN           NaN   \n",
              "max                                                   NaN           NaN   \n",
              "\n",
              "        prices_merchant                         prices_shipping prices_size  \\\n",
              "count               435                                     412     10000.0   \n",
              "unique               11                                       7        83.0   \n",
              "top     Backcountry.com  Free 2-Day shipping on orders over $50         6.0   \n",
              "freq                352                                     352       435.0   \n",
              "mean                NaN                                     NaN         NaN   \n",
              "std                 NaN                                     NaN         NaN   \n",
              "min                 NaN                                     NaN         NaN   \n",
              "25%                 NaN                                     NaN         NaN   \n",
              "50%                 NaN                                     NaN         NaN   \n",
              "75%                 NaN                                     NaN         NaN   \n",
              "max                 NaN                                     NaN         NaN   \n",
              "\n",
              "                                        prices_sourceURLs  \\\n",
              "count                                               10000   \n",
              "unique                                                754   \n",
              "top     https://www.kohls.com/product/prd-2734966/nike...   \n",
              "freq                                                  185   \n",
              "mean                                                  NaN   \n",
              "std                                                   NaN   \n",
              "min                                                   NaN   \n",
              "25%                                                   NaN   \n",
              "50%                                                   NaN   \n",
              "75%                                                   NaN   \n",
              "max                                                   NaN   \n",
              "\n",
              "                                                    sizes  \\\n",
              "count                                               10000   \n",
              "unique                                                336   \n",
              "top     5 MED,5.5 MED,6 MED,6.5 MED,7 MED,7.5 MED,8 ME...   \n",
              "freq                                                  725   \n",
              "mean                                                  NaN   \n",
              "std                                                   NaN   \n",
              "min                                                   NaN   \n",
              "25%                                                   NaN   \n",
              "50%                                                   NaN   \n",
              "75%                                                   NaN   \n",
              "max                                                   NaN   \n",
              "\n",
              "                                               sourceURLs  \\\n",
              "count                                               10000   \n",
              "unique                                                653   \n",
              "top     https://www.kohls.com/product/prd-2734966/nike...   \n",
              "freq                                                  185   \n",
              "mean                                                  NaN   \n",
              "std                                                   NaN   \n",
              "min                                                   NaN   \n",
              "25%                                                   NaN   \n",
              "50%                                                   NaN   \n",
              "75%                                                   NaN   \n",
              "max                                                   NaN   \n",
              "\n",
              "                                                      upc  \n",
              "count                                                9640  \n",
              "unique                                                476  \n",
              "top     884500153103,884500152984,884500152991,8845001...  \n",
              "freq                                                  185  \n",
              "mean                                                  NaN  \n",
              "std                                                   NaN  \n",
              "min                                                   NaN  \n",
              "25%                                                   NaN  \n",
              "50%                                                   NaN  \n",
              "75%                                                   NaN  \n",
              "max                                                   NaN  \n",
              "\n",
              "[11 rows x 29 columns]"
            ]
          },
          "metadata": {},
          "execution_count": 9
        }
      ],
      "source": [
        "data.describe(include='all')"
      ]
    },
    {
      "cell_type": "markdown",
      "metadata": {
        "id": "Xf5xR9gxOCp7"
      },
      "source": [
        "1.The above shows numerical analysis of the given dataset\n",
        "\n",
        "2.There are 10000 respondents\n",
        "\n",
        "3.There are 129 unique brands and 207 Unique categories\n",
        "\n",
        "4.The mean of Price_amount is 60.17 and Std is 18.8"
      ]
    },
    {
      "cell_type": "code",
      "execution_count": 10,
      "metadata": {
        "id": "nVHHC4QTn28G",
        "colab": {
          "base_uri": "https://localhost:8080/"
        },
        "outputId": "fbf07e82-aab1-410e-fde3-770aa6f5404e"
      },
      "outputs": [
        {
          "output_type": "execute_result",
          "data": {
            "text/plain": [
              "Index(['id', 'dateAdded', 'dateUpdated', 'brand', 'categories',\n",
              "       'primaryCategories', 'colors', 'dimension', 'ean', 'imageURLs', 'keys',\n",
              "       'manufacturer', 'manufacturerNumber', 'name', 'prices_amount',\n",
              "       'prices_availability', 'prices_color', 'prices_condition',\n",
              "       'prices_currency', 'prices_dateAdded', 'prices_dateSeen',\n",
              "       'prices_isSale', 'prices_merchant', 'prices_shipping', 'prices_size',\n",
              "       'prices_sourceURLs', 'sizes', 'sourceURLs', 'upc'],\n",
              "      dtype='object')"
            ]
          },
          "metadata": {},
          "execution_count": 10
        }
      ],
      "source": [
        "data.columns"
      ]
    },
    {
      "cell_type": "markdown",
      "metadata": {
        "id": "1odDA9JypCcc"
      },
      "source": [
        "# Checking equality of similar named columns\n",
        "\n",
        "We see some similar named columns let's check whether they are duplicate columns or not."
      ]
    },
    {
      "cell_type": "code",
      "execution_count": 11,
      "metadata": {
        "id": "tseF8dq3pcc9",
        "colab": {
          "base_uri": "https://localhost:8080/"
        },
        "outputId": "8db1c8b2-7fda-4665-e645-b85dbfd919a0"
      },
      "outputs": [
        {
          "output_type": "stream",
          "name": "stdout",
          "text": [
            "size False\n",
            "color False\n",
            "sourceURL False\n"
          ]
        }
      ],
      "source": [
        "print('size',data['prices_size'].equals(data['sizes']))\n",
        "print('color',data['prices_color'].equals(data['colors']))\n",
        "print('sourceURL',data['prices_sourceURLs'].equals(data['sourceURLs']))"
      ]
    },
    {
      "cell_type": "markdown",
      "metadata": {
        "id": "D3Y8s0tYp4ND"
      },
      "source": [
        "They all seem to be different. We have two values of sizes(prices.size),colors(prices.color) and sourceURL(prices.sourceURLs) as we can see in the code above but for sake of simplicity we will not consider sizes,colors and sourceURL columns in our selected column list for our further processing. As we would want to keep these information with regards to the prices only."
      ]
    },
    {
      "cell_type": "markdown",
      "metadata": {
        "id": "3JoWCQUHydME"
      },
      "source": [
        "# Choosing Columns\n",
        "1.Since we don't have merchant information, columns containing unique identifier with respect to specific merchants, are not considered viz. asins (amazon id),keys (walmart id),manufacturerNumber (manufacturer id).\n",
        "\n",
        "2.ean / upc columns are also not considered as for same product we can have multiple EANs (European Article Number) and UPCs (Universal Product Code) for smallest varaiations.\n",
        "\n",
        "3.All Urls columns (imageURLs and sourceURLs)except prices_sourceURLs are not considered in selected columns as they are not relevant to our analysis."
      ]
    },
    {
      "cell_type": "code",
      "execution_count": 12,
      "metadata": {
        "id": "Xodi-Me3ycgp"
      },
      "outputs": [],
      "source": [
        "selected_cols = ['id', 'dateUpdated', 'brand', 'categories','primaryCategories', 'dimension',\n",
        "        'manufacturer', 'name','prices_amount' , 'prices_availability',\n",
        "       'prices_color', 'prices_currency', 'prices_dateSeen', 'prices_isSale',\n",
        "       'prices_shipping','prices_size','prices_sourceURLs']"
      ]
    },
    {
      "cell_type": "markdown",
      "metadata": {
        "id": "04S2yy-z0p6p"
      },
      "source": [
        "Keeping a copy of the data from these selected columns into a new data frame called df, which we can continue to modify further without affecting the original data frame."
      ]
    },
    {
      "cell_type": "code",
      "execution_count": 13,
      "metadata": {
        "id": "_i1Y9fUKp3LM"
      },
      "outputs": [],
      "source": [
        "df = data[selected_cols].copy()"
      ]
    },
    {
      "cell_type": "code",
      "execution_count": 14,
      "metadata": {
        "id": "r0aC5m5R25Jd",
        "colab": {
          "base_uri": "https://localhost:8080/"
        },
        "outputId": "1575f2e5-318b-4070-f262-7a069b9b92fc"
      },
      "outputs": [
        {
          "output_type": "execute_result",
          "data": {
            "text/plain": [
              "id                        0\n",
              "dateUpdated               0\n",
              "brand                     0\n",
              "categories                0\n",
              "primaryCategories         0\n",
              "dimension              9883\n",
              "manufacturer           9473\n",
              "name                      0\n",
              "prices_amount             0\n",
              "prices_availability    9566\n",
              "prices_color              0\n",
              "prices_currency           0\n",
              "prices_dateSeen           0\n",
              "prices_isSale             0\n",
              "prices_shipping        9588\n",
              "prices_size               0\n",
              "prices_sourceURLs         0\n",
              "dtype: int64"
            ]
          },
          "metadata": {},
          "execution_count": 14
        }
      ],
      "source": [
        "df.isna().sum()"
      ]
    },
    {
      "cell_type": "markdown",
      "metadata": {
        "id": "Gek4tqFO3b1v"
      },
      "source": [
        "From the above,we can see that 4 columns have more than 10% of null values.therefore we have to drop this 4 columns"
      ]
    },
    {
      "cell_type": "markdown",
      "metadata": {
        "id": "M7yJorkbuZaZ"
      },
      "source": [
        "# Extracting merchant information"
      ]
    },
    {
      "cell_type": "markdown",
      "metadata": {
        "id": "JPQBm37Z1Y5r"
      },
      "source": [
        "prices_merchant was empty but we can still find the information from prices_sourceURLs."
      ]
    },
    {
      "cell_type": "code",
      "execution_count": 15,
      "metadata": {
        "id": "zyoxUQo87FYk",
        "colab": {
          "base_uri": "https://localhost:8080/",
          "height": 53
        },
        "outputId": "37641367-d115-45ec-a32c-18b02d306c2f"
      },
      "outputs": [
        {
          "output_type": "execute_result",
          "data": {
            "application/vnd.google.colaboratory.intrinsic+json": {
              "type": "string"
            },
            "text/plain": [
              "'https://www.overstock.com/Clothing-Shoes/Womens-Naturalizer-Danya-Soft-Silver-Crosshatch-Shiny-Patent/8925023/product.html,https://www.overstock.com/Clothing-Shoes/Womens-Naturalizer-Danya-Silver-Crosshatch-Patent-PU/9291843/product.html'"
            ]
          },
          "metadata": {},
          "execution_count": 15
        }
      ],
      "source": [
        "url = df['prices_sourceURLs'][0]\n",
        "url"
      ]
    },
    {
      "cell_type": "markdown",
      "metadata": {
        "id": "q86f6fZr2QWY"
      },
      "source": [
        "Now, parsing the url to get the merchant information"
      ]
    },
    {
      "cell_type": "code",
      "execution_count": 16,
      "metadata": {
        "id": "RhSJ5LAu7Fd7",
        "colab": {
          "base_uri": "https://localhost:8080/"
        },
        "outputId": "069a59f6-6c7f-4866-d185-2439ed680399"
      },
      "outputs": [
        {
          "output_type": "stream",
          "name": "stdout",
          "text": [
            "step1: ['https://', 'overstock.com/Clothing-Shoes/Womens-Naturalizer-Danya-Soft-Silver-Crosshatch-Shiny-Patent/8925023/product.html,https://', 'overstock.com/Clothing-Shoes/Womens-Naturalizer-Danya-Silver-Crosshatch-Patent-PU/9291843/product.html']\n",
            "step2: overstock.com/Clothing-Shoes/Womens-Naturalizer-Danya-Soft-Silver-Crosshatch-Shiny-Patent/8925023/product.html,https://\n",
            "step3: ['overstock.com', 'Clothing-Shoes', 'Womens-Naturalizer-Danya-Soft-Silver-Crosshatch-Shiny-Patent', '8925023', 'product.html,https:', '', '']\n",
            "step4: overstock.com\n"
          ]
        }
      ],
      "source": [
        "print('step1:',url.split('www.'))\n",
        "print('step2:',url.split('www.')[1])\n",
        "print('step3:',url.split('www.')[1].split('/'))\n",
        "print('step4:',url.split('www.')[1].split('/')[0])"
      ]
    },
    {
      "cell_type": "markdown",
      "metadata": {
        "id": "byI05qwc2bLI"
      },
      "source": [
        "Applying these above steps to all values of prices_sourceURLs with .apply() and seeing uniques merchants along with their counts using .value_counts()"
      ]
    },
    {
      "cell_type": "code",
      "execution_count": 17,
      "metadata": {
        "id": "j0ki1BhD7Fkh",
        "colab": {
          "base_uri": "https://localhost:8080/"
        },
        "outputId": "b67e9da5-959a-43d5-bdb0-e390f9febb68"
      },
      "outputs": [
        {
          "output_type": "execute_result",
          "data": {
            "text/plain": [
              "kohls.com          9556\n",
              "backcountry.com     352\n",
              "walmart.com          82\n",
              "evo.com               8\n",
              "overstock.com         2\n",
              "Name: merchant, dtype: int64"
            ]
          },
          "metadata": {},
          "execution_count": 17
        }
      ],
      "source": [
        "df['merchant'] = df['prices_sourceURLs'].apply(lambda x: x.split('www.')[1].split('/')[0])\n",
        "df['merchant'].value_counts()"
      ]
    },
    {
      "cell_type": "markdown",
      "metadata": {
        "id": "n9cOkZan2o3f"
      },
      "source": [
        "It is evident from above result that all prices are sourced from different merchants"
      ]
    },
    {
      "cell_type": "markdown",
      "metadata": {
        "id": "E-x1OIyIgLRM"
      },
      "source": [
        "# Merchant V/S Categories"
      ]
    },
    {
      "cell_type": "code",
      "execution_count": 18,
      "metadata": {
        "id": "HOUhBUiwZAlI",
        "colab": {
          "base_uri": "https://localhost:8080/"
        },
        "outputId": "5bcc10fc-96d4-43cb-a02a-dde2a4af72e2"
      },
      "outputs": [
        {
          "output_type": "execute_result",
          "data": {
            "text/plain": [
              "categories\n",
              "Womens,Shoes,Boots,Journee Collection                                                          835\n",
              "Womens,Shoes,Pumps,Heels,Journee Collection                                                    581\n",
              "Womens,Shoes,Sandals,LifeStride                                                                446\n",
              "Womens,Shoes,Flats,Journee Collection                                                          320\n",
              "Womens,Shoes,Flats,LifeStride                                                                  310\n",
              "                                                                                              ... \n",
              "Clothing,Shoes,Men's Shoes,All Men's Shoes,Women's Slippers,Women's Shoes,All Women's Shoes      1\n",
              "Womens,Shoes,Flats,Forever Collectibles                                                          1\n",
              "Womens,Shoes,Pumps,Heels,NYLA                                                                    1\n",
              "Womens,Shoes,Oxfords,Easy Street                                                                 1\n",
              "Clothing,Shoes,Baby & Kids Shoes,Girls' Boots,Women's Shoes,All Women's Shoes,Girls' Shoes       1\n",
              "Name: merchant, Length: 207, dtype: int64"
            ]
          },
          "metadata": {},
          "execution_count": 18
        }
      ],
      "source": [
        "no_of_merchants=df.groupby('categories')['merchant'].count().sort_values(ascending=False)\n",
        "no_of_merchants"
      ]
    },
    {
      "cell_type": "markdown",
      "metadata": {
        "id": "pP6_ysc9bO4s"
      },
      "source": [
        "From the above we can see that 'womens,Shoes,Boots,Journee Collection' category have highest number of merchants.And this is even more clear to observe from the below bar chart visualization which gives us the the top 10 categories based on number of merchants."
      ]
    },
    {
      "cell_type": "code",
      "execution_count": 19,
      "metadata": {
        "id": "wpNIPQv2bD0Y",
        "colab": {
          "base_uri": "https://localhost:8080/",
          "height": 365
        },
        "outputId": "0fcfdbbc-36a0-44b7-d590-3f109ac234df"
      },
      "outputs": [
        {
          "output_type": "stream",
          "name": "stderr",
          "text": [
            "/usr/local/lib/python3.7/dist-packages/seaborn/_decorators.py:43: FutureWarning: Pass the following variables as keyword args: x, y. From version 0.12, the only valid positional argument will be `data`, and passing other arguments without an explicit keyword will result in an error or misinterpretation.\n",
            "  FutureWarning\n"
          ]
        },
        {
          "output_type": "display_data",
          "data": {
            "image/png": "[encoded data removed]",
            "text/plain": [
              "<Figure size 432x288 with 1 Axes>"
            ]
          },
          "metadata": {
            "needs_background": "light"
          }
        }
      ],
      "source": [
        "plt.xticks(rotation=45)\n",
        "plt.title(\"Number of merchant in 10 categories\",fontsize=20)\n",
        "plt.xlabel('categories')\n",
        "plt.ylabel('No of merchants')\n",
        "sns.barplot(no_of_merchants[:10],no_of_merchants[:10].index);"
      ]
    },
    {
      "cell_type": "markdown",
      "metadata": {
        "id": "JSDrV0hMeya7"
      },
      "source": [
        "From above barchart we can clearly understand that Number of merchants are high in 'Womens,Shoes,Boots,Journee Collection' category."
      ]
    },
    {
      "cell_type": "markdown",
      "metadata": {
        "id": "2933KZpg0tJ-"
      },
      "source": [
        "# Prices_issale V/S Manufacturer"
      ]
    },
    {
      "cell_type": "code",
      "execution_count": 20,
      "metadata": {
        "id": "Fc_owlt8hlbH",
        "colab": {
          "base_uri": "https://localhost:8080/"
        },
        "outputId": "08da6c76-d1c0-40bc-e709-4639e5a257d6"
      },
      "outputs": [
        {
          "output_type": "execute_result",
          "data": {
            "text/plain": [
              "False    9830\n",
              "True      170\n",
              "Name: prices_isSale, dtype: int64"
            ]
          },
          "metadata": {},
          "execution_count": 20
        }
      ],
      "source": [
        "df['prices_isSale'].value_counts()"
      ]
    },
    {
      "cell_type": "code",
      "execution_count": 21,
      "metadata": {
        "id": "ZKQUWGtbhldl",
        "colab": {
          "base_uri": "https://localhost:8080/"
        },
        "outputId": "be0f0a17-5250-419d-d4f8-9d71d6971c36"
      },
      "outputs": [
        {
          "output_type": "stream",
          "name": "stdout",
          "text": [
            "sale_df's rows and columns: (170, 18)\n",
            "non_sale_df's rows and columns: (9830, 18)\n"
          ]
        }
      ],
      "source": [
        "sale_df = df[df['prices_isSale'] != False]\n",
        "print(\"sale_df's rows and columns:\",sale_df.shape)\n",
        "non_sale_df = df[df['prices_isSale'] == False]\n",
        "print(\"non_sale_df's rows and columns:\",non_sale_df.shape)"
      ]
    },
    {
      "cell_type": "code",
      "execution_count": 22,
      "metadata": {
        "id": "qoNhnDg5hlgz",
        "colab": {
          "base_uri": "https://localhost:8080/"
        },
        "outputId": "463281d0-e362-415f-948b-dae716b5dd44"
      },
      "outputs": [
        {
          "output_type": "execute_result",
          "data": {
            "text/plain": [
              "Dr. Scholl's       253\n",
              "Brinley Co.        132\n",
              "Easy Street         48\n",
              "Spring Footwear     14\n",
              "Eastland Shoe       13\n",
              "ASICS               11\n",
              "Fila                 7\n",
              "Brinley Co           5\n",
              "Lugz                 4\n",
              "Muk Luks             2\n",
              "Name: manufacturer, dtype: int64"
            ]
          },
          "metadata": {},
          "execution_count": 22
        }
      ],
      "source": [
        "#Before handling null values\n",
        "top_manufacturers = non_sale_df.manufacturer.value_counts().head(10)\n",
        "top_manufacturers"
      ]
    },
    {
      "cell_type": "markdown",
      "metadata": {
        "id": "y1hvfM9x3nJE"
      },
      "source": [
        "From the above result,we can understand that Dr.scholl's emerged as the top manufacturer by count of their product listing,being almost double th size of it's immediate competitor Brinley.Co.(Before handling missing values)"
      ]
    },
    {
      "cell_type": "code",
      "execution_count": 23,
      "metadata": {
        "id": "Ws2uftkLgWC7",
        "colab": {
          "base_uri": "https://localhost:8080/"
        },
        "outputId": "64a82cd4-30a9-46ab-825e-8b674dea53be"
      },
      "outputs": [
        {
          "output_type": "execute_result",
          "data": {
            "text/plain": [
              "Brinley Co               11\n",
              "Reliable of Milwuakee     7\n",
              "Brinley Co.               7\n",
              "Reliable of Milwaukee     4\n",
              "Muk Luks                  1\n",
              "Soft Ones                 1\n",
              "Silver Lilly              1\n",
              "Journee Collection        1\n",
              "Name: manufacturer, dtype: int64"
            ]
          },
          "metadata": {},
          "execution_count": 23
        }
      ],
      "source": [
        "#Before handling null values\n",
        "top_manufacturers1 = sale_df.manufacturer.value_counts().head(10)\n",
        "top_manufacturers1"
      ]
    },
    {
      "cell_type": "markdown",
      "metadata": {
        "id": "Me6UB9sHgewl"
      },
      "source": [
        "In case of sale,'Brinley Co' category have the highest number of merchants."
      ]
    },
    {
      "cell_type": "code",
      "execution_count": 24,
      "metadata": {
        "id": "HH9Dnlrm8QvF",
        "colab": {
          "base_uri": "https://localhost:8080/"
        },
        "outputId": "5ae94c61-99ea-4d02-94f8-a73c1607e4ee"
      },
      "outputs": [
        {
          "output_type": "execute_result",
          "data": {
            "text/plain": [
              "(10000, 18)"
            ]
          },
          "metadata": {},
          "execution_count": 24
        }
      ],
      "source": [
        "df.shape"
      ]
    },
    {
      "cell_type": "markdown",
      "metadata": {
        "id": "Z5v6SzYe1c_3"
      },
      "source": [
        "# Brand V/S Prices_issale"
      ]
    },
    {
      "cell_type": "code",
      "execution_count": 25,
      "metadata": {
        "id": "p5yWSuL4wzuX",
        "colab": {
          "base_uri": "https://localhost:8080/"
        },
        "outputId": "2b751385-3966-4109-be82-6a8e067baaa1"
      },
      "outputs": [
        {
          "output_type": "execute_result",
          "data": {
            "text/plain": [
              "journee collection                2182\n",
              "lifestride                        1457\n",
              "a2 by aerosoles                    670\n",
              "easy street                        556\n",
              "style charles by charles david     478\n",
              "                                  ... \n",
              "MLB                                  1\n",
              "Danskin Now                          1\n",
              "forever collectibles                 1\n",
              "Carrini                              1\n",
              "OTZShoes                             1\n",
              "Name: brand, Length: 129, dtype: int64"
            ]
          },
          "metadata": {},
          "execution_count": 25
        }
      ],
      "source": [
        "df['brand'].value_counts()"
      ]
    },
    {
      "cell_type": "code",
      "execution_count": 26,
      "metadata": {
        "id": "UwWVxLLEEaQI",
        "colab": {
          "base_uri": "https://localhost:8080/"
        },
        "outputId": "b271dafa-c415-4a92-81d7-54756358aa0f"
      },
      "outputs": [
        {
          "output_type": "stream",
          "name": "stdout",
          "text": [
            "No. of unique brands: 129\n"
          ]
        }
      ],
      "source": [
        "print(\"No. of unique brands:\",df.brand.nunique())"
      ]
    },
    {
      "cell_type": "markdown",
      "metadata": {
        "id": "1L6mWaCJf-eD"
      },
      "source": [
        "Let's look at the list of top 10 brands by count of their product listings"
      ]
    },
    {
      "cell_type": "code",
      "execution_count": 27,
      "metadata": {
        "id": "JedbkQIiiJFg",
        "colab": {
          "base_uri": "https://localhost:8080/"
        },
        "outputId": "34e9abfb-bdbb-42f1-ce13-da6fe6504650"
      },
      "outputs": [
        {
          "output_type": "execute_result",
          "data": {
            "text/plain": [
              "Brinley Co.    24\n",
              "Adidas         17\n",
              "Salomon        14\n",
              "MUK LUKS       13\n",
              "Nike           13\n",
              "Altra          10\n",
              "Inov 8          9\n",
              "Merrell         7\n",
              "Lowa            7\n",
              "Splendid        7\n",
              "Name: brand, dtype: int64"
            ]
          },
          "metadata": {},
          "execution_count": 27
        }
      ],
      "source": [
        "top_brands = sale_df.brand.value_counts().head(10)\n",
        "top_brands"
      ]
    },
    {
      "cell_type": "markdown",
      "metadata": {
        "id": "VUpiNdkHiU00"
      },
      "source": [
        "In case of sale,'Brinley Co' brand is the top brand by count of their product listing."
      ]
    },
    {
      "cell_type": "code",
      "execution_count": 28,
      "metadata": {
        "id": "FpESELJw8ORb",
        "colab": {
          "base_uri": "https://localhost:8080/"
        },
        "outputId": "656a12a6-7be5-4107-aa30-76b7b0e5420e"
      },
      "outputs": [
        {
          "output_type": "execute_result",
          "data": {
            "text/plain": [
              "journee collection                2181\n",
              "lifestride                        1457\n",
              "a2 by aerosoles                    670\n",
              "easy street                        556\n",
              "style charles by charles david     478\n",
              "so                                 422\n",
              "dr. scholls                        337\n",
              "croft barrow                       315\n",
              "nike                               285\n",
              "new balance                        255\n",
              "Name: brand, dtype: int64"
            ]
          },
          "metadata": {},
          "execution_count": 28
        }
      ],
      "source": [
        "top_brands1 = non_sale_df.brand.value_counts().head(10)\n",
        "top_brands1"
      ]
    },
    {
      "cell_type": "code",
      "execution_count": 29,
      "metadata": {
        "id": "9Xfp3njXgFZa",
        "colab": {
          "base_uri": "https://localhost:8080/",
          "height": 485
        },
        "outputId": "c60aad27-a02c-4db2-d125-bf1480bb2fcc"
      },
      "outputs": [
        {
          "output_type": "stream",
          "name": "stderr",
          "text": [
            "/usr/local/lib/python3.7/dist-packages/seaborn/_decorators.py:43: FutureWarning: Pass the following variables as keyword args: x, y. From version 0.12, the only valid positional argument will be `data`, and passing other arguments without an explicit keyword will result in an error or misinterpretation.\n",
            "  FutureWarning\n"
          ]
        },
        {
          "output_type": "display_data",
          "data": {
            "image/png": "[encoded data removed]",
            "text/plain": [
              "<Figure size 864x432 with 1 Axes>"
            ]
          },
          "metadata": {
            "needs_background": "light"
          }
        }
      ],
      "source": [
        "plt.figure(figsize=(12,6))\n",
        "plt.xticks(rotation=45)\n",
        "plt.title(\"Top 10 Women's Shoes Brands by their product listings\",fontsize=20)\n",
        "sns.barplot(top_brands.index, top_brands);"
      ]
    },
    {
      "cell_type": "markdown",
      "metadata": {
        "id": "Ohqp1en9g8ea"
      },
      "source": [
        "We can see from the visualization above that journee collection is almost double the size of it's immediate competitor. And this is even more clear to observe from the below pie chart visualization which gives us the actual market share by percentage between the top 5 brands.\n"
      ]
    },
    {
      "cell_type": "code",
      "execution_count": 30,
      "metadata": {
        "id": "86Mmk8lrgFpy",
        "colab": {
          "base_uri": "https://localhost:8080/",
          "height": 373
        },
        "outputId": "0bacae12-0f28-4c11-9087-4dc8de5b5c62"
      },
      "outputs": [
        {
          "output_type": "display_data",
          "data": {
            "image/png": "[encoded data removed]",
            "text/plain": [
              "<Figure size 864x432 with 1 Axes>"
            ]
          },
          "metadata": {}
        }
      ],
      "source": [
        "plt.figure(figsize=(12,6))\n",
        "plt.title(\"Top 5 Brand share by percentage\",)\n",
        "plt.pie(top_brands[:5], labels=top_brands[:5].index, autopct='%1.1f%%', startangle=180);"
      ]
    },
    {
      "cell_type": "markdown",
      "metadata": {
        "id": "138iNwN75Dfd"
      },
      "source": [
        "The above pie chart shows how much percentage market is shared between these top 5 brands with a pie chart visualization."
      ]
    },
    {
      "cell_type": "markdown",
      "metadata": {
        "id": "nq6L9u8x9UgJ"
      },
      "source": [
        "# Brand V/S Avg Price"
      ]
    },
    {
      "cell_type": "code",
      "execution_count": 31,
      "metadata": {
        "id": "9VZZxnFBgFtW",
        "colab": {
          "base_uri": "https://localhost:8080/"
        },
        "outputId": "93ed7fb6-ee3e-4147-964d-63bbcb3d9455"
      },
      "outputs": [
        {
          "output_type": "execute_result",
          "data": {
            "text/plain": [
              "brand\n",
              "Red Wing           345.950000\n",
              "Free People        178.000000\n",
              "On Footwear        159.990000\n",
              "MLB                151.240000\n",
              "Arc'teryx          150.166667\n",
              "                      ...    \n",
              "Genuine Dickies     16.925000\n",
              "Victoria K.         15.880000\n",
              "Faded Glory         13.381250\n",
              "Soft Ones           10.950000\n",
              "Unbranded            6.803333\n",
              "Name: prices_amount, Length: 129, dtype: float64"
            ]
          },
          "metadata": {},
          "execution_count": 31
        }
      ],
      "source": [
        "av_price_brand_wise = df.groupby('brand')['prices_amount'].mean().sort_values(ascending=False)\n",
        "av_price_brand_wise"
      ]
    },
    {
      "cell_type": "code",
      "execution_count": 32,
      "metadata": {
        "id": "Ia6rJXukhpWA",
        "colab": {
          "base_uri": "https://localhost:8080/",
          "height": 363
        },
        "outputId": "a6144d7b-255d-468d-d0d1-57311cc2337a"
      },
      "outputs": [
        {
          "output_type": "stream",
          "name": "stderr",
          "text": [
            "/usr/local/lib/python3.7/dist-packages/seaborn/_decorators.py:43: FutureWarning: Pass the following variables as keyword args: x, y. From version 0.12, the only valid positional argument will be `data`, and passing other arguments without an explicit keyword will result in an error or misinterpretation.\n",
            "  FutureWarning\n"
          ]
        },
        {
          "output_type": "display_data",
          "data": {
            "image/png": "[encoded data removed]",
            "text/plain": [
              "<Figure size 432x288 with 1 Axes>"
            ]
          },
          "metadata": {
            "needs_background": "light"
          }
        }
      ],
      "source": [
        "plt.xticks(rotation=45)\n",
        "plt.title(\"Top 5 Women's Most Expensive Shoes Brands\",fontsize=15)\n",
        "sns.barplot(av_price_brand_wise[:5],av_price_brand_wise[:5].index);"
      ]
    },
    {
      "cell_type": "markdown",
      "metadata": {
        "id": "inY3cw4t5wSp"
      },
      "source": [
        "from the above graph, we got red wing  turned out to be the most expensive brand based on average prices."
      ]
    },
    {
      "cell_type": "code",
      "execution_count": 33,
      "metadata": {
        "id": "9ZntiYiM-YVd",
        "colab": {
          "base_uri": "https://localhost:8080/"
        },
        "outputId": "641d4de4-573c-434a-ef5d-d4d1c17eb255"
      },
      "outputs": [
        {
          "output_type": "execute_result",
          "data": {
            "text/plain": [
              "brand\n",
              "Unbranded            6.803333\n",
              "Soft Ones           10.950000\n",
              "Faded Glory         13.381250\n",
              "Victoria K.         15.880000\n",
              "Genuine Dickies     16.925000\n",
              "                      ...    \n",
              "Arc'teryx          150.166667\n",
              "MLB                151.240000\n",
              "On Footwear        159.990000\n",
              "Free People        178.000000\n",
              "Red Wing           345.950000\n",
              "Name: prices_amount, Length: 129, dtype: float64"
            ]
          },
          "metadata": {},
          "execution_count": 33
        }
      ],
      "source": [
        "av_price_brand_wise1 = df.groupby('brand')['prices_amount'].mean().sort_values(ascending=True)\n",
        "av_price_brand_wise1"
      ]
    },
    {
      "cell_type": "code",
      "execution_count": 34,
      "metadata": {
        "id": "szlfl2yN-i7P",
        "colab": {
          "base_uri": "https://localhost:8080/",
          "height": 361
        },
        "outputId": "ed64cb16-1412-4a01-ef2a-c01feb9905ea"
      },
      "outputs": [
        {
          "output_type": "stream",
          "name": "stderr",
          "text": [
            "/usr/local/lib/python3.7/dist-packages/seaborn/_decorators.py:43: FutureWarning: Pass the following variables as keyword args: x, y. From version 0.12, the only valid positional argument will be `data`, and passing other arguments without an explicit keyword will result in an error or misinterpretation.\n",
            "  FutureWarning\n"
          ]
        },
        {
          "output_type": "display_data",
          "data": {
            "image/png": "[encoded data removed]",
            "text/plain": [
              "<Figure size 432x288 with 1 Axes>"
            ]
          },
          "metadata": {
            "needs_background": "light"
          }
        }
      ],
      "source": [
        "plt.xticks(rotation=45)\n",
        "plt.title(\"Top 5 Women's least Expensive Shoes Brands\",fontsize=20)\n",
        "sns.barplot(av_price_brand_wise1[:5],av_price_brand_wise1[:5].index);"
      ]
    },
    {
      "cell_type": "markdown",
      "metadata": {
        "id": "8fr2_Tm96MuR"
      },
      "source": [
        "From the above graph, we got Unbranded product turned out to be the least expensive brand on average prices."
      ]
    },
    {
      "cell_type": "code",
      "execution_count": 35,
      "metadata": {
        "id": "YPxAfo6ShpZG",
        "colab": {
          "base_uri": "https://localhost:8080/",
          "height": 404
        },
        "outputId": "cb8710f5-fb2f-4ffc-87e2-91078421b7a2"
      },
      "outputs": [
        {
          "output_type": "display_data",
          "data": {
            "image/png": "[encoded data removed]",
            "text/plain": [
              "<Figure size 864x432 with 1 Axes>"
            ]
          },
          "metadata": {
            "needs_background": "light"
          }
        }
      ],
      "source": [
        "plt.figure(figsize=(12, 6))\n",
        "plt.title(\"Price distribution\")\n",
        "plt.xlabel('Price bins')\n",
        "plt.ylabel('Number brands falling in each bin')\n",
        "\n",
        "plt.hist(df.prices_amount, bins=np.arange(15,315,5), color='orange');"
      ]
    },
    {
      "cell_type": "code",
      "execution_count": 36,
      "metadata": {
        "id": "Gh1xK-Iwhpbw",
        "colab": {
          "base_uri": "https://localhost:8080/"
        },
        "outputId": "36a869ef-bb98-4754-8683-c3d5a365f34f"
      },
      "outputs": [
        {
          "output_type": "execute_result",
          "data": {
            "text/plain": [
              "count    10000.000000\n",
              "mean        60.177376\n",
              "std         18.786193\n",
              "min          5.375000\n",
              "25%         49.990000\n",
              "50%         56.875000\n",
              "75%         67.490000\n",
              "max        359.950000\n",
              "Name: prices_amount, dtype: float64"
            ]
          },
          "metadata": {},
          "execution_count": 36
        }
      ],
      "source": [
        "df.prices_amount.describe()"
      ]
    },
    {
      "cell_type": "code",
      "execution_count": 37,
      "metadata": {
        "id": "DryRhm7jhpfE",
        "colab": {
          "base_uri": "https://localhost:8080/",
          "height": 356
        },
        "outputId": "eb6fd743-ad70-4218-9fe4-a8fabe3e54a1"
      },
      "outputs": [
        {
          "output_type": "stream",
          "name": "stderr",
          "text": [
            "/usr/local/lib/python3.7/dist-packages/seaborn/distributions.py:2619: FutureWarning: `distplot` is a deprecated function and will be removed in a future version. Please adapt your code to use either `displot` (a figure-level function with similar flexibility) or `histplot` (an axes-level function for histograms).\n",
            "  warnings.warn(msg, FutureWarning)\n"
          ]
        },
        {
          "output_type": "display_data",
          "data": {
            "image/png": "[encoded data removed]",
            "text/plain": [
              "<Figure size 432x288 with 1 Axes>"
            ]
          },
          "metadata": {
            "needs_background": "light"
          }
        }
      ],
      "source": [
        "plt.title(\"Price distribution\",fontsize=20)\n",
        "sns.distplot(df.prices_amount);"
      ]
    },
    {
      "cell_type": "markdown",
      "metadata": {
        "id": "RZ2ZaneBkX3p"
      },
      "source": [
        "By looking at all of the above results, the answer is NO, distribution is no where close to normal. Infact, the Price distribution is rightly skewed suggesting to us that most of the brands prefer to price their products around the lower side of prices (viz. 15 to 50 USD) for better sales. Second bump is around 80 to 85 USD."
      ]
    },
    {
      "cell_type": "markdown",
      "metadata": {
        "id": "_5gOpz5G8s-M"
      },
      "source": [
        "# Prices_issale V/S  prices_amount"
      ]
    },
    {
      "cell_type": "code",
      "execution_count": 38,
      "metadata": {
        "id": "1TpnpjRekUFt",
        "colab": {
          "base_uri": "https://localhost:8080/",
          "height": 522
        },
        "outputId": "041b6e2f-68c1-408b-d637-7a994cb1ac5e"
      },
      "outputs": [
        {
          "output_type": "execute_result",
          "data": {
            "text/plain": [
              "<matplotlib.axes._subplots.AxesSubplot at 0x7f9d486fdf90>"
            ]
          },
          "metadata": {},
          "execution_count": 38
        },
        {
          "output_type": "display_data",
          "data": {
            "image/png": "[encoded data removed]",
            "text/plain": [
              "<Figure size 1440x576 with 2 Axes>"
            ]
          },
          "metadata": {
            "needs_background": "light"
          }
        }
      ],
      "source": [
        "corrmatrix=df.corr()\n",
        "plt.subplots(figsize=(20,8))\n",
        "plt.title(\"Correlation between Price_issale and Prices_amount\",fontsize=20)\n",
        "sns.heatmap(corrmatrix,vmin=-.7,vmax=0.7,annot=True,linewidth=0.2)"
      ]
    },
    {
      "cell_type": "markdown",
      "metadata": {
        "id": "II8P1z-n6daB"
      },
      "source": [
        "The above shows correlation between Prices_amount and prices_issale."
      ]
    },
    {
      "cell_type": "markdown",
      "metadata": {
        "id": "fFzrkmo_9jUJ"
      },
      "source": [
        "# Brand V/S Color"
      ]
    },
    {
      "cell_type": "code",
      "execution_count": 39,
      "metadata": {
        "id": "mXp6MnpqQ2kA",
        "colab": {
          "base_uri": "https://localhost:8080/"
        },
        "outputId": "4fa2b7f3-68b8-48d6-9dcd-9373f059a66d"
      },
      "outputs": [
        {
          "output_type": "execute_result",
          "data": {
            "text/plain": [
              "Black                                  1960\n",
              "Gray                                    737\n",
              "Taupe                                   557\n",
              "Navy                                    535\n",
              "Brown                                   301\n",
              "                                       ... \n",
              "Brown Burnish                             1\n",
              "Black Patent Stretch                      1\n",
              "Fjord                                     1\n",
              "Blue Nights/Coral                         1\n",
              "Armory Blue/Armory Navy-Cirrus Blue       1\n",
              "Name: prices_color, Length: 547, dtype: int64"
            ]
          },
          "metadata": {},
          "execution_count": 39
        }
      ],
      "source": [
        "top_colors=df.prices_color.value_counts()\n",
        "top_colors"
      ]
    },
    {
      "cell_type": "code",
      "execution_count": 40,
      "metadata": {
        "id": "4GgsVCw-jFNm",
        "colab": {
          "base_uri": "https://localhost:8080/",
          "height": 482
        },
        "outputId": "9788137a-ff83-4977-cad0-31e5d6fecf77"
      },
      "outputs": [
        {
          "output_type": "stream",
          "name": "stderr",
          "text": [
            "/usr/local/lib/python3.7/dist-packages/seaborn/_decorators.py:43: FutureWarning: Pass the following variables as keyword args: x, y. From version 0.12, the only valid positional argument will be `data`, and passing other arguments without an explicit keyword will result in an error or misinterpretation.\n",
            "  FutureWarning\n"
          ]
        },
        {
          "output_type": "display_data",
          "data": {
            "image/png": "[encoded data removed]",
            "text/plain": [
              "<Figure size 864x432 with 1 Axes>"
            ]
          },
          "metadata": {
            "needs_background": "light"
          }
        }
      ],
      "source": [
        "plt.figure(figsize=(12,6))\n",
        "plt.xticks(rotation=45)\n",
        "plt.xlabel('Colors')\n",
        "plt.ylabel('Count')\n",
        "plt.title(\"Top 5 Women's Shoes colors\",fontsize=20)\n",
        "sns.barplot(top_colors.index[:5], top_colors[:5]);"
      ]
    },
    {
      "cell_type": "code",
      "execution_count": 41,
      "metadata": {
        "id": "Nap-LX8BtL7U"
      },
      "outputs": [],
      "source": [
        "# top 5 shoe colors\n",
        "Black= df[df.prices_color ==\"Black\"]\n",
        "Grey= df[df.prices_color ==\"Gray\"]\n",
        "Taupe= df[df.prices_color ==\"Taupe\"]\n",
        "Navy= df[df.prices_color ==\"Navy\"]\n",
        "Brown=df[df.prices_color ==\"Brown\"]"
      ]
    },
    {
      "cell_type": "code",
      "execution_count": 42,
      "metadata": {
        "id": "KjQgOGZ_tMAT",
        "colab": {
          "base_uri": "https://localhost:8080/"
        },
        "outputId": "eefc0542-7a9e-4500-e9c3-b51e17567635"
      },
      "outputs": [
        {
          "output_type": "execute_result",
          "data": {
            "text/plain": [
              "journee collection                492\n",
              "lifestride                        329\n",
              "style charles by charles david    147\n",
              "a2 by aerosoles                   108\n",
              "so                                 97\n",
              "                                 ... \n",
              "under armour                        1\n",
              "puma                                1\n",
              "vans                                1\n",
              "Dr. Scholl's                        1\n",
              "OTZShoes                            1\n",
              "Name: brand, Length: 66, dtype: int64"
            ]
          },
          "metadata": {},
          "execution_count": 42
        }
      ],
      "source": [
        "#Black\n",
        "Black.brand.value_counts()"
      ]
    },
    {
      "cell_type": "code",
      "execution_count": 43,
      "metadata": {
        "id": "yGVYrw_itMDA",
        "colab": {
          "base_uri": "https://localhost:8080/",
          "height": 299
        },
        "outputId": "47dc86d3-5b83-4dd9-bcda-69154d033ef3"
      },
      "outputs": [
        {
          "output_type": "display_data",
          "data": {
            "image/png": "[encoded data removed]",
            "text/plain": [
              "<Figure size 432x288 with 1 Axes>"
            ]
          },
          "metadata": {
            "needs_background": "light"
          }
        }
      ],
      "source": [
        "#Graph for Black color shoe collection - top 10 list\n",
        "Black['brand'].value_counts()[:10].plot(kind='barh')\n",
        "plt.title('Black color shoes data', fontsize = 20)\n",
        "plt.xlabel('Count', fontsize = 10)\n",
        "plt.ylabel('Brands', fontsize = 10)\n",
        "plt.show()"
      ]
    },
    {
      "cell_type": "markdown",
      "metadata": {
        "id": "58nb-7YTCMyW"
      },
      "source": [
        "The above shows black color shoes data.we can understand that the mostely used shoe color is black and also got that womens mostely used journee collection  black shoes"
      ]
    },
    {
      "cell_type": "markdown",
      "metadata": {
        "id": "Ov8ZKeky-H4O"
      },
      "source": [
        "# Category V/S Avg Price"
      ]
    },
    {
      "cell_type": "code",
      "execution_count": 44,
      "metadata": {
        "id": "g5mixAApvMax",
        "colab": {
          "base_uri": "https://localhost:8080/"
        },
        "outputId": "df4b3a20-ebf5-4337-e68e-983aebed4588"
      },
      "outputs": [
        {
          "output_type": "execute_result",
          "data": {
            "text/plain": [
              "categories\n",
              "Women's Red Wing Shoes,Women's Clothing,Women's Shoes                                                                               359.950000\n",
              "Women's Clothing,Women's Shoes,Women's Red Wing Shoes                                                                               289.950000\n",
              "Clothing,Shoes,Men's Shoes,All Men's Shoes,Women's Slippers,Women's Shoes,All Women's Shoes                                         151.240000\n",
              "Clothing,Shoes,Women's Shoes,All Women's Shoes,Boots,Mid-Calf Boots                                                                 145.950000\n",
              "Clothing,Shoes,Women's Shoes,All Women's Shoes,Womens Shoes,Shop by Clothing Type,Boots,Cowboy Boots,Womens,Laredo,Women's Boots    140.000000\n",
              "                                                                                                                                       ...    \n",
              "Womens,Shoes,Sandals,Apt. 9                                                                                                          16.859048\n",
              "Womens,Shoes,Sandals,LC Lauren Conrad,Clothing, Shoes & Accessories,Women's Shoes,Sandals & Flip Flops                               15.745556\n",
              "Women's Casual Shoes,Womens Casual Shoes,Womens Shoes,Clothing,Women's Shoes,Shoes,All Women's Shoes                                 12.557500\n",
              "Womens Shoes,Clothing,Women's Shoes,Baby & Kids Shoes,Baby & Toddler Shoes,All Womens Shoes,Shoes,All Women's Shoes                  10.950000\n",
              "Clothing,Shoes,Womens Shoes,Womens Casual Shoes,Women's Shoes,Women's Casual Shoes,All Women's Shoes                                  9.620000\n",
              "Name: prices_amount, Length: 207, dtype: float64"
            ]
          },
          "metadata": {},
          "execution_count": 44
        }
      ],
      "source": [
        "av_price_category_wise = df.groupby(by='categories').mean()['prices_amount'].sort_values(ascending=False)\n",
        "av_price_category_wise"
      ]
    },
    {
      "cell_type": "code",
      "execution_count": 45,
      "metadata": {
        "id": "_FGAZFY9vMoQ",
        "colab": {
          "base_uri": "https://localhost:8080/",
          "height": 366
        },
        "outputId": "fb2a6a18-0d27-49e1-c597-921a579ac08e"
      },
      "outputs": [
        {
          "output_type": "stream",
          "name": "stderr",
          "text": [
            "/usr/local/lib/python3.7/dist-packages/seaborn/_decorators.py:43: FutureWarning: Pass the following variables as keyword args: x, y. From version 0.12, the only valid positional argument will be `data`, and passing other arguments without an explicit keyword will result in an error or misinterpretation.\n",
            "  FutureWarning\n"
          ]
        },
        {
          "output_type": "display_data",
          "data": {
            "image/png": "[encoded data removed]",
            "text/plain": [
              "<Figure size 432x288 with 1 Axes>"
            ]
          },
          "metadata": {
            "needs_background": "light"
          }
        }
      ],
      "source": [
        "plt.xticks(rotation=45)\n",
        "plt.title(\"Top 5 categories based on avg price\",fontsize=20)\n",
        "sns.barplot(av_price_category_wise[:5],av_price_category_wise[:5].index);"
      ]
    },
    {
      "cell_type": "markdown",
      "metadata": {
        "id": "Ccf9ZRDTDYee"
      },
      "source": [
        "From the above barplot,we can understand that 'Women's Red Wing Shoes,Women's Clothing,Women's Shoes'emerged as the top category based on avg price."
      ]
    },
    {
      "cell_type": "code",
      "execution_count": 46,
      "metadata": {
        "id": "TP0-31ZEvMq9",
        "colab": {
          "base_uri": "https://localhost:8080/"
        },
        "outputId": "d3dd3d5c-28db-4899-d189-a527930dca29"
      },
      "outputs": [
        {
          "output_type": "execute_result",
          "data": {
            "text/plain": [
              "categories\n",
              "Clothing,Shoes,Womens Shoes,Womens Casual Shoes,Women's Shoes,Women's Casual Shoes,All Women's Shoes                                  9.620000\n",
              "Womens Shoes,Clothing,Women's Shoes,Baby & Kids Shoes,Baby & Toddler Shoes,All Womens Shoes,Shoes,All Women's Shoes                  10.950000\n",
              "Women's Casual Shoes,Womens Casual Shoes,Womens Shoes,Clothing,Women's Shoes,Shoes,All Women's Shoes                                 12.557500\n",
              "Womens,Shoes,Sandals,LC Lauren Conrad,Clothing, Shoes & Accessories,Women's Shoes,Sandals & Flip Flops                               15.745556\n",
              "Womens,Shoes,Sandals,Apt. 9                                                                                                          16.859048\n",
              "                                                                                                                                       ...    \n",
              "Clothing,Shoes,Women's Shoes,All Women's Shoes,Womens Shoes,Shop by Clothing Type,Boots,Cowboy Boots,Womens,Laredo,Women's Boots    140.000000\n",
              "Clothing,Shoes,Women's Shoes,All Women's Shoes,Boots,Mid-Calf Boots                                                                 145.950000\n",
              "Clothing,Shoes,Men's Shoes,All Men's Shoes,Women's Slippers,Women's Shoes,All Women's Shoes                                         151.240000\n",
              "Women's Clothing,Women's Shoes,Women's Red Wing Shoes                                                                               289.950000\n",
              "Women's Red Wing Shoes,Women's Clothing,Women's Shoes                                                                               359.950000\n",
              "Name: prices_amount, Length: 207, dtype: float64"
            ]
          },
          "metadata": {},
          "execution_count": 46
        }
      ],
      "source": [
        "av_price_category_wise1 = df.groupby(by='categories').mean()['prices_amount'].sort_values(ascending=True)\n",
        "av_price_category_wise1"
      ]
    },
    {
      "cell_type": "code",
      "execution_count": 47,
      "metadata": {
        "id": "1fV-0wQ_vMuQ",
        "colab": {
          "base_uri": "https://localhost:8080/",
          "height": 361
        },
        "outputId": "c1336eb6-4f42-478f-80e7-377203f47fd7"
      },
      "outputs": [
        {
          "output_type": "stream",
          "name": "stderr",
          "text": [
            "/usr/local/lib/python3.7/dist-packages/seaborn/_decorators.py:43: FutureWarning: Pass the following variables as keyword args: x, y. From version 0.12, the only valid positional argument will be `data`, and passing other arguments without an explicit keyword will result in an error or misinterpretation.\n",
            "  FutureWarning\n"
          ]
        },
        {
          "output_type": "display_data",
          "data": {
            "image/png": "[encoded data removed]",
            "text/plain": [
              "<Figure size 432x288 with 1 Axes>"
            ]
          },
          "metadata": {
            "needs_background": "light"
          }
        }
      ],
      "source": [
        "plt.xticks(rotation=45)\n",
        "plt.title(\"Top 5 categories based on avg price\",fontsize=20)\n",
        "sns.barplot(av_price_category_wise1[:5],av_price_category_wise1[:5].index);"
      ]
    },
    {
      "cell_type": "markdown",
      "metadata": {
        "id": "oDauQhwgFobX"
      },
      "source": [
        "From the above barplot,we can understand that 'Clothing,Shoes,Womens Shoes,Womens Casual Shoes,Women's Shoes,Women's Casual Shoes,All Women's Shoes'emerged as the bottom category based on avg price."
      ]
    },
    {
      "cell_type": "markdown",
      "metadata": {
        "id": "5EoF_Qw_ZgZB"
      },
      "source": [
        "# Stock availability"
      ]
    },
    {
      "cell_type": "code",
      "execution_count": 48,
      "metadata": {
        "id": "p61qURoCkr3c",
        "colab": {
          "base_uri": "https://localhost:8080/"
        },
        "outputId": "2d3ca7fa-ec6a-4e99-921d-26564d020ed0"
      },
      "outputs": [
        {
          "output_type": "execute_result",
          "data": {
            "text/plain": [
              "True            353\n",
              "In Stock         53\n",
              "Out Of Stock     28\n",
              "Name: prices_availability, dtype: int64"
            ]
          },
          "metadata": {},
          "execution_count": 48
        }
      ],
      "source": [
        "df.prices_availability.value_counts()"
      ]
    },
    {
      "cell_type": "markdown",
      "metadata": {
        "id": "H_QainxYZxrl"
      },
      "source": [
        "After Assuming TRUE value  to be 'In stock',the availability of stock will be 406.Then the out of stock will 28"
      ]
    },
    {
      "cell_type": "markdown",
      "source": [
        "# 2.Preprocessing"
      ],
      "metadata": {
        "id": "qZ1SaGD0W7tU"
      }
    },
    {
      "cell_type": "markdown",
      "source": [
        "**#dectect and handling null values**"
      ],
      "metadata": {
        "id": "V9y_fABfQgCF"
      }
    },
    {
      "cell_type": "code",
      "execution_count": 49,
      "metadata": {
        "id": "ayKxQpQDbmSH",
        "colab": {
          "base_uri": "https://localhost:8080/"
        },
        "outputId": "141133fc-decf-4ec7-b444-c9797866875f"
      },
      "outputs": [
        {
          "output_type": "execute_result",
          "data": {
            "text/plain": [
              "id                        0\n",
              "dateAdded                 0\n",
              "dateUpdated               0\n",
              "brand                     0\n",
              "categories                0\n",
              "primaryCategories         0\n",
              "colors                 7369\n",
              "dimension              9883\n",
              "ean                    9329\n",
              "imageURLs                 0\n",
              "keys                      0\n",
              "manufacturer           9473\n",
              "manufacturerNumber     7518\n",
              "name                      0\n",
              "prices_amount             0\n",
              "prices_availability    9566\n",
              "prices_color              0\n",
              "prices_condition       9562\n",
              "prices_currency           0\n",
              "prices_dateAdded        777\n",
              "prices_dateSeen           0\n",
              "prices_isSale             0\n",
              "prices_merchant        9565\n",
              "prices_shipping        9588\n",
              "prices_size               0\n",
              "prices_sourceURLs         0\n",
              "sizes                     0\n",
              "sourceURLs                0\n",
              "upc                     360\n",
              "dtype: int64"
            ]
          },
          "metadata": {},
          "execution_count": 49
        }
      ],
      "source": [
        "data.isna().sum()"
      ]
    },
    {
      "cell_type": "markdown",
      "source": [
        "The data contains null values. Some columns only has null values. They better be removed for further exploration. To remove the null values we use the threshold 0.5 and removed all columns contains null values over 50% ."
      ],
      "metadata": {
        "id": "AOcF9ZhkXfLo"
      }
    },
    {
      "cell_type": "code",
      "source": [
        "data_null_table_df = pd.DataFrame(data.isnull().sum(axis=0),columns=['num_nulls'])"
      ],
      "metadata": {
        "id": "1y1sY6qeXhm0"
      },
      "execution_count": 50,
      "outputs": []
    },
    {
      "cell_type": "code",
      "source": [
        "data_null_table_df['feature_name'] = data_null_table_df.index\n",
        "data_null_table_df['ratio_of_null'] = data_null_table_df['num_nulls']/data.shape[0]"
      ],
      "metadata": {
        "id": "hY4fbp7EXh6Y"
      },
      "execution_count": 51,
      "outputs": []
    },
    {
      "cell_type": "code",
      "source": [
        "data_null_table_df"
      ],
      "metadata": {
        "id": "DNq_AlbhUt_e",
        "colab": {
          "base_uri": "https://localhost:8080/",
          "height": 958
        },
        "outputId": "e1debdf8-0afe-4ad7-c954-c4c3356421ab"
      },
      "execution_count": 52,
      "outputs": [
        {
          "output_type": "execute_result",
          "data": {
            "text/html": [
              "\n",
              "  <div id=\"df-222a991b-d231-4f68-801e-8e2d9c941d04\">\n",
              "    <div class=\"colab-df-container\">\n",
              "      <div>\n",
              "<style scoped>\n",
              "    .dataframe tbody tr th:only-of-type {\n",
              "        vertical-align: middle;\n",
              "    }\n",
              "\n",
              "    .dataframe tbody tr th {\n",
              "        vertical-align: top;\n",
              "    }\n",
              "\n",
              "    .dataframe thead th {\n",
              "        text-align: right;\n",
              "    }\n",
              "</style>\n",
              "<table border=\"1\" class=\"dataframe\">\n",
              "  <thead>\n",
              "    <tr style=\"text-align: right;\">\n",
              "      <th></th>\n",
              "      <th>num_nulls</th>\n",
              "      <th>feature_name</th>\n",
              "      <th>ratio_of_null</th>\n",
              "    </tr>\n",
              "  </thead>\n",
              "  <tbody>\n",
              "    <tr>\n",
              "      <th>id</th>\n",
              "      <td>0</td>\n",
              "      <td>id</td>\n",
              "      <td>0.0000</td>\n",
              "    </tr>\n",
              "    <tr>\n",
              "      <th>dateAdded</th>\n",
              "      <td>0</td>\n",
              "      <td>dateAdded</td>\n",
              "      <td>0.0000</td>\n",
              "    </tr>\n",
              "    <tr>\n",
              "      <th>dateUpdated</th>\n",
              "      <td>0</td>\n",
              "      <td>dateUpdated</td>\n",
              "      <td>0.0000</td>\n",
              "    </tr>\n",
              "    <tr>\n",
              "      <th>brand</th>\n",
              "      <td>0</td>\n",
              "      <td>brand</td>\n",
              "      <td>0.0000</td>\n",
              "    </tr>\n",
              "    <tr>\n",
              "      <th>categories</th>\n",
              "      <td>0</td>\n",
              "      <td>categories</td>\n",
              "      <td>0.0000</td>\n",
              "    </tr>\n",
              "    <tr>\n",
              "      <th>primaryCategories</th>\n",
              "      <td>0</td>\n",
              "      <td>primaryCategories</td>\n",
              "      <td>0.0000</td>\n",
              "    </tr>\n",
              "    <tr>\n",
              "      <th>colors</th>\n",
              "      <td>7369</td>\n",
              "      <td>colors</td>\n",
              "      <td>0.7369</td>\n",
              "    </tr>\n",
              "    <tr>\n",
              "      <th>dimension</th>\n",
              "      <td>9883</td>\n",
              "      <td>dimension</td>\n",
              "      <td>0.9883</td>\n",
              "    </tr>\n",
              "    <tr>\n",
              "      <th>ean</th>\n",
              "      <td>9329</td>\n",
              "      <td>ean</td>\n",
              "      <td>0.9329</td>\n",
              "    </tr>\n",
              "    <tr>\n",
              "      <th>imageURLs</th>\n",
              "      <td>0</td>\n",
              "      <td>imageURLs</td>\n",
              "      <td>0.0000</td>\n",
              "    </tr>\n",
              "    <tr>\n",
              "      <th>keys</th>\n",
              "      <td>0</td>\n",
              "      <td>keys</td>\n",
              "      <td>0.0000</td>\n",
              "    </tr>\n",
              "    <tr>\n",
              "      <th>manufacturer</th>\n",
              "      <td>9473</td>\n",
              "      <td>manufacturer</td>\n",
              "      <td>0.9473</td>\n",
              "    </tr>\n",
              "    <tr>\n",
              "      <th>manufacturerNumber</th>\n",
              "      <td>7518</td>\n",
              "      <td>manufacturerNumber</td>\n",
              "      <td>0.7518</td>\n",
              "    </tr>\n",
              "    <tr>\n",
              "      <th>name</th>\n",
              "      <td>0</td>\n",
              "      <td>name</td>\n",
              "      <td>0.0000</td>\n",
              "    </tr>\n",
              "    <tr>\n",
              "      <th>prices_amount</th>\n",
              "      <td>0</td>\n",
              "      <td>prices_amount</td>\n",
              "      <td>0.0000</td>\n",
              "    </tr>\n",
              "    <tr>\n",
              "      <th>prices_availability</th>\n",
              "      <td>9566</td>\n",
              "      <td>prices_availability</td>\n",
              "      <td>0.9566</td>\n",
              "    </tr>\n",
              "    <tr>\n",
              "      <th>prices_color</th>\n",
              "      <td>0</td>\n",
              "      <td>prices_color</td>\n",
              "      <td>0.0000</td>\n",
              "    </tr>\n",
              "    <tr>\n",
              "      <th>prices_condition</th>\n",
              "      <td>9562</td>\n",
              "      <td>prices_condition</td>\n",
              "      <td>0.9562</td>\n",
              "    </tr>\n",
              "    <tr>\n",
              "      <th>prices_currency</th>\n",
              "      <td>0</td>\n",
              "      <td>prices_currency</td>\n",
              "      <td>0.0000</td>\n",
              "    </tr>\n",
              "    <tr>\n",
              "      <th>prices_dateAdded</th>\n",
              "      <td>777</td>\n",
              "      <td>prices_dateAdded</td>\n",
              "      <td>0.0777</td>\n",
              "    </tr>\n",
              "    <tr>\n",
              "      <th>prices_dateSeen</th>\n",
              "      <td>0</td>\n",
              "      <td>prices_dateSeen</td>\n",
              "      <td>0.0000</td>\n",
              "    </tr>\n",
              "    <tr>\n",
              "      <th>prices_isSale</th>\n",
              "      <td>0</td>\n",
              "      <td>prices_isSale</td>\n",
              "      <td>0.0000</td>\n",
              "    </tr>\n",
              "    <tr>\n",
              "      <th>prices_merchant</th>\n",
              "      <td>9565</td>\n",
              "      <td>prices_merchant</td>\n",
              "      <td>0.9565</td>\n",
              "    </tr>\n",
              "    <tr>\n",
              "      <th>prices_shipping</th>\n",
              "      <td>9588</td>\n",
              "      <td>prices_shipping</td>\n",
              "      <td>0.9588</td>\n",
              "    </tr>\n",
              "    <tr>\n",
              "      <th>prices_size</th>\n",
              "      <td>0</td>\n",
              "      <td>prices_size</td>\n",
              "      <td>0.0000</td>\n",
              "    </tr>\n",
              "    <tr>\n",
              "      <th>prices_sourceURLs</th>\n",
              "      <td>0</td>\n",
              "      <td>prices_sourceURLs</td>\n",
              "      <td>0.0000</td>\n",
              "    </tr>\n",
              "    <tr>\n",
              "      <th>sizes</th>\n",
              "      <td>0</td>\n",
              "      <td>sizes</td>\n",
              "      <td>0.0000</td>\n",
              "    </tr>\n",
              "    <tr>\n",
              "      <th>sourceURLs</th>\n",
              "      <td>0</td>\n",
              "      <td>sourceURLs</td>\n",
              "      <td>0.0000</td>\n",
              "    </tr>\n",
              "    <tr>\n",
              "      <th>upc</th>\n",
              "      <td>360</td>\n",
              "      <td>upc</td>\n",
              "      <td>0.0360</td>\n",
              "    </tr>\n",
              "  </tbody>\n",
              "</table>\n",
              "</div>\n",
              "      <button class=\"colab-df-convert\" onclick=\"convertToInteractive('df-222a991b-d231-4f68-801e-8e2d9c941d04')\"\n",
              "              title=\"Convert this dataframe to an interactive table.\"\n",
              "              style=\"display:none;\">\n",
              "        \n",
              "  <svg xmlns=\"http://www.w3.org/2000/svg\" height=\"24px\"viewBox=\"0 0 24 24\"\n",
              "       width=\"24px\">\n",
              "    <path d=\"M0 0h24v24H0V0z\" fill=\"none\"/>\n",
              "    <path d=\"M18.56 5.44l.94 2.06.94-2.06 2.06-.94-2.06-.94-.94-2.06-.94 2.06-2.06.94zm-11 1L8.5 8.5l.94-2.06 2.06-.94-2.06-.94L8.5 2.5l-.94 2.06-2.06.94zm10 10l.94 2.06.94-2.06 2.06-.94-2.06-.94-.94-2.06-.94 2.06-2.06.94z\"/><path d=\"M17.41 7.96l-1.37-1.37c-.4-.4-.92-.59-1.43-.59-.52 0-1.04.2-1.43.59L10.3 9.45l-7.72 7.72c-.78.78-.78 2.05 0 2.83L4 21.41c.39.39.9.59 1.41.59.51 0 1.02-.2 1.41-.59l7.78-7.78 2.81-2.81c.8-.78.8-2.07 0-2.86zM5.41 20L4 18.59l7.72-7.72 1.47 1.35L5.41 20z\"/>\n",
              "  </svg>\n",
              "      </button>\n",
              "      \n",
              "  <style>\n",
              "    .colab-df-container {\n",
              "      display:flex;\n",
              "      flex-wrap:wrap;\n",
              "      gap: 12px;\n",
              "    }\n",
              "\n",
              "    .colab-df-convert {\n",
              "      background-color: #E8F0FE;\n",
              "      border: none;\n",
              "      border-radius: 50%;\n",
              "      cursor: pointer;\n",
              "      display: none;\n",
              "      fill: #1967D2;\n",
              "      height: 32px;\n",
              "      padding: 0 0 0 0;\n",
              "      width: 32px;\n",
              "    }\n",
              "\n",
              "    .colab-df-convert:hover {\n",
              "      background-color: #E2EBFA;\n",
              "      box-shadow: 0px 1px 2px rgba(60, 64, 67, 0.3), 0px 1px 3px 1px rgba(60, 64, 67, 0.15);\n",
              "      fill: #174EA6;\n",
              "    }\n",
              "\n",
              "    [theme=dark] .colab-df-convert {\n",
              "      background-color: #3B4455;\n",
              "      fill: #D2E3FC;\n",
              "    }\n",
              "\n",
              "    [theme=dark] .colab-df-convert:hover {\n",
              "      background-color: #434B5C;\n",
              "      box-shadow: 0px 1px 3px 1px rgba(0, 0, 0, 0.15);\n",
              "      filter: drop-shadow(0px 1px 2px rgba(0, 0, 0, 0.3));\n",
              "      fill: #FFFFFF;\n",
              "    }\n",
              "  </style>\n",
              "\n",
              "      <script>\n",
              "        const buttonEl =\n",
              "          document.querySelector('#df-222a991b-d231-4f68-801e-8e2d9c941d04 button.colab-df-convert');\n",
              "        buttonEl.style.display =\n",
              "          google.colab.kernel.accessAllowed ? 'block' : 'none';\n",
              "\n",
              "        async function convertToInteractive(key) {\n",
              "          const element = document.querySelector('#df-222a991b-d231-4f68-801e-8e2d9c941d04');\n",
              "          const dataTable =\n",
              "            await google.colab.kernel.invokeFunction('convertToInteractive',\n",
              "                                                     [key], {});\n",
              "          if (!dataTable) return;\n",
              "\n",
              "          const docLinkHtml = 'Like what you see? Visit the ' +\n",
              "            '<a target=\"_blank\" href=https://colab.research.google.com/notebooks/data_table.ipynb>data table notebook</a>'\n",
              "            + ' to learn more about interactive tables.';\n",
              "          element.innerHTML = '';\n",
              "          dataTable['output_type'] = 'display_data';\n",
              "          await google.colab.output.renderOutput(dataTable, element);\n",
              "          const docLink = document.createElement('div');\n",
              "          docLink.innerHTML = docLinkHtml;\n",
              "          element.appendChild(docLink);\n",
              "        }\n",
              "      </script>\n",
              "    </div>\n",
              "  </div>\n",
              "  "
            ],
            "text/plain": [
              "                     num_nulls         feature_name  ratio_of_null\n",
              "id                           0                   id         0.0000\n",
              "dateAdded                    0            dateAdded         0.0000\n",
              "dateUpdated                  0          dateUpdated         0.0000\n",
              "brand                        0                brand         0.0000\n",
              "categories                   0           categories         0.0000\n",
              "primaryCategories            0    primaryCategories         0.0000\n",
              "colors                    7369               colors         0.7369\n",
              "dimension                 9883            dimension         0.9883\n",
              "ean                       9329                  ean         0.9329\n",
              "imageURLs                    0            imageURLs         0.0000\n",
              "keys                         0                 keys         0.0000\n",
              "manufacturer              9473         manufacturer         0.9473\n",
              "manufacturerNumber        7518   manufacturerNumber         0.7518\n",
              "name                         0                 name         0.0000\n",
              "prices_amount                0        prices_amount         0.0000\n",
              "prices_availability       9566  prices_availability         0.9566\n",
              "prices_color                 0         prices_color         0.0000\n",
              "prices_condition          9562     prices_condition         0.9562\n",
              "prices_currency              0      prices_currency         0.0000\n",
              "prices_dateAdded           777     prices_dateAdded         0.0777\n",
              "prices_dateSeen              0      prices_dateSeen         0.0000\n",
              "prices_isSale                0        prices_isSale         0.0000\n",
              "prices_merchant           9565      prices_merchant         0.9565\n",
              "prices_shipping           9588      prices_shipping         0.9588\n",
              "prices_size                  0          prices_size         0.0000\n",
              "prices_sourceURLs            0    prices_sourceURLs         0.0000\n",
              "sizes                        0                sizes         0.0000\n",
              "sourceURLs                   0           sourceURLs         0.0000\n",
              "upc                        360                  upc         0.0360"
            ]
          },
          "metadata": {},
          "execution_count": 52
        }
      ]
    },
    {
      "cell_type": "code",
      "source": [
        "threshold = 0.5\n",
        "colremove = data_null_table_df[data_null_table_df['ratio_of_null'] > threshold].index\n",
        "colremove"
      ],
      "metadata": {
        "id": "25b2gUCcV0Xq",
        "colab": {
          "base_uri": "https://localhost:8080/"
        },
        "outputId": "a4dd894b-8a66-4074-9586-c9a140f270ac"
      },
      "execution_count": 53,
      "outputs": [
        {
          "output_type": "execute_result",
          "data": {
            "text/plain": [
              "Index(['colors', 'dimension', 'ean', 'manufacturer', 'manufacturerNumber',\n",
              "       'prices_availability', 'prices_condition', 'prices_merchant',\n",
              "       'prices_shipping'],\n",
              "      dtype='object')"
            ]
          },
          "metadata": {},
          "execution_count": 53
        }
      ]
    },
    {
      "cell_type": "code",
      "source": [
        "data_after_remove_df = data[[col for col in data.columns if col not in colremove]]"
      ],
      "metadata": {
        "id": "Rd3xHl2FZHjH"
      },
      "execution_count": 54,
      "outputs": []
    },
    {
      "cell_type": "code",
      "source": [
        "print(\"The data shape before %s and after %s \"%(data.shape, data_after_remove_df.shape))"
      ],
      "metadata": {
        "id": "1bNcmMa2ZUhw",
        "colab": {
          "base_uri": "https://localhost:8080/"
        },
        "outputId": "ece8d476-25ff-480b-f356-25134e61c0fe"
      },
      "execution_count": 55,
      "outputs": [
        {
          "output_type": "stream",
          "name": "stdout",
          "text": [
            "The data shape before (10000, 29) and after (10000, 20) \n"
          ]
        }
      ]
    },
    {
      "cell_type": "markdown",
      "source": [
        "After removing columns contain more than 50% of null values the new data set contains 20 columns. The categorical columns like upc and prices_dateaAdded still has null values. To take care of that we use the fillna method and fill the missing values with mode or median."
      ],
      "metadata": {
        "id": "D98EB4R6Z0B3"
      }
    },
    {
      "cell_type": "code",
      "source": [
        "data = data_after_remove_df\n",
        "#Dealing with the NaN\n",
        "print(\"Null values per column:\")\n",
        "data.isnull().sum()\n"
      ],
      "metadata": {
        "id": "u2vneUDbZUlI",
        "colab": {
          "base_uri": "https://localhost:8080/"
        },
        "outputId": "6c858f04-ae40-4725-bc06-02a3d8d58018"
      },
      "execution_count": 56,
      "outputs": [
        {
          "output_type": "stream",
          "name": "stdout",
          "text": [
            "Null values per column:\n"
          ]
        },
        {
          "output_type": "execute_result",
          "data": {
            "text/plain": [
              "id                     0\n",
              "dateAdded              0\n",
              "dateUpdated            0\n",
              "brand                  0\n",
              "categories             0\n",
              "primaryCategories      0\n",
              "imageURLs              0\n",
              "keys                   0\n",
              "name                   0\n",
              "prices_amount          0\n",
              "prices_color           0\n",
              "prices_currency        0\n",
              "prices_dateAdded     777\n",
              "prices_dateSeen        0\n",
              "prices_isSale          0\n",
              "prices_size            0\n",
              "prices_sourceURLs      0\n",
              "sizes                  0\n",
              "sourceURLs             0\n",
              "upc                  360\n",
              "dtype: int64"
            ]
          },
          "metadata": {},
          "execution_count": 56
        }
      ]
    },
    {
      "cell_type": "code",
      "source": [
        "data['prices_dateAdded'] = data['prices_dateAdded'].fillna(data['prices_dateAdded'].mode()[0])"
      ],
      "metadata": {
        "id": "GYfzaVSMae_f",
        "colab": {
          "base_uri": "https://localhost:8080/"
        },
        "outputId": "17cedf6b-0174-42aa-85fc-c3ebf49582fe"
      },
      "execution_count": 57,
      "outputs": [
        {
          "output_type": "stream",
          "name": "stderr",
          "text": [
            "/usr/local/lib/python3.7/dist-packages/ipykernel_launcher.py:1: SettingWithCopyWarning: \n",
            "A value is trying to be set on a copy of a slice from a DataFrame.\n",
            "Try using .loc[row_indexer,col_indexer] = value instead\n",
            "\n",
            "See the caveats in the documentation: https://pandas.pydata.org/pandas-docs/stable/user_guide/indexing.html#returning-a-view-versus-a-copy\n",
            "  \"\"\"Entry point for launching an IPython kernel.\n"
          ]
        }
      ]
    },
    {
      "cell_type": "code",
      "source": [
        "data['upc'] = data['upc'].fillna(data['upc'].mode()[0])"
      ],
      "metadata": {
        "id": "iKRo6gPVd3Xm",
        "colab": {
          "base_uri": "https://localhost:8080/"
        },
        "outputId": "799a6d65-d578-4a01-ac6a-1e0576656478"
      },
      "execution_count": 58,
      "outputs": [
        {
          "output_type": "stream",
          "name": "stderr",
          "text": [
            "/usr/local/lib/python3.7/dist-packages/ipykernel_launcher.py:1: SettingWithCopyWarning: \n",
            "A value is trying to be set on a copy of a slice from a DataFrame.\n",
            "Try using .loc[row_indexer,col_indexer] = value instead\n",
            "\n",
            "See the caveats in the documentation: https://pandas.pydata.org/pandas-docs/stable/user_guide/indexing.html#returning-a-view-versus-a-copy\n",
            "  \"\"\"Entry point for launching an IPython kernel.\n"
          ]
        }
      ]
    },
    {
      "cell_type": "code",
      "source": [
        "data.isna().sum()"
      ],
      "metadata": {
        "id": "qOMXsZTNeVh2",
        "colab": {
          "base_uri": "https://localhost:8080/"
        },
        "outputId": "b7920f0f-ada3-4d04-a3ad-fb3b79b91fe4"
      },
      "execution_count": 59,
      "outputs": [
        {
          "output_type": "execute_result",
          "data": {
            "text/plain": [
              "id                   0\n",
              "dateAdded            0\n",
              "dateUpdated          0\n",
              "brand                0\n",
              "categories           0\n",
              "primaryCategories    0\n",
              "imageURLs            0\n",
              "keys                 0\n",
              "name                 0\n",
              "prices_amount        0\n",
              "prices_color         0\n",
              "prices_currency      0\n",
              "prices_dateAdded     0\n",
              "prices_dateSeen      0\n",
              "prices_isSale        0\n",
              "prices_size          0\n",
              "prices_sourceURLs    0\n",
              "sizes                0\n",
              "sourceURLs           0\n",
              "upc                  0\n",
              "dtype: int64"
            ]
          },
          "metadata": {},
          "execution_count": 59
        }
      ]
    },
    {
      "cell_type": "markdown",
      "source": [
        "Finally we removed all null values in the dataset"
      ],
      "metadata": {
        "id": "lRkuPPLud--Q"
      }
    },
    {
      "cell_type": "markdown",
      "source": [
        "**Dectect and handling outliers**"
      ],
      "metadata": {
        "id": "uPI7yqiPiBF1"
      }
    },
    {
      "cell_type": "markdown",
      "source": [
        "Let's check the outliers in the data. We will use IQR to detect the outliers\n",
        "\n",
        "IQR(interquartile range) - Box plot use the IQR method to display data and outliers."
      ],
      "metadata": {
        "id": "5IHQgBgRiWOC"
      }
    },
    {
      "cell_type": "code",
      "source": [
        "plt.boxplot(data['prices_amount'])\n",
        "plt.title('Box plot of Price')"
      ],
      "metadata": {
        "id": "-vpPgBQuchHk",
        "colab": {
          "base_uri": "https://localhost:8080/",
          "height": 298
        },
        "outputId": "2ff4e23c-b441-48ee-b17d-c9bd7ccef003"
      },
      "execution_count": 60,
      "outputs": [
        {
          "output_type": "execute_result",
          "data": {
            "text/plain": [
              "Text(0.5, 1.0, 'Box plot of Price')"
            ]
          },
          "metadata": {},
          "execution_count": 60
        },
        {
          "output_type": "display_data",
          "data": {
            "image/png": "[encoded data removed]",
            "text/plain": [
              "<Figure size 432x288 with 1 Axes>"
            ]
          },
          "metadata": {
            "needs_background": "light"
          }
        }
      ]
    },
    {
      "cell_type": "markdown",
      "source": [
        "The above graph shows that there is an outlier in the feature of prices_amount.We need to find out and fill that oulier.Let see how to find and fill outlier"
      ],
      "metadata": {
        "id": "6zCaxjxeeH-X"
      }
    },
    {
      "cell_type": "code",
      "source": [
        "Q1=np.percentile(data['prices_amount'],25,interpolation='midpoint')\n",
        "Q2=np.percentile(data['prices_amount'],50,interpolation='midpoint')\n",
        "Q3=np.percentile(data['prices_amount'],75,interpolation='midpoint')"
      ],
      "metadata": {
        "id": "GFEKrieXeFH5"
      },
      "execution_count": 61,
      "outputs": []
    },
    {
      "cell_type": "code",
      "source": [
        "print(Q1)\n",
        "print(Q2)\n",
        "print(Q3)"
      ],
      "metadata": {
        "id": "oJuoPpb5eFKL",
        "colab": {
          "base_uri": "https://localhost:8080/"
        },
        "outputId": "7500f87c-c4b8-4e6c-b746-f5279d7d4fb1"
      },
      "execution_count": 62,
      "outputs": [
        {
          "output_type": "stream",
          "name": "stdout",
          "text": [
            "49.99\n",
            "56.875\n",
            "67.49\n"
          ]
        }
      ]
    },
    {
      "cell_type": "code",
      "source": [
        "IQR=Q3-Q1\n",
        "IQR"
      ],
      "metadata": {
        "id": "-yNx1RdHeFMe",
        "colab": {
          "base_uri": "https://localhost:8080/"
        },
        "outputId": "79dd87fb-0586-428d-b913-0fef4fdf74eb"
      },
      "execution_count": 63,
      "outputs": [
        {
          "output_type": "execute_result",
          "data": {
            "text/plain": [
              "17.499999999999993"
            ]
          },
          "metadata": {},
          "execution_count": 63
        }
      ]
    },
    {
      "cell_type": "code",
      "source": [
        "low_lim=Q1-1.5*IQR\n",
        "up_lim=Q3+1.5*IQR"
      ],
      "metadata": {
        "id": "tmoUKJo0eFPm"
      },
      "execution_count": 64,
      "outputs": []
    },
    {
      "cell_type": "code",
      "source": [
        "print(low_lim)\n",
        "print(up_lim)"
      ],
      "metadata": {
        "id": "IBDXv5uqeUyO",
        "colab": {
          "base_uri": "https://localhost:8080/"
        },
        "outputId": "44f6dd1a-3f13-47c7-f0ae-54f44b32a38c"
      },
      "execution_count": 65,
      "outputs": [
        {
          "output_type": "stream",
          "name": "stdout",
          "text": [
            "23.740000000000013\n",
            "93.73999999999998\n"
          ]
        }
      ]
    },
    {
      "cell_type": "code",
      "source": [
        "outlier=[]\n",
        "for x in data['prices_amount']:\n",
        "    if x>up_lim or x<low_lim:\n",
        "        outlier.append(x)"
      ],
      "metadata": {
        "id": "vTI6gKGGeU0o"
      },
      "execution_count": 66,
      "outputs": []
    },
    {
      "cell_type": "code",
      "source": [
        "outlier"
      ],
      "metadata": {
        "id": "gRBDPkgweU3c",
        "colab": {
          "base_uri": "https://localhost:8080/"
        },
        "outputId": "6a557ad9-0488-4dda-b022-03ffc73f50d5"
      },
      "execution_count": 67,
      "outputs": [
        {
          "output_type": "execute_result",
          "data": {
            "text/plain": [
              "[10.95,\n",
              " 18.395,\n",
              " 18.395,\n",
              " 16.925,\n",
              " 18.94,\n",
              " 5.375,\n",
              " 9.62,\n",
              " 10.16,\n",
              " 16.97,\n",
              " 5.415,\n",
              " 17.425,\n",
              " 15.88,\n",
              " 130.0,\n",
              " 113.75,\n",
              " 16.38,\n",
              " 19.82,\n",
              " 8.97,\n",
              " 145.95,\n",
              " 19.18,\n",
              " 19.245,\n",
              " 21.435,\n",
              " 21.435,\n",
              " 151.24,\n",
              " 19.74,\n",
              " 110.0,\n",
              " 110.0,\n",
              " 110.0,\n",
              " 105.995,\n",
              " 105.995,\n",
              " 120.0,\n",
              " 105.995,\n",
              " 120.0,\n",
              " 105.995,\n",
              " 18.395,\n",
              " 18.395,\n",
              " 17.095,\n",
              " 15.745,\n",
              " 16.08,\n",
              " 17.245,\n",
              " 18.395,\n",
              " 97.49,\n",
              " 94.99,\n",
              " 94.99,\n",
              " 97.49,\n",
              " 94.99,\n",
              " 94.99,\n",
              " 97.49,\n",
              " 16.74,\n",
              " 16.24,\n",
              " 17.49,\n",
              " 17.49,\n",
              " 16.74,\n",
              " 16.24,\n",
              " 17.49,\n",
              " 16.24,\n",
              " 16.24,\n",
              " 17.49,\n",
              " 16.49,\n",
              " 16.24,\n",
              " 17.49,\n",
              " 16.74,\n",
              " 17.49,\n",
              " 17.49,\n",
              " 16.49,\n",
              " 16.74,\n",
              " 16.24,\n",
              " 16.74,\n",
              " 17.49,\n",
              " 15.515,\n",
              " 14.865,\n",
              " 14.865,\n",
              " 15.515,\n",
              " 15.19,\n",
              " 15.19,\n",
              " 14.865,\n",
              " 15.19,\n",
              " 14.865,\n",
              " 16.49,\n",
              " 19.99,\n",
              " 16.49,\n",
              " 16.49,\n",
              " 15.19,\n",
              " 15.515,\n",
              " 15.515,\n",
              " 15.19,\n",
              " 16.49,\n",
              " 140.0,\n",
              " 140.0,\n",
              " 140.0,\n",
              " 140.0,\n",
              " 140.0,\n",
              " 140.0,\n",
              " 125.0,\n",
              " 125.0,\n",
              " 109.0,\n",
              " 119.0,\n",
              " 119.0,\n",
              " 119.0,\n",
              " 119.0,\n",
              " 119.0,\n",
              " 119.0,\n",
              " 125.0,\n",
              " 125.0,\n",
              " 95.0,\n",
              " 95.0,\n",
              " 95.0,\n",
              " 95.0,\n",
              " 95.0,\n",
              " 95.0,\n",
              " 95.0,\n",
              " 99.99,\n",
              " 99.99,\n",
              " 99.99,\n",
              " 99.99,\n",
              " 99.99,\n",
              " 99.99,\n",
              " 99.99,\n",
              " 99.99,\n",
              " 99.99,\n",
              " 99.99,\n",
              " 109.99,\n",
              " 99.99,\n",
              " 94.99,\n",
              " 94.99,\n",
              " 94.99,\n",
              " 94.99,\n",
              " 119.0,\n",
              " 119.0,\n",
              " 119.0,\n",
              " 95.495,\n",
              " 97.745,\n",
              " 97.745,\n",
              " 119.0,\n",
              " 95.495,\n",
              " 97.745,\n",
              " 119.0,\n",
              " 97.745,\n",
              " 95.495,\n",
              " 119.0,\n",
              " 97.745,\n",
              " 119.0,\n",
              " 119.0,\n",
              " 119.0,\n",
              " 119.0,\n",
              " 97.745,\n",
              " 97.745,\n",
              " 95.495,\n",
              " 95.495,\n",
              " 95.495,\n",
              " 119.0,\n",
              " 119.0,\n",
              " 95.495,\n",
              " 95.495,\n",
              " 119.0,\n",
              " 119.0,\n",
              " 95.495,\n",
              " 119.0,\n",
              " 119.0,\n",
              " 119.0,\n",
              " 119.0,\n",
              " 119.0,\n",
              " 97.745,\n",
              " 95.495,\n",
              " 119.0,\n",
              " 97.745,\n",
              " 119.0,\n",
              " 97.745,\n",
              " 95.495,\n",
              " 95.495,\n",
              " 119.0,\n",
              " 95.495,\n",
              " 119.0,\n",
              " 95.495,\n",
              " 119.0,\n",
              " 95.495,\n",
              " 94.99,\n",
              " 94.99,\n",
              " 94.99,\n",
              " 94.99,\n",
              " 94.99,\n",
              " 94.99,\n",
              " 94.99,\n",
              " 94.99,\n",
              " 117.49,\n",
              " 101.99,\n",
              " 109.99,\n",
              " 101.99,\n",
              " 119.99,\n",
              " 109.99,\n",
              " 117.49,\n",
              " 101.99,\n",
              " 117.49,\n",
              " 119.99,\n",
              " 109.99,\n",
              " 129.99,\n",
              " 129.99,\n",
              " 23.365,\n",
              " 23.365,\n",
              " 115.5,\n",
              " 140.25,\n",
              " 170.0,\n",
              " 140.25,\n",
              " 119.95,\n",
              " 119.95,\n",
              " 119.95,\n",
              " 94.955,\n",
              " 119.95,\n",
              " 119.95,\n",
              " 122.49,\n",
              " 109.33,\n",
              " 99.96,\n",
              " 99.96,\n",
              " 140.0,\n",
              " 140.0,\n",
              " 140.0,\n",
              " 110.96,\n",
              " 99.865,\n",
              " 103.565,\n",
              " 103.565,\n",
              " 99.865,\n",
              " 99.95,\n",
              " 99.95,\n",
              " 99.95,\n",
              " 99.95,\n",
              " 99.95,\n",
              " 129.95,\n",
              " 130.0,\n",
              " 130.0,\n",
              " 119.95,\n",
              " 119.95,\n",
              " 119.95,\n",
              " 119.95,\n",
              " 119.95,\n",
              " 179.95,\n",
              " 119.95,\n",
              " 119.95,\n",
              " 119.95,\n",
              " 119.95,\n",
              " 119.95,\n",
              " 119.95,\n",
              " 119.95,\n",
              " 129.95,\n",
              " 129.95,\n",
              " 359.95,\n",
              " 359.95,\n",
              " 359.95,\n",
              " 359.95,\n",
              " 149.95,\n",
              " 149.95,\n",
              " 131.205,\n",
              " 113.705,\n",
              " 129.95,\n",
              " 113.705,\n",
              " 129.95,\n",
              " 131.205,\n",
              " 129.95,\n",
              " 129.95,\n",
              " 131.205,\n",
              " 131.205,\n",
              " 289.95,\n",
              " 129.95,\n",
              " 129.95,\n",
              " 110.455,\n",
              " 129.95,\n",
              " 129.95,\n",
              " 129.95,\n",
              " 129.95,\n",
              " 129.95,\n",
              " 107.21,\n",
              " 129.95,\n",
              " 129.95,\n",
              " 129.95,\n",
              " 129.95,\n",
              " 119.96,\n",
              " 115.965,\n",
              " 115.965,\n",
              " 149.95,\n",
              " 149.95,\n",
              " 119.96,\n",
              " 115.965,\n",
              " 144.455,\n",
              " 144.455,\n",
              " 169.95,\n",
              " 129.95,\n",
              " 110.455,\n",
              " 110.455,\n",
              " 110.455,\n",
              " 107.21,\n",
              " 119.96,\n",
              " 119.96,\n",
              " 131.96,\n",
              " 119.96,\n",
              " 159.95,\n",
              " 159.95,\n",
              " 103.96,\n",
              " 113.705,\n",
              " 113.705,\n",
              " 129.95,\n",
              " 107.21,\n",
              " 107.21,\n",
              " 107.21,\n",
              " 116.21,\n",
              " 112.46,\n",
              " 112.46,\n",
              " 149.95,\n",
              " 116.21,\n",
              " 107.21,\n",
              " 107.21,\n",
              " 103.96,\n",
              " 103.96,\n",
              " 107.21,\n",
              " 103.96,\n",
              " 137.91,\n",
              " 133.46,\n",
              " 133.46,\n",
              " 118.955,\n",
              " 118.955,\n",
              " 118.955,\n",
              " 118.955,\n",
              " 126.36,\n",
              " 114.515,\n",
              " 119.99,\n",
              " 119.99,\n",
              " 100.74,\n",
              " 96.205,\n",
              " 96.205,\n",
              " 96.205,\n",
              " 96.205,\n",
              " 96.205,\n",
              " 96.205,\n",
              " 96.205,\n",
              " 99.95,\n",
              " 119.95,\n",
              " 99.95,\n",
              " 119.95,\n",
              " 99.95,\n",
              " 119.96,\n",
              " 122.455,\n",
              " 100.71,\n",
              " 104.955,\n",
              " 104.955,\n",
              " 127.96,\n",
              " 127.96,\n",
              " 99.95,\n",
              " 99.95,\n",
              " 99.95,\n",
              " 119.95,\n",
              " 119.95,\n",
              " 149.95,\n",
              " 119.95,\n",
              " 119.95,\n",
              " 149.95,\n",
              " 149.95,\n",
              " 119.95,\n",
              " 119.95,\n",
              " 119.95,\n",
              " 159.99,\n",
              " 119.95,\n",
              " 129.95,\n",
              " 159.99,\n",
              " 129.95,\n",
              " 119.95,\n",
              " 159.95,\n",
              " 107.95,\n",
              " 149.95,\n",
              " 139.95,\n",
              " 139.95,\n",
              " 160.0,\n",
              " 129.95,\n",
              " 138.95,\n",
              " 119.95,\n",
              " 99.95,\n",
              " 129.95,\n",
              " 129.95,\n",
              " 129.95,\n",
              " 99.95,\n",
              " 99.95,\n",
              " 129.95,\n",
              " 99.95,\n",
              " 109.95,\n",
              " 99.95,\n",
              " 99.95,\n",
              " 109.95,\n",
              " 99.95,\n",
              " 119.95,\n",
              " 119.95,\n",
              " 119.95,\n",
              " 157.95,\n",
              " 157.95,\n",
              " 157.95,\n",
              " 157.95,\n",
              " 157.95,\n",
              " 97.46,\n",
              " 130.0,\n",
              " 130.0,\n",
              " 119.95,\n",
              " 109.95,\n",
              " 109.95,\n",
              " 109.95,\n",
              " 109.95,\n",
              " 110.0,\n",
              " 110.0,\n",
              " 110.0,\n",
              " 110.0,\n",
              " 110.0,\n",
              " 110.0,\n",
              " 110.0,\n",
              " 110.0,\n",
              " 110.0,\n",
              " 110.0,\n",
              " 110.0,\n",
              " 103.085,\n",
              " 109.95,\n",
              " 109.95,\n",
              " 107.21,\n",
              " 94.215,\n",
              " 94.215,\n",
              " 165.0,\n",
              " 165.0,\n",
              " 165.0,\n",
              " 165.0,\n",
              " 120.0,\n",
              " 130.0,\n",
              " 130.0,\n",
              " 97.95,\n",
              " 97.95,\n",
              " 130.0,\n",
              " 97.95,\n",
              " 130.0,\n",
              " 97.95,\n",
              " 99.95,\n",
              " 99.95,\n",
              " 99.95,\n",
              " 99.95,\n",
              " 99.95,\n",
              " 178.0,\n",
              " 178.0,\n",
              " 98.96,\n",
              " 98.96,\n",
              " 98.96,\n",
              " 98.96,\n",
              " 98.96,\n",
              " 139.95,\n",
              " 139.95,\n",
              " 139.95,\n",
              " 159.95,\n",
              " 159.95,\n",
              " 149.95,\n",
              " 149.95,\n",
              " 129.95,\n",
              " 97.95,\n",
              " 97.95,\n",
              " 97.95,\n",
              " 97.95,\n",
              " 97.95,\n",
              " 97.95,\n",
              " 97.95,\n",
              " 109.95,\n",
              " 109.95,\n",
              " 99.95,\n",
              " 99.95,\n",
              " 99.95,\n",
              " 154.96,\n",
              " 144.965,\n",
              " 144.965,\n",
              " 144.965,\n",
              " 144.965,\n",
              " 144.965,\n",
              " 144.965,\n",
              " 104.955,\n",
              " 98.96,\n",
              " 96.71,\n",
              " 104.955]"
            ]
          },
          "metadata": {},
          "execution_count": 67
        }
      ]
    },
    {
      "cell_type": "markdown",
      "source": [
        "We will remove all the data price below $10 and over 1000 to reduce the variation"
      ],
      "metadata": {
        "id": "EwHlCsXrjcVK"
      }
    },
    {
      "cell_type": "code",
      "source": [
        "median = median = data.loc[(data['prices_amount']>low_lim)|(data['prices_amount']<up_lim), 'prices_amount'].median()\n",
        "data.loc[(data.prices_amount<low_lim)|(data.prices_amount>up_lim), 'prices_amount'] = np.nan\n",
        "data.fillna(median,inplace=True)"
      ],
      "metadata": {
        "id": "Sb3QaApleU-p"
      },
      "execution_count": 68,
      "outputs": []
    },
    {
      "cell_type": "code",
      "source": [
        "#Dectect and handling outliers\n",
        "plt.boxplot(data['prices_amount'])\n",
        "plt.title('Box plot of Price')"
      ],
      "metadata": {
        "id": "uh7Ixwv6eVBg",
        "colab": {
          "base_uri": "https://localhost:8080/",
          "height": 298
        },
        "outputId": "1888d401-809f-4a0a-ddb3-dca0502e69a8"
      },
      "execution_count": 69,
      "outputs": [
        {
          "output_type": "execute_result",
          "data": {
            "text/plain": [
              "Text(0.5, 1.0, 'Box plot of Price')"
            ]
          },
          "metadata": {},
          "execution_count": 69
        },
        {
          "output_type": "display_data",
          "data": {
            "image/png": "[encoded data removed]",
            "text/plain": [
              "<Figure size 432x288 with 1 Axes>"
            ]
          },
          "metadata": {
            "needs_background": "light"
          }
        }
      ]
    },
    {
      "cell_type": "code",
      "source": [
        "median = data['prices_amount'].median()\n",
        "data.loc[(data.prices_amount<low_lim)|(data.prices_amount>up_lim), 'prices_amount']=np.nan\n",
        "data.fillna(median,inplace=True)"
      ],
      "metadata": {
        "id": "Hh1vinyPeVEM"
      },
      "execution_count": 70,
      "outputs": []
    },
    {
      "cell_type": "code",
      "source": [
        "#Dectect and handling outliers\n",
        "plt.boxplot(data['prices_amount'])\n",
        "plt.title('Box plot of Price')"
      ],
      "metadata": {
        "id": "dINRjvqem0op",
        "colab": {
          "base_uri": "https://localhost:8080/",
          "height": 298
        },
        "outputId": "238c9930-6e8a-421a-e818-fd4f1702111d"
      },
      "execution_count": 71,
      "outputs": [
        {
          "output_type": "execute_result",
          "data": {
            "text/plain": [
              "Text(0.5, 1.0, 'Box plot of Price')"
            ]
          },
          "metadata": {},
          "execution_count": 71
        },
        {
          "output_type": "display_data",
          "data": {
            "image/png": "[encoded data removed]",
            "text/plain": [
              "<Figure size 432x288 with 1 Axes>"
            ]
          },
          "metadata": {
            "needs_background": "light"
          }
        }
      ]
    },
    {
      "cell_type": "markdown",
      "source": [
        "We removed outliers in the prices_amount column\n",
        "\n"
      ],
      "metadata": {
        "id": "Q-WRIj6nQ3aA"
      }
    },
    {
      "cell_type": "markdown",
      "source": [
        "**feature enginnering**"
      ],
      "metadata": {
        "id": "kqtn-mG8kUkg"
      }
    },
    {
      "cell_type": "code",
      "source": [
        "data['merchant'] = data['prices_sourceURLs'].apply(lambda x: x.split('www.')[1].split('/')[0])\n",
        "data['merchant'].value_counts()"
      ],
      "metadata": {
        "id": "OjaxEkwsEXcc",
        "colab": {
          "base_uri": "https://localhost:8080/"
        },
        "outputId": "6a0e30d8-ce63-4e35-fd59-a3c57c2800ee"
      },
      "execution_count": 72,
      "outputs": [
        {
          "output_type": "execute_result",
          "data": {
            "text/plain": [
              "kohls.com          9556\n",
              "backcountry.com     352\n",
              "walmart.com          82\n",
              "evo.com               8\n",
              "overstock.com         2\n",
              "Name: merchant, dtype: int64"
            ]
          },
          "metadata": {},
          "execution_count": 72
        }
      ]
    },
    {
      "cell_type": "markdown",
      "source": [
        "**feature reduction**"
      ],
      "metadata": {
        "id": "knV5CJxqka7M"
      }
    },
    {
      "cell_type": "code",
      "source": [
        "data.columns\n"
      ],
      "metadata": {
        "id": "E4vODWHqQ-Gj",
        "colab": {
          "base_uri": "https://localhost:8080/"
        },
        "outputId": "16392a53-9dae-4918-c87c-b72b0e84d3f7"
      },
      "execution_count": 74,
      "outputs": [
        {
          "output_type": "execute_result",
          "data": {
            "text/plain": [
              "Index(['id', 'dateAdded', 'dateUpdated', 'brand', 'categories',\n",
              "       'primaryCategories', 'imageURLs', 'keys', 'name', 'prices_amount',\n",
              "       'prices_color', 'prices_currency', 'prices_dateAdded',\n",
              "       'prices_dateSeen', 'prices_isSale', 'prices_size', 'prices_sourceURLs',\n",
              "       'sizes', 'sourceURLs', 'upc', 'merchant'],\n",
              "      dtype='object')"
            ]
          },
          "metadata": {},
          "execution_count": 74
        }
      ]
    },
    {
      "cell_type": "code",
      "source": [
        "data=data.drop(['id','imageURLs','keys','upc','sizes','dateAdded','dateUpdated','primaryCategories','prices_dateSeen','sourceURLs','prices_dateAdded','name','prices_sourceURLs'],axis=1)"
      ],
      "metadata": {
        "id": "QJE0aBvoQ-Jt"
      },
      "execution_count": 75,
      "outputs": []
    },
    {
      "cell_type": "markdown",
      "source": [
        "**Encoding**"
      ],
      "metadata": {
        "id": "NWr_g7Xaq5C6"
      }
    },
    {
      "cell_type": "markdown",
      "source": [
        "The next step in data preparation is label encoding. Our data set contain many categorical variables and the values are stored in text format. To convert these values text to numbers we use a technique called label encoding.Here we change the 'brand','colors','prices.merchant' columns values from words to numbers.\n",
        "\n",
        "Also changed the boolean values to 0 and 1 by simply changing their type to integer.\n"
      ],
      "metadata": {
        "id": "dPmiq8AFq9dM"
      }
    },
    {
      "cell_type": "code",
      "source": [
        "data.info()"
      ],
      "metadata": {
        "id": "B_ooB-olbUHf",
        "colab": {
          "base_uri": "https://localhost:8080/"
        },
        "outputId": "8eade219-e21e-4214-d727-0b089cf2e93c"
      },
      "execution_count": 76,
      "outputs": [
        {
          "output_type": "stream",
          "name": "stdout",
          "text": [
            "<class 'pandas.core.frame.DataFrame'>\n",
            "RangeIndex: 10000 entries, 0 to 9999\n",
            "Data columns (total 8 columns):\n",
            " #   Column           Non-Null Count  Dtype  \n",
            "---  ------           --------------  -----  \n",
            " 0   brand            10000 non-null  object \n",
            " 1   categories       10000 non-null  object \n",
            " 2   prices_amount    10000 non-null  float64\n",
            " 3   prices_color     10000 non-null  object \n",
            " 4   prices_currency  10000 non-null  object \n",
            " 5   prices_isSale    10000 non-null  bool   \n",
            " 6   prices_size      10000 non-null  object \n",
            " 7   merchant         10000 non-null  object \n",
            "dtypes: bool(1), float64(1), object(6)\n",
            "memory usage: 556.8+ KB\n"
          ]
        }
      ]
    },
    {
      "cell_type": "code",
      "source": [
        "from sklearn import preprocessing\n",
        "from sklearn.preprocessing import OneHotEncoder\n",
        "from sklearn.preprocessing import LabelEncoder"
      ],
      "metadata": {
        "id": "T153BkQ3bUKE"
      },
      "execution_count": 77,
      "outputs": []
    },
    {
      "cell_type": "code",
      "source": [
        "# Label encoding Of prices_isSale\n",
        "lb=LabelEncoder()\n",
        "data.prices_isSale=lb.fit_transform(data.prices_isSale)"
      ],
      "metadata": {
        "id": "HeC9_qlfbUMl"
      },
      "execution_count": 78,
      "outputs": []
    },
    {
      "cell_type": "code",
      "source": [
        "# label encoding of brand\n",
        "lb_brand = LabelEncoder()\n",
        "data['brand'] = lb_brand.fit_transform(data['brand'])"
      ],
      "metadata": {
        "id": "Vq9QOJyNr4Ah"
      },
      "execution_count": 79,
      "outputs": []
    },
    {
      "cell_type": "code",
      "source": [
        "# label encoding of prices_color\n",
        "lb_color = LabelEncoder()\n",
        "data['prices_color'] = lb_color.fit_transform(data['prices_color'])"
      ],
      "metadata": {
        "id": "4cYXEgiQtXXb"
      },
      "execution_count": 80,
      "outputs": []
    },
    {
      "cell_type": "code",
      "source": [
        "# label encoding of merchant\n",
        "lb_merchant = LabelEncoder()\n",
        "data['merchant'] = lb_brand.fit_transform(data['merchant'])"
      ],
      "metadata": {
        "id": "0PipN7nvt9m0"
      },
      "execution_count": 81,
      "outputs": []
    },
    {
      "cell_type": "code",
      "source": [
        "# One Hot encoding\n",
        "data=pd.get_dummies(data)"
      ],
      "metadata": {
        "id": "G8G_9LmkbUP6"
      },
      "execution_count": 82,
      "outputs": []
    },
    {
      "cell_type": "code",
      "source": [
        "data.head()"
      ],
      "metadata": {
        "id": "1OTNo1yRbUS2",
        "colab": {
          "base_uri": "https://localhost:8080/",
          "height": 351
        },
        "outputId": "22ba0929-0a59-41b3-fcc1-fec046b86273"
      },
      "execution_count": 83,
      "outputs": [
        {
          "output_type": "execute_result",
          "data": {
            "text/html": [
              "\n",
              "  <div id=\"df-7912533c-4c5e-4d03-9749-5f4e4e6267f0\">\n",
              "    <div class=\"colab-df-container\">\n",
              "      <div>\n",
              "<style scoped>\n",
              "    .dataframe tbody tr th:only-of-type {\n",
              "        vertical-align: middle;\n",
              "    }\n",
              "\n",
              "    .dataframe tbody tr th {\n",
              "        vertical-align: top;\n",
              "    }\n",
              "\n",
              "    .dataframe thead th {\n",
              "        text-align: right;\n",
              "    }\n",
              "</style>\n",
              "<table border=\"1\" class=\"dataframe\">\n",
              "  <thead>\n",
              "    <tr style=\"text-align: right;\">\n",
              "      <th></th>\n",
              "      <th>brand</th>\n",
              "      <th>prices_amount</th>\n",
              "      <th>prices_color</th>\n",
              "      <th>prices_isSale</th>\n",
              "      <th>merchant</th>\n",
              "      <th>categories_Clothing,Shoes,Baby &amp; Kids Shoes,Girls' Boots,Women's Shoes,All Women's Shoes,Girls' Shoes</th>\n",
              "      <th>categories_Clothing,Shoes,Men's Shoes,All Men's Shoes,Women's Slippers,Women's Shoes,All Women's Shoes</th>\n",
              "      <th>categories_Clothing,Shoes,Women's Shoes,All Women's Shoes</th>\n",
              "      <th>categories_Clothing,Shoes,Women's Shoes,All Women's Shoes,Boots,Mid-Calf Boots</th>\n",
              "      <th>categories_Clothing,Shoes,Women's Shoes,All Women's Shoes,Heels,Sandals</th>\n",
              "      <th>...</th>\n",
              "      <th>prices_size_US 10.5/UK 9.0</th>\n",
              "      <th>prices_size_US 11.0/UK 9.5</th>\n",
              "      <th>prices_size_US 6.0/UK 4.5</th>\n",
              "      <th>prices_size_US 6.5/UK 5.0</th>\n",
              "      <th>prices_size_US 7.0/UK 5.5</th>\n",
              "      <th>prices_size_US 7.5/UK 6.0</th>\n",
              "      <th>prices_size_US 8.0/UK 6.5</th>\n",
              "      <th>prices_size_US 8.5/UK 7.0</th>\n",
              "      <th>prices_size_US 9.0/UK 7.5</th>\n",
              "      <th>prices_size_US 9.5/UK 8.0</th>\n",
              "    </tr>\n",
              "  </thead>\n",
              "  <tbody>\n",
              "    <tr>\n",
              "      <th>0</th>\n",
              "      <td>44</td>\n",
              "      <td>55.990</td>\n",
              "      <td>505</td>\n",
              "      <td>0</td>\n",
              "      <td>3</td>\n",
              "      <td>0</td>\n",
              "      <td>0</td>\n",
              "      <td>0</td>\n",
              "      <td>0</td>\n",
              "      <td>1</td>\n",
              "      <td>...</td>\n",
              "      <td>0</td>\n",
              "      <td>0</td>\n",
              "      <td>0</td>\n",
              "      <td>0</td>\n",
              "      <td>0</td>\n",
              "      <td>0</td>\n",
              "      <td>0</td>\n",
              "      <td>0</td>\n",
              "      <td>0</td>\n",
              "      <td>0</td>\n",
              "    </tr>\n",
              "    <tr>\n",
              "      <th>1</th>\n",
              "      <td>39</td>\n",
              "      <td>41.125</td>\n",
              "      <td>281</td>\n",
              "      <td>1</td>\n",
              "      <td>4</td>\n",
              "      <td>0</td>\n",
              "      <td>0</td>\n",
              "      <td>0</td>\n",
              "      <td>0</td>\n",
              "      <td>0</td>\n",
              "      <td>...</td>\n",
              "      <td>0</td>\n",
              "      <td>0</td>\n",
              "      <td>0</td>\n",
              "      <td>0</td>\n",
              "      <td>0</td>\n",
              "      <td>0</td>\n",
              "      <td>0</td>\n",
              "      <td>0</td>\n",
              "      <td>0</td>\n",
              "      <td>0</td>\n",
              "    </tr>\n",
              "    <tr>\n",
              "      <th>2</th>\n",
              "      <td>39</td>\n",
              "      <td>35.250</td>\n",
              "      <td>281</td>\n",
              "      <td>0</td>\n",
              "      <td>4</td>\n",
              "      <td>0</td>\n",
              "      <td>0</td>\n",
              "      <td>0</td>\n",
              "      <td>0</td>\n",
              "      <td>0</td>\n",
              "      <td>...</td>\n",
              "      <td>0</td>\n",
              "      <td>0</td>\n",
              "      <td>0</td>\n",
              "      <td>0</td>\n",
              "      <td>0</td>\n",
              "      <td>0</td>\n",
              "      <td>0</td>\n",
              "      <td>0</td>\n",
              "      <td>0</td>\n",
              "      <td>0</td>\n",
              "    </tr>\n",
              "    <tr>\n",
              "      <th>3</th>\n",
              "      <td>39</td>\n",
              "      <td>24.750</td>\n",
              "      <td>24</td>\n",
              "      <td>0</td>\n",
              "      <td>4</td>\n",
              "      <td>0</td>\n",
              "      <td>0</td>\n",
              "      <td>0</td>\n",
              "      <td>0</td>\n",
              "      <td>0</td>\n",
              "      <td>...</td>\n",
              "      <td>0</td>\n",
              "      <td>0</td>\n",
              "      <td>0</td>\n",
              "      <td>0</td>\n",
              "      <td>0</td>\n",
              "      <td>0</td>\n",
              "      <td>0</td>\n",
              "      <td>0</td>\n",
              "      <td>0</td>\n",
              "      <td>0</td>\n",
              "    </tr>\n",
              "    <tr>\n",
              "      <th>4</th>\n",
              "      <td>39</td>\n",
              "      <td>31.695</td>\n",
              "      <td>281</td>\n",
              "      <td>1</td>\n",
              "      <td>4</td>\n",
              "      <td>0</td>\n",
              "      <td>0</td>\n",
              "      <td>0</td>\n",
              "      <td>0</td>\n",
              "      <td>0</td>\n",
              "      <td>...</td>\n",
              "      <td>0</td>\n",
              "      <td>0</td>\n",
              "      <td>0</td>\n",
              "      <td>0</td>\n",
              "      <td>0</td>\n",
              "      <td>0</td>\n",
              "      <td>0</td>\n",
              "      <td>0</td>\n",
              "      <td>0</td>\n",
              "      <td>0</td>\n",
              "    </tr>\n",
              "  </tbody>\n",
              "</table>\n",
              "<p>5 rows × 296 columns</p>\n",
              "</div>\n",
              "      <button class=\"colab-df-convert\" onclick=\"convertToInteractive('df-7912533c-4c5e-4d03-9749-5f4e4e6267f0')\"\n",
              "              title=\"Convert this dataframe to an interactive table.\"\n",
              "              style=\"display:none;\">\n",
              "        \n",
              "  <svg xmlns=\"http://www.w3.org/2000/svg\" height=\"24px\"viewBox=\"0 0 24 24\"\n",
              "       width=\"24px\">\n",
              "    <path d=\"M0 0h24v24H0V0z\" fill=\"none\"/>\n",
              "    <path d=\"M18.56 5.44l.94 2.06.94-2.06 2.06-.94-2.06-.94-.94-2.06-.94 2.06-2.06.94zm-11 1L8.5 8.5l.94-2.06 2.06-.94-2.06-.94L8.5 2.5l-.94 2.06-2.06.94zm10 10l.94 2.06.94-2.06 2.06-.94-2.06-.94-.94-2.06-.94 2.06-2.06.94z\"/><path d=\"M17.41 7.96l-1.37-1.37c-.4-.4-.92-.59-1.43-.59-.52 0-1.04.2-1.43.59L10.3 9.45l-7.72 7.72c-.78.78-.78 2.05 0 2.83L4 21.41c.39.39.9.59 1.41.59.51 0 1.02-.2 1.41-.59l7.78-7.78 2.81-2.81c.8-.78.8-2.07 0-2.86zM5.41 20L4 18.59l7.72-7.72 1.47 1.35L5.41 20z\"/>\n",
              "  </svg>\n",
              "      </button>\n",
              "      \n",
              "  <style>\n",
              "    .colab-df-container {\n",
              "      display:flex;\n",
              "      flex-wrap:wrap;\n",
              "      gap: 12px;\n",
              "    }\n",
              "\n",
              "    .colab-df-convert {\n",
              "      background-color: #E8F0FE;\n",
              "      border: none;\n",
              "      border-radius: 50%;\n",
              "      cursor: pointer;\n",
              "      display: none;\n",
              "      fill: #1967D2;\n",
              "      height: 32px;\n",
              "      padding: 0 0 0 0;\n",
              "      width: 32px;\n",
              "    }\n",
              "\n",
              "    .colab-df-convert:hover {\n",
              "      background-color: #E2EBFA;\n",
              "      box-shadow: 0px 1px 2px rgba(60, 64, 67, 0.3), 0px 1px 3px 1px rgba(60, 64, 67, 0.15);\n",
              "      fill: #174EA6;\n",
              "    }\n",
              "\n",
              "    [theme=dark] .colab-df-convert {\n",
              "      background-color: #3B4455;\n",
              "      fill: #D2E3FC;\n",
              "    }\n",
              "\n",
              "    [theme=dark] .colab-df-convert:hover {\n",
              "      background-color: #434B5C;\n",
              "      box-shadow: 0px 1px 3px 1px rgba(0, 0, 0, 0.15);\n",
              "      filter: drop-shadow(0px 1px 2px rgba(0, 0, 0, 0.3));\n",
              "      fill: #FFFFFF;\n",
              "    }\n",
              "  </style>\n",
              "\n",
              "      <script>\n",
              "        const buttonEl =\n",
              "          document.querySelector('#df-7912533c-4c5e-4d03-9749-5f4e4e6267f0 button.colab-df-convert');\n",
              "        buttonEl.style.display =\n",
              "          google.colab.kernel.accessAllowed ? 'block' : 'none';\n",
              "\n",
              "        async function convertToInteractive(key) {\n",
              "          const element = document.querySelector('#df-7912533c-4c5e-4d03-9749-5f4e4e6267f0');\n",
              "          const dataTable =\n",
              "            await google.colab.kernel.invokeFunction('convertToInteractive',\n",
              "                                                     [key], {});\n",
              "          if (!dataTable) return;\n",
              "\n",
              "          const docLinkHtml = 'Like what you see? Visit the ' +\n",
              "            '<a target=\"_blank\" href=https://colab.research.google.com/notebooks/data_table.ipynb>data table notebook</a>'\n",
              "            + ' to learn more about interactive tables.';\n",
              "          element.innerHTML = '';\n",
              "          dataTable['output_type'] = 'display_data';\n",
              "          await google.colab.output.renderOutput(dataTable, element);\n",
              "          const docLink = document.createElement('div');\n",
              "          docLink.innerHTML = docLinkHtml;\n",
              "          element.appendChild(docLink);\n",
              "        }\n",
              "      </script>\n",
              "    </div>\n",
              "  </div>\n",
              "  "
            ],
            "text/plain": [
              "   brand  prices_amount  prices_color  prices_isSale  merchant  \\\n",
              "0     44         55.990           505              0         3   \n",
              "1     39         41.125           281              1         4   \n",
              "2     39         35.250           281              0         4   \n",
              "3     39         24.750            24              0         4   \n",
              "4     39         31.695           281              1         4   \n",
              "\n",
              "   categories_Clothing,Shoes,Baby & Kids Shoes,Girls' Boots,Women's Shoes,All Women's Shoes,Girls' Shoes  \\\n",
              "0                                                  0                                                       \n",
              "1                                                  0                                                       \n",
              "2                                                  0                                                       \n",
              "3                                                  0                                                       \n",
              "4                                                  0                                                       \n",
              "\n",
              "   categories_Clothing,Shoes,Men's Shoes,All Men's Shoes,Women's Slippers,Women's Shoes,All Women's Shoes  \\\n",
              "0                                                  0                                                        \n",
              "1                                                  0                                                        \n",
              "2                                                  0                                                        \n",
              "3                                                  0                                                        \n",
              "4                                                  0                                                        \n",
              "\n",
              "   categories_Clothing,Shoes,Women's Shoes,All Women's Shoes  \\\n",
              "0                                                  0           \n",
              "1                                                  0           \n",
              "2                                                  0           \n",
              "3                                                  0           \n",
              "4                                                  0           \n",
              "\n",
              "   categories_Clothing,Shoes,Women's Shoes,All Women's Shoes,Boots,Mid-Calf Boots  \\\n",
              "0                                                  0                                \n",
              "1                                                  0                                \n",
              "2                                                  0                                \n",
              "3                                                  0                                \n",
              "4                                                  0                                \n",
              "\n",
              "   categories_Clothing,Shoes,Women's Shoes,All Women's Shoes,Heels,Sandals  \\\n",
              "0                                                  1                         \n",
              "1                                                  0                         \n",
              "2                                                  0                         \n",
              "3                                                  0                         \n",
              "4                                                  0                         \n",
              "\n",
              "   ...  prices_size_US 10.5/UK 9.0  prices_size_US 11.0/UK 9.5  \\\n",
              "0  ...                           0                           0   \n",
              "1  ...                           0                           0   \n",
              "2  ...                           0                           0   \n",
              "3  ...                           0                           0   \n",
              "4  ...                           0                           0   \n",
              "\n",
              "   prices_size_US 6.0/UK 4.5  prices_size_US 6.5/UK 5.0  \\\n",
              "0                          0                          0   \n",
              "1                          0                          0   \n",
              "2                          0                          0   \n",
              "3                          0                          0   \n",
              "4                          0                          0   \n",
              "\n",
              "   prices_size_US 7.0/UK 5.5  prices_size_US 7.5/UK 6.0  \\\n",
              "0                          0                          0   \n",
              "1                          0                          0   \n",
              "2                          0                          0   \n",
              "3                          0                          0   \n",
              "4                          0                          0   \n",
              "\n",
              "   prices_size_US 8.0/UK 6.5  prices_size_US 8.5/UK 7.0  \\\n",
              "0                          0                          0   \n",
              "1                          0                          0   \n",
              "2                          0                          0   \n",
              "3                          0                          0   \n",
              "4                          0                          0   \n",
              "\n",
              "   prices_size_US 9.0/UK 7.5  prices_size_US 9.5/UK 8.0  \n",
              "0                          0                          0  \n",
              "1                          0                          0  \n",
              "2                          0                          0  \n",
              "3                          0                          0  \n",
              "4                          0                          0  \n",
              "\n",
              "[5 rows x 296 columns]"
            ]
          },
          "metadata": {},
          "execution_count": 83
        }
      ]
    },
    {
      "cell_type": "code",
      "source": [
        "data.shape"
      ],
      "metadata": {
        "id": "WjKYNTGJ8w-t",
        "colab": {
          "base_uri": "https://localhost:8080/"
        },
        "outputId": "1c967132-ddbd-4611-cac5-6063cc2e8815"
      },
      "execution_count": 84,
      "outputs": [
        {
          "output_type": "execute_result",
          "data": {
            "text/plain": [
              "(10000, 296)"
            ]
          },
          "metadata": {},
          "execution_count": 84
        }
      ]
    },
    {
      "cell_type": "markdown",
      "source": [
        "**Standardization**"
      ],
      "metadata": {
        "id": "lb1XK9A4kK-u"
      }
    },
    {
      "cell_type": "code",
      "source": [
        "from sklearn.preprocessing import StandardScaler\n",
        "scaler=StandardScaler()\n",
        "data =scaler.fit_transform(data)\n",
        "data = pd.DataFrame(data)\n",
        "data.describe()"
      ],
      "metadata": {
        "id": "1CvrLsRr9BuS",
        "colab": {
          "base_uri": "https://localhost:8080/",
          "height": 480
        },
        "outputId": "3e7d7caa-cb4a-49d3-cfa3-1e46cb076012"
      },
      "execution_count": 85,
      "outputs": [
        {
          "output_type": "execute_result",
          "data": {
            "text/html": [
              "\n",
              "  <div id=\"df-7c7caf0b-3221-4581-bf92-0d0073f3ca3c\">\n",
              "    <div class=\"colab-df-container\">\n",
              "      <div>\n",
              "<style scoped>\n",
              "    .dataframe tbody tr th:only-of-type {\n",
              "        vertical-align: middle;\n",
              "    }\n",
              "\n",
              "    .dataframe tbody tr th {\n",
              "        vertical-align: top;\n",
              "    }\n",
              "\n",
              "    .dataframe thead th {\n",
              "        text-align: right;\n",
              "    }\n",
              "</style>\n",
              "<table border=\"1\" class=\"dataframe\">\n",
              "  <thead>\n",
              "    <tr style=\"text-align: right;\">\n",
              "      <th></th>\n",
              "      <th>0</th>\n",
              "      <th>1</th>\n",
              "      <th>2</th>\n",
              "      <th>3</th>\n",
              "      <th>4</th>\n",
              "      <th>5</th>\n",
              "      <th>6</th>\n",
              "      <th>7</th>\n",
              "      <th>8</th>\n",
              "      <th>9</th>\n",
              "      <th>...</th>\n",
              "      <th>286</th>\n",
              "      <th>287</th>\n",
              "      <th>288</th>\n",
              "      <th>289</th>\n",
              "      <th>290</th>\n",
              "      <th>291</th>\n",
              "      <th>292</th>\n",
              "      <th>293</th>\n",
              "      <th>294</th>\n",
              "      <th>295</th>\n",
              "    </tr>\n",
              "  </thead>\n",
              "  <tbody>\n",
              "    <tr>\n",
              "      <th>count</th>\n",
              "      <td>1.000000e+04</td>\n",
              "      <td>1.000000e+04</td>\n",
              "      <td>1.000000e+04</td>\n",
              "      <td>1.000000e+04</td>\n",
              "      <td>1.000000e+04</td>\n",
              "      <td>1.000000e+04</td>\n",
              "      <td>1.000000e+04</td>\n",
              "      <td>1.000000e+04</td>\n",
              "      <td>1.000000e+04</td>\n",
              "      <td>1.000000e+04</td>\n",
              "      <td>...</td>\n",
              "      <td>1.000000e+04</td>\n",
              "      <td>1.000000e+04</td>\n",
              "      <td>1.000000e+04</td>\n",
              "      <td>1.000000e+04</td>\n",
              "      <td>1.000000e+04</td>\n",
              "      <td>1.000000e+04</td>\n",
              "      <td>1.000000e+04</td>\n",
              "      <td>1.000000e+04</td>\n",
              "      <td>1.000000e+04</td>\n",
              "      <td>1.000000e+04</td>\n",
              "    </tr>\n",
              "    <tr>\n",
              "      <th>mean</th>\n",
              "      <td>1.501816e-14</td>\n",
              "      <td>5.579359e-15</td>\n",
              "      <td>-1.125033e-15</td>\n",
              "      <td>-8.814105e-15</td>\n",
              "      <td>-3.529657e-14</td>\n",
              "      <td>-1.997906e-15</td>\n",
              "      <td>-1.992222e-15</td>\n",
              "      <td>7.744845e-15</td>\n",
              "      <td>-2.003591e-15</td>\n",
              "      <td>-2.057592e-15</td>\n",
              "      <td>...</td>\n",
              "      <td>-1.971662e-15</td>\n",
              "      <td>1.619282e-15</td>\n",
              "      <td>3.536804e-15</td>\n",
              "      <td>3.561673e-15</td>\n",
              "      <td>3.538225e-15</td>\n",
              "      <td>-1.820094e-15</td>\n",
              "      <td>3.599332e-15</td>\n",
              "      <td>3.560252e-15</td>\n",
              "      <td>1.545874e-15</td>\n",
              "      <td>6.375012e-15</td>\n",
              "    </tr>\n",
              "    <tr>\n",
              "      <th>std</th>\n",
              "      <td>1.000050e+00</td>\n",
              "      <td>1.000050e+00</td>\n",
              "      <td>1.000050e+00</td>\n",
              "      <td>1.000050e+00</td>\n",
              "      <td>1.000050e+00</td>\n",
              "      <td>1.000050e+00</td>\n",
              "      <td>1.000050e+00</td>\n",
              "      <td>1.000050e+00</td>\n",
              "      <td>1.000050e+00</td>\n",
              "      <td>1.000050e+00</td>\n",
              "      <td>...</td>\n",
              "      <td>1.000050e+00</td>\n",
              "      <td>1.000050e+00</td>\n",
              "      <td>1.000050e+00</td>\n",
              "      <td>1.000050e+00</td>\n",
              "      <td>1.000050e+00</td>\n",
              "      <td>1.000050e+00</td>\n",
              "      <td>1.000050e+00</td>\n",
              "      <td>1.000050e+00</td>\n",
              "      <td>1.000050e+00</td>\n",
              "      <td>1.000050e+00</td>\n",
              "    </tr>\n",
              "    <tr>\n",
              "      <th>min</th>\n",
              "      <td>-3.968877e+00</td>\n",
              "      <td>-2.783305e+00</td>\n",
              "      <td>-1.434425e+00</td>\n",
              "      <td>-1.315066e-01</td>\n",
              "      <td>-4.695982e+00</td>\n",
              "      <td>-1.000050e-02</td>\n",
              "      <td>-1.000050e-02</td>\n",
              "      <td>-6.010829e-02</td>\n",
              "      <td>-1.000050e-02</td>\n",
              "      <td>-1.000050e-02</td>\n",
              "      <td>...</td>\n",
              "      <td>-1.000050e-02</td>\n",
              "      <td>-2.000400e-02</td>\n",
              "      <td>-1.414355e-02</td>\n",
              "      <td>-1.414355e-02</td>\n",
              "      <td>-1.414355e-02</td>\n",
              "      <td>-1.732311e-02</td>\n",
              "      <td>-1.414355e-02</td>\n",
              "      <td>-1.414355e-02</td>\n",
              "      <td>-2.000400e-02</td>\n",
              "      <td>-2.450225e-02</td>\n",
              "    </tr>\n",
              "    <tr>\n",
              "      <th>25%</th>\n",
              "      <td>-3.130572e-01</td>\n",
              "      <td>-6.454326e-01</td>\n",
              "      <td>-1.043742e+00</td>\n",
              "      <td>-1.315066e-01</td>\n",
              "      <td>1.317984e-01</td>\n",
              "      <td>-1.000050e-02</td>\n",
              "      <td>-1.000050e-02</td>\n",
              "      <td>-6.010829e-02</td>\n",
              "      <td>-1.000050e-02</td>\n",
              "      <td>-1.000050e-02</td>\n",
              "      <td>...</td>\n",
              "      <td>-1.000050e-02</td>\n",
              "      <td>-2.000400e-02</td>\n",
              "      <td>-1.414355e-02</td>\n",
              "      <td>-1.414355e-02</td>\n",
              "      <td>-1.414355e-02</td>\n",
              "      <td>-1.732311e-02</td>\n",
              "      <td>-1.414355e-02</td>\n",
              "      <td>-1.414355e-02</td>\n",
              "      <td>-2.000400e-02</td>\n",
              "      <td>-2.450225e-02</td>\n",
              "    </tr>\n",
              "    <tr>\n",
              "      <th>50%</th>\n",
              "      <td>1.120381e-01</td>\n",
              "      <td>-8.362923e-02</td>\n",
              "      <td>-3.830818e-02</td>\n",
              "      <td>-1.315066e-01</td>\n",
              "      <td>1.317984e-01</td>\n",
              "      <td>-1.000050e-02</td>\n",
              "      <td>-1.000050e-02</td>\n",
              "      <td>-6.010829e-02</td>\n",
              "      <td>-1.000050e-02</td>\n",
              "      <td>-1.000050e-02</td>\n",
              "      <td>...</td>\n",
              "      <td>-1.000050e-02</td>\n",
              "      <td>-2.000400e-02</td>\n",
              "      <td>-1.414355e-02</td>\n",
              "      <td>-1.414355e-02</td>\n",
              "      <td>-1.414355e-02</td>\n",
              "      <td>-1.732311e-02</td>\n",
              "      <td>-1.414355e-02</td>\n",
              "      <td>-1.414355e-02</td>\n",
              "      <td>-2.000400e-02</td>\n",
              "      <td>-2.450225e-02</td>\n",
              "    </tr>\n",
              "    <tr>\n",
              "      <th>75%</th>\n",
              "      <td>5.371334e-01</td>\n",
              "      <td>5.785399e-01</td>\n",
              "      <td>8.579642e-01</td>\n",
              "      <td>-1.315066e-01</td>\n",
              "      <td>1.317984e-01</td>\n",
              "      <td>-1.000050e-02</td>\n",
              "      <td>-1.000050e-02</td>\n",
              "      <td>-6.010829e-02</td>\n",
              "      <td>-1.000050e-02</td>\n",
              "      <td>-1.000050e-02</td>\n",
              "      <td>...</td>\n",
              "      <td>-1.000050e-02</td>\n",
              "      <td>-2.000400e-02</td>\n",
              "      <td>-1.414355e-02</td>\n",
              "      <td>-1.414355e-02</td>\n",
              "      <td>-1.414355e-02</td>\n",
              "      <td>-1.732311e-02</td>\n",
              "      <td>-1.414355e-02</td>\n",
              "      <td>-1.414355e-02</td>\n",
              "      <td>-2.000400e-02</td>\n",
              "      <td>-2.450225e-02</td>\n",
              "    </tr>\n",
              "    <tr>\n",
              "      <th>max</th>\n",
              "      <td>1.472343e+00</td>\n",
              "      <td>2.901232e+00</td>\n",
              "      <td>1.702529e+00</td>\n",
              "      <td>7.604178e+00</td>\n",
              "      <td>4.959579e+00</td>\n",
              "      <td>9.999500e+01</td>\n",
              "      <td>9.999500e+01</td>\n",
              "      <td>1.663664e+01</td>\n",
              "      <td>9.999500e+01</td>\n",
              "      <td>9.999500e+01</td>\n",
              "      <td>...</td>\n",
              "      <td>9.999500e+01</td>\n",
              "      <td>4.999000e+01</td>\n",
              "      <td>7.070361e+01</td>\n",
              "      <td>7.070361e+01</td>\n",
              "      <td>7.070361e+01</td>\n",
              "      <td>5.772637e+01</td>\n",
              "      <td>7.070361e+01</td>\n",
              "      <td>7.070361e+01</td>\n",
              "      <td>4.999000e+01</td>\n",
              "      <td>4.081258e+01</td>\n",
              "    </tr>\n",
              "  </tbody>\n",
              "</table>\n",
              "<p>8 rows × 296 columns</p>\n",
              "</div>\n",
              "      <button class=\"colab-df-convert\" onclick=\"convertToInteractive('df-7c7caf0b-3221-4581-bf92-0d0073f3ca3c')\"\n",
              "              title=\"Convert this dataframe to an interactive table.\"\n",
              "              style=\"display:none;\">\n",
              "        \n",
              "  <svg xmlns=\"http://www.w3.org/2000/svg\" height=\"24px\"viewBox=\"0 0 24 24\"\n",
              "       width=\"24px\">\n",
              "    <path d=\"M0 0h24v24H0V0z\" fill=\"none\"/>\n",
              "    <path d=\"M18.56 5.44l.94 2.06.94-2.06 2.06-.94-2.06-.94-.94-2.06-.94 2.06-2.06.94zm-11 1L8.5 8.5l.94-2.06 2.06-.94-2.06-.94L8.5 2.5l-.94 2.06-2.06.94zm10 10l.94 2.06.94-2.06 2.06-.94-2.06-.94-.94-2.06-.94 2.06-2.06.94z\"/><path d=\"M17.41 7.96l-1.37-1.37c-.4-.4-.92-.59-1.43-.59-.52 0-1.04.2-1.43.59L10.3 9.45l-7.72 7.72c-.78.78-.78 2.05 0 2.83L4 21.41c.39.39.9.59 1.41.59.51 0 1.02-.2 1.41-.59l7.78-7.78 2.81-2.81c.8-.78.8-2.07 0-2.86zM5.41 20L4 18.59l7.72-7.72 1.47 1.35L5.41 20z\"/>\n",
              "  </svg>\n",
              "      </button>\n",
              "      \n",
              "  <style>\n",
              "    .colab-df-container {\n",
              "      display:flex;\n",
              "      flex-wrap:wrap;\n",
              "      gap: 12px;\n",
              "    }\n",
              "\n",
              "    .colab-df-convert {\n",
              "      background-color: #E8F0FE;\n",
              "      border: none;\n",
              "      border-radius: 50%;\n",
              "      cursor: pointer;\n",
              "      display: none;\n",
              "      fill: #1967D2;\n",
              "      height: 32px;\n",
              "      padding: 0 0 0 0;\n",
              "      width: 32px;\n",
              "    }\n",
              "\n",
              "    .colab-df-convert:hover {\n",
              "      background-color: #E2EBFA;\n",
              "      box-shadow: 0px 1px 2px rgba(60, 64, 67, 0.3), 0px 1px 3px 1px rgba(60, 64, 67, 0.15);\n",
              "      fill: #174EA6;\n",
              "    }\n",
              "\n",
              "    [theme=dark] .colab-df-convert {\n",
              "      background-color: #3B4455;\n",
              "      fill: #D2E3FC;\n",
              "    }\n",
              "\n",
              "    [theme=dark] .colab-df-convert:hover {\n",
              "      background-color: #434B5C;\n",
              "      box-shadow: 0px 1px 3px 1px rgba(0, 0, 0, 0.15);\n",
              "      filter: drop-shadow(0px 1px 2px rgba(0, 0, 0, 0.3));\n",
              "      fill: #FFFFFF;\n",
              "    }\n",
              "  </style>\n",
              "\n",
              "      <script>\n",
              "        const buttonEl =\n",
              "          document.querySelector('#df-7c7caf0b-3221-4581-bf92-0d0073f3ca3c button.colab-df-convert');\n",
              "        buttonEl.style.display =\n",
              "          google.colab.kernel.accessAllowed ? 'block' : 'none';\n",
              "\n",
              "        async function convertToInteractive(key) {\n",
              "          const element = document.querySelector('#df-7c7caf0b-3221-4581-bf92-0d0073f3ca3c');\n",
              "          const dataTable =\n",
              "            await google.colab.kernel.invokeFunction('convertToInteractive',\n",
              "                                                     [key], {});\n",
              "          if (!dataTable) return;\n",
              "\n",
              "          const docLinkHtml = 'Like what you see? Visit the ' +\n",
              "            '<a target=\"_blank\" href=https://colab.research.google.com/notebooks/data_table.ipynb>data table notebook</a>'\n",
              "            + ' to learn more about interactive tables.';\n",
              "          element.innerHTML = '';\n",
              "          dataTable['output_type'] = 'display_data';\n",
              "          await google.colab.output.renderOutput(dataTable, element);\n",
              "          const docLink = document.createElement('div');\n",
              "          docLink.innerHTML = docLinkHtml;\n",
              "          element.appendChild(docLink);\n",
              "        }\n",
              "      </script>\n",
              "    </div>\n",
              "  </div>\n",
              "  "
            ],
            "text/plain": [
              "                0             1             2             3             4    \\\n",
              "count  1.000000e+04  1.000000e+04  1.000000e+04  1.000000e+04  1.000000e+04   \n",
              "mean   1.501816e-14  5.579359e-15 -1.125033e-15 -8.814105e-15 -3.529657e-14   \n",
              "std    1.000050e+00  1.000050e+00  1.000050e+00  1.000050e+00  1.000050e+00   \n",
              "min   -3.968877e+00 -2.783305e+00 -1.434425e+00 -1.315066e-01 -4.695982e+00   \n",
              "25%   -3.130572e-01 -6.454326e-01 -1.043742e+00 -1.315066e-01  1.317984e-01   \n",
              "50%    1.120381e-01 -8.362923e-02 -3.830818e-02 -1.315066e-01  1.317984e-01   \n",
              "75%    5.371334e-01  5.785399e-01  8.579642e-01 -1.315066e-01  1.317984e-01   \n",
              "max    1.472343e+00  2.901232e+00  1.702529e+00  7.604178e+00  4.959579e+00   \n",
              "\n",
              "                5             6             7             8             9    \\\n",
              "count  1.000000e+04  1.000000e+04  1.000000e+04  1.000000e+04  1.000000e+04   \n",
              "mean  -1.997906e-15 -1.992222e-15  7.744845e-15 -2.003591e-15 -2.057592e-15   \n",
              "std    1.000050e+00  1.000050e+00  1.000050e+00  1.000050e+00  1.000050e+00   \n",
              "min   -1.000050e-02 -1.000050e-02 -6.010829e-02 -1.000050e-02 -1.000050e-02   \n",
              "25%   -1.000050e-02 -1.000050e-02 -6.010829e-02 -1.000050e-02 -1.000050e-02   \n",
              "50%   -1.000050e-02 -1.000050e-02 -6.010829e-02 -1.000050e-02 -1.000050e-02   \n",
              "75%   -1.000050e-02 -1.000050e-02 -6.010829e-02 -1.000050e-02 -1.000050e-02   \n",
              "max    9.999500e+01  9.999500e+01  1.663664e+01  9.999500e+01  9.999500e+01   \n",
              "\n",
              "       ...           286           287           288           289  \\\n",
              "count  ...  1.000000e+04  1.000000e+04  1.000000e+04  1.000000e+04   \n",
              "mean   ... -1.971662e-15  1.619282e-15  3.536804e-15  3.561673e-15   \n",
              "std    ...  1.000050e+00  1.000050e+00  1.000050e+00  1.000050e+00   \n",
              "min    ... -1.000050e-02 -2.000400e-02 -1.414355e-02 -1.414355e-02   \n",
              "25%    ... -1.000050e-02 -2.000400e-02 -1.414355e-02 -1.414355e-02   \n",
              "50%    ... -1.000050e-02 -2.000400e-02 -1.414355e-02 -1.414355e-02   \n",
              "75%    ... -1.000050e-02 -2.000400e-02 -1.414355e-02 -1.414355e-02   \n",
              "max    ...  9.999500e+01  4.999000e+01  7.070361e+01  7.070361e+01   \n",
              "\n",
              "                290           291           292           293           294  \\\n",
              "count  1.000000e+04  1.000000e+04  1.000000e+04  1.000000e+04  1.000000e+04   \n",
              "mean   3.538225e-15 -1.820094e-15  3.599332e-15  3.560252e-15  1.545874e-15   \n",
              "std    1.000050e+00  1.000050e+00  1.000050e+00  1.000050e+00  1.000050e+00   \n",
              "min   -1.414355e-02 -1.732311e-02 -1.414355e-02 -1.414355e-02 -2.000400e-02   \n",
              "25%   -1.414355e-02 -1.732311e-02 -1.414355e-02 -1.414355e-02 -2.000400e-02   \n",
              "50%   -1.414355e-02 -1.732311e-02 -1.414355e-02 -1.414355e-02 -2.000400e-02   \n",
              "75%   -1.414355e-02 -1.732311e-02 -1.414355e-02 -1.414355e-02 -2.000400e-02   \n",
              "max    7.070361e+01  5.772637e+01  7.070361e+01  7.070361e+01  4.999000e+01   \n",
              "\n",
              "                295  \n",
              "count  1.000000e+04  \n",
              "mean   6.375012e-15  \n",
              "std    1.000050e+00  \n",
              "min   -2.450225e-02  \n",
              "25%   -2.450225e-02  \n",
              "50%   -2.450225e-02  \n",
              "75%   -2.450225e-02  \n",
              "max    4.081258e+01  \n",
              "\n",
              "[8 rows x 296 columns]"
            ]
          },
          "metadata": {},
          "execution_count": 85
        }
      ]
    },
    {
      "cell_type": "code",
      "source": [
        ""
      ],
      "metadata": {
        "id": "Pmtq090Y9B7g"
      },
      "execution_count": 85,
      "outputs": []
    },
    {
      "cell_type": "code",
      "source": [
        ""
      ],
      "metadata": {
        "id": "wqcdBEmv9B-0"
      },
      "execution_count": 85,
      "outputs": []
    }
  ],
  "metadata": {
    "colab": {
      "collapsed_sections": [],
      "name": "Main Project.ipynb",
      "provenance": []
    },
    "kernelspec": {
      "display_name": "Python 3",
      "name": "python3"
    },
    "language_info": {
      "name": "python"
    }
  },
  "nbformat": 4,
  "nbformat_minor": 0
}
