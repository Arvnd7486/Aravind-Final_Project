{
  "cells": [
    {
      "cell_type": "code",
      "execution_count": null,
      "metadata": {
        "id": "b2c025ca"
      },
      "outputs": [],
      "source": [
        "import numpy as np\n",
        "import pandas as pd\n",
        "import matplotlib.pyplot as plt\n",
        "import seaborn as sns"
      ],
      "id": "b2c025ca"
    },
    {
      "cell_type": "code",
      "execution_count": null,
      "metadata": {
        "id": "72090241"
      },
      "outputs": [],
      "source": [
        "df = pd.read_csv('/content/Datafiniti_Womens_Shoes(1).csv')"
      ],
      "id": "72090241"
    },
    {
      "cell_type": "code",
      "execution_count": null,
      "metadata": {
        "id": "096c48e8",
        "scrolled": true,
        "colab": {
          "base_uri": "https://localhost:8080/",
          "height": 473
        },
        "outputId": "a8e4a038-fdf3-483c-e39a-15860ce2adfc"
      },
      "outputs": [
        {
          "output_type": "execute_result",
          "data": {
            "text/plain": [
              "                     id             dateAdded           dateUpdated asins  \\\n",
              "0  AVpfEf_hLJeJML431ueH  2015-05-04T12:13:08Z  2018-01-29T04:38:43Z   NaN   \n",
              "1  AVpi74XfLJeJML43qZAc  2017-01-27T01:23:39Z  2018-01-03T05:21:54Z   NaN   \n",
              "2  AVpi74XfLJeJML43qZAc  2017-01-27T01:23:39Z  2018-01-03T05:21:54Z   NaN   \n",
              "3  AVpjXyCc1cnluZ0-V-Gj  2017-01-27T01:25:56Z  2018-01-04T11:52:35Z   NaN   \n",
              "4  AVphGKLPilAPnD_x1Nrm  2017-01-27T01:25:56Z  2018-01-18T03:55:18Z   NaN   \n",
              "\n",
              "         brand                                         categories  \\\n",
              "0  Naturalizer  Clothing,Shoes,Women's Shoes,All Women's Shoes...   \n",
              "1     MUK LUKS  Clothing,Shoes,Women's Shoes,Women's Casual Sh...   \n",
              "2     MUK LUKS  Clothing,Shoes,Women's Shoes,Women's Casual Sh...   \n",
              "3     MUK LUKS  Clothing,Shoes,Women's Shoes,All Women's Shoes...   \n",
              "4     MUK LUKS  Clothing,Shoes,Women's Shoes,All Women's Shoes...   \n",
              "\n",
              "  primaryCategories                          colors                 dimension  \\\n",
              "0             Shoes  Silver,Cream Watercolor Floral                       NaN   \n",
              "1             Shoes                            Grey                       NaN   \n",
              "2             Shoes                            Grey                       NaN   \n",
              "3       Shoes,Shoes                           Black  6.0 in x 6.0 in x 1.0 in   \n",
              "4             Shoes                            Grey  6.0 in x 6.0 in x 1.0 in   \n",
              "\n",
              "            ean  ...   prices.merchant prices.offer prices.returnPolicy  \\\n",
              "0           NaN  ...     Overstock.com          NaN                 NaN   \n",
              "1  3.397705e+10  ...       Walmart.com          NaN                 NaN   \n",
              "2  3.397705e+10  ...  Slippers Dot Com          NaN                 NaN   \n",
              "3  3.397705e+10  ...  Slippers Dot Com          NaN                 NaN   \n",
              "4  3.397705e+10  ...       Walmart.com          NaN                 NaN   \n",
              "\n",
              "  prices.shipping prices.size  \\\n",
              "0             NaN           S   \n",
              "1        Standard           6   \n",
              "2           Value           6   \n",
              "3           Value           6   \n",
              "4       Expedited           6   \n",
              "\n",
              "                                   prices.sourceURLs  \\\n",
              "0  https://www.overstock.com/Clothing-Shoes/Women...   \n",
              "1  https://www.walmart.com/ip/MUK-LUKS-Womens-Jan...   \n",
              "2  https://www.walmart.com/ip/MUK-LUKS-Womens-Jan...   \n",
              "3  https://www.walmart.com/ip/MUK-LUKS-Womens-Daw...   \n",
              "4  https://www.walmart.com/ip/MUK-LUKS-Womens-Daw...   \n",
              "\n",
              "                                               sizes  \\\n",
              "0  6W,9W,7.5W,12W,8.5M,9N,9M,9.5M,10.5M,10W,8.5W,...   \n",
              "1                                         10,7,6,9,8   \n",
              "2                                         10,7,6,9,8   \n",
              "3                                         10,7,6,9,8   \n",
              "4                                         10,7,6,9,8   \n",
              "\n",
              "                                          sourceURLs           upc weight  \n",
              "0  https://www.walmart.com/ip/Naturalizer-Danya-W...  017136472311    NaN  \n",
              "1  https://www.walmart.com/ip/MUK-LUKS-Womens-Jan...  033977045743    NaN  \n",
              "2  https://www.walmart.com/ip/MUK-LUKS-Womens-Jan...  033977045743    NaN  \n",
              "3  https://www.walmart.com/ip/MUK-LUKS-Womens-Daw...  033977045903    NaN  \n",
              "4  https://www.walmart.com/ip/MUK-LUKS-Womens-Daw...  033977045958    NaN  \n",
              "\n",
              "[5 rows x 34 columns]"
            ],
            "text/html": [
              "\n",
              "  <div id=\"df-f031e9f2-31dd-4a5b-aa28-d1ee646622b2\">\n",
              "    <div class=\"colab-df-container\">\n",
              "      <div>\n",
              "<style scoped>\n",
              "    .dataframe tbody tr th:only-of-type {\n",
              "        vertical-align: middle;\n",
              "    }\n",
              "\n",
              "    .dataframe tbody tr th {\n",
              "        vertical-align: top;\n",
              "    }\n",
              "\n",
              "    .dataframe thead th {\n",
              "        text-align: right;\n",
              "    }\n",
              "</style>\n",
              "<table border=\"1\" class=\"dataframe\">\n",
              "  <thead>\n",
              "    <tr style=\"text-align: right;\">\n",
              "      <th></th>\n",
              "      <th>id</th>\n",
              "      <th>dateAdded</th>\n",
              "      <th>dateUpdated</th>\n",
              "      <th>asins</th>\n",
              "      <th>brand</th>\n",
              "      <th>categories</th>\n",
              "      <th>primaryCategories</th>\n",
              "      <th>colors</th>\n",
              "      <th>dimension</th>\n",
              "      <th>ean</th>\n",
              "      <th>...</th>\n",
              "      <th>prices.merchant</th>\n",
              "      <th>prices.offer</th>\n",
              "      <th>prices.returnPolicy</th>\n",
              "      <th>prices.shipping</th>\n",
              "      <th>prices.size</th>\n",
              "      <th>prices.sourceURLs</th>\n",
              "      <th>sizes</th>\n",
              "      <th>sourceURLs</th>\n",
              "      <th>upc</th>\n",
              "      <th>weight</th>\n",
              "    </tr>\n",
              "  </thead>\n",
              "  <tbody>\n",
              "    <tr>\n",
              "      <th>0</th>\n",
              "      <td>AVpfEf_hLJeJML431ueH</td>\n",
              "      <td>2015-05-04T12:13:08Z</td>\n",
              "      <td>2018-01-29T04:38:43Z</td>\n",
              "      <td>NaN</td>\n",
              "      <td>Naturalizer</td>\n",
              "      <td>Clothing,Shoes,Women's Shoes,All Women's Shoes...</td>\n",
              "      <td>Shoes</td>\n",
              "      <td>Silver,Cream Watercolor Floral</td>\n",
              "      <td>NaN</td>\n",
              "      <td>NaN</td>\n",
              "      <td>...</td>\n",
              "      <td>Overstock.com</td>\n",
              "      <td>NaN</td>\n",
              "      <td>NaN</td>\n",
              "      <td>NaN</td>\n",
              "      <td>S</td>\n",
              "      <td>https://www.overstock.com/Clothing-Shoes/Women...</td>\n",
              "      <td>6W,9W,7.5W,12W,8.5M,9N,9M,9.5M,10.5M,10W,8.5W,...</td>\n",
              "      <td>https://www.walmart.com/ip/Naturalizer-Danya-W...</td>\n",
              "      <td>017136472311</td>\n",
              "      <td>NaN</td>\n",
              "    </tr>\n",
              "    <tr>\n",
              "      <th>1</th>\n",
              "      <td>AVpi74XfLJeJML43qZAc</td>\n",
              "      <td>2017-01-27T01:23:39Z</td>\n",
              "      <td>2018-01-03T05:21:54Z</td>\n",
              "      <td>NaN</td>\n",
              "      <td>MUK LUKS</td>\n",
              "      <td>Clothing,Shoes,Women's Shoes,Women's Casual Sh...</td>\n",
              "      <td>Shoes</td>\n",
              "      <td>Grey</td>\n",
              "      <td>NaN</td>\n",
              "      <td>3.397705e+10</td>\n",
              "      <td>...</td>\n",
              "      <td>Walmart.com</td>\n",
              "      <td>NaN</td>\n",
              "      <td>NaN</td>\n",
              "      <td>Standard</td>\n",
              "      <td>6</td>\n",
              "      <td>https://www.walmart.com/ip/MUK-LUKS-Womens-Jan...</td>\n",
              "      <td>10,7,6,9,8</td>\n",
              "      <td>https://www.walmart.com/ip/MUK-LUKS-Womens-Jan...</td>\n",
              "      <td>033977045743</td>\n",
              "      <td>NaN</td>\n",
              "    </tr>\n",
              "    <tr>\n",
              "      <th>2</th>\n",
              "      <td>AVpi74XfLJeJML43qZAc</td>\n",
              "      <td>2017-01-27T01:23:39Z</td>\n",
              "      <td>2018-01-03T05:21:54Z</td>\n",
              "      <td>NaN</td>\n",
              "      <td>MUK LUKS</td>\n",
              "      <td>Clothing,Shoes,Women's Shoes,Women's Casual Sh...</td>\n",
              "      <td>Shoes</td>\n",
              "      <td>Grey</td>\n",
              "      <td>NaN</td>\n",
              "      <td>3.397705e+10</td>\n",
              "      <td>...</td>\n",
              "      <td>Slippers Dot Com</td>\n",
              "      <td>NaN</td>\n",
              "      <td>NaN</td>\n",
              "      <td>Value</td>\n",
              "      <td>6</td>\n",
              "      <td>https://www.walmart.com/ip/MUK-LUKS-Womens-Jan...</td>\n",
              "      <td>10,7,6,9,8</td>\n",
              "      <td>https://www.walmart.com/ip/MUK-LUKS-Womens-Jan...</td>\n",
              "      <td>033977045743</td>\n",
              "      <td>NaN</td>\n",
              "    </tr>\n",
              "    <tr>\n",
              "      <th>3</th>\n",
              "      <td>AVpjXyCc1cnluZ0-V-Gj</td>\n",
              "      <td>2017-01-27T01:25:56Z</td>\n",
              "      <td>2018-01-04T11:52:35Z</td>\n",
              "      <td>NaN</td>\n",
              "      <td>MUK LUKS</td>\n",
              "      <td>Clothing,Shoes,Women's Shoes,All Women's Shoes...</td>\n",
              "      <td>Shoes,Shoes</td>\n",
              "      <td>Black</td>\n",
              "      <td>6.0 in x 6.0 in x 1.0 in</td>\n",
              "      <td>3.397705e+10</td>\n",
              "      <td>...</td>\n",
              "      <td>Slippers Dot Com</td>\n",
              "      <td>NaN</td>\n",
              "      <td>NaN</td>\n",
              "      <td>Value</td>\n",
              "      <td>6</td>\n",
              "      <td>https://www.walmart.com/ip/MUK-LUKS-Womens-Daw...</td>\n",
              "      <td>10,7,6,9,8</td>\n",
              "      <td>https://www.walmart.com/ip/MUK-LUKS-Womens-Daw...</td>\n",
              "      <td>033977045903</td>\n",
              "      <td>NaN</td>\n",
              "    </tr>\n",
              "    <tr>\n",
              "      <th>4</th>\n",
              "      <td>AVphGKLPilAPnD_x1Nrm</td>\n",
              "      <td>2017-01-27T01:25:56Z</td>\n",
              "      <td>2018-01-18T03:55:18Z</td>\n",
              "      <td>NaN</td>\n",
              "      <td>MUK LUKS</td>\n",
              "      <td>Clothing,Shoes,Women's Shoes,All Women's Shoes...</td>\n",
              "      <td>Shoes</td>\n",
              "      <td>Grey</td>\n",
              "      <td>6.0 in x 6.0 in x 1.0 in</td>\n",
              "      <td>3.397705e+10</td>\n",
              "      <td>...</td>\n",
              "      <td>Walmart.com</td>\n",
              "      <td>NaN</td>\n",
              "      <td>NaN</td>\n",
              "      <td>Expedited</td>\n",
              "      <td>6</td>\n",
              "      <td>https://www.walmart.com/ip/MUK-LUKS-Womens-Daw...</td>\n",
              "      <td>10,7,6,9,8</td>\n",
              "      <td>https://www.walmart.com/ip/MUK-LUKS-Womens-Daw...</td>\n",
              "      <td>033977045958</td>\n",
              "      <td>NaN</td>\n",
              "    </tr>\n",
              "  </tbody>\n",
              "</table>\n",
              "<p>5 rows × 34 columns</p>\n",
              "</div>\n",
              "      <button class=\"colab-df-convert\" onclick=\"convertToInteractive('df-f031e9f2-31dd-4a5b-aa28-d1ee646622b2')\"\n",
              "              title=\"Convert this dataframe to an interactive table.\"\n",
              "              style=\"display:none;\">\n",
              "        \n",
              "  <svg xmlns=\"http://www.w3.org/2000/svg\" height=\"24px\"viewBox=\"0 0 24 24\"\n",
              "       width=\"24px\">\n",
              "    <path d=\"M0 0h24v24H0V0z\" fill=\"none\"/>\n",
              "    <path d=\"M18.56 5.44l.94 2.06.94-2.06 2.06-.94-2.06-.94-.94-2.06-.94 2.06-2.06.94zm-11 1L8.5 8.5l.94-2.06 2.06-.94-2.06-.94L8.5 2.5l-.94 2.06-2.06.94zm10 10l.94 2.06.94-2.06 2.06-.94-2.06-.94-.94-2.06-.94 2.06-2.06.94z\"/><path d=\"M17.41 7.96l-1.37-1.37c-.4-.4-.92-.59-1.43-.59-.52 0-1.04.2-1.43.59L10.3 9.45l-7.72 7.72c-.78.78-.78 2.05 0 2.83L4 21.41c.39.39.9.59 1.41.59.51 0 1.02-.2 1.41-.59l7.78-7.78 2.81-2.81c.8-.78.8-2.07 0-2.86zM5.41 20L4 18.59l7.72-7.72 1.47 1.35L5.41 20z\"/>\n",
              "  </svg>\n",
              "      </button>\n",
              "      \n",
              "  <style>\n",
              "    .colab-df-container {\n",
              "      display:flex;\n",
              "      flex-wrap:wrap;\n",
              "      gap: 12px;\n",
              "    }\n",
              "\n",
              "    .colab-df-convert {\n",
              "      background-color: #E8F0FE;\n",
              "      border: none;\n",
              "      border-radius: 50%;\n",
              "      cursor: pointer;\n",
              "      display: none;\n",
              "      fill: #1967D2;\n",
              "      height: 32px;\n",
              "      padding: 0 0 0 0;\n",
              "      width: 32px;\n",
              "    }\n",
              "\n",
              "    .colab-df-convert:hover {\n",
              "      background-color: #E2EBFA;\n",
              "      box-shadow: 0px 1px 2px rgba(60, 64, 67, 0.3), 0px 1px 3px 1px rgba(60, 64, 67, 0.15);\n",
              "      fill: #174EA6;\n",
              "    }\n",
              "\n",
              "    [theme=dark] .colab-df-convert {\n",
              "      background-color: #3B4455;\n",
              "      fill: #D2E3FC;\n",
              "    }\n",
              "\n",
              "    [theme=dark] .colab-df-convert:hover {\n",
              "      background-color: #434B5C;\n",
              "      box-shadow: 0px 1px 3px 1px rgba(0, 0, 0, 0.15);\n",
              "      filter: drop-shadow(0px 1px 2px rgba(0, 0, 0, 0.3));\n",
              "      fill: #FFFFFF;\n",
              "    }\n",
              "  </style>\n",
              "\n",
              "      <script>\n",
              "        const buttonEl =\n",
              "          document.querySelector('#df-f031e9f2-31dd-4a5b-aa28-d1ee646622b2 button.colab-df-convert');\n",
              "        buttonEl.style.display =\n",
              "          google.colab.kernel.accessAllowed ? 'block' : 'none';\n",
              "\n",
              "        async function convertToInteractive(key) {\n",
              "          const element = document.querySelector('#df-f031e9f2-31dd-4a5b-aa28-d1ee646622b2');\n",
              "          const dataTable =\n",
              "            await google.colab.kernel.invokeFunction('convertToInteractive',\n",
              "                                                     [key], {});\n",
              "          if (!dataTable) return;\n",
              "\n",
              "          const docLinkHtml = 'Like what you see? Visit the ' +\n",
              "            '<a target=\"_blank\" href=https://colab.research.google.com/notebooks/data_table.ipynb>data table notebook</a>'\n",
              "            + ' to learn more about interactive tables.';\n",
              "          element.innerHTML = '';\n",
              "          dataTable['output_type'] = 'display_data';\n",
              "          await google.colab.output.renderOutput(dataTable, element);\n",
              "          const docLink = document.createElement('div');\n",
              "          docLink.innerHTML = docLinkHtml;\n",
              "          element.appendChild(docLink);\n",
              "        }\n",
              "      </script>\n",
              "    </div>\n",
              "  </div>\n",
              "  "
            ]
          },
          "metadata": {},
          "execution_count": 3
        }
      ],
      "source": [
        "df.head()"
      ],
      "id": "096c48e8"
    },
    {
      "cell_type": "code",
      "execution_count": null,
      "metadata": {
        "id": "766df273",
        "colab": {
          "base_uri": "https://localhost:8080/"
        },
        "outputId": "b0f03179-2b88-4d93-f7bf-6624609f8452"
      },
      "outputs": [
        {
          "output_type": "execute_result",
          "data": {
            "text/plain": [
              "(10000, 34)"
            ]
          },
          "metadata": {},
          "execution_count": 4
        }
      ],
      "source": [
        "df.shape"
      ],
      "id": "766df273"
    },
    {
      "cell_type": "code",
      "execution_count": null,
      "metadata": {
        "id": "5d998a24",
        "colab": {
          "base_uri": "https://localhost:8080/"
        },
        "outputId": "d6d62b02-8c58-4948-9019-0f8bada84f51"
      },
      "outputs": [
        {
          "output_type": "stream",
          "name": "stdout",
          "text": [
            "<class 'pandas.core.frame.DataFrame'>\n",
            "RangeIndex: 10000 entries, 0 to 9999\n",
            "Data columns (total 34 columns):\n",
            " #   Column               Non-Null Count  Dtype  \n",
            "---  ------               --------------  -----  \n",
            " 0   id                   10000 non-null  object \n",
            " 1   dateAdded            10000 non-null  object \n",
            " 2   dateUpdated          10000 non-null  object \n",
            " 3   asins                3 non-null      object \n",
            " 4   brand                10000 non-null  object \n",
            " 5   categories           10000 non-null  object \n",
            " 6   primaryCategories    10000 non-null  object \n",
            " 7   colors               2631 non-null   object \n",
            " 8   dimension            117 non-null    object \n",
            " 9   ean                  671 non-null    float64\n",
            " 10  imageURLs            10000 non-null  object \n",
            " 11  keys                 10000 non-null  object \n",
            " 12  manufacturer         527 non-null    object \n",
            " 13  manufacturerNumber   2482 non-null   object \n",
            " 14  name                 10000 non-null  object \n",
            " 15  prices.amountMax     10000 non-null  float64\n",
            " 16  prices.amountMin     10000 non-null  float64\n",
            " 17  prices.availability  434 non-null    object \n",
            " 18  prices.color         10000 non-null  object \n",
            " 19  prices.condition     438 non-null    object \n",
            " 20  prices.currency      10000 non-null  object \n",
            " 21  prices.dateAdded     9223 non-null   object \n",
            " 22  prices.dateSeen      10000 non-null  object \n",
            " 23  prices.isSale        10000 non-null  bool   \n",
            " 24  prices.merchant      435 non-null    object \n",
            " 25  prices.offer         121 non-null    object \n",
            " 26  prices.returnPolicy  0 non-null      float64\n",
            " 27  prices.shipping      412 non-null    object \n",
            " 28  prices.size          10000 non-null  object \n",
            " 29  prices.sourceURLs    10000 non-null  object \n",
            " 30  sizes                10000 non-null  object \n",
            " 31  sourceURLs           10000 non-null  object \n",
            " 32  upc                  9640 non-null   object \n",
            " 33  weight               299 non-null    object \n",
            "dtypes: bool(1), float64(4), object(29)\n",
            "memory usage: 2.5+ MB\n"
          ]
        }
      ],
      "source": [
        "df.info()"
      ],
      "id": "5d998a24"
    },
    {
      "cell_type": "code",
      "execution_count": null,
      "metadata": {
        "id": "976b72da",
        "colab": {
          "base_uri": "https://localhost:8080/"
        },
        "outputId": "30da07ad-e05f-47ec-b20a-70bfee220333"
      },
      "outputs": [
        {
          "output_type": "execute_result",
          "data": {
            "text/plain": [
              "Index(['id', 'dateAdded', 'dateUpdated', 'asins', 'brand', 'categories',\n",
              "       'primaryCategories', 'colors', 'dimension', 'ean', 'imageURLs', 'keys',\n",
              "       'manufacturer', 'manufacturerNumber', 'name', 'prices.amountMax',\n",
              "       'prices.amountMin', 'prices.availability', 'prices.color',\n",
              "       'prices.condition', 'prices.currency', 'prices.dateAdded',\n",
              "       'prices.dateSeen', 'prices.isSale', 'prices.merchant', 'prices.offer',\n",
              "       'prices.returnPolicy', 'prices.shipping', 'prices.size',\n",
              "       'prices.sourceURLs', 'sizes', 'sourceURLs', 'upc', 'weight'],\n",
              "      dtype='object')"
            ]
          },
          "metadata": {},
          "execution_count": 6
        }
      ],
      "source": [
        "df.columns"
      ],
      "id": "976b72da"
    },
    {
      "cell_type": "markdown",
      "metadata": {
        "id": "c6f45d72"
      },
      "source": [
        "## Data Preprocessing"
      ],
      "id": "c6f45d72"
    },
    {
      "cell_type": "code",
      "execution_count": null,
      "metadata": {
        "id": "15829694",
        "colab": {
          "base_uri": "https://localhost:8080/"
        },
        "outputId": "0398ff83-65e4-431e-e1ba-2cfdebfbce2d"
      },
      "outputs": [
        {
          "output_type": "execute_result",
          "data": {
            "text/plain": [
              "Index(['id', 'dateadded', 'dateupdated', 'asins', 'brand', 'categories',\n",
              "       'primarycategories', 'colors', 'dimension', 'ean', 'imageurls', 'keys',\n",
              "       'manufacturer', 'manufacturernumber', 'name', 'prices.amountmax',\n",
              "       'prices.amountmin', 'prices.availability', 'prices.color',\n",
              "       'prices.condition', 'prices.currency', 'prices.dateadded',\n",
              "       'prices.dateseen', 'prices.issale', 'prices.merchant', 'prices.offer',\n",
              "       'prices.returnpolicy', 'prices.shipping', 'prices.size',\n",
              "       'prices.sourceurls', 'sizes', 'sourceurls', 'upc', 'weight'],\n",
              "      dtype='object')"
            ]
          },
          "metadata": {},
          "execution_count": 7
        }
      ],
      "source": [
        "# Converting every column name to lowercase\n",
        "df.columns = map(str.lower, df.columns)\n",
        "df.columns"
      ],
      "id": "15829694"
    },
    {
      "cell_type": "code",
      "execution_count": null,
      "metadata": {
        "id": "b83ae90c",
        "colab": {
          "base_uri": "https://localhost:8080/"
        },
        "outputId": "2c162836-c7a2-4177-c669-dd79da2a2c4d"
      },
      "outputs": [
        {
          "output_type": "execute_result",
          "data": {
            "text/plain": [
              "id                         0\n",
              "dateadded                  0\n",
              "dateupdated                0\n",
              "asins                   9997\n",
              "brand                      0\n",
              "categories                 0\n",
              "primarycategories          0\n",
              "colors                  7369\n",
              "dimension               9883\n",
              "ean                     9329\n",
              "imageurls                  0\n",
              "keys                       0\n",
              "manufacturer            9473\n",
              "manufacturernumber      7518\n",
              "name                       0\n",
              "prices.amountmax           0\n",
              "prices.amountmin           0\n",
              "prices.availability     9566\n",
              "prices.color               0\n",
              "prices.condition        9562\n",
              "prices.currency            0\n",
              "prices.dateadded         777\n",
              "prices.dateseen            0\n",
              "prices.issale              0\n",
              "prices.merchant         9565\n",
              "prices.offer            9879\n",
              "prices.returnpolicy    10000\n",
              "prices.shipping         9588\n",
              "prices.size                0\n",
              "prices.sourceurls          0\n",
              "sizes                      0\n",
              "sourceurls                 0\n",
              "upc                      360\n",
              "weight                  9701\n",
              "dtype: int64"
            ]
          },
          "metadata": {},
          "execution_count": 8
        }
      ],
      "source": [
        "df.isna().sum()"
      ],
      "id": "b83ae90c"
    },
    {
      "cell_type": "code",
      "execution_count": null,
      "metadata": {
        "id": "6a7884fb",
        "colab": {
          "base_uri": "https://localhost:8080/",
          "height": 206
        },
        "outputId": "1628e5ed-e7b4-45bb-ee23-1d48c2d809a6"
      },
      "outputs": [
        {
          "output_type": "execute_result",
          "data": {
            "text/plain": [
              "             num_nulls  ratio_of_null\n",
              "id                   0         0.0000\n",
              "dateadded            0         0.0000\n",
              "dateupdated          0         0.0000\n",
              "asins             9997         0.9997\n",
              "brand                0         0.0000"
            ],
            "text/html": [
              "\n",
              "  <div id=\"df-f07c38be-c3cc-4962-82f6-a1f9ebe43da4\">\n",
              "    <div class=\"colab-df-container\">\n",
              "      <div>\n",
              "<style scoped>\n",
              "    .dataframe tbody tr th:only-of-type {\n",
              "        vertical-align: middle;\n",
              "    }\n",
              "\n",
              "    .dataframe tbody tr th {\n",
              "        vertical-align: top;\n",
              "    }\n",
              "\n",
              "    .dataframe thead th {\n",
              "        text-align: right;\n",
              "    }\n",
              "</style>\n",
              "<table border=\"1\" class=\"dataframe\">\n",
              "  <thead>\n",
              "    <tr style=\"text-align: right;\">\n",
              "      <th></th>\n",
              "      <th>num_nulls</th>\n",
              "      <th>ratio_of_null</th>\n",
              "    </tr>\n",
              "  </thead>\n",
              "  <tbody>\n",
              "    <tr>\n",
              "      <th>id</th>\n",
              "      <td>0</td>\n",
              "      <td>0.0000</td>\n",
              "    </tr>\n",
              "    <tr>\n",
              "      <th>dateadded</th>\n",
              "      <td>0</td>\n",
              "      <td>0.0000</td>\n",
              "    </tr>\n",
              "    <tr>\n",
              "      <th>dateupdated</th>\n",
              "      <td>0</td>\n",
              "      <td>0.0000</td>\n",
              "    </tr>\n",
              "    <tr>\n",
              "      <th>asins</th>\n",
              "      <td>9997</td>\n",
              "      <td>0.9997</td>\n",
              "    </tr>\n",
              "    <tr>\n",
              "      <th>brand</th>\n",
              "      <td>0</td>\n",
              "      <td>0.0000</td>\n",
              "    </tr>\n",
              "  </tbody>\n",
              "</table>\n",
              "</div>\n",
              "      <button class=\"colab-df-convert\" onclick=\"convertToInteractive('df-f07c38be-c3cc-4962-82f6-a1f9ebe43da4')\"\n",
              "              title=\"Convert this dataframe to an interactive table.\"\n",
              "              style=\"display:none;\">\n",
              "        \n",
              "  <svg xmlns=\"http://www.w3.org/2000/svg\" height=\"24px\"viewBox=\"0 0 24 24\"\n",
              "       width=\"24px\">\n",
              "    <path d=\"M0 0h24v24H0V0z\" fill=\"none\"/>\n",
              "    <path d=\"M18.56 5.44l.94 2.06.94-2.06 2.06-.94-2.06-.94-.94-2.06-.94 2.06-2.06.94zm-11 1L8.5 8.5l.94-2.06 2.06-.94-2.06-.94L8.5 2.5l-.94 2.06-2.06.94zm10 10l.94 2.06.94-2.06 2.06-.94-2.06-.94-.94-2.06-.94 2.06-2.06.94z\"/><path d=\"M17.41 7.96l-1.37-1.37c-.4-.4-.92-.59-1.43-.59-.52 0-1.04.2-1.43.59L10.3 9.45l-7.72 7.72c-.78.78-.78 2.05 0 2.83L4 21.41c.39.39.9.59 1.41.59.51 0 1.02-.2 1.41-.59l7.78-7.78 2.81-2.81c.8-.78.8-2.07 0-2.86zM5.41 20L4 18.59l7.72-7.72 1.47 1.35L5.41 20z\"/>\n",
              "  </svg>\n",
              "      </button>\n",
              "      \n",
              "  <style>\n",
              "    .colab-df-container {\n",
              "      display:flex;\n",
              "      flex-wrap:wrap;\n",
              "      gap: 12px;\n",
              "    }\n",
              "\n",
              "    .colab-df-convert {\n",
              "      background-color: #E8F0FE;\n",
              "      border: none;\n",
              "      border-radius: 50%;\n",
              "      cursor: pointer;\n",
              "      display: none;\n",
              "      fill: #1967D2;\n",
              "      height: 32px;\n",
              "      padding: 0 0 0 0;\n",
              "      width: 32px;\n",
              "    }\n",
              "\n",
              "    .colab-df-convert:hover {\n",
              "      background-color: #E2EBFA;\n",
              "      box-shadow: 0px 1px 2px rgba(60, 64, 67, 0.3), 0px 1px 3px 1px rgba(60, 64, 67, 0.15);\n",
              "      fill: #174EA6;\n",
              "    }\n",
              "\n",
              "    [theme=dark] .colab-df-convert {\n",
              "      background-color: #3B4455;\n",
              "      fill: #D2E3FC;\n",
              "    }\n",
              "\n",
              "    [theme=dark] .colab-df-convert:hover {\n",
              "      background-color: #434B5C;\n",
              "      box-shadow: 0px 1px 3px 1px rgba(0, 0, 0, 0.15);\n",
              "      filter: drop-shadow(0px 1px 2px rgba(0, 0, 0, 0.3));\n",
              "      fill: #FFFFFF;\n",
              "    }\n",
              "  </style>\n",
              "\n",
              "      <script>\n",
              "        const buttonEl =\n",
              "          document.querySelector('#df-f07c38be-c3cc-4962-82f6-a1f9ebe43da4 button.colab-df-convert');\n",
              "        buttonEl.style.display =\n",
              "          google.colab.kernel.accessAllowed ? 'block' : 'none';\n",
              "\n",
              "        async function convertToInteractive(key) {\n",
              "          const element = document.querySelector('#df-f07c38be-c3cc-4962-82f6-a1f9ebe43da4');\n",
              "          const dataTable =\n",
              "            await google.colab.kernel.invokeFunction('convertToInteractive',\n",
              "                                                     [key], {});\n",
              "          if (!dataTable) return;\n",
              "\n",
              "          const docLinkHtml = 'Like what you see? Visit the ' +\n",
              "            '<a target=\"_blank\" href=https://colab.research.google.com/notebooks/data_table.ipynb>data table notebook</a>'\n",
              "            + ' to learn more about interactive tables.';\n",
              "          element.innerHTML = '';\n",
              "          dataTable['output_type'] = 'display_data';\n",
              "          await google.colab.output.renderOutput(dataTable, element);\n",
              "          const docLink = document.createElement('div');\n",
              "          docLink.innerHTML = docLinkHtml;\n",
              "          element.appendChild(docLink);\n",
              "        }\n",
              "      </script>\n",
              "    </div>\n",
              "  </div>\n",
              "  "
            ]
          },
          "metadata": {},
          "execution_count": 9
        }
      ],
      "source": [
        "# The ratio of null values\n",
        "df_null_table = pd.DataFrame(df.isnull().sum(axis=0),columns=['num_nulls'])\n",
        "df_null_table['ratio_of_null'] = df_null_table['num_nulls']/df.shape[0]\n",
        "df_null_table.head()"
      ],
      "id": "6a7884fb"
    },
    {
      "cell_type": "markdown",
      "metadata": {
        "id": "eb41f496"
      },
      "source": [
        "We are going to remove all the columns that have more than 50% null values"
      ],
      "id": "eb41f496"
    },
    {
      "cell_type": "code",
      "execution_count": null,
      "metadata": {
        "id": "2a53a363",
        "colab": {
          "base_uri": "https://localhost:8080/"
        },
        "outputId": "47229916-69f3-49ec-d6f6-730301b2b658"
      },
      "outputs": [
        {
          "output_type": "execute_result",
          "data": {
            "text/plain": [
              "Index(['asins', 'colors', 'dimension', 'ean', 'manufacturer',\n",
              "       'manufacturernumber', 'prices.availability', 'prices.condition',\n",
              "       'prices.merchant', 'prices.offer', 'prices.returnpolicy',\n",
              "       'prices.shipping', 'weight'],\n",
              "      dtype='object')"
            ]
          },
          "metadata": {},
          "execution_count": 10
        }
      ],
      "source": [
        "col_to_remove = df_null_table[df_null_table['ratio_of_null']>0.5].index\n",
        "col_to_remove"
      ],
      "id": "2a53a363"
    },
    {
      "cell_type": "code",
      "execution_count": null,
      "metadata": {
        "id": "92731f2f"
      },
      "outputs": [],
      "source": [
        "df_after_removal = df[[col for col in df.columns if col not in col_to_remove]]"
      ],
      "id": "92731f2f"
    },
    {
      "cell_type": "code",
      "execution_count": null,
      "metadata": {
        "id": "d87d8d0e",
        "colab": {
          "base_uri": "https://localhost:8080/"
        },
        "outputId": "74772748-d79e-4856-d23d-0994c362094c"
      },
      "outputs": [
        {
          "output_type": "stream",
          "name": "stdout",
          "text": [
            "The data shape before (10000, 34) and after removal (10000, 21)\n"
          ]
        }
      ],
      "source": [
        "print(f\"The data shape before {df.shape} and after removal {df_after_removal.shape}\")"
      ],
      "id": "d87d8d0e"
    },
    {
      "cell_type": "markdown",
      "metadata": {
        "id": "0e52360a"
      },
      "source": [
        "## Dealing with the other null values"
      ],
      "id": "0e52360a"
    },
    {
      "cell_type": "code",
      "execution_count": null,
      "metadata": {
        "id": "05b53600"
      },
      "outputs": [],
      "source": [
        "df = df_after_removal"
      ],
      "id": "05b53600"
    },
    {
      "cell_type": "code",
      "execution_count": null,
      "metadata": {
        "id": "915fcd03",
        "colab": {
          "base_uri": "https://localhost:8080/"
        },
        "outputId": "720d996f-619c-413f-878c-0c511cc10e4f"
      },
      "outputs": [
        {
          "output_type": "execute_result",
          "data": {
            "text/plain": [
              "id                     0\n",
              "dateadded              0\n",
              "dateupdated            0\n",
              "brand                  0\n",
              "categories             0\n",
              "primarycategories      0\n",
              "imageurls              0\n",
              "keys                   0\n",
              "name                   0\n",
              "prices.amountmax       0\n",
              "prices.amountmin       0\n",
              "prices.color           0\n",
              "prices.currency        0\n",
              "prices.dateadded     777\n",
              "prices.dateseen        0\n",
              "prices.issale          0\n",
              "prices.size            0\n",
              "prices.sourceurls      0\n",
              "sizes                  0\n",
              "sourceurls             0\n",
              "upc                  360\n",
              "dtype: int64"
            ]
          },
          "metadata": {},
          "execution_count": 14
        }
      ],
      "source": [
        "df.isna().sum()"
      ],
      "id": "915fcd03"
    },
    {
      "cell_type": "code",
      "execution_count": null,
      "metadata": {
        "id": "ec6df93f"
      },
      "outputs": [],
      "source": [
        "for item in ['prices.dateadded','upc']:\n",
        "    df[item] = df[item].fillna(df[item].mode()[0])"
      ],
      "id": "ec6df93f"
    },
    {
      "cell_type": "code",
      "execution_count": null,
      "metadata": {
        "id": "41e2add8",
        "colab": {
          "base_uri": "https://localhost:8080/"
        },
        "outputId": "bbd309d6-e40c-4a33-fdce-1754a0150214"
      },
      "outputs": [
        {
          "output_type": "execute_result",
          "data": {
            "text/plain": [
              "id                   0\n",
              "dateadded            0\n",
              "dateupdated          0\n",
              "brand                0\n",
              "categories           0\n",
              "primarycategories    0\n",
              "imageurls            0\n",
              "keys                 0\n",
              "name                 0\n",
              "prices.amountmax     0\n",
              "prices.amountmin     0\n",
              "prices.color         0\n",
              "prices.currency      0\n",
              "prices.dateadded     0\n",
              "prices.dateseen      0\n",
              "prices.issale        0\n",
              "prices.size          0\n",
              "prices.sourceurls    0\n",
              "sizes                0\n",
              "sourceurls           0\n",
              "upc                  0\n",
              "dtype: int64"
            ]
          },
          "metadata": {},
          "execution_count": 16
        }
      ],
      "source": [
        "df.isna().sum()"
      ],
      "id": "41e2add8"
    },
    {
      "cell_type": "markdown",
      "metadata": {
        "id": "a051ab3d"
      },
      "source": [
        "### creating a new column"
      ],
      "id": "a051ab3d"
    },
    {
      "cell_type": "code",
      "execution_count": null,
      "metadata": {
        "id": "092e09f1"
      },
      "outputs": [],
      "source": [
        "#Let's create a new column call prices.amountavg by taking the average of prices.amountmax and prices.amountmin\n",
        "df['prices.amountavg'] = (df['prices.amountmin'] + df['prices.amountmax'])/2"
      ],
      "id": "092e09f1"
    },
    {
      "cell_type": "code",
      "execution_count": null,
      "metadata": {
        "id": "8f3628d8",
        "colab": {
          "base_uri": "https://localhost:8080/",
          "height": 363
        },
        "outputId": "a28b6fd3-40ef-441c-e649-4487e398a769"
      },
      "outputs": [
        {
          "output_type": "execute_result",
          "data": {
            "text/plain": [
              "   prices.amountmin  prices.amountmax  prices.amountavg\n",
              "0             55.99             55.99            55.990\n",
              "1             35.25             47.00            41.125\n",
              "2             35.25             35.25            35.250\n",
              "3             24.75             24.75            24.750\n",
              "4             30.39             33.00            31.695\n",
              "5              7.90             14.00            10.950\n",
              "6             12.79             24.00            18.395\n",
              "7             12.79             24.00            18.395\n",
              "8             39.88             59.00            49.440\n",
              "9             47.99             59.00            53.495"
            ],
            "text/html": [
              "\n",
              "  <div id=\"df-dcc69312-a814-4e7a-a00f-e2b017ba976d\">\n",
              "    <div class=\"colab-df-container\">\n",
              "      <div>\n",
              "<style scoped>\n",
              "    .dataframe tbody tr th:only-of-type {\n",
              "        vertical-align: middle;\n",
              "    }\n",
              "\n",
              "    .dataframe tbody tr th {\n",
              "        vertical-align: top;\n",
              "    }\n",
              "\n",
              "    .dataframe thead th {\n",
              "        text-align: right;\n",
              "    }\n",
              "</style>\n",
              "<table border=\"1\" class=\"dataframe\">\n",
              "  <thead>\n",
              "    <tr style=\"text-align: right;\">\n",
              "      <th></th>\n",
              "      <th>prices.amountmin</th>\n",
              "      <th>prices.amountmax</th>\n",
              "      <th>prices.amountavg</th>\n",
              "    </tr>\n",
              "  </thead>\n",
              "  <tbody>\n",
              "    <tr>\n",
              "      <th>0</th>\n",
              "      <td>55.99</td>\n",
              "      <td>55.99</td>\n",
              "      <td>55.990</td>\n",
              "    </tr>\n",
              "    <tr>\n",
              "      <th>1</th>\n",
              "      <td>35.25</td>\n",
              "      <td>47.00</td>\n",
              "      <td>41.125</td>\n",
              "    </tr>\n",
              "    <tr>\n",
              "      <th>2</th>\n",
              "      <td>35.25</td>\n",
              "      <td>35.25</td>\n",
              "      <td>35.250</td>\n",
              "    </tr>\n",
              "    <tr>\n",
              "      <th>3</th>\n",
              "      <td>24.75</td>\n",
              "      <td>24.75</td>\n",
              "      <td>24.750</td>\n",
              "    </tr>\n",
              "    <tr>\n",
              "      <th>4</th>\n",
              "      <td>30.39</td>\n",
              "      <td>33.00</td>\n",
              "      <td>31.695</td>\n",
              "    </tr>\n",
              "    <tr>\n",
              "      <th>5</th>\n",
              "      <td>7.90</td>\n",
              "      <td>14.00</td>\n",
              "      <td>10.950</td>\n",
              "    </tr>\n",
              "    <tr>\n",
              "      <th>6</th>\n",
              "      <td>12.79</td>\n",
              "      <td>24.00</td>\n",
              "      <td>18.395</td>\n",
              "    </tr>\n",
              "    <tr>\n",
              "      <th>7</th>\n",
              "      <td>12.79</td>\n",
              "      <td>24.00</td>\n",
              "      <td>18.395</td>\n",
              "    </tr>\n",
              "    <tr>\n",
              "      <th>8</th>\n",
              "      <td>39.88</td>\n",
              "      <td>59.00</td>\n",
              "      <td>49.440</td>\n",
              "    </tr>\n",
              "    <tr>\n",
              "      <th>9</th>\n",
              "      <td>47.99</td>\n",
              "      <td>59.00</td>\n",
              "      <td>53.495</td>\n",
              "    </tr>\n",
              "  </tbody>\n",
              "</table>\n",
              "</div>\n",
              "      <button class=\"colab-df-convert\" onclick=\"convertToInteractive('df-dcc69312-a814-4e7a-a00f-e2b017ba976d')\"\n",
              "              title=\"Convert this dataframe to an interactive table.\"\n",
              "              style=\"display:none;\">\n",
              "        \n",
              "  <svg xmlns=\"http://www.w3.org/2000/svg\" height=\"24px\"viewBox=\"0 0 24 24\"\n",
              "       width=\"24px\">\n",
              "    <path d=\"M0 0h24v24H0V0z\" fill=\"none\"/>\n",
              "    <path d=\"M18.56 5.44l.94 2.06.94-2.06 2.06-.94-2.06-.94-.94-2.06-.94 2.06-2.06.94zm-11 1L8.5 8.5l.94-2.06 2.06-.94-2.06-.94L8.5 2.5l-.94 2.06-2.06.94zm10 10l.94 2.06.94-2.06 2.06-.94-2.06-.94-.94-2.06-.94 2.06-2.06.94z\"/><path d=\"M17.41 7.96l-1.37-1.37c-.4-.4-.92-.59-1.43-.59-.52 0-1.04.2-1.43.59L10.3 9.45l-7.72 7.72c-.78.78-.78 2.05 0 2.83L4 21.41c.39.39.9.59 1.41.59.51 0 1.02-.2 1.41-.59l7.78-7.78 2.81-2.81c.8-.78.8-2.07 0-2.86zM5.41 20L4 18.59l7.72-7.72 1.47 1.35L5.41 20z\"/>\n",
              "  </svg>\n",
              "      </button>\n",
              "      \n",
              "  <style>\n",
              "    .colab-df-container {\n",
              "      display:flex;\n",
              "      flex-wrap:wrap;\n",
              "      gap: 12px;\n",
              "    }\n",
              "\n",
              "    .colab-df-convert {\n",
              "      background-color: #E8F0FE;\n",
              "      border: none;\n",
              "      border-radius: 50%;\n",
              "      cursor: pointer;\n",
              "      display: none;\n",
              "      fill: #1967D2;\n",
              "      height: 32px;\n",
              "      padding: 0 0 0 0;\n",
              "      width: 32px;\n",
              "    }\n",
              "\n",
              "    .colab-df-convert:hover {\n",
              "      background-color: #E2EBFA;\n",
              "      box-shadow: 0px 1px 2px rgba(60, 64, 67, 0.3), 0px 1px 3px 1px rgba(60, 64, 67, 0.15);\n",
              "      fill: #174EA6;\n",
              "    }\n",
              "\n",
              "    [theme=dark] .colab-df-convert {\n",
              "      background-color: #3B4455;\n",
              "      fill: #D2E3FC;\n",
              "    }\n",
              "\n",
              "    [theme=dark] .colab-df-convert:hover {\n",
              "      background-color: #434B5C;\n",
              "      box-shadow: 0px 1px 3px 1px rgba(0, 0, 0, 0.15);\n",
              "      filter: drop-shadow(0px 1px 2px rgba(0, 0, 0, 0.3));\n",
              "      fill: #FFFFFF;\n",
              "    }\n",
              "  </style>\n",
              "\n",
              "      <script>\n",
              "        const buttonEl =\n",
              "          document.querySelector('#df-dcc69312-a814-4e7a-a00f-e2b017ba976d button.colab-df-convert');\n",
              "        buttonEl.style.display =\n",
              "          google.colab.kernel.accessAllowed ? 'block' : 'none';\n",
              "\n",
              "        async function convertToInteractive(key) {\n",
              "          const element = document.querySelector('#df-dcc69312-a814-4e7a-a00f-e2b017ba976d');\n",
              "          const dataTable =\n",
              "            await google.colab.kernel.invokeFunction('convertToInteractive',\n",
              "                                                     [key], {});\n",
              "          if (!dataTable) return;\n",
              "\n",
              "          const docLinkHtml = 'Like what you see? Visit the ' +\n",
              "            '<a target=\"_blank\" href=https://colab.research.google.com/notebooks/data_table.ipynb>data table notebook</a>'\n",
              "            + ' to learn more about interactive tables.';\n",
              "          element.innerHTML = '';\n",
              "          dataTable['output_type'] = 'display_data';\n",
              "          await google.colab.output.renderOutput(dataTable, element);\n",
              "          const docLink = document.createElement('div');\n",
              "          docLink.innerHTML = docLinkHtml;\n",
              "          element.appendChild(docLink);\n",
              "        }\n",
              "      </script>\n",
              "    </div>\n",
              "  </div>\n",
              "  "
            ]
          },
          "metadata": {},
          "execution_count": 18
        }
      ],
      "source": [
        "df[['prices.amountmin','prices.amountmax','prices.amountavg']].head(10)"
      ],
      "id": "8f3628d8"
    },
    {
      "cell_type": "markdown",
      "metadata": {
        "id": "0cad5b0a"
      },
      "source": [
        "### Adding price.stat column"
      ],
      "id": "0cad5b0a"
    },
    {
      "cell_type": "markdown",
      "metadata": {
        "id": "5ce534c9"
      },
      "source": [
        "We are creating a new column \"prices.stat\" that contains boolean value \"True\" if the price is over 100 or \"False\" if the price is under 100"
      ],
      "id": "5ce534c9"
    },
    {
      "cell_type": "code",
      "execution_count": null,
      "metadata": {
        "id": "d8990620",
        "colab": {
          "base_uri": "https://localhost:8080/",
          "height": 768
        },
        "outputId": "1fbee0a8-e11a-4bfb-f840-8690d4514ba1"
      },
      "outputs": [
        {
          "output_type": "execute_result",
          "data": {
            "text/plain": [
              "                     id             dateadded           dateupdated  \\\n",
              "0  AVpfEf_hLJeJML431ueH  2015-05-04T12:13:08Z  2018-01-29T04:38:43Z   \n",
              "1  AVpi74XfLJeJML43qZAc  2017-01-27T01:23:39Z  2018-01-03T05:21:54Z   \n",
              "2  AVpi74XfLJeJML43qZAc  2017-01-27T01:23:39Z  2018-01-03T05:21:54Z   \n",
              "3  AVpjXyCc1cnluZ0-V-Gj  2017-01-27T01:25:56Z  2018-01-04T11:52:35Z   \n",
              "4  AVphGKLPilAPnD_x1Nrm  2017-01-27T01:25:56Z  2018-01-18T03:55:18Z   \n",
              "\n",
              "         brand                                         categories  \\\n",
              "0  Naturalizer  Clothing,Shoes,Women's Shoes,All Women's Shoes...   \n",
              "1     MUK LUKS  Clothing,Shoes,Women's Shoes,Women's Casual Sh...   \n",
              "2     MUK LUKS  Clothing,Shoes,Women's Shoes,Women's Casual Sh...   \n",
              "3     MUK LUKS  Clothing,Shoes,Women's Shoes,All Women's Shoes...   \n",
              "4     MUK LUKS  Clothing,Shoes,Women's Shoes,All Women's Shoes...   \n",
              "\n",
              "  primarycategories                                          imageurls  \\\n",
              "0             Shoes  https://i5.walmartimages.com/asr/861ca6cf-fa55...   \n",
              "1             Shoes  https://i5.walmartimages.com/asr/421de5d5-3a74...   \n",
              "2             Shoes  https://i5.walmartimages.com/asr/421de5d5-3a74...   \n",
              "3       Shoes,Shoes  https://i5.walmartimages.com/asr/950d38a5-0113...   \n",
              "4             Shoes  https://i5.walmartimages.com/asr/5e137bc3-c900...   \n",
              "\n",
              "                                                keys  \\\n",
              "0  naturalizer/47147sc022,017136472311,womensnatu...   \n",
              "1  mukluks/00173650206,033977045743,muklukswomens...   \n",
              "2  mukluks/00173650206,033977045743,muklukswomens...   \n",
              "3  033977045903,muklukswomensdawnsuedescuffslippe...   \n",
              "4  mukluks/00173660206,033977045958,0033977045958...   \n",
              "\n",
              "                                                name  prices.amountmax  ...  \\\n",
              "0  Naturalizer Danya Women N/S Open Toe Synthetic...             55.99  ...   \n",
              "1                MUK LUKS Womens Jane Suede Moccasin             47.00  ...   \n",
              "2                MUK LUKS Womens Jane Suede Moccasin             35.25  ...   \n",
              "3           MUK LUKS Womens Dawn Suede Scuff Slipper             24.75  ...   \n",
              "4           MUK LUKS Womens Dawn Suede Scuff Slipper             33.00  ...   \n",
              "\n",
              "       prices.dateadded                                    prices.dateseen  \\\n",
              "0  2017-03-28T11:40:25Z  2017-03-25T09:19:24.819Z,2017-03-25T09:19:19.600Z   \n",
              "1  2018-01-03T05:21:54Z  2017-12-08T14:24:00.000Z,2017-11-01T02:52:00.000Z   \n",
              "2  2017-12-06T05:02:42Z  2017-11-10T15:11:00.000Z,2017-11-18T08:00:00.000Z   \n",
              "3  2018-01-04T11:52:35Z                           2017-12-07T16:37:00.000Z   \n",
              "4  2017-12-04T21:35:47Z                           2017-11-17T21:15:00.000Z   \n",
              "\n",
              "  prices.issale prices.size  \\\n",
              "0         False           S   \n",
              "1          True           6   \n",
              "2         False           6   \n",
              "3         False           6   \n",
              "4          True           6   \n",
              "\n",
              "                                   prices.sourceurls  \\\n",
              "0  https://www.overstock.com/Clothing-Shoes/Women...   \n",
              "1  https://www.walmart.com/ip/MUK-LUKS-Womens-Jan...   \n",
              "2  https://www.walmart.com/ip/MUK-LUKS-Womens-Jan...   \n",
              "3  https://www.walmart.com/ip/MUK-LUKS-Womens-Daw...   \n",
              "4  https://www.walmart.com/ip/MUK-LUKS-Womens-Daw...   \n",
              "\n",
              "                                               sizes  \\\n",
              "0  6W,9W,7.5W,12W,8.5M,9N,9M,9.5M,10.5M,10W,8.5W,...   \n",
              "1                                         10,7,6,9,8   \n",
              "2                                         10,7,6,9,8   \n",
              "3                                         10,7,6,9,8   \n",
              "4                                         10,7,6,9,8   \n",
              "\n",
              "                                          sourceurls           upc  \\\n",
              "0  https://www.walmart.com/ip/Naturalizer-Danya-W...  017136472311   \n",
              "1  https://www.walmart.com/ip/MUK-LUKS-Womens-Jan...  033977045743   \n",
              "2  https://www.walmart.com/ip/MUK-LUKS-Womens-Jan...  033977045743   \n",
              "3  https://www.walmart.com/ip/MUK-LUKS-Womens-Daw...  033977045903   \n",
              "4  https://www.walmart.com/ip/MUK-LUKS-Womens-Daw...  033977045958   \n",
              "\n",
              "  prices.amountavg price.stat  \n",
              "0           55.990      False  \n",
              "1           41.125      False  \n",
              "2           35.250      False  \n",
              "3           24.750      False  \n",
              "4           31.695      False  \n",
              "\n",
              "[5 rows x 23 columns]"
            ],
            "text/html": [
              "\n",
              "  <div id=\"df-e52f2291-298f-4982-9534-cba11cede170\">\n",
              "    <div class=\"colab-df-container\">\n",
              "      <div>\n",
              "<style scoped>\n",
              "    .dataframe tbody tr th:only-of-type {\n",
              "        vertical-align: middle;\n",
              "    }\n",
              "\n",
              "    .dataframe tbody tr th {\n",
              "        vertical-align: top;\n",
              "    }\n",
              "\n",
              "    .dataframe thead th {\n",
              "        text-align: right;\n",
              "    }\n",
              "</style>\n",
              "<table border=\"1\" class=\"dataframe\">\n",
              "  <thead>\n",
              "    <tr style=\"text-align: right;\">\n",
              "      <th></th>\n",
              "      <th>id</th>\n",
              "      <th>dateadded</th>\n",
              "      <th>dateupdated</th>\n",
              "      <th>brand</th>\n",
              "      <th>categories</th>\n",
              "      <th>primarycategories</th>\n",
              "      <th>imageurls</th>\n",
              "      <th>keys</th>\n",
              "      <th>name</th>\n",
              "      <th>prices.amountmax</th>\n",
              "      <th>...</th>\n",
              "      <th>prices.dateadded</th>\n",
              "      <th>prices.dateseen</th>\n",
              "      <th>prices.issale</th>\n",
              "      <th>prices.size</th>\n",
              "      <th>prices.sourceurls</th>\n",
              "      <th>sizes</th>\n",
              "      <th>sourceurls</th>\n",
              "      <th>upc</th>\n",
              "      <th>prices.amountavg</th>\n",
              "      <th>price.stat</th>\n",
              "    </tr>\n",
              "  </thead>\n",
              "  <tbody>\n",
              "    <tr>\n",
              "      <th>0</th>\n",
              "      <td>AVpfEf_hLJeJML431ueH</td>\n",
              "      <td>2015-05-04T12:13:08Z</td>\n",
              "      <td>2018-01-29T04:38:43Z</td>\n",
              "      <td>Naturalizer</td>\n",
              "      <td>Clothing,Shoes,Women's Shoes,All Women's Shoes...</td>\n",
              "      <td>Shoes</td>\n",
              "      <td>https://i5.walmartimages.com/asr/861ca6cf-fa55...</td>\n",
              "      <td>naturalizer/47147sc022,017136472311,womensnatu...</td>\n",
              "      <td>Naturalizer Danya Women N/S Open Toe Synthetic...</td>\n",
              "      <td>55.99</td>\n",
              "      <td>...</td>\n",
              "      <td>2017-03-28T11:40:25Z</td>\n",
              "      <td>2017-03-25T09:19:24.819Z,2017-03-25T09:19:19.600Z</td>\n",
              "      <td>False</td>\n",
              "      <td>S</td>\n",
              "      <td>https://www.overstock.com/Clothing-Shoes/Women...</td>\n",
              "      <td>6W,9W,7.5W,12W,8.5M,9N,9M,9.5M,10.5M,10W,8.5W,...</td>\n",
              "      <td>https://www.walmart.com/ip/Naturalizer-Danya-W...</td>\n",
              "      <td>017136472311</td>\n",
              "      <td>55.990</td>\n",
              "      <td>False</td>\n",
              "    </tr>\n",
              "    <tr>\n",
              "      <th>1</th>\n",
              "      <td>AVpi74XfLJeJML43qZAc</td>\n",
              "      <td>2017-01-27T01:23:39Z</td>\n",
              "      <td>2018-01-03T05:21:54Z</td>\n",
              "      <td>MUK LUKS</td>\n",
              "      <td>Clothing,Shoes,Women's Shoes,Women's Casual Sh...</td>\n",
              "      <td>Shoes</td>\n",
              "      <td>https://i5.walmartimages.com/asr/421de5d5-3a74...</td>\n",
              "      <td>mukluks/00173650206,033977045743,muklukswomens...</td>\n",
              "      <td>MUK LUKS Womens Jane Suede Moccasin</td>\n",
              "      <td>47.00</td>\n",
              "      <td>...</td>\n",
              "      <td>2018-01-03T05:21:54Z</td>\n",
              "      <td>2017-12-08T14:24:00.000Z,2017-11-01T02:52:00.000Z</td>\n",
              "      <td>True</td>\n",
              "      <td>6</td>\n",
              "      <td>https://www.walmart.com/ip/MUK-LUKS-Womens-Jan...</td>\n",
              "      <td>10,7,6,9,8</td>\n",
              "      <td>https://www.walmart.com/ip/MUK-LUKS-Womens-Jan...</td>\n",
              "      <td>033977045743</td>\n",
              "      <td>41.125</td>\n",
              "      <td>False</td>\n",
              "    </tr>\n",
              "    <tr>\n",
              "      <th>2</th>\n",
              "      <td>AVpi74XfLJeJML43qZAc</td>\n",
              "      <td>2017-01-27T01:23:39Z</td>\n",
              "      <td>2018-01-03T05:21:54Z</td>\n",
              "      <td>MUK LUKS</td>\n",
              "      <td>Clothing,Shoes,Women's Shoes,Women's Casual Sh...</td>\n",
              "      <td>Shoes</td>\n",
              "      <td>https://i5.walmartimages.com/asr/421de5d5-3a74...</td>\n",
              "      <td>mukluks/00173650206,033977045743,muklukswomens...</td>\n",
              "      <td>MUK LUKS Womens Jane Suede Moccasin</td>\n",
              "      <td>35.25</td>\n",
              "      <td>...</td>\n",
              "      <td>2017-12-06T05:02:42Z</td>\n",
              "      <td>2017-11-10T15:11:00.000Z,2017-11-18T08:00:00.000Z</td>\n",
              "      <td>False</td>\n",
              "      <td>6</td>\n",
              "      <td>https://www.walmart.com/ip/MUK-LUKS-Womens-Jan...</td>\n",
              "      <td>10,7,6,9,8</td>\n",
              "      <td>https://www.walmart.com/ip/MUK-LUKS-Womens-Jan...</td>\n",
              "      <td>033977045743</td>\n",
              "      <td>35.250</td>\n",
              "      <td>False</td>\n",
              "    </tr>\n",
              "    <tr>\n",
              "      <th>3</th>\n",
              "      <td>AVpjXyCc1cnluZ0-V-Gj</td>\n",
              "      <td>2017-01-27T01:25:56Z</td>\n",
              "      <td>2018-01-04T11:52:35Z</td>\n",
              "      <td>MUK LUKS</td>\n",
              "      <td>Clothing,Shoes,Women's Shoes,All Women's Shoes...</td>\n",
              "      <td>Shoes,Shoes</td>\n",
              "      <td>https://i5.walmartimages.com/asr/950d38a5-0113...</td>\n",
              "      <td>033977045903,muklukswomensdawnsuedescuffslippe...</td>\n",
              "      <td>MUK LUKS Womens Dawn Suede Scuff Slipper</td>\n",
              "      <td>24.75</td>\n",
              "      <td>...</td>\n",
              "      <td>2018-01-04T11:52:35Z</td>\n",
              "      <td>2017-12-07T16:37:00.000Z</td>\n",
              "      <td>False</td>\n",
              "      <td>6</td>\n",
              "      <td>https://www.walmart.com/ip/MUK-LUKS-Womens-Daw...</td>\n",
              "      <td>10,7,6,9,8</td>\n",
              "      <td>https://www.walmart.com/ip/MUK-LUKS-Womens-Daw...</td>\n",
              "      <td>033977045903</td>\n",
              "      <td>24.750</td>\n",
              "      <td>False</td>\n",
              "    </tr>\n",
              "    <tr>\n",
              "      <th>4</th>\n",
              "      <td>AVphGKLPilAPnD_x1Nrm</td>\n",
              "      <td>2017-01-27T01:25:56Z</td>\n",
              "      <td>2018-01-18T03:55:18Z</td>\n",
              "      <td>MUK LUKS</td>\n",
              "      <td>Clothing,Shoes,Women's Shoes,All Women's Shoes...</td>\n",
              "      <td>Shoes</td>\n",
              "      <td>https://i5.walmartimages.com/asr/5e137bc3-c900...</td>\n",
              "      <td>mukluks/00173660206,033977045958,0033977045958...</td>\n",
              "      <td>MUK LUKS Womens Dawn Suede Scuff Slipper</td>\n",
              "      <td>33.00</td>\n",
              "      <td>...</td>\n",
              "      <td>2017-12-04T21:35:47Z</td>\n",
              "      <td>2017-11-17T21:15:00.000Z</td>\n",
              "      <td>True</td>\n",
              "      <td>6</td>\n",
              "      <td>https://www.walmart.com/ip/MUK-LUKS-Womens-Daw...</td>\n",
              "      <td>10,7,6,9,8</td>\n",
              "      <td>https://www.walmart.com/ip/MUK-LUKS-Womens-Daw...</td>\n",
              "      <td>033977045958</td>\n",
              "      <td>31.695</td>\n",
              "      <td>False</td>\n",
              "    </tr>\n",
              "  </tbody>\n",
              "</table>\n",
              "<p>5 rows × 23 columns</p>\n",
              "</div>\n",
              "      <button class=\"colab-df-convert\" onclick=\"convertToInteractive('df-e52f2291-298f-4982-9534-cba11cede170')\"\n",
              "              title=\"Convert this dataframe to an interactive table.\"\n",
              "              style=\"display:none;\">\n",
              "        \n",
              "  <svg xmlns=\"http://www.w3.org/2000/svg\" height=\"24px\"viewBox=\"0 0 24 24\"\n",
              "       width=\"24px\">\n",
              "    <path d=\"M0 0h24v24H0V0z\" fill=\"none\"/>\n",
              "    <path d=\"M18.56 5.44l.94 2.06.94-2.06 2.06-.94-2.06-.94-.94-2.06-.94 2.06-2.06.94zm-11 1L8.5 8.5l.94-2.06 2.06-.94-2.06-.94L8.5 2.5l-.94 2.06-2.06.94zm10 10l.94 2.06.94-2.06 2.06-.94-2.06-.94-.94-2.06-.94 2.06-2.06.94z\"/><path d=\"M17.41 7.96l-1.37-1.37c-.4-.4-.92-.59-1.43-.59-.52 0-1.04.2-1.43.59L10.3 9.45l-7.72 7.72c-.78.78-.78 2.05 0 2.83L4 21.41c.39.39.9.59 1.41.59.51 0 1.02-.2 1.41-.59l7.78-7.78 2.81-2.81c.8-.78.8-2.07 0-2.86zM5.41 20L4 18.59l7.72-7.72 1.47 1.35L5.41 20z\"/>\n",
              "  </svg>\n",
              "      </button>\n",
              "      \n",
              "  <style>\n",
              "    .colab-df-container {\n",
              "      display:flex;\n",
              "      flex-wrap:wrap;\n",
              "      gap: 12px;\n",
              "    }\n",
              "\n",
              "    .colab-df-convert {\n",
              "      background-color: #E8F0FE;\n",
              "      border: none;\n",
              "      border-radius: 50%;\n",
              "      cursor: pointer;\n",
              "      display: none;\n",
              "      fill: #1967D2;\n",
              "      height: 32px;\n",
              "      padding: 0 0 0 0;\n",
              "      width: 32px;\n",
              "    }\n",
              "\n",
              "    .colab-df-convert:hover {\n",
              "      background-color: #E2EBFA;\n",
              "      box-shadow: 0px 1px 2px rgba(60, 64, 67, 0.3), 0px 1px 3px 1px rgba(60, 64, 67, 0.15);\n",
              "      fill: #174EA6;\n",
              "    }\n",
              "\n",
              "    [theme=dark] .colab-df-convert {\n",
              "      background-color: #3B4455;\n",
              "      fill: #D2E3FC;\n",
              "    }\n",
              "\n",
              "    [theme=dark] .colab-df-convert:hover {\n",
              "      background-color: #434B5C;\n",
              "      box-shadow: 0px 1px 3px 1px rgba(0, 0, 0, 0.15);\n",
              "      filter: drop-shadow(0px 1px 2px rgba(0, 0, 0, 0.3));\n",
              "      fill: #FFFFFF;\n",
              "    }\n",
              "  </style>\n",
              "\n",
              "      <script>\n",
              "        const buttonEl =\n",
              "          document.querySelector('#df-e52f2291-298f-4982-9534-cba11cede170 button.colab-df-convert');\n",
              "        buttonEl.style.display =\n",
              "          google.colab.kernel.accessAllowed ? 'block' : 'none';\n",
              "\n",
              "        async function convertToInteractive(key) {\n",
              "          const element = document.querySelector('#df-e52f2291-298f-4982-9534-cba11cede170');\n",
              "          const dataTable =\n",
              "            await google.colab.kernel.invokeFunction('convertToInteractive',\n",
              "                                                     [key], {});\n",
              "          if (!dataTable) return;\n",
              "\n",
              "          const docLinkHtml = 'Like what you see? Visit the ' +\n",
              "            '<a target=\"_blank\" href=https://colab.research.google.com/notebooks/data_table.ipynb>data table notebook</a>'\n",
              "            + ' to learn more about interactive tables.';\n",
              "          element.innerHTML = '';\n",
              "          dataTable['output_type'] = 'display_data';\n",
              "          await google.colab.output.renderOutput(dataTable, element);\n",
              "          const docLink = document.createElement('div');\n",
              "          docLink.innerHTML = docLinkHtml;\n",
              "          element.appendChild(docLink);\n",
              "        }\n",
              "      </script>\n",
              "    </div>\n",
              "  </div>\n",
              "  "
            ]
          },
          "metadata": {},
          "execution_count": 19
        }
      ],
      "source": [
        "#creating a new column with boolean values.Shoes priced over $100 is expensive,under 100 is affordable.\n",
        "df['price.stat']=(df['prices.amountmax']>100)\n",
        "df.head()"
      ],
      "id": "d8990620"
    },
    {
      "cell_type": "markdown",
      "metadata": {
        "id": "f0af40c1"
      },
      "source": [
        "### Adding a new column brand.count"
      ],
      "id": "f0af40c1"
    },
    {
      "cell_type": "markdown",
      "metadata": {
        "id": "23801e08"
      },
      "source": [
        "Lets add one more new column named brand.count\n",
        "This column shows the number of shoes that each brand sold\n"
      ],
      "id": "23801e08"
    },
    {
      "cell_type": "code",
      "execution_count": null,
      "metadata": {
        "id": "7917dfd2",
        "colab": {
          "base_uri": "https://localhost:8080/",
          "height": 423
        },
        "outputId": "a7d340b0-571e-4984-e92e-5a4c4bd81e79"
      },
      "outputs": [
        {
          "output_type": "execute_result",
          "data": {
            "text/plain": [
              "            brand  brand.count\n",
              "0     Naturalizer            1\n",
              "1        MUK LUKS           18\n",
              "2        MUK LUKS           18\n",
              "3        MUK LUKS           18\n",
              "4        MUK LUKS           18\n",
              "...           ...          ...\n",
              "9995        Asics           19\n",
              "9996        Asics           19\n",
              "9997       Kaanas            1\n",
              "9998         Nike          179\n",
              "9999     OTZShoes            1\n",
              "\n",
              "[10000 rows x 2 columns]"
            ],
            "text/html": [
              "\n",
              "  <div id=\"df-26f884c4-ce76-4a15-abce-cd8263819767\">\n",
              "    <div class=\"colab-df-container\">\n",
              "      <div>\n",
              "<style scoped>\n",
              "    .dataframe tbody tr th:only-of-type {\n",
              "        vertical-align: middle;\n",
              "    }\n",
              "\n",
              "    .dataframe tbody tr th {\n",
              "        vertical-align: top;\n",
              "    }\n",
              "\n",
              "    .dataframe thead th {\n",
              "        text-align: right;\n",
              "    }\n",
              "</style>\n",
              "<table border=\"1\" class=\"dataframe\">\n",
              "  <thead>\n",
              "    <tr style=\"text-align: right;\">\n",
              "      <th></th>\n",
              "      <th>brand</th>\n",
              "      <th>brand.count</th>\n",
              "    </tr>\n",
              "  </thead>\n",
              "  <tbody>\n",
              "    <tr>\n",
              "      <th>0</th>\n",
              "      <td>Naturalizer</td>\n",
              "      <td>1</td>\n",
              "    </tr>\n",
              "    <tr>\n",
              "      <th>1</th>\n",
              "      <td>MUK LUKS</td>\n",
              "      <td>18</td>\n",
              "    </tr>\n",
              "    <tr>\n",
              "      <th>2</th>\n",
              "      <td>MUK LUKS</td>\n",
              "      <td>18</td>\n",
              "    </tr>\n",
              "    <tr>\n",
              "      <th>3</th>\n",
              "      <td>MUK LUKS</td>\n",
              "      <td>18</td>\n",
              "    </tr>\n",
              "    <tr>\n",
              "      <th>4</th>\n",
              "      <td>MUK LUKS</td>\n",
              "      <td>18</td>\n",
              "    </tr>\n",
              "    <tr>\n",
              "      <th>...</th>\n",
              "      <td>...</td>\n",
              "      <td>...</td>\n",
              "    </tr>\n",
              "    <tr>\n",
              "      <th>9995</th>\n",
              "      <td>Asics</td>\n",
              "      <td>19</td>\n",
              "    </tr>\n",
              "    <tr>\n",
              "      <th>9996</th>\n",
              "      <td>Asics</td>\n",
              "      <td>19</td>\n",
              "    </tr>\n",
              "    <tr>\n",
              "      <th>9997</th>\n",
              "      <td>Kaanas</td>\n",
              "      <td>1</td>\n",
              "    </tr>\n",
              "    <tr>\n",
              "      <th>9998</th>\n",
              "      <td>Nike</td>\n",
              "      <td>179</td>\n",
              "    </tr>\n",
              "    <tr>\n",
              "      <th>9999</th>\n",
              "      <td>OTZShoes</td>\n",
              "      <td>1</td>\n",
              "    </tr>\n",
              "  </tbody>\n",
              "</table>\n",
              "<p>10000 rows × 2 columns</p>\n",
              "</div>\n",
              "      <button class=\"colab-df-convert\" onclick=\"convertToInteractive('df-26f884c4-ce76-4a15-abce-cd8263819767')\"\n",
              "              title=\"Convert this dataframe to an interactive table.\"\n",
              "              style=\"display:none;\">\n",
              "        \n",
              "  <svg xmlns=\"http://www.w3.org/2000/svg\" height=\"24px\"viewBox=\"0 0 24 24\"\n",
              "       width=\"24px\">\n",
              "    <path d=\"M0 0h24v24H0V0z\" fill=\"none\"/>\n",
              "    <path d=\"M18.56 5.44l.94 2.06.94-2.06 2.06-.94-2.06-.94-.94-2.06-.94 2.06-2.06.94zm-11 1L8.5 8.5l.94-2.06 2.06-.94-2.06-.94L8.5 2.5l-.94 2.06-2.06.94zm10 10l.94 2.06.94-2.06 2.06-.94-2.06-.94-.94-2.06-.94 2.06-2.06.94z\"/><path d=\"M17.41 7.96l-1.37-1.37c-.4-.4-.92-.59-1.43-.59-.52 0-1.04.2-1.43.59L10.3 9.45l-7.72 7.72c-.78.78-.78 2.05 0 2.83L4 21.41c.39.39.9.59 1.41.59.51 0 1.02-.2 1.41-.59l7.78-7.78 2.81-2.81c.8-.78.8-2.07 0-2.86zM5.41 20L4 18.59l7.72-7.72 1.47 1.35L5.41 20z\"/>\n",
              "  </svg>\n",
              "      </button>\n",
              "      \n",
              "  <style>\n",
              "    .colab-df-container {\n",
              "      display:flex;\n",
              "      flex-wrap:wrap;\n",
              "      gap: 12px;\n",
              "    }\n",
              "\n",
              "    .colab-df-convert {\n",
              "      background-color: #E8F0FE;\n",
              "      border: none;\n",
              "      border-radius: 50%;\n",
              "      cursor: pointer;\n",
              "      display: none;\n",
              "      fill: #1967D2;\n",
              "      height: 32px;\n",
              "      padding: 0 0 0 0;\n",
              "      width: 32px;\n",
              "    }\n",
              "\n",
              "    .colab-df-convert:hover {\n",
              "      background-color: #E2EBFA;\n",
              "      box-shadow: 0px 1px 2px rgba(60, 64, 67, 0.3), 0px 1px 3px 1px rgba(60, 64, 67, 0.15);\n",
              "      fill: #174EA6;\n",
              "    }\n",
              "\n",
              "    [theme=dark] .colab-df-convert {\n",
              "      background-color: #3B4455;\n",
              "      fill: #D2E3FC;\n",
              "    }\n",
              "\n",
              "    [theme=dark] .colab-df-convert:hover {\n",
              "      background-color: #434B5C;\n",
              "      box-shadow: 0px 1px 3px 1px rgba(0, 0, 0, 0.15);\n",
              "      filter: drop-shadow(0px 1px 2px rgba(0, 0, 0, 0.3));\n",
              "      fill: #FFFFFF;\n",
              "    }\n",
              "  </style>\n",
              "\n",
              "      <script>\n",
              "        const buttonEl =\n",
              "          document.querySelector('#df-26f884c4-ce76-4a15-abce-cd8263819767 button.colab-df-convert');\n",
              "        buttonEl.style.display =\n",
              "          google.colab.kernel.accessAllowed ? 'block' : 'none';\n",
              "\n",
              "        async function convertToInteractive(key) {\n",
              "          const element = document.querySelector('#df-26f884c4-ce76-4a15-abce-cd8263819767');\n",
              "          const dataTable =\n",
              "            await google.colab.kernel.invokeFunction('convertToInteractive',\n",
              "                                                     [key], {});\n",
              "          if (!dataTable) return;\n",
              "\n",
              "          const docLinkHtml = 'Like what you see? Visit the ' +\n",
              "            '<a target=\"_blank\" href=https://colab.research.google.com/notebooks/data_table.ipynb>data table notebook</a>'\n",
              "            + ' to learn more about interactive tables.';\n",
              "          element.innerHTML = '';\n",
              "          dataTable['output_type'] = 'display_data';\n",
              "          await google.colab.output.renderOutput(dataTable, element);\n",
              "          const docLink = document.createElement('div');\n",
              "          docLink.innerHTML = docLinkHtml;\n",
              "          element.appendChild(docLink);\n",
              "        }\n",
              "      </script>\n",
              "    </div>\n",
              "  </div>\n",
              "  "
            ]
          },
          "metadata": {},
          "execution_count": 20
        }
      ],
      "source": [
        "# New column brand.count \n",
        "\n",
        "df['brand.count'] = df['brand'].map(df['brand'].value_counts())\n",
        "df[['brand','brand.count']]"
      ],
      "id": "7917dfd2"
    },
    {
      "cell_type": "code",
      "execution_count": null,
      "metadata": {
        "id": "9d1b6b2b"
      },
      "outputs": [],
      "source": [
        "affordable = df.sort_values('prices.amountmax')\n",
        "affordable = affordable[['brand', 'prices.amountmax']].groupby('brand').agg(min)<100"
      ],
      "id": "9d1b6b2b"
    },
    {
      "cell_type": "code",
      "execution_count": null,
      "metadata": {
        "id": "7087938f",
        "colab": {
          "base_uri": "https://localhost:8080/",
          "height": 394
        },
        "outputId": "b43900bc-6bd4-4ee3-b4be-5d1a210784db"
      },
      "outputs": [
        {
          "output_type": "execute_result",
          "data": {
            "text/plain": [
              "                prices.amountmax\n",
              "brand                           \n",
              "2 lips too                  True\n",
              "Adidas                     False\n",
              "Adidas Outdoor              True\n",
              "Altra                       True\n",
              "Arc'teryx                  False\n",
              "Asics                       True\n",
              "Astral                      True\n",
              "Birkenstock                False\n",
              "Bogs                        True\n",
              "Brinley Co.                 True"
            ],
            "text/html": [
              "\n",
              "  <div id=\"df-ed39494d-a56e-42ac-ac04-7925a976fabf\">\n",
              "    <div class=\"colab-df-container\">\n",
              "      <div>\n",
              "<style scoped>\n",
              "    .dataframe tbody tr th:only-of-type {\n",
              "        vertical-align: middle;\n",
              "    }\n",
              "\n",
              "    .dataframe tbody tr th {\n",
              "        vertical-align: top;\n",
              "    }\n",
              "\n",
              "    .dataframe thead th {\n",
              "        text-align: right;\n",
              "    }\n",
              "</style>\n",
              "<table border=\"1\" class=\"dataframe\">\n",
              "  <thead>\n",
              "    <tr style=\"text-align: right;\">\n",
              "      <th></th>\n",
              "      <th>prices.amountmax</th>\n",
              "    </tr>\n",
              "    <tr>\n",
              "      <th>brand</th>\n",
              "      <th></th>\n",
              "    </tr>\n",
              "  </thead>\n",
              "  <tbody>\n",
              "    <tr>\n",
              "      <th>2 lips too</th>\n",
              "      <td>True</td>\n",
              "    </tr>\n",
              "    <tr>\n",
              "      <th>Adidas</th>\n",
              "      <td>False</td>\n",
              "    </tr>\n",
              "    <tr>\n",
              "      <th>Adidas Outdoor</th>\n",
              "      <td>True</td>\n",
              "    </tr>\n",
              "    <tr>\n",
              "      <th>Altra</th>\n",
              "      <td>True</td>\n",
              "    </tr>\n",
              "    <tr>\n",
              "      <th>Arc'teryx</th>\n",
              "      <td>False</td>\n",
              "    </tr>\n",
              "    <tr>\n",
              "      <th>Asics</th>\n",
              "      <td>True</td>\n",
              "    </tr>\n",
              "    <tr>\n",
              "      <th>Astral</th>\n",
              "      <td>True</td>\n",
              "    </tr>\n",
              "    <tr>\n",
              "      <th>Birkenstock</th>\n",
              "      <td>False</td>\n",
              "    </tr>\n",
              "    <tr>\n",
              "      <th>Bogs</th>\n",
              "      <td>True</td>\n",
              "    </tr>\n",
              "    <tr>\n",
              "      <th>Brinley Co.</th>\n",
              "      <td>True</td>\n",
              "    </tr>\n",
              "  </tbody>\n",
              "</table>\n",
              "</div>\n",
              "      <button class=\"colab-df-convert\" onclick=\"convertToInteractive('df-ed39494d-a56e-42ac-ac04-7925a976fabf')\"\n",
              "              title=\"Convert this dataframe to an interactive table.\"\n",
              "              style=\"display:none;\">\n",
              "        \n",
              "  <svg xmlns=\"http://www.w3.org/2000/svg\" height=\"24px\"viewBox=\"0 0 24 24\"\n",
              "       width=\"24px\">\n",
              "    <path d=\"M0 0h24v24H0V0z\" fill=\"none\"/>\n",
              "    <path d=\"M18.56 5.44l.94 2.06.94-2.06 2.06-.94-2.06-.94-.94-2.06-.94 2.06-2.06.94zm-11 1L8.5 8.5l.94-2.06 2.06-.94-2.06-.94L8.5 2.5l-.94 2.06-2.06.94zm10 10l.94 2.06.94-2.06 2.06-.94-2.06-.94-.94-2.06-.94 2.06-2.06.94z\"/><path d=\"M17.41 7.96l-1.37-1.37c-.4-.4-.92-.59-1.43-.59-.52 0-1.04.2-1.43.59L10.3 9.45l-7.72 7.72c-.78.78-.78 2.05 0 2.83L4 21.41c.39.39.9.59 1.41.59.51 0 1.02-.2 1.41-.59l7.78-7.78 2.81-2.81c.8-.78.8-2.07 0-2.86zM5.41 20L4 18.59l7.72-7.72 1.47 1.35L5.41 20z\"/>\n",
              "  </svg>\n",
              "      </button>\n",
              "      \n",
              "  <style>\n",
              "    .colab-df-container {\n",
              "      display:flex;\n",
              "      flex-wrap:wrap;\n",
              "      gap: 12px;\n",
              "    }\n",
              "\n",
              "    .colab-df-convert {\n",
              "      background-color: #E8F0FE;\n",
              "      border: none;\n",
              "      border-radius: 50%;\n",
              "      cursor: pointer;\n",
              "      display: none;\n",
              "      fill: #1967D2;\n",
              "      height: 32px;\n",
              "      padding: 0 0 0 0;\n",
              "      width: 32px;\n",
              "    }\n",
              "\n",
              "    .colab-df-convert:hover {\n",
              "      background-color: #E2EBFA;\n",
              "      box-shadow: 0px 1px 2px rgba(60, 64, 67, 0.3), 0px 1px 3px 1px rgba(60, 64, 67, 0.15);\n",
              "      fill: #174EA6;\n",
              "    }\n",
              "\n",
              "    [theme=dark] .colab-df-convert {\n",
              "      background-color: #3B4455;\n",
              "      fill: #D2E3FC;\n",
              "    }\n",
              "\n",
              "    [theme=dark] .colab-df-convert:hover {\n",
              "      background-color: #434B5C;\n",
              "      box-shadow: 0px 1px 3px 1px rgba(0, 0, 0, 0.15);\n",
              "      filter: drop-shadow(0px 1px 2px rgba(0, 0, 0, 0.3));\n",
              "      fill: #FFFFFF;\n",
              "    }\n",
              "  </style>\n",
              "\n",
              "      <script>\n",
              "        const buttonEl =\n",
              "          document.querySelector('#df-ed39494d-a56e-42ac-ac04-7925a976fabf button.colab-df-convert');\n",
              "        buttonEl.style.display =\n",
              "          google.colab.kernel.accessAllowed ? 'block' : 'none';\n",
              "\n",
              "        async function convertToInteractive(key) {\n",
              "          const element = document.querySelector('#df-ed39494d-a56e-42ac-ac04-7925a976fabf');\n",
              "          const dataTable =\n",
              "            await google.colab.kernel.invokeFunction('convertToInteractive',\n",
              "                                                     [key], {});\n",
              "          if (!dataTable) return;\n",
              "\n",
              "          const docLinkHtml = 'Like what you see? Visit the ' +\n",
              "            '<a target=\"_blank\" href=https://colab.research.google.com/notebooks/data_table.ipynb>data table notebook</a>'\n",
              "            + ' to learn more about interactive tables.';\n",
              "          element.innerHTML = '';\n",
              "          dataTable['output_type'] = 'display_data';\n",
              "          await google.colab.output.renderOutput(dataTable, element);\n",
              "          const docLink = document.createElement('div');\n",
              "          docLink.innerHTML = docLinkHtml;\n",
              "          element.appendChild(docLink);\n",
              "        }\n",
              "      </script>\n",
              "    </div>\n",
              "  </div>\n",
              "  "
            ]
          },
          "metadata": {},
          "execution_count": 22
        }
      ],
      "source": [
        "affordable.head(10)"
      ],
      "id": "7087938f"
    },
    {
      "cell_type": "code",
      "execution_count": null,
      "metadata": {
        "id": "ffef4f1e",
        "scrolled": true,
        "colab": {
          "base_uri": "https://localhost:8080/",
          "height": 269
        },
        "outputId": "a0835397-250f-4eb8-d30c-b0febb8b3968"
      },
      "outputs": [
        {
          "output_type": "execute_result",
          "data": {
            "text/plain": [
              "               prices.amountmax                 prices.amountmin          \\\n",
              "                            min  median     max              min  median   \n",
              "brand                                                                      \n",
              "2 lips too                64.95   64.95   79.99            39.99   49.99   \n",
              "Adidas                   109.95  129.95  159.95            76.96   84.47   \n",
              "Adidas Outdoor            99.95   99.95  119.95            99.95   99.95   \n",
              "Altra                     99.95  129.95  149.95            76.96  112.46   \n",
              "Arc'teryx                170.00  170.00  170.00           110.50  110.50   \n",
              "\n",
              "                       prices.issale               prices.amountavg           \\\n",
              "                   max           min median    max              min   median   \n",
              "brand                                                                          \n",
              "2 lips too       79.99         False    0.0  False           52.470   57.470   \n",
              "Adidas          159.95         False    1.0   True           93.455  110.455   \n",
              "Adidas Outdoor  119.95         False    0.0  False           99.950   99.950   \n",
              "Altra           149.95         False    0.0   True           93.455  129.950   \n",
              "Arc'teryx       170.00         False    1.0   True          140.250  140.250   \n",
              "\n",
              "                       price.stat               brand.count             \n",
              "                   max        min median    max         min median max  \n",
              "brand                                                                   \n",
              "2 lips too       79.99      False    0.0  False          19   19.0  19  \n",
              "Adidas          159.95       True    1.0   True          21   21.0  21  \n",
              "Adidas Outdoor  119.95      False    0.0   True           5    5.0   5  \n",
              "Altra           149.95      False    1.0   True          21   21.0  21  \n",
              "Arc'teryx       170.00       True    1.0   True           3    3.0   3  "
            ],
            "text/html": [
              "\n",
              "  <div id=\"df-bf6dafe8-0d64-4530-8b9b-4e1821ffbc37\">\n",
              "    <div class=\"colab-df-container\">\n",
              "      <div>\n",
              "<style scoped>\n",
              "    .dataframe tbody tr th:only-of-type {\n",
              "        vertical-align: middle;\n",
              "    }\n",
              "\n",
              "    .dataframe tbody tr th {\n",
              "        vertical-align: top;\n",
              "    }\n",
              "\n",
              "    .dataframe thead tr th {\n",
              "        text-align: left;\n",
              "    }\n",
              "\n",
              "    .dataframe thead tr:last-of-type th {\n",
              "        text-align: right;\n",
              "    }\n",
              "</style>\n",
              "<table border=\"1\" class=\"dataframe\">\n",
              "  <thead>\n",
              "    <tr>\n",
              "      <th></th>\n",
              "      <th colspan=\"3\" halign=\"left\">prices.amountmax</th>\n",
              "      <th colspan=\"3\" halign=\"left\">prices.amountmin</th>\n",
              "      <th colspan=\"3\" halign=\"left\">prices.issale</th>\n",
              "      <th colspan=\"3\" halign=\"left\">prices.amountavg</th>\n",
              "      <th colspan=\"3\" halign=\"left\">price.stat</th>\n",
              "      <th colspan=\"3\" halign=\"left\">brand.count</th>\n",
              "    </tr>\n",
              "    <tr>\n",
              "      <th></th>\n",
              "      <th>min</th>\n",
              "      <th>median</th>\n",
              "      <th>max</th>\n",
              "      <th>min</th>\n",
              "      <th>median</th>\n",
              "      <th>max</th>\n",
              "      <th>min</th>\n",
              "      <th>median</th>\n",
              "      <th>max</th>\n",
              "      <th>min</th>\n",
              "      <th>median</th>\n",
              "      <th>max</th>\n",
              "      <th>min</th>\n",
              "      <th>median</th>\n",
              "      <th>max</th>\n",
              "      <th>min</th>\n",
              "      <th>median</th>\n",
              "      <th>max</th>\n",
              "    </tr>\n",
              "    <tr>\n",
              "      <th>brand</th>\n",
              "      <th></th>\n",
              "      <th></th>\n",
              "      <th></th>\n",
              "      <th></th>\n",
              "      <th></th>\n",
              "      <th></th>\n",
              "      <th></th>\n",
              "      <th></th>\n",
              "      <th></th>\n",
              "      <th></th>\n",
              "      <th></th>\n",
              "      <th></th>\n",
              "      <th></th>\n",
              "      <th></th>\n",
              "      <th></th>\n",
              "      <th></th>\n",
              "      <th></th>\n",
              "      <th></th>\n",
              "    </tr>\n",
              "  </thead>\n",
              "  <tbody>\n",
              "    <tr>\n",
              "      <th>2 lips too</th>\n",
              "      <td>64.95</td>\n",
              "      <td>64.95</td>\n",
              "      <td>79.99</td>\n",
              "      <td>39.99</td>\n",
              "      <td>49.99</td>\n",
              "      <td>79.99</td>\n",
              "      <td>False</td>\n",
              "      <td>0.0</td>\n",
              "      <td>False</td>\n",
              "      <td>52.470</td>\n",
              "      <td>57.470</td>\n",
              "      <td>79.99</td>\n",
              "      <td>False</td>\n",
              "      <td>0.0</td>\n",
              "      <td>False</td>\n",
              "      <td>19</td>\n",
              "      <td>19.0</td>\n",
              "      <td>19</td>\n",
              "    </tr>\n",
              "    <tr>\n",
              "      <th>Adidas</th>\n",
              "      <td>109.95</td>\n",
              "      <td>129.95</td>\n",
              "      <td>159.95</td>\n",
              "      <td>76.96</td>\n",
              "      <td>84.47</td>\n",
              "      <td>159.95</td>\n",
              "      <td>False</td>\n",
              "      <td>1.0</td>\n",
              "      <td>True</td>\n",
              "      <td>93.455</td>\n",
              "      <td>110.455</td>\n",
              "      <td>159.95</td>\n",
              "      <td>True</td>\n",
              "      <td>1.0</td>\n",
              "      <td>True</td>\n",
              "      <td>21</td>\n",
              "      <td>21.0</td>\n",
              "      <td>21</td>\n",
              "    </tr>\n",
              "    <tr>\n",
              "      <th>Adidas Outdoor</th>\n",
              "      <td>99.95</td>\n",
              "      <td>99.95</td>\n",
              "      <td>119.95</td>\n",
              "      <td>99.95</td>\n",
              "      <td>99.95</td>\n",
              "      <td>119.95</td>\n",
              "      <td>False</td>\n",
              "      <td>0.0</td>\n",
              "      <td>False</td>\n",
              "      <td>99.950</td>\n",
              "      <td>99.950</td>\n",
              "      <td>119.95</td>\n",
              "      <td>False</td>\n",
              "      <td>0.0</td>\n",
              "      <td>True</td>\n",
              "      <td>5</td>\n",
              "      <td>5.0</td>\n",
              "      <td>5</td>\n",
              "    </tr>\n",
              "    <tr>\n",
              "      <th>Altra</th>\n",
              "      <td>99.95</td>\n",
              "      <td>129.95</td>\n",
              "      <td>149.95</td>\n",
              "      <td>76.96</td>\n",
              "      <td>112.46</td>\n",
              "      <td>149.95</td>\n",
              "      <td>False</td>\n",
              "      <td>0.0</td>\n",
              "      <td>True</td>\n",
              "      <td>93.455</td>\n",
              "      <td>129.950</td>\n",
              "      <td>149.95</td>\n",
              "      <td>False</td>\n",
              "      <td>1.0</td>\n",
              "      <td>True</td>\n",
              "      <td>21</td>\n",
              "      <td>21.0</td>\n",
              "      <td>21</td>\n",
              "    </tr>\n",
              "    <tr>\n",
              "      <th>Arc'teryx</th>\n",
              "      <td>170.00</td>\n",
              "      <td>170.00</td>\n",
              "      <td>170.00</td>\n",
              "      <td>110.50</td>\n",
              "      <td>110.50</td>\n",
              "      <td>170.00</td>\n",
              "      <td>False</td>\n",
              "      <td>1.0</td>\n",
              "      <td>True</td>\n",
              "      <td>140.250</td>\n",
              "      <td>140.250</td>\n",
              "      <td>170.00</td>\n",
              "      <td>True</td>\n",
              "      <td>1.0</td>\n",
              "      <td>True</td>\n",
              "      <td>3</td>\n",
              "      <td>3.0</td>\n",
              "      <td>3</td>\n",
              "    </tr>\n",
              "  </tbody>\n",
              "</table>\n",
              "</div>\n",
              "      <button class=\"colab-df-convert\" onclick=\"convertToInteractive('df-bf6dafe8-0d64-4530-8b9b-4e1821ffbc37')\"\n",
              "              title=\"Convert this dataframe to an interactive table.\"\n",
              "              style=\"display:none;\">\n",
              "        \n",
              "  <svg xmlns=\"http://www.w3.org/2000/svg\" height=\"24px\"viewBox=\"0 0 24 24\"\n",
              "       width=\"24px\">\n",
              "    <path d=\"M0 0h24v24H0V0z\" fill=\"none\"/>\n",
              "    <path d=\"M18.56 5.44l.94 2.06.94-2.06 2.06-.94-2.06-.94-.94-2.06-.94 2.06-2.06.94zm-11 1L8.5 8.5l.94-2.06 2.06-.94-2.06-.94L8.5 2.5l-.94 2.06-2.06.94zm10 10l.94 2.06.94-2.06 2.06-.94-2.06-.94-.94-2.06-.94 2.06-2.06.94z\"/><path d=\"M17.41 7.96l-1.37-1.37c-.4-.4-.92-.59-1.43-.59-.52 0-1.04.2-1.43.59L10.3 9.45l-7.72 7.72c-.78.78-.78 2.05 0 2.83L4 21.41c.39.39.9.59 1.41.59.51 0 1.02-.2 1.41-.59l7.78-7.78 2.81-2.81c.8-.78.8-2.07 0-2.86zM5.41 20L4 18.59l7.72-7.72 1.47 1.35L5.41 20z\"/>\n",
              "  </svg>\n",
              "      </button>\n",
              "      \n",
              "  <style>\n",
              "    .colab-df-container {\n",
              "      display:flex;\n",
              "      flex-wrap:wrap;\n",
              "      gap: 12px;\n",
              "    }\n",
              "\n",
              "    .colab-df-convert {\n",
              "      background-color: #E8F0FE;\n",
              "      border: none;\n",
              "      border-radius: 50%;\n",
              "      cursor: pointer;\n",
              "      display: none;\n",
              "      fill: #1967D2;\n",
              "      height: 32px;\n",
              "      padding: 0 0 0 0;\n",
              "      width: 32px;\n",
              "    }\n",
              "\n",
              "    .colab-df-convert:hover {\n",
              "      background-color: #E2EBFA;\n",
              "      box-shadow: 0px 1px 2px rgba(60, 64, 67, 0.3), 0px 1px 3px 1px rgba(60, 64, 67, 0.15);\n",
              "      fill: #174EA6;\n",
              "    }\n",
              "\n",
              "    [theme=dark] .colab-df-convert {\n",
              "      background-color: #3B4455;\n",
              "      fill: #D2E3FC;\n",
              "    }\n",
              "\n",
              "    [theme=dark] .colab-df-convert:hover {\n",
              "      background-color: #434B5C;\n",
              "      box-shadow: 0px 1px 3px 1px rgba(0, 0, 0, 0.15);\n",
              "      filter: drop-shadow(0px 1px 2px rgba(0, 0, 0, 0.3));\n",
              "      fill: #FFFFFF;\n",
              "    }\n",
              "  </style>\n",
              "\n",
              "      <script>\n",
              "        const buttonEl =\n",
              "          document.querySelector('#df-bf6dafe8-0d64-4530-8b9b-4e1821ffbc37 button.colab-df-convert');\n",
              "        buttonEl.style.display =\n",
              "          google.colab.kernel.accessAllowed ? 'block' : 'none';\n",
              "\n",
              "        async function convertToInteractive(key) {\n",
              "          const element = document.querySelector('#df-bf6dafe8-0d64-4530-8b9b-4e1821ffbc37');\n",
              "          const dataTable =\n",
              "            await google.colab.kernel.invokeFunction('convertToInteractive',\n",
              "                                                     [key], {});\n",
              "          if (!dataTable) return;\n",
              "\n",
              "          const docLinkHtml = 'Like what you see? Visit the ' +\n",
              "            '<a target=\"_blank\" href=https://colab.research.google.com/notebooks/data_table.ipynb>data table notebook</a>'\n",
              "            + ' to learn more about interactive tables.';\n",
              "          element.innerHTML = '';\n",
              "          dataTable['output_type'] = 'display_data';\n",
              "          await google.colab.output.renderOutput(dataTable, element);\n",
              "          const docLink = document.createElement('div');\n",
              "          docLink.innerHTML = docLinkHtml;\n",
              "          element.appendChild(docLink);\n",
              "        }\n",
              "      </script>\n",
              "    </div>\n",
              "  </div>\n",
              "  "
            ]
          },
          "metadata": {},
          "execution_count": 23
        }
      ],
      "source": [
        "brand_price=df.groupby('brand').aggregate(['min', np.median, max])\n",
        "brand_price.head()"
      ],
      "id": "ffef4f1e"
    },
    {
      "cell_type": "markdown",
      "metadata": {
        "id": "17791f47"
      },
      "source": [
        "### Adding new column price_band"
      ],
      "id": "17791f47"
    },
    {
      "cell_type": "markdown",
      "metadata": {
        "id": "95082d27"
      },
      "source": [
        "Creating a new column price_band that has values 0, 1, 2\n",
        "\n",
        "If  price <= 30             value = 0\n",
        "If  30> price <= 100        value = 1\n",
        "If  price  > 100            value = 2"
      ],
      "id": "95082d27"
    },
    {
      "cell_type": "code",
      "execution_count": null,
      "metadata": {
        "id": "6296ff9d",
        "colab": {
          "base_uri": "https://localhost:8080/",
          "height": 1000
        },
        "outputId": "6aff2091-a0c9-4578-b9c0-e63bca605814"
      },
      "outputs": [
        {
          "output_type": "execute_result",
          "data": {
            "text/plain": [
              "                     id             dateadded           dateupdated  \\\n",
              "0  AVpfEf_hLJeJML431ueH  2015-05-04T12:13:08Z  2018-01-29T04:38:43Z   \n",
              "1  AVpi74XfLJeJML43qZAc  2017-01-27T01:23:39Z  2018-01-03T05:21:54Z   \n",
              "2  AVpi74XfLJeJML43qZAc  2017-01-27T01:23:39Z  2018-01-03T05:21:54Z   \n",
              "3  AVpjXyCc1cnluZ0-V-Gj  2017-01-27T01:25:56Z  2018-01-04T11:52:35Z   \n",
              "4  AVphGKLPilAPnD_x1Nrm  2017-01-27T01:25:56Z  2018-01-18T03:55:18Z   \n",
              "5  AVpg91ziilAPnD_xziOo  2017-01-09T19:38:58Z  2018-10-23T21:26:11Z   \n",
              "6  AVpjGKXyLJeJML43r8BH  2017-01-17T19:09:21Z  2018-10-15T15:50:13Z   \n",
              "7  AVpjGKXyLJeJML43r8BH  2017-01-17T19:09:21Z  2018-10-15T15:50:13Z   \n",
              "8  AVpfLXyhilAPnD_xWmNc  2017-01-07T20:51:17Z  2018-01-03T05:22:07Z   \n",
              "9  AVpfeWdJ1cnluZ0-lXYU  2017-01-07T20:51:22Z  2018-01-30T06:18:34Z   \n",
              "\n",
              "         brand                                         categories  \\\n",
              "0  Naturalizer  Clothing,Shoes,Women's Shoes,All Women's Shoes...   \n",
              "1     MUK LUKS  Clothing,Shoes,Women's Shoes,Women's Casual Sh...   \n",
              "2     MUK LUKS  Clothing,Shoes,Women's Shoes,Women's Casual Sh...   \n",
              "3     MUK LUKS  Clothing,Shoes,Women's Shoes,All Women's Shoes...   \n",
              "4     MUK LUKS  Clothing,Shoes,Women's Shoes,All Women's Shoes...   \n",
              "5    Soft Ones  Womens Shoes,Clothing,Women's Shoes,Baby & Kid...   \n",
              "6     MUK LUKS  MUK LUKS,Womens,Women's Casual Shoes,Clothing,...   \n",
              "7     MUK LUKS  MUK LUKS,Womens,Women's Casual Shoes,Clothing,...   \n",
              "8     MUK LUKS     Clothing,Shoes,Women's Shoes,All Women's Shoes   \n",
              "9     MUK LUKS  Clothing,Shoes,Women's Shoes,Women's Winter Bo...   \n",
              "\n",
              "  primarycategories                                          imageurls  \\\n",
              "0             Shoes  https://i5.walmartimages.com/asr/861ca6cf-fa55...   \n",
              "1             Shoes  https://i5.walmartimages.com/asr/421de5d5-3a74...   \n",
              "2             Shoes  https://i5.walmartimages.com/asr/421de5d5-3a74...   \n",
              "3       Shoes,Shoes  https://i5.walmartimages.com/asr/950d38a5-0113...   \n",
              "4             Shoes  https://i5.walmartimages.com/asr/5e137bc3-c900...   \n",
              "5             Shoes  https://i5.walmartimages.com/asr/7b979ba6-fa0a...   \n",
              "6             Shoes  https://i5.walmartimages.com/asr/53c04329-c04e...   \n",
              "7             Shoes  https://i5.walmartimages.com/asr/53c04329-c04e...   \n",
              "8             Shoes  https://i5.walmartimages.com/asr/33997517-2082...   \n",
              "9             Shoes  https://i5.walmartimages.com/asr/bc1be340-3afc...   \n",
              "\n",
              "                                                keys  \\\n",
              "0  naturalizer/47147sc022,017136472311,womensnatu...   \n",
              "1  mukluks/00173650206,033977045743,muklukswomens...   \n",
              "2  mukluks/00173650206,033977045743,muklukswomens...   \n",
              "3  033977045903,muklukswomensdawnsuedescuffslippe...   \n",
              "4  mukluks/00173660206,033977045958,0033977045958...   \n",
              "5  033977052222,muklukssockmonkeyslipperbrowntwee...   \n",
              "6  womensclogwithfurlining/556122745,033977172555...   \n",
              "7  womensclogwithfurlining/556122745,033977172555...   \n",
              "8  mukluks/0003397713227,reliableofmilwuakee/0003...   \n",
              "9  muklukswomensmalenaboot/554233887,033977132542...   \n",
              "\n",
              "                                                name  prices.amountmax  ...  \\\n",
              "0  Naturalizer Danya Women N/S Open Toe Synthetic...             55.99  ...   \n",
              "1                MUK LUKS Womens Jane Suede Moccasin             47.00  ...   \n",
              "2                MUK LUKS Womens Jane Suede Moccasin             35.25  ...   \n",
              "3           MUK LUKS Womens Dawn Suede Scuff Slipper             24.75  ...   \n",
              "4           MUK LUKS Womens Dawn Suede Scuff Slipper             33.00  ...   \n",
              "5   Women's MUK LUKS¬Æ Soft Ones Sock Money Slippers             14.00  ...   \n",
              "6                Women's MUK LUKS¬Æ Faux Suede Clogs             24.00  ...   \n",
              "7                Women's MUK LUKS¬Æ Faux Suede Clogs             24.00  ...   \n",
              "8                       MUK LUKS Women's Malena Boot             59.00  ...   \n",
              "9                       MUK LUKS Women's Malena Boot             59.00  ...   \n",
              "\n",
              "   prices.issale prices.size  \\\n",
              "0          False           S   \n",
              "1           True           6   \n",
              "2          False           6   \n",
              "3          False           6   \n",
              "4           True           6   \n",
              "5           True           5   \n",
              "6          False       SMALL   \n",
              "7          False      MEDIUM   \n",
              "8           True           6   \n",
              "9           True           6   \n",
              "\n",
              "                                   prices.sourceurls  \\\n",
              "0  https://www.overstock.com/Clothing-Shoes/Women...   \n",
              "1  https://www.walmart.com/ip/MUK-LUKS-Womens-Jan...   \n",
              "2  https://www.walmart.com/ip/MUK-LUKS-Womens-Jan...   \n",
              "3  https://www.walmart.com/ip/MUK-LUKS-Womens-Daw...   \n",
              "4  https://www.walmart.com/ip/MUK-LUKS-Womens-Daw...   \n",
              "5  https://www.walmart.com/ip/MUK-LUKS-Sock-Monke...   \n",
              "6  https://www.kohls.com/product/prd-1780800/wome...   \n",
              "7  https://www.kohls.com/product/prd-1780800/wome...   \n",
              "8  https://www.walmart.com/ip/MUK-LUKS-Women-s-Ma...   \n",
              "9  https://www.walmart.com/ip/MUK-LUKS-Women-s-Ma...   \n",
              "\n",
              "                                               sizes  \\\n",
              "0  6W,9W,7.5W,12W,8.5M,9N,9M,9.5M,10.5M,10W,8.5W,...   \n",
              "1                                         10,7,6,9,8   \n",
              "2                                         10,7,6,9,8   \n",
              "3                                         10,7,6,9,8   \n",
              "4                                         10,7,6,9,8   \n",
              "5                                         5,6.5,9,11   \n",
              "6        S 5-6,SMALL,M 7-8,MEDIUM,LARGE,L 9-10,L 8-9   \n",
              "7        S 5-6,SMALL,M 7-8,MEDIUM,LARGE,L 9-10,L 8-9   \n",
              "8                                         10,7,6,9,8   \n",
              "9                                         10,7,6,9,8   \n",
              "\n",
              "                                          sourceurls           upc  \\\n",
              "0  https://www.walmart.com/ip/Naturalizer-Danya-W...  017136472311   \n",
              "1  https://www.walmart.com/ip/MUK-LUKS-Womens-Jan...  033977045743   \n",
              "2  https://www.walmart.com/ip/MUK-LUKS-Womens-Jan...  033977045743   \n",
              "3  https://www.walmart.com/ip/MUK-LUKS-Womens-Daw...  033977045903   \n",
              "4  https://www.walmart.com/ip/MUK-LUKS-Womens-Daw...  033977045958   \n",
              "5  https://www.walmart.com/ip/Soft-Ones-Kid-s-Soc...  033977052222   \n",
              "6  https://www.walmart.com/ip/Women-s-Clog-with-F...  033977098275   \n",
              "7  https://www.walmart.com/ip/Women-s-Clog-with-F...  033977098275   \n",
              "8  https://www.walmart.com/ip/MUK-LUKS-Women-s-Ma...  033977132276   \n",
              "9  https://www.walmart.com/ip/MUK-LUKS-Women-s-Ma...  033977132542   \n",
              "\n",
              "  prices.amountavg price.stat brand.count price_band  \n",
              "0           55.990      False           1          1  \n",
              "1           41.125      False          18          1  \n",
              "2           35.250      False          18          1  \n",
              "3           24.750      False          18          0  \n",
              "4           31.695      False          18          1  \n",
              "5           10.950      False           1          0  \n",
              "6           18.395      False          18          0  \n",
              "7           18.395      False          18          0  \n",
              "8           49.440      False          18          1  \n",
              "9           53.495      False          18          1  \n",
              "\n",
              "[10 rows x 25 columns]"
            ],
            "text/html": [
              "\n",
              "  <div id=\"df-eb0f2761-6f02-4c89-bb2f-8c58257e5095\">\n",
              "    <div class=\"colab-df-container\">\n",
              "      <div>\n",
              "<style scoped>\n",
              "    .dataframe tbody tr th:only-of-type {\n",
              "        vertical-align: middle;\n",
              "    }\n",
              "\n",
              "    .dataframe tbody tr th {\n",
              "        vertical-align: top;\n",
              "    }\n",
              "\n",
              "    .dataframe thead th {\n",
              "        text-align: right;\n",
              "    }\n",
              "</style>\n",
              "<table border=\"1\" class=\"dataframe\">\n",
              "  <thead>\n",
              "    <tr style=\"text-align: right;\">\n",
              "      <th></th>\n",
              "      <th>id</th>\n",
              "      <th>dateadded</th>\n",
              "      <th>dateupdated</th>\n",
              "      <th>brand</th>\n",
              "      <th>categories</th>\n",
              "      <th>primarycategories</th>\n",
              "      <th>imageurls</th>\n",
              "      <th>keys</th>\n",
              "      <th>name</th>\n",
              "      <th>prices.amountmax</th>\n",
              "      <th>...</th>\n",
              "      <th>prices.issale</th>\n",
              "      <th>prices.size</th>\n",
              "      <th>prices.sourceurls</th>\n",
              "      <th>sizes</th>\n",
              "      <th>sourceurls</th>\n",
              "      <th>upc</th>\n",
              "      <th>prices.amountavg</th>\n",
              "      <th>price.stat</th>\n",
              "      <th>brand.count</th>\n",
              "      <th>price_band</th>\n",
              "    </tr>\n",
              "  </thead>\n",
              "  <tbody>\n",
              "    <tr>\n",
              "      <th>0</th>\n",
              "      <td>AVpfEf_hLJeJML431ueH</td>\n",
              "      <td>2015-05-04T12:13:08Z</td>\n",
              "      <td>2018-01-29T04:38:43Z</td>\n",
              "      <td>Naturalizer</td>\n",
              "      <td>Clothing,Shoes,Women's Shoes,All Women's Shoes...</td>\n",
              "      <td>Shoes</td>\n",
              "      <td>https://i5.walmartimages.com/asr/861ca6cf-fa55...</td>\n",
              "      <td>naturalizer/47147sc022,017136472311,womensnatu...</td>\n",
              "      <td>Naturalizer Danya Women N/S Open Toe Synthetic...</td>\n",
              "      <td>55.99</td>\n",
              "      <td>...</td>\n",
              "      <td>False</td>\n",
              "      <td>S</td>\n",
              "      <td>https://www.overstock.com/Clothing-Shoes/Women...</td>\n",
              "      <td>6W,9W,7.5W,12W,8.5M,9N,9M,9.5M,10.5M,10W,8.5W,...</td>\n",
              "      <td>https://www.walmart.com/ip/Naturalizer-Danya-W...</td>\n",
              "      <td>017136472311</td>\n",
              "      <td>55.990</td>\n",
              "      <td>False</td>\n",
              "      <td>1</td>\n",
              "      <td>1</td>\n",
              "    </tr>\n",
              "    <tr>\n",
              "      <th>1</th>\n",
              "      <td>AVpi74XfLJeJML43qZAc</td>\n",
              "      <td>2017-01-27T01:23:39Z</td>\n",
              "      <td>2018-01-03T05:21:54Z</td>\n",
              "      <td>MUK LUKS</td>\n",
              "      <td>Clothing,Shoes,Women's Shoes,Women's Casual Sh...</td>\n",
              "      <td>Shoes</td>\n",
              "      <td>https://i5.walmartimages.com/asr/421de5d5-3a74...</td>\n",
              "      <td>mukluks/00173650206,033977045743,muklukswomens...</td>\n",
              "      <td>MUK LUKS Womens Jane Suede Moccasin</td>\n",
              "      <td>47.00</td>\n",
              "      <td>...</td>\n",
              "      <td>True</td>\n",
              "      <td>6</td>\n",
              "      <td>https://www.walmart.com/ip/MUK-LUKS-Womens-Jan...</td>\n",
              "      <td>10,7,6,9,8</td>\n",
              "      <td>https://www.walmart.com/ip/MUK-LUKS-Womens-Jan...</td>\n",
              "      <td>033977045743</td>\n",
              "      <td>41.125</td>\n",
              "      <td>False</td>\n",
              "      <td>18</td>\n",
              "      <td>1</td>\n",
              "    </tr>\n",
              "    <tr>\n",
              "      <th>2</th>\n",
              "      <td>AVpi74XfLJeJML43qZAc</td>\n",
              "      <td>2017-01-27T01:23:39Z</td>\n",
              "      <td>2018-01-03T05:21:54Z</td>\n",
              "      <td>MUK LUKS</td>\n",
              "      <td>Clothing,Shoes,Women's Shoes,Women's Casual Sh...</td>\n",
              "      <td>Shoes</td>\n",
              "      <td>https://i5.walmartimages.com/asr/421de5d5-3a74...</td>\n",
              "      <td>mukluks/00173650206,033977045743,muklukswomens...</td>\n",
              "      <td>MUK LUKS Womens Jane Suede Moccasin</td>\n",
              "      <td>35.25</td>\n",
              "      <td>...</td>\n",
              "      <td>False</td>\n",
              "      <td>6</td>\n",
              "      <td>https://www.walmart.com/ip/MUK-LUKS-Womens-Jan...</td>\n",
              "      <td>10,7,6,9,8</td>\n",
              "      <td>https://www.walmart.com/ip/MUK-LUKS-Womens-Jan...</td>\n",
              "      <td>033977045743</td>\n",
              "      <td>35.250</td>\n",
              "      <td>False</td>\n",
              "      <td>18</td>\n",
              "      <td>1</td>\n",
              "    </tr>\n",
              "    <tr>\n",
              "      <th>3</th>\n",
              "      <td>AVpjXyCc1cnluZ0-V-Gj</td>\n",
              "      <td>2017-01-27T01:25:56Z</td>\n",
              "      <td>2018-01-04T11:52:35Z</td>\n",
              "      <td>MUK LUKS</td>\n",
              "      <td>Clothing,Shoes,Women's Shoes,All Women's Shoes...</td>\n",
              "      <td>Shoes,Shoes</td>\n",
              "      <td>https://i5.walmartimages.com/asr/950d38a5-0113...</td>\n",
              "      <td>033977045903,muklukswomensdawnsuedescuffslippe...</td>\n",
              "      <td>MUK LUKS Womens Dawn Suede Scuff Slipper</td>\n",
              "      <td>24.75</td>\n",
              "      <td>...</td>\n",
              "      <td>False</td>\n",
              "      <td>6</td>\n",
              "      <td>https://www.walmart.com/ip/MUK-LUKS-Womens-Daw...</td>\n",
              "      <td>10,7,6,9,8</td>\n",
              "      <td>https://www.walmart.com/ip/MUK-LUKS-Womens-Daw...</td>\n",
              "      <td>033977045903</td>\n",
              "      <td>24.750</td>\n",
              "      <td>False</td>\n",
              "      <td>18</td>\n",
              "      <td>0</td>\n",
              "    </tr>\n",
              "    <tr>\n",
              "      <th>4</th>\n",
              "      <td>AVphGKLPilAPnD_x1Nrm</td>\n",
              "      <td>2017-01-27T01:25:56Z</td>\n",
              "      <td>2018-01-18T03:55:18Z</td>\n",
              "      <td>MUK LUKS</td>\n",
              "      <td>Clothing,Shoes,Women's Shoes,All Women's Shoes...</td>\n",
              "      <td>Shoes</td>\n",
              "      <td>https://i5.walmartimages.com/asr/5e137bc3-c900...</td>\n",
              "      <td>mukluks/00173660206,033977045958,0033977045958...</td>\n",
              "      <td>MUK LUKS Womens Dawn Suede Scuff Slipper</td>\n",
              "      <td>33.00</td>\n",
              "      <td>...</td>\n",
              "      <td>True</td>\n",
              "      <td>6</td>\n",
              "      <td>https://www.walmart.com/ip/MUK-LUKS-Womens-Daw...</td>\n",
              "      <td>10,7,6,9,8</td>\n",
              "      <td>https://www.walmart.com/ip/MUK-LUKS-Womens-Daw...</td>\n",
              "      <td>033977045958</td>\n",
              "      <td>31.695</td>\n",
              "      <td>False</td>\n",
              "      <td>18</td>\n",
              "      <td>1</td>\n",
              "    </tr>\n",
              "    <tr>\n",
              "      <th>5</th>\n",
              "      <td>AVpg91ziilAPnD_xziOo</td>\n",
              "      <td>2017-01-09T19:38:58Z</td>\n",
              "      <td>2018-10-23T21:26:11Z</td>\n",
              "      <td>Soft Ones</td>\n",
              "      <td>Womens Shoes,Clothing,Women's Shoes,Baby &amp; Kid...</td>\n",
              "      <td>Shoes</td>\n",
              "      <td>https://i5.walmartimages.com/asr/7b979ba6-fa0a...</td>\n",
              "      <td>033977052222,muklukssockmonkeyslipperbrowntwee...</td>\n",
              "      <td>Women's MUK LUKS¬Æ Soft Ones Sock Money Slippers</td>\n",
              "      <td>14.00</td>\n",
              "      <td>...</td>\n",
              "      <td>True</td>\n",
              "      <td>5</td>\n",
              "      <td>https://www.walmart.com/ip/MUK-LUKS-Sock-Monke...</td>\n",
              "      <td>5,6.5,9,11</td>\n",
              "      <td>https://www.walmart.com/ip/Soft-Ones-Kid-s-Soc...</td>\n",
              "      <td>033977052222</td>\n",
              "      <td>10.950</td>\n",
              "      <td>False</td>\n",
              "      <td>1</td>\n",
              "      <td>0</td>\n",
              "    </tr>\n",
              "    <tr>\n",
              "      <th>6</th>\n",
              "      <td>AVpjGKXyLJeJML43r8BH</td>\n",
              "      <td>2017-01-17T19:09:21Z</td>\n",
              "      <td>2018-10-15T15:50:13Z</td>\n",
              "      <td>MUK LUKS</td>\n",
              "      <td>MUK LUKS,Womens,Women's Casual Shoes,Clothing,...</td>\n",
              "      <td>Shoes</td>\n",
              "      <td>https://i5.walmartimages.com/asr/53c04329-c04e...</td>\n",
              "      <td>womensclogwithfurlining/556122745,033977172555...</td>\n",
              "      <td>Women's MUK LUKS¬Æ Faux Suede Clogs</td>\n",
              "      <td>24.00</td>\n",
              "      <td>...</td>\n",
              "      <td>False</td>\n",
              "      <td>SMALL</td>\n",
              "      <td>https://www.kohls.com/product/prd-1780800/wome...</td>\n",
              "      <td>S 5-6,SMALL,M 7-8,MEDIUM,LARGE,L 9-10,L 8-9</td>\n",
              "      <td>https://www.walmart.com/ip/Women-s-Clog-with-F...</td>\n",
              "      <td>033977098275</td>\n",
              "      <td>18.395</td>\n",
              "      <td>False</td>\n",
              "      <td>18</td>\n",
              "      <td>0</td>\n",
              "    </tr>\n",
              "    <tr>\n",
              "      <th>7</th>\n",
              "      <td>AVpjGKXyLJeJML43r8BH</td>\n",
              "      <td>2017-01-17T19:09:21Z</td>\n",
              "      <td>2018-10-15T15:50:13Z</td>\n",
              "      <td>MUK LUKS</td>\n",
              "      <td>MUK LUKS,Womens,Women's Casual Shoes,Clothing,...</td>\n",
              "      <td>Shoes</td>\n",
              "      <td>https://i5.walmartimages.com/asr/53c04329-c04e...</td>\n",
              "      <td>womensclogwithfurlining/556122745,033977172555...</td>\n",
              "      <td>Women's MUK LUKS¬Æ Faux Suede Clogs</td>\n",
              "      <td>24.00</td>\n",
              "      <td>...</td>\n",
              "      <td>False</td>\n",
              "      <td>MEDIUM</td>\n",
              "      <td>https://www.kohls.com/product/prd-1780800/wome...</td>\n",
              "      <td>S 5-6,SMALL,M 7-8,MEDIUM,LARGE,L 9-10,L 8-9</td>\n",
              "      <td>https://www.walmart.com/ip/Women-s-Clog-with-F...</td>\n",
              "      <td>033977098275</td>\n",
              "      <td>18.395</td>\n",
              "      <td>False</td>\n",
              "      <td>18</td>\n",
              "      <td>0</td>\n",
              "    </tr>\n",
              "    <tr>\n",
              "      <th>8</th>\n",
              "      <td>AVpfLXyhilAPnD_xWmNc</td>\n",
              "      <td>2017-01-07T20:51:17Z</td>\n",
              "      <td>2018-01-03T05:22:07Z</td>\n",
              "      <td>MUK LUKS</td>\n",
              "      <td>Clothing,Shoes,Women's Shoes,All Women's Shoes</td>\n",
              "      <td>Shoes</td>\n",
              "      <td>https://i5.walmartimages.com/asr/33997517-2082...</td>\n",
              "      <td>mukluks/0003397713227,reliableofmilwuakee/0003...</td>\n",
              "      <td>MUK LUKS Women's Malena Boot</td>\n",
              "      <td>59.00</td>\n",
              "      <td>...</td>\n",
              "      <td>True</td>\n",
              "      <td>6</td>\n",
              "      <td>https://www.walmart.com/ip/MUK-LUKS-Women-s-Ma...</td>\n",
              "      <td>10,7,6,9,8</td>\n",
              "      <td>https://www.walmart.com/ip/MUK-LUKS-Women-s-Ma...</td>\n",
              "      <td>033977132276</td>\n",
              "      <td>49.440</td>\n",
              "      <td>False</td>\n",
              "      <td>18</td>\n",
              "      <td>1</td>\n",
              "    </tr>\n",
              "    <tr>\n",
              "      <th>9</th>\n",
              "      <td>AVpfeWdJ1cnluZ0-lXYU</td>\n",
              "      <td>2017-01-07T20:51:22Z</td>\n",
              "      <td>2018-01-30T06:18:34Z</td>\n",
              "      <td>MUK LUKS</td>\n",
              "      <td>Clothing,Shoes,Women's Shoes,Women's Winter Bo...</td>\n",
              "      <td>Shoes</td>\n",
              "      <td>https://i5.walmartimages.com/asr/bc1be340-3afc...</td>\n",
              "      <td>muklukswomensmalenaboot/554233887,033977132542...</td>\n",
              "      <td>MUK LUKS Women's Malena Boot</td>\n",
              "      <td>59.00</td>\n",
              "      <td>...</td>\n",
              "      <td>True</td>\n",
              "      <td>6</td>\n",
              "      <td>https://www.walmart.com/ip/MUK-LUKS-Women-s-Ma...</td>\n",
              "      <td>10,7,6,9,8</td>\n",
              "      <td>https://www.walmart.com/ip/MUK-LUKS-Women-s-Ma...</td>\n",
              "      <td>033977132542</td>\n",
              "      <td>53.495</td>\n",
              "      <td>False</td>\n",
              "      <td>18</td>\n",
              "      <td>1</td>\n",
              "    </tr>\n",
              "  </tbody>\n",
              "</table>\n",
              "<p>10 rows × 25 columns</p>\n",
              "</div>\n",
              "      <button class=\"colab-df-convert\" onclick=\"convertToInteractive('df-eb0f2761-6f02-4c89-bb2f-8c58257e5095')\"\n",
              "              title=\"Convert this dataframe to an interactive table.\"\n",
              "              style=\"display:none;\">\n",
              "        \n",
              "  <svg xmlns=\"http://www.w3.org/2000/svg\" height=\"24px\"viewBox=\"0 0 24 24\"\n",
              "       width=\"24px\">\n",
              "    <path d=\"M0 0h24v24H0V0z\" fill=\"none\"/>\n",
              "    <path d=\"M18.56 5.44l.94 2.06.94-2.06 2.06-.94-2.06-.94-.94-2.06-.94 2.06-2.06.94zm-11 1L8.5 8.5l.94-2.06 2.06-.94-2.06-.94L8.5 2.5l-.94 2.06-2.06.94zm10 10l.94 2.06.94-2.06 2.06-.94-2.06-.94-.94-2.06-.94 2.06-2.06.94z\"/><path d=\"M17.41 7.96l-1.37-1.37c-.4-.4-.92-.59-1.43-.59-.52 0-1.04.2-1.43.59L10.3 9.45l-7.72 7.72c-.78.78-.78 2.05 0 2.83L4 21.41c.39.39.9.59 1.41.59.51 0 1.02-.2 1.41-.59l7.78-7.78 2.81-2.81c.8-.78.8-2.07 0-2.86zM5.41 20L4 18.59l7.72-7.72 1.47 1.35L5.41 20z\"/>\n",
              "  </svg>\n",
              "      </button>\n",
              "      \n",
              "  <style>\n",
              "    .colab-df-container {\n",
              "      display:flex;\n",
              "      flex-wrap:wrap;\n",
              "      gap: 12px;\n",
              "    }\n",
              "\n",
              "    .colab-df-convert {\n",
              "      background-color: #E8F0FE;\n",
              "      border: none;\n",
              "      border-radius: 50%;\n",
              "      cursor: pointer;\n",
              "      display: none;\n",
              "      fill: #1967D2;\n",
              "      height: 32px;\n",
              "      padding: 0 0 0 0;\n",
              "      width: 32px;\n",
              "    }\n",
              "\n",
              "    .colab-df-convert:hover {\n",
              "      background-color: #E2EBFA;\n",
              "      box-shadow: 0px 1px 2px rgba(60, 64, 67, 0.3), 0px 1px 3px 1px rgba(60, 64, 67, 0.15);\n",
              "      fill: #174EA6;\n",
              "    }\n",
              "\n",
              "    [theme=dark] .colab-df-convert {\n",
              "      background-color: #3B4455;\n",
              "      fill: #D2E3FC;\n",
              "    }\n",
              "\n",
              "    [theme=dark] .colab-df-convert:hover {\n",
              "      background-color: #434B5C;\n",
              "      box-shadow: 0px 1px 3px 1px rgba(0, 0, 0, 0.15);\n",
              "      filter: drop-shadow(0px 1px 2px rgba(0, 0, 0, 0.3));\n",
              "      fill: #FFFFFF;\n",
              "    }\n",
              "  </style>\n",
              "\n",
              "      <script>\n",
              "        const buttonEl =\n",
              "          document.querySelector('#df-eb0f2761-6f02-4c89-bb2f-8c58257e5095 button.colab-df-convert');\n",
              "        buttonEl.style.display =\n",
              "          google.colab.kernel.accessAllowed ? 'block' : 'none';\n",
              "\n",
              "        async function convertToInteractive(key) {\n",
              "          const element = document.querySelector('#df-eb0f2761-6f02-4c89-bb2f-8c58257e5095');\n",
              "          const dataTable =\n",
              "            await google.colab.kernel.invokeFunction('convertToInteractive',\n",
              "                                                     [key], {});\n",
              "          if (!dataTable) return;\n",
              "\n",
              "          const docLinkHtml = 'Like what you see? Visit the ' +\n",
              "            '<a target=\"_blank\" href=https://colab.research.google.com/notebooks/data_table.ipynb>data table notebook</a>'\n",
              "            + ' to learn more about interactive tables.';\n",
              "          element.innerHTML = '';\n",
              "          dataTable['output_type'] = 'display_data';\n",
              "          await google.colab.output.renderOutput(dataTable, element);\n",
              "          const docLink = document.createElement('div');\n",
              "          docLink.innerHTML = docLinkHtml;\n",
              "          element.appendChild(docLink);\n",
              "        }\n",
              "      </script>\n",
              "    </div>\n",
              "  </div>\n",
              "  "
            ]
          },
          "metadata": {},
          "execution_count": 24
        }
      ],
      "source": [
        "# creating price band to group the prices in data. price>=30 = 0,price>30 & <=100 =1, price>100 =2\n",
        "df['price_band']=0\n",
        "df.loc[df['prices.amountmax']<=30,'price_band']=0\n",
        "df.loc[(df['prices.amountmax']>30)&(df['prices.amountmax']<=100),'price_band']=1\n",
        "df.loc[df['prices.amountmax']>100,'price_band']=2\n",
        "df.head(10)"
      ],
      "id": "6296ff9d"
    },
    {
      "cell_type": "code",
      "execution_count": null,
      "metadata": {
        "id": "f526e07f",
        "colab": {
          "base_uri": "https://localhost:8080/"
        },
        "outputId": "607b409a-53b0-4ed8-9089-8db9fb5cc884"
      },
      "outputs": [
        {
          "output_type": "execute_result",
          "data": {
            "text/plain": [
              "1    9421\n",
              "2     374\n",
              "0     205\n",
              "Name: price_band, dtype: int64"
            ]
          },
          "metadata": {},
          "execution_count": 25
        }
      ],
      "source": [
        "# checking the value counts in price_band\n",
        "df['price_band'].value_counts()"
      ],
      "id": "f526e07f"
    },
    {
      "cell_type": "markdown",
      "metadata": {
        "id": "2b0e76ba"
      },
      "source": [
        "## Label Encoding"
      ],
      "id": "2b0e76ba"
    },
    {
      "cell_type": "code",
      "execution_count": null,
      "metadata": {
        "id": "6a7cb984",
        "colab": {
          "base_uri": "https://localhost:8080/"
        },
        "outputId": "f313a1f9-3c9d-40b5-cf32-3139c0895f9e"
      },
      "outputs": [
        {
          "output_type": "stream",
          "name": "stdout",
          "text": [
            "<class 'pandas.core.frame.DataFrame'>\n",
            "RangeIndex: 10000 entries, 0 to 9999\n",
            "Data columns (total 25 columns):\n",
            " #   Column             Non-Null Count  Dtype  \n",
            "---  ------             --------------  -----  \n",
            " 0   id                 10000 non-null  object \n",
            " 1   dateadded          10000 non-null  object \n",
            " 2   dateupdated        10000 non-null  object \n",
            " 3   brand              10000 non-null  object \n",
            " 4   categories         10000 non-null  object \n",
            " 5   primarycategories  10000 non-null  object \n",
            " 6   imageurls          10000 non-null  object \n",
            " 7   keys               10000 non-null  object \n",
            " 8   name               10000 non-null  object \n",
            " 9   prices.amountmax   10000 non-null  float64\n",
            " 10  prices.amountmin   10000 non-null  float64\n",
            " 11  prices.color       10000 non-null  object \n",
            " 12  prices.currency    10000 non-null  object \n",
            " 13  prices.dateadded   10000 non-null  object \n",
            " 14  prices.dateseen    10000 non-null  object \n",
            " 15  prices.issale      10000 non-null  bool   \n",
            " 16  prices.size        10000 non-null  object \n",
            " 17  prices.sourceurls  10000 non-null  object \n",
            " 18  sizes              10000 non-null  object \n",
            " 19  sourceurls         10000 non-null  object \n",
            " 20  upc                10000 non-null  object \n",
            " 21  prices.amountavg   10000 non-null  float64\n",
            " 22  price.stat         10000 non-null  bool   \n",
            " 23  brand.count        10000 non-null  int64  \n",
            " 24  price_band         10000 non-null  int64  \n",
            "dtypes: bool(2), float64(3), int64(2), object(18)\n",
            "memory usage: 1.8+ MB\n"
          ]
        }
      ],
      "source": [
        "# Label encoding- first step checking datatypes \n",
        "df.info()"
      ],
      "id": "6a7cb984"
    },
    {
      "cell_type": "code",
      "execution_count": null,
      "metadata": {
        "id": "1efad11c",
        "colab": {
          "base_uri": "https://localhost:8080/"
        },
        "outputId": "cba2790e-5b7b-440b-c62f-0d817e987c80"
      },
      "outputs": [
        {
          "output_type": "execute_result",
          "data": {
            "text/plain": [
              "id                    object\n",
              "dateadded             object\n",
              "dateupdated           object\n",
              "brand                 object\n",
              "categories            object\n",
              "primarycategories     object\n",
              "imageurls             object\n",
              "keys                  object\n",
              "name                  object\n",
              "prices.amountmax     float64\n",
              "prices.amountmin     float64\n",
              "prices.color          object\n",
              "prices.currency       object\n",
              "prices.dateadded      object\n",
              "prices.dateseen       object\n",
              "prices.issale          int64\n",
              "prices.size           object\n",
              "prices.sourceurls     object\n",
              "sizes                 object\n",
              "sourceurls            object\n",
              "upc                   object\n",
              "prices.amountavg     float64\n",
              "price.stat             int64\n",
              "brand.count            int64\n",
              "price_band             int64\n",
              "dtype: object"
            ]
          },
          "metadata": {},
          "execution_count": 27
        }
      ],
      "source": [
        "# Converting the boolean values to 0,1 using .astype()\n",
        "df[['prices.issale','price.stat']] = df[['prices.issale','price.stat']].astype('int')\n",
        "df.dtypes"
      ],
      "id": "1efad11c"
    },
    {
      "cell_type": "code",
      "execution_count": null,
      "metadata": {
        "id": "675060cb",
        "colab": {
          "base_uri": "https://localhost:8080/",
          "height": 206
        },
        "outputId": "3be9aac9-2333-4bc9-9102-08a80828136c"
      },
      "outputs": [
        {
          "output_type": "execute_result",
          "data": {
            "text/plain": [
              "   prices.issale  price.stat\n",
              "0              0           0\n",
              "1              1           0\n",
              "2              0           0\n",
              "3              0           0\n",
              "4              1           0"
            ],
            "text/html": [
              "\n",
              "  <div id=\"df-cb1621ba-ee6a-42e9-ac06-ee85e77db237\">\n",
              "    <div class=\"colab-df-container\">\n",
              "      <div>\n",
              "<style scoped>\n",
              "    .dataframe tbody tr th:only-of-type {\n",
              "        vertical-align: middle;\n",
              "    }\n",
              "\n",
              "    .dataframe tbody tr th {\n",
              "        vertical-align: top;\n",
              "    }\n",
              "\n",
              "    .dataframe thead th {\n",
              "        text-align: right;\n",
              "    }\n",
              "</style>\n",
              "<table border=\"1\" class=\"dataframe\">\n",
              "  <thead>\n",
              "    <tr style=\"text-align: right;\">\n",
              "      <th></th>\n",
              "      <th>prices.issale</th>\n",
              "      <th>price.stat</th>\n",
              "    </tr>\n",
              "  </thead>\n",
              "  <tbody>\n",
              "    <tr>\n",
              "      <th>0</th>\n",
              "      <td>0</td>\n",
              "      <td>0</td>\n",
              "    </tr>\n",
              "    <tr>\n",
              "      <th>1</th>\n",
              "      <td>1</td>\n",
              "      <td>0</td>\n",
              "    </tr>\n",
              "    <tr>\n",
              "      <th>2</th>\n",
              "      <td>0</td>\n",
              "      <td>0</td>\n",
              "    </tr>\n",
              "    <tr>\n",
              "      <th>3</th>\n",
              "      <td>0</td>\n",
              "      <td>0</td>\n",
              "    </tr>\n",
              "    <tr>\n",
              "      <th>4</th>\n",
              "      <td>1</td>\n",
              "      <td>0</td>\n",
              "    </tr>\n",
              "  </tbody>\n",
              "</table>\n",
              "</div>\n",
              "      <button class=\"colab-df-convert\" onclick=\"convertToInteractive('df-cb1621ba-ee6a-42e9-ac06-ee85e77db237')\"\n",
              "              title=\"Convert this dataframe to an interactive table.\"\n",
              "              style=\"display:none;\">\n",
              "        \n",
              "  <svg xmlns=\"http://www.w3.org/2000/svg\" height=\"24px\"viewBox=\"0 0 24 24\"\n",
              "       width=\"24px\">\n",
              "    <path d=\"M0 0h24v24H0V0z\" fill=\"none\"/>\n",
              "    <path d=\"M18.56 5.44l.94 2.06.94-2.06 2.06-.94-2.06-.94-.94-2.06-.94 2.06-2.06.94zm-11 1L8.5 8.5l.94-2.06 2.06-.94-2.06-.94L8.5 2.5l-.94 2.06-2.06.94zm10 10l.94 2.06.94-2.06 2.06-.94-2.06-.94-.94-2.06-.94 2.06-2.06.94z\"/><path d=\"M17.41 7.96l-1.37-1.37c-.4-.4-.92-.59-1.43-.59-.52 0-1.04.2-1.43.59L10.3 9.45l-7.72 7.72c-.78.78-.78 2.05 0 2.83L4 21.41c.39.39.9.59 1.41.59.51 0 1.02-.2 1.41-.59l7.78-7.78 2.81-2.81c.8-.78.8-2.07 0-2.86zM5.41 20L4 18.59l7.72-7.72 1.47 1.35L5.41 20z\"/>\n",
              "  </svg>\n",
              "      </button>\n",
              "      \n",
              "  <style>\n",
              "    .colab-df-container {\n",
              "      display:flex;\n",
              "      flex-wrap:wrap;\n",
              "      gap: 12px;\n",
              "    }\n",
              "\n",
              "    .colab-df-convert {\n",
              "      background-color: #E8F0FE;\n",
              "      border: none;\n",
              "      border-radius: 50%;\n",
              "      cursor: pointer;\n",
              "      display: none;\n",
              "      fill: #1967D2;\n",
              "      height: 32px;\n",
              "      padding: 0 0 0 0;\n",
              "      width: 32px;\n",
              "    }\n",
              "\n",
              "    .colab-df-convert:hover {\n",
              "      background-color: #E2EBFA;\n",
              "      box-shadow: 0px 1px 2px rgba(60, 64, 67, 0.3), 0px 1px 3px 1px rgba(60, 64, 67, 0.15);\n",
              "      fill: #174EA6;\n",
              "    }\n",
              "\n",
              "    [theme=dark] .colab-df-convert {\n",
              "      background-color: #3B4455;\n",
              "      fill: #D2E3FC;\n",
              "    }\n",
              "\n",
              "    [theme=dark] .colab-df-convert:hover {\n",
              "      background-color: #434B5C;\n",
              "      box-shadow: 0px 1px 3px 1px rgba(0, 0, 0, 0.15);\n",
              "      filter: drop-shadow(0px 1px 2px rgba(0, 0, 0, 0.3));\n",
              "      fill: #FFFFFF;\n",
              "    }\n",
              "  </style>\n",
              "\n",
              "      <script>\n",
              "        const buttonEl =\n",
              "          document.querySelector('#df-cb1621ba-ee6a-42e9-ac06-ee85e77db237 button.colab-df-convert');\n",
              "        buttonEl.style.display =\n",
              "          google.colab.kernel.accessAllowed ? 'block' : 'none';\n",
              "\n",
              "        async function convertToInteractive(key) {\n",
              "          const element = document.querySelector('#df-cb1621ba-ee6a-42e9-ac06-ee85e77db237');\n",
              "          const dataTable =\n",
              "            await google.colab.kernel.invokeFunction('convertToInteractive',\n",
              "                                                     [key], {});\n",
              "          if (!dataTable) return;\n",
              "\n",
              "          const docLinkHtml = 'Like what you see? Visit the ' +\n",
              "            '<a target=\"_blank\" href=https://colab.research.google.com/notebooks/data_table.ipynb>data table notebook</a>'\n",
              "            + ' to learn more about interactive tables.';\n",
              "          element.innerHTML = '';\n",
              "          dataTable['output_type'] = 'display_data';\n",
              "          await google.colab.output.renderOutput(dataTable, element);\n",
              "          const docLink = document.createElement('div');\n",
              "          docLink.innerHTML = docLinkHtml;\n",
              "          element.appendChild(docLink);\n",
              "        }\n",
              "      </script>\n",
              "    </div>\n",
              "  </div>\n",
              "  "
            ]
          },
          "metadata": {},
          "execution_count": 28
        }
      ],
      "source": [
        "df[['prices.issale','price.stat']].head()"
      ],
      "id": "675060cb"
    },
    {
      "cell_type": "code",
      "execution_count": null,
      "metadata": {
        "id": "7cc3b88b",
        "colab": {
          "base_uri": "https://localhost:8080/",
          "height": 363
        },
        "outputId": "f2aa0dff-63bd-42bd-e317-7f020ce6e329"
      },
      "outputs": [
        {
          "output_type": "execute_result",
          "data": {
            "text/plain": [
              "         brand  brand_code\n",
              "0  Naturalizer          44\n",
              "1     MUK LUKS          39\n",
              "2     MUK LUKS          39\n",
              "3     MUK LUKS          39\n",
              "4     MUK LUKS          39\n",
              "5    Soft Ones          62\n",
              "6     MUK LUKS          39\n",
              "7     MUK LUKS          39\n",
              "8     MUK LUKS          39\n",
              "9     MUK LUKS          39"
            ],
            "text/html": [
              "\n",
              "  <div id=\"df-abdcc312-d8a6-48e6-9ba6-20e878d8abac\">\n",
              "    <div class=\"colab-df-container\">\n",
              "      <div>\n",
              "<style scoped>\n",
              "    .dataframe tbody tr th:only-of-type {\n",
              "        vertical-align: middle;\n",
              "    }\n",
              "\n",
              "    .dataframe tbody tr th {\n",
              "        vertical-align: top;\n",
              "    }\n",
              "\n",
              "    .dataframe thead th {\n",
              "        text-align: right;\n",
              "    }\n",
              "</style>\n",
              "<table border=\"1\" class=\"dataframe\">\n",
              "  <thead>\n",
              "    <tr style=\"text-align: right;\">\n",
              "      <th></th>\n",
              "      <th>brand</th>\n",
              "      <th>brand_code</th>\n",
              "    </tr>\n",
              "  </thead>\n",
              "  <tbody>\n",
              "    <tr>\n",
              "      <th>0</th>\n",
              "      <td>Naturalizer</td>\n",
              "      <td>44</td>\n",
              "    </tr>\n",
              "    <tr>\n",
              "      <th>1</th>\n",
              "      <td>MUK LUKS</td>\n",
              "      <td>39</td>\n",
              "    </tr>\n",
              "    <tr>\n",
              "      <th>2</th>\n",
              "      <td>MUK LUKS</td>\n",
              "      <td>39</td>\n",
              "    </tr>\n",
              "    <tr>\n",
              "      <th>3</th>\n",
              "      <td>MUK LUKS</td>\n",
              "      <td>39</td>\n",
              "    </tr>\n",
              "    <tr>\n",
              "      <th>4</th>\n",
              "      <td>MUK LUKS</td>\n",
              "      <td>39</td>\n",
              "    </tr>\n",
              "    <tr>\n",
              "      <th>5</th>\n",
              "      <td>Soft Ones</td>\n",
              "      <td>62</td>\n",
              "    </tr>\n",
              "    <tr>\n",
              "      <th>6</th>\n",
              "      <td>MUK LUKS</td>\n",
              "      <td>39</td>\n",
              "    </tr>\n",
              "    <tr>\n",
              "      <th>7</th>\n",
              "      <td>MUK LUKS</td>\n",
              "      <td>39</td>\n",
              "    </tr>\n",
              "    <tr>\n",
              "      <th>8</th>\n",
              "      <td>MUK LUKS</td>\n",
              "      <td>39</td>\n",
              "    </tr>\n",
              "    <tr>\n",
              "      <th>9</th>\n",
              "      <td>MUK LUKS</td>\n",
              "      <td>39</td>\n",
              "    </tr>\n",
              "  </tbody>\n",
              "</table>\n",
              "</div>\n",
              "      <button class=\"colab-df-convert\" onclick=\"convertToInteractive('df-abdcc312-d8a6-48e6-9ba6-20e878d8abac')\"\n",
              "              title=\"Convert this dataframe to an interactive table.\"\n",
              "              style=\"display:none;\">\n",
              "        \n",
              "  <svg xmlns=\"http://www.w3.org/2000/svg\" height=\"24px\"viewBox=\"0 0 24 24\"\n",
              "       width=\"24px\">\n",
              "    <path d=\"M0 0h24v24H0V0z\" fill=\"none\"/>\n",
              "    <path d=\"M18.56 5.44l.94 2.06.94-2.06 2.06-.94-2.06-.94-.94-2.06-.94 2.06-2.06.94zm-11 1L8.5 8.5l.94-2.06 2.06-.94-2.06-.94L8.5 2.5l-.94 2.06-2.06.94zm10 10l.94 2.06.94-2.06 2.06-.94-2.06-.94-.94-2.06-.94 2.06-2.06.94z\"/><path d=\"M17.41 7.96l-1.37-1.37c-.4-.4-.92-.59-1.43-.59-.52 0-1.04.2-1.43.59L10.3 9.45l-7.72 7.72c-.78.78-.78 2.05 0 2.83L4 21.41c.39.39.9.59 1.41.59.51 0 1.02-.2 1.41-.59l7.78-7.78 2.81-2.81c.8-.78.8-2.07 0-2.86zM5.41 20L4 18.59l7.72-7.72 1.47 1.35L5.41 20z\"/>\n",
              "  </svg>\n",
              "      </button>\n",
              "      \n",
              "  <style>\n",
              "    .colab-df-container {\n",
              "      display:flex;\n",
              "      flex-wrap:wrap;\n",
              "      gap: 12px;\n",
              "    }\n",
              "\n",
              "    .colab-df-convert {\n",
              "      background-color: #E8F0FE;\n",
              "      border: none;\n",
              "      border-radius: 50%;\n",
              "      cursor: pointer;\n",
              "      display: none;\n",
              "      fill: #1967D2;\n",
              "      height: 32px;\n",
              "      padding: 0 0 0 0;\n",
              "      width: 32px;\n",
              "    }\n",
              "\n",
              "    .colab-df-convert:hover {\n",
              "      background-color: #E2EBFA;\n",
              "      box-shadow: 0px 1px 2px rgba(60, 64, 67, 0.3), 0px 1px 3px 1px rgba(60, 64, 67, 0.15);\n",
              "      fill: #174EA6;\n",
              "    }\n",
              "\n",
              "    [theme=dark] .colab-df-convert {\n",
              "      background-color: #3B4455;\n",
              "      fill: #D2E3FC;\n",
              "    }\n",
              "\n",
              "    [theme=dark] .colab-df-convert:hover {\n",
              "      background-color: #434B5C;\n",
              "      box-shadow: 0px 1px 3px 1px rgba(0, 0, 0, 0.15);\n",
              "      filter: drop-shadow(0px 1px 2px rgba(0, 0, 0, 0.3));\n",
              "      fill: #FFFFFF;\n",
              "    }\n",
              "  </style>\n",
              "\n",
              "      <script>\n",
              "        const buttonEl =\n",
              "          document.querySelector('#df-abdcc312-d8a6-48e6-9ba6-20e878d8abac button.colab-df-convert');\n",
              "        buttonEl.style.display =\n",
              "          google.colab.kernel.accessAllowed ? 'block' : 'none';\n",
              "\n",
              "        async function convertToInteractive(key) {\n",
              "          const element = document.querySelector('#df-abdcc312-d8a6-48e6-9ba6-20e878d8abac');\n",
              "          const dataTable =\n",
              "            await google.colab.kernel.invokeFunction('convertToInteractive',\n",
              "                                                     [key], {});\n",
              "          if (!dataTable) return;\n",
              "\n",
              "          const docLinkHtml = 'Like what you see? Visit the ' +\n",
              "            '<a target=\"_blank\" href=https://colab.research.google.com/notebooks/data_table.ipynb>data table notebook</a>'\n",
              "            + ' to learn more about interactive tables.';\n",
              "          element.innerHTML = '';\n",
              "          dataTable['output_type'] = 'display_data';\n",
              "          await google.colab.output.renderOutput(dataTable, element);\n",
              "          const docLink = document.createElement('div');\n",
              "          docLink.innerHTML = docLinkHtml;\n",
              "          element.appendChild(docLink);\n",
              "        }\n",
              "      </script>\n",
              "    </div>\n",
              "  </div>\n",
              "  "
            ]
          },
          "metadata": {},
          "execution_count": 29
        }
      ],
      "source": [
        "# Encoding the brand values which are strings to integers in a new column brand_code\n",
        "from sklearn.preprocessing import LabelEncoder\n",
        "\n",
        "lb_brand = LabelEncoder()\n",
        "df['brand_code'] = lb_brand.fit_transform(df['brand'])\n",
        "df[['brand', 'brand_code']].head(10)"
      ],
      "id": "7cc3b88b"
    },
    {
      "cell_type": "code",
      "execution_count": null,
      "metadata": {
        "id": "f1a31ba2",
        "colab": {
          "base_uri": "https://localhost:8080/"
        },
        "outputId": "23d81e5e-1d84-4caa-a7cc-3fd2cea47b91"
      },
      "outputs": [
        {
          "output_type": "execute_result",
          "data": {
            "text/plain": [
              "dtype('int64')"
            ]
          },
          "metadata": {},
          "execution_count": 30
        }
      ],
      "source": [
        "df['brand_code'].dtypes"
      ],
      "id": "f1a31ba2"
    },
    {
      "cell_type": "code",
      "execution_count": null,
      "metadata": {
        "id": "f2fdb004",
        "colab": {
          "base_uri": "https://localhost:8080/"
        },
        "outputId": "58d2525f-fa4e-4215-b930-d743422e3c6f"
      },
      "outputs": [
        {
          "output_type": "execute_result",
          "data": {
            "text/plain": [
              "Index(['id', 'dateadded', 'dateupdated', 'brand', 'categories',\n",
              "       'primarycategories', 'imageurls', 'keys', 'name', 'prices.amountmax',\n",
              "       'prices.amountmin', 'prices.color', 'prices.currency',\n",
              "       'prices.dateadded', 'prices.dateseen', 'prices.issale', 'prices.size',\n",
              "       'prices.sourceurls', 'sizes', 'sourceurls', 'upc', 'prices.amountavg',\n",
              "       'price.stat', 'brand.count', 'price_band', 'brand_code'],\n",
              "      dtype='object')"
            ]
          },
          "metadata": {},
          "execution_count": 31
        }
      ],
      "source": [
        "df.columns"
      ],
      "id": "f2fdb004"
    },
    {
      "cell_type": "code",
      "execution_count": null,
      "metadata": {
        "id": "dfda1971",
        "colab": {
          "base_uri": "https://localhost:8080/"
        },
        "outputId": "36f86771-73a6-4c44-9535-30bcc6e52c66"
      },
      "outputs": [
        {
          "output_type": "execute_result",
          "data": {
            "text/plain": [
              "653"
            ]
          },
          "metadata": {},
          "execution_count": 32
        }
      ],
      "source": [
        "df['id'].nunique()"
      ],
      "id": "dfda1971"
    },
    {
      "cell_type": "code",
      "execution_count": null,
      "metadata": {
        "id": "154d1eb3"
      },
      "outputs": [],
      "source": [
        ""
      ],
      "id": "154d1eb3"
    },
    {
      "cell_type": "markdown",
      "metadata": {
        "id": "e5f47b16"
      },
      "source": [
        "## Outliers"
      ],
      "id": "e5f47b16"
    },
    {
      "cell_type": "code",
      "execution_count": null,
      "metadata": {
        "id": "dbc4a9b8"
      },
      "outputs": [],
      "source": [
        "outliers = df[df['prices.amountmax'] > df['prices.amountmax'].mean() + 2 * df['prices.amountmax'].std()]"
      ],
      "id": "dbc4a9b8"
    },
    {
      "cell_type": "code",
      "execution_count": null,
      "metadata": {
        "id": "3c31162a",
        "colab": {
          "base_uri": "https://localhost:8080/",
          "height": 300
        },
        "outputId": "cb05a2df-1192-4c7c-d047-e640e354d7a4"
      },
      "outputs": [
        {
          "output_type": "execute_result",
          "data": {
            "text/plain": [
              "       prices.amountmax  prices.amountmin  prices.issale  prices.amountavg  \\\n",
              "count        373.000000        373.000000     373.000000        373.000000   \n",
              "mean         133.312601        108.058338       0.284182        120.685469   \n",
              "std           31.507292         40.969440       0.451630         33.267914   \n",
              "min          109.000000         37.490000       0.000000         78.745000   \n",
              "25%          119.000000         79.970000       0.000000        101.990000   \n",
              "50%          120.000000        110.000000       0.000000        119.000000   \n",
              "75%          140.000000        129.950000       1.000000        129.950000   \n",
              "max          359.950000        359.950000       1.000000        359.950000   \n",
              "\n",
              "       price.stat  brand.count  price_band  brand_code  \n",
              "count       373.0   373.000000       373.0  373.000000  \n",
              "mean          1.0   124.147453         2.0   56.399464  \n",
              "std           0.0   201.736899         0.0   40.512360  \n",
              "min           1.0     1.000000         2.0    1.000000  \n",
              "25%           1.0     8.000000         2.0   25.000000  \n",
              "50%           1.0    21.000000         2.0   55.000000  \n",
              "75%           1.0   111.000000         2.0   81.000000  \n",
              "max           1.0   670.000000         2.0  124.000000  "
            ],
            "text/html": [
              "\n",
              "  <div id=\"df-a2ff93df-25fa-47b8-8d99-83f47e9baa01\">\n",
              "    <div class=\"colab-df-container\">\n",
              "      <div>\n",
              "<style scoped>\n",
              "    .dataframe tbody tr th:only-of-type {\n",
              "        vertical-align: middle;\n",
              "    }\n",
              "\n",
              "    .dataframe tbody tr th {\n",
              "        vertical-align: top;\n",
              "    }\n",
              "\n",
              "    .dataframe thead th {\n",
              "        text-align: right;\n",
              "    }\n",
              "</style>\n",
              "<table border=\"1\" class=\"dataframe\">\n",
              "  <thead>\n",
              "    <tr style=\"text-align: right;\">\n",
              "      <th></th>\n",
              "      <th>prices.amountmax</th>\n",
              "      <th>prices.amountmin</th>\n",
              "      <th>prices.issale</th>\n",
              "      <th>prices.amountavg</th>\n",
              "      <th>price.stat</th>\n",
              "      <th>brand.count</th>\n",
              "      <th>price_band</th>\n",
              "      <th>brand_code</th>\n",
              "    </tr>\n",
              "  </thead>\n",
              "  <tbody>\n",
              "    <tr>\n",
              "      <th>count</th>\n",
              "      <td>373.000000</td>\n",
              "      <td>373.000000</td>\n",
              "      <td>373.000000</td>\n",
              "      <td>373.000000</td>\n",
              "      <td>373.0</td>\n",
              "      <td>373.000000</td>\n",
              "      <td>373.0</td>\n",
              "      <td>373.000000</td>\n",
              "    </tr>\n",
              "    <tr>\n",
              "      <th>mean</th>\n",
              "      <td>133.312601</td>\n",
              "      <td>108.058338</td>\n",
              "      <td>0.284182</td>\n",
              "      <td>120.685469</td>\n",
              "      <td>1.0</td>\n",
              "      <td>124.147453</td>\n",
              "      <td>2.0</td>\n",
              "      <td>56.399464</td>\n",
              "    </tr>\n",
              "    <tr>\n",
              "      <th>std</th>\n",
              "      <td>31.507292</td>\n",
              "      <td>40.969440</td>\n",
              "      <td>0.451630</td>\n",
              "      <td>33.267914</td>\n",
              "      <td>0.0</td>\n",
              "      <td>201.736899</td>\n",
              "      <td>0.0</td>\n",
              "      <td>40.512360</td>\n",
              "    </tr>\n",
              "    <tr>\n",
              "      <th>min</th>\n",
              "      <td>109.000000</td>\n",
              "      <td>37.490000</td>\n",
              "      <td>0.000000</td>\n",
              "      <td>78.745000</td>\n",
              "      <td>1.0</td>\n",
              "      <td>1.000000</td>\n",
              "      <td>2.0</td>\n",
              "      <td>1.000000</td>\n",
              "    </tr>\n",
              "    <tr>\n",
              "      <th>25%</th>\n",
              "      <td>119.000000</td>\n",
              "      <td>79.970000</td>\n",
              "      <td>0.000000</td>\n",
              "      <td>101.990000</td>\n",
              "      <td>1.0</td>\n",
              "      <td>8.000000</td>\n",
              "      <td>2.0</td>\n",
              "      <td>25.000000</td>\n",
              "    </tr>\n",
              "    <tr>\n",
              "      <th>50%</th>\n",
              "      <td>120.000000</td>\n",
              "      <td>110.000000</td>\n",
              "      <td>0.000000</td>\n",
              "      <td>119.000000</td>\n",
              "      <td>1.0</td>\n",
              "      <td>21.000000</td>\n",
              "      <td>2.0</td>\n",
              "      <td>55.000000</td>\n",
              "    </tr>\n",
              "    <tr>\n",
              "      <th>75%</th>\n",
              "      <td>140.000000</td>\n",
              "      <td>129.950000</td>\n",
              "      <td>1.000000</td>\n",
              "      <td>129.950000</td>\n",
              "      <td>1.0</td>\n",
              "      <td>111.000000</td>\n",
              "      <td>2.0</td>\n",
              "      <td>81.000000</td>\n",
              "    </tr>\n",
              "    <tr>\n",
              "      <th>max</th>\n",
              "      <td>359.950000</td>\n",
              "      <td>359.950000</td>\n",
              "      <td>1.000000</td>\n",
              "      <td>359.950000</td>\n",
              "      <td>1.0</td>\n",
              "      <td>670.000000</td>\n",
              "      <td>2.0</td>\n",
              "      <td>124.000000</td>\n",
              "    </tr>\n",
              "  </tbody>\n",
              "</table>\n",
              "</div>\n",
              "      <button class=\"colab-df-convert\" onclick=\"convertToInteractive('df-a2ff93df-25fa-47b8-8d99-83f47e9baa01')\"\n",
              "              title=\"Convert this dataframe to an interactive table.\"\n",
              "              style=\"display:none;\">\n",
              "        \n",
              "  <svg xmlns=\"http://www.w3.org/2000/svg\" height=\"24px\"viewBox=\"0 0 24 24\"\n",
              "       width=\"24px\">\n",
              "    <path d=\"M0 0h24v24H0V0z\" fill=\"none\"/>\n",
              "    <path d=\"M18.56 5.44l.94 2.06.94-2.06 2.06-.94-2.06-.94-.94-2.06-.94 2.06-2.06.94zm-11 1L8.5 8.5l.94-2.06 2.06-.94-2.06-.94L8.5 2.5l-.94 2.06-2.06.94zm10 10l.94 2.06.94-2.06 2.06-.94-2.06-.94-.94-2.06-.94 2.06-2.06.94z\"/><path d=\"M17.41 7.96l-1.37-1.37c-.4-.4-.92-.59-1.43-.59-.52 0-1.04.2-1.43.59L10.3 9.45l-7.72 7.72c-.78.78-.78 2.05 0 2.83L4 21.41c.39.39.9.59 1.41.59.51 0 1.02-.2 1.41-.59l7.78-7.78 2.81-2.81c.8-.78.8-2.07 0-2.86zM5.41 20L4 18.59l7.72-7.72 1.47 1.35L5.41 20z\"/>\n",
              "  </svg>\n",
              "      </button>\n",
              "      \n",
              "  <style>\n",
              "    .colab-df-container {\n",
              "      display:flex;\n",
              "      flex-wrap:wrap;\n",
              "      gap: 12px;\n",
              "    }\n",
              "\n",
              "    .colab-df-convert {\n",
              "      background-color: #E8F0FE;\n",
              "      border: none;\n",
              "      border-radius: 50%;\n",
              "      cursor: pointer;\n",
              "      display: none;\n",
              "      fill: #1967D2;\n",
              "      height: 32px;\n",
              "      padding: 0 0 0 0;\n",
              "      width: 32px;\n",
              "    }\n",
              "\n",
              "    .colab-df-convert:hover {\n",
              "      background-color: #E2EBFA;\n",
              "      box-shadow: 0px 1px 2px rgba(60, 64, 67, 0.3), 0px 1px 3px 1px rgba(60, 64, 67, 0.15);\n",
              "      fill: #174EA6;\n",
              "    }\n",
              "\n",
              "    [theme=dark] .colab-df-convert {\n",
              "      background-color: #3B4455;\n",
              "      fill: #D2E3FC;\n",
              "    }\n",
              "\n",
              "    [theme=dark] .colab-df-convert:hover {\n",
              "      background-color: #434B5C;\n",
              "      box-shadow: 0px 1px 3px 1px rgba(0, 0, 0, 0.15);\n",
              "      filter: drop-shadow(0px 1px 2px rgba(0, 0, 0, 0.3));\n",
              "      fill: #FFFFFF;\n",
              "    }\n",
              "  </style>\n",
              "\n",
              "      <script>\n",
              "        const buttonEl =\n",
              "          document.querySelector('#df-a2ff93df-25fa-47b8-8d99-83f47e9baa01 button.colab-df-convert');\n",
              "        buttonEl.style.display =\n",
              "          google.colab.kernel.accessAllowed ? 'block' : 'none';\n",
              "\n",
              "        async function convertToInteractive(key) {\n",
              "          const element = document.querySelector('#df-a2ff93df-25fa-47b8-8d99-83f47e9baa01');\n",
              "          const dataTable =\n",
              "            await google.colab.kernel.invokeFunction('convertToInteractive',\n",
              "                                                     [key], {});\n",
              "          if (!dataTable) return;\n",
              "\n",
              "          const docLinkHtml = 'Like what you see? Visit the ' +\n",
              "            '<a target=\"_blank\" href=https://colab.research.google.com/notebooks/data_table.ipynb>data table notebook</a>'\n",
              "            + ' to learn more about interactive tables.';\n",
              "          element.innerHTML = '';\n",
              "          dataTable['output_type'] = 'display_data';\n",
              "          await google.colab.output.renderOutput(dataTable, element);\n",
              "          const docLink = document.createElement('div');\n",
              "          docLink.innerHTML = docLinkHtml;\n",
              "          element.appendChild(docLink);\n",
              "        }\n",
              "      </script>\n",
              "    </div>\n",
              "  </div>\n",
              "  "
            ]
          },
          "metadata": {},
          "execution_count": 34
        }
      ],
      "source": [
        "outliers.describe()"
      ],
      "id": "3c31162a"
    },
    {
      "cell_type": "code",
      "execution_count": null,
      "metadata": {
        "id": "cf37d00c",
        "colab": {
          "base_uri": "https://localhost:8080/",
          "height": 286
        },
        "outputId": "17ff3943-3c7d-4eec-94f2-f568ed0e3c57"
      },
      "outputs": [
        {
          "output_type": "execute_result",
          "data": {
            "text/plain": [
              "<matplotlib.axes._subplots.AxesSubplot at 0x7faa8d7cf590>"
            ]
          },
          "metadata": {},
          "execution_count": 35
        },
        {
          "output_type": "display_data",
          "data": {
            "text/plain": [
              "<Figure size 432x288 with 1 Axes>"
            ],
            "image/png": "[encoded data removed]"
          },
          "metadata": {
            "needs_background": "light"
          }
        }
      ],
      "source": [
        "outliers.boxplot()"
      ],
      "id": "cf37d00c"
    },
    {
      "cell_type": "markdown",
      "metadata": {
        "id": "5ccb59f8"
      },
      "source": [
        "### prices.amountmax column"
      ],
      "id": "5ccb59f8"
    },
    {
      "cell_type": "code",
      "execution_count": null,
      "metadata": {
        "id": "f8c0d7cd",
        "colab": {
          "base_uri": "https://localhost:8080/",
          "height": 270
        },
        "outputId": "d624374f-ee3d-4568-fab3-f816c9676148"
      },
      "outputs": [
        {
          "output_type": "execute_result",
          "data": {
            "text/plain": [
              "<matplotlib.axes._subplots.AxesSubplot at 0x7faa8d672110>"
            ]
          },
          "metadata": {},
          "execution_count": 36
        },
        {
          "output_type": "display_data",
          "data": {
            "text/plain": [
              "<Figure size 432x288 with 1 Axes>"
            ],
            "image/png": "[encoded data removed]"
          },
          "metadata": {
            "needs_background": "light"
          }
        }
      ],
      "source": [
        "sns.boxplot(y='prices.amountmax',data = df)"
      ],
      "id": "f8c0d7cd"
    },
    {
      "cell_type": "markdown",
      "metadata": {
        "id": "2be3f3c6"
      },
      "source": [
        "### prices.amountmin column"
      ],
      "id": "2be3f3c6"
    },
    {
      "cell_type": "code",
      "execution_count": null,
      "metadata": {
        "id": "9fc69660",
        "colab": {
          "base_uri": "https://localhost:8080/",
          "height": 270
        },
        "outputId": "ee767051-fb63-4cb9-f012-27f9cabf2af9"
      },
      "outputs": [
        {
          "output_type": "execute_result",
          "data": {
            "text/plain": [
              "<matplotlib.axes._subplots.AxesSubplot at 0x7faa8d197050>"
            ]
          },
          "metadata": {},
          "execution_count": 37
        },
        {
          "output_type": "display_data",
          "data": {
            "text/plain": [
              "<Figure size 432x288 with 1 Axes>"
            ],
            "image/png": "[encoded data removed]"
          },
          "metadata": {
            "needs_background": "light"
          }
        }
      ],
      "source": [
        "sns.boxplot(y='prices.amountmin',data = df)"
      ],
      "id": "9fc69660"
    },
    {
      "cell_type": "markdown",
      "metadata": {
        "id": "03df34dd"
      },
      "source": [
        "### prices.amountavg column"
      ],
      "id": "03df34dd"
    },
    {
      "cell_type": "code",
      "execution_count": null,
      "metadata": {
        "id": "9e9b1d92",
        "colab": {
          "base_uri": "https://localhost:8080/",
          "height": 270
        },
        "outputId": "0c266f80-450a-404e-e46d-e6478f2a9c5d"
      },
      "outputs": [
        {
          "output_type": "execute_result",
          "data": {
            "text/plain": [
              "<matplotlib.axes._subplots.AxesSubplot at 0x7faa8d11d950>"
            ]
          },
          "metadata": {},
          "execution_count": 38
        },
        {
          "output_type": "display_data",
          "data": {
            "text/plain": [
              "<Figure size 432x288 with 1 Axes>"
            ],
            "image/png": "[encoded data removed]"
          },
          "metadata": {
            "needs_background": "light"
          }
        }
      ],
      "source": [
        "sns.boxplot(y='prices.amountavg',data = df)"
      ],
      "id": "9e9b1d92"
    },
    {
      "cell_type": "markdown",
      "metadata": {
        "id": "8a2d12a2"
      },
      "source": [
        "### brand.count column"
      ],
      "id": "8a2d12a2"
    },
    {
      "cell_type": "code",
      "execution_count": null,
      "metadata": {
        "id": "c4194f36",
        "colab": {
          "base_uri": "https://localhost:8080/",
          "height": 270
        },
        "outputId": "f4ec6783-26ab-4882-cdaf-8a7cdc9e72de"
      },
      "outputs": [
        {
          "output_type": "execute_result",
          "data": {
            "text/plain": [
              "<matplotlib.axes._subplots.AxesSubplot at 0x7faa8d08f9d0>"
            ]
          },
          "metadata": {},
          "execution_count": 39
        },
        {
          "output_type": "display_data",
          "data": {
            "text/plain": [
              "<Figure size 432x288 with 1 Axes>"
            ],
            "image/png": "[encoded data removed]"
          },
          "metadata": {
            "needs_background": "light"
          }
        }
      ],
      "source": [
        "sns.boxplot(y='brand.count',data = df)"
      ],
      "id": "c4194f36"
    },
    {
      "cell_type": "markdown",
      "metadata": {
        "id": "087bbe1f"
      },
      "source": [
        "### brand_code column"
      ],
      "id": "087bbe1f"
    },
    {
      "cell_type": "code",
      "execution_count": null,
      "metadata": {
        "id": "cd437dfd",
        "colab": {
          "base_uri": "https://localhost:8080/",
          "height": 270
        },
        "outputId": "54a8a0a1-47cc-4353-fad5-265c3b1d3114"
      },
      "outputs": [
        {
          "output_type": "execute_result",
          "data": {
            "text/plain": [
              "<matplotlib.axes._subplots.AxesSubplot at 0x7faa8d074c90>"
            ]
          },
          "metadata": {},
          "execution_count": 40
        },
        {
          "output_type": "display_data",
          "data": {
            "text/plain": [
              "<Figure size 432x288 with 1 Axes>"
            ],
            "image/png": "[encoded data removed]"
          },
          "metadata": {
            "needs_background": "light"
          }
        }
      ],
      "source": [
        "sns.boxplot(y='brand_code',data = df)"
      ],
      "id": "cd437dfd"
    },
    {
      "cell_type": "code",
      "execution_count": null,
      "metadata": {
        "id": "2d7a7cc6"
      },
      "outputs": [],
      "source": [
        "# 109.98999999999998\n",
        "# 29.990000000000013"
      ],
      "id": "2d7a7cc6"
    },
    {
      "cell_type": "code",
      "execution_count": null,
      "metadata": {
        "id": "0285cd00"
      },
      "outputs": [],
      "source": [
        "num_values = ['prices.amountmax','prices.amountmin','prices.amountavg']"
      ],
      "id": "0285cd00"
    },
    {
      "cell_type": "code",
      "execution_count": null,
      "metadata": {
        "id": "f3998620"
      },
      "outputs": [],
      "source": [
        "upp_and_low_limits = {}\n",
        "for item in num_values:\n",
        "    Q1 = np.percentile(df[item],25,interpolation='midpoint')\n",
        "    Q3 = np.percentile(df[item],75,interpolation='midpoint')\n",
        "    IQR = Q3 - Q1\n",
        "    \n",
        "    up_lim = Q3 + 1.5 * IQR\n",
        "    low_lim = Q1 - 1.5 * IQR\n",
        "#     print(up_lim)\n",
        "#     print(low_lim)\n",
        "    upp_and_low_limits[item+'_up'] = up_lim\n",
        "    upp_and_low_limits[item+'_low'] = low_lim\n",
        "    df[item] = np.where(df[item] > up_lim, df[item].median(), df[item])\n",
        "    df[item] = np.where(df[item] < low_lim,df[item].median(), df[item])\n",
        "    \n",
        "#     print()\n",
        "#     print()\n",
        "    "
      ],
      "id": "f3998620"
    },
    {
      "cell_type": "code",
      "execution_count": null,
      "metadata": {
        "id": "805beae3",
        "colab": {
          "base_uri": "https://localhost:8080/"
        },
        "outputId": "0f673692-e9e7-4688-ad6e-548eee0dd5e4"
      },
      "outputs": [
        {
          "output_type": "execute_result",
          "data": {
            "text/plain": [
              "{'prices.amountavg_low': 23.740000000000013,\n",
              " 'prices.amountavg_up': 93.73999999999998,\n",
              " 'prices.amountmax_low': 29.990000000000013,\n",
              " 'prices.amountmax_up': 109.98999999999998,\n",
              " 'prices.amountmin_low': 3.740000000000002,\n",
              " 'prices.amountmin_up': 93.74000000000001}"
            ]
          },
          "metadata": {},
          "execution_count": 44
        }
      ],
      "source": [
        "upp_and_low_limits"
      ],
      "id": "805beae3"
    },
    {
      "cell_type": "markdown",
      "metadata": {
        "id": "99325d49"
      },
      "source": [
        "## Creating a dataframe with numerical values for the ML model"
      ],
      "id": "99325d49"
    },
    {
      "cell_type": "code",
      "execution_count": null,
      "metadata": {
        "id": "a7396eb7"
      },
      "outputs": [],
      "source": [
        "data =df[['brand','prices.amountmax','prices.issale','price.stat','brand.count','price_band','brand_code']]"
      ],
      "id": "a7396eb7"
    },
    {
      "cell_type": "code",
      "execution_count": null,
      "metadata": {
        "id": "ac62e87f",
        "colab": {
          "base_uri": "https://localhost:8080/",
          "height": 206
        },
        "outputId": "1f4dde57-9024-4d85-9c11-6d71eca61ad5"
      },
      "outputs": [
        {
          "output_type": "execute_result",
          "data": {
            "text/plain": [
              "         brand  prices.amountmax  prices.issale  price.stat  brand.count  \\\n",
              "0  Naturalizer             55.99              0           0            1   \n",
              "1     MUK LUKS             47.00              1           0           18   \n",
              "2     MUK LUKS             35.25              0           0           18   \n",
              "3     MUK LUKS             64.99              0           0           18   \n",
              "4     MUK LUKS             33.00              1           0           18   \n",
              "\n",
              "   price_band  brand_code  \n",
              "0           1          44  \n",
              "1           1          39  \n",
              "2           1          39  \n",
              "3           0          39  \n",
              "4           1          39  "
            ],
            "text/html": [
              "\n",
              "  <div id=\"df-be9771e2-812f-4361-bb3f-44366d950b9c\">\n",
              "    <div class=\"colab-df-container\">\n",
              "      <div>\n",
              "<style scoped>\n",
              "    .dataframe tbody tr th:only-of-type {\n",
              "        vertical-align: middle;\n",
              "    }\n",
              "\n",
              "    .dataframe tbody tr th {\n",
              "        vertical-align: top;\n",
              "    }\n",
              "\n",
              "    .dataframe thead th {\n",
              "        text-align: right;\n",
              "    }\n",
              "</style>\n",
              "<table border=\"1\" class=\"dataframe\">\n",
              "  <thead>\n",
              "    <tr style=\"text-align: right;\">\n",
              "      <th></th>\n",
              "      <th>brand</th>\n",
              "      <th>prices.amountmax</th>\n",
              "      <th>prices.issale</th>\n",
              "      <th>price.stat</th>\n",
              "      <th>brand.count</th>\n",
              "      <th>price_band</th>\n",
              "      <th>brand_code</th>\n",
              "    </tr>\n",
              "  </thead>\n",
              "  <tbody>\n",
              "    <tr>\n",
              "      <th>0</th>\n",
              "      <td>Naturalizer</td>\n",
              "      <td>55.99</td>\n",
              "      <td>0</td>\n",
              "      <td>0</td>\n",
              "      <td>1</td>\n",
              "      <td>1</td>\n",
              "      <td>44</td>\n",
              "    </tr>\n",
              "    <tr>\n",
              "      <th>1</th>\n",
              "      <td>MUK LUKS</td>\n",
              "      <td>47.00</td>\n",
              "      <td>1</td>\n",
              "      <td>0</td>\n",
              "      <td>18</td>\n",
              "      <td>1</td>\n",
              "      <td>39</td>\n",
              "    </tr>\n",
              "    <tr>\n",
              "      <th>2</th>\n",
              "      <td>MUK LUKS</td>\n",
              "      <td>35.25</td>\n",
              "      <td>0</td>\n",
              "      <td>0</td>\n",
              "      <td>18</td>\n",
              "      <td>1</td>\n",
              "      <td>39</td>\n",
              "    </tr>\n",
              "    <tr>\n",
              "      <th>3</th>\n",
              "      <td>MUK LUKS</td>\n",
              "      <td>64.99</td>\n",
              "      <td>0</td>\n",
              "      <td>0</td>\n",
              "      <td>18</td>\n",
              "      <td>0</td>\n",
              "      <td>39</td>\n",
              "    </tr>\n",
              "    <tr>\n",
              "      <th>4</th>\n",
              "      <td>MUK LUKS</td>\n",
              "      <td>33.00</td>\n",
              "      <td>1</td>\n",
              "      <td>0</td>\n",
              "      <td>18</td>\n",
              "      <td>1</td>\n",
              "      <td>39</td>\n",
              "    </tr>\n",
              "  </tbody>\n",
              "</table>\n",
              "</div>\n",
              "      <button class=\"colab-df-convert\" onclick=\"convertToInteractive('df-be9771e2-812f-4361-bb3f-44366d950b9c')\"\n",
              "              title=\"Convert this dataframe to an interactive table.\"\n",
              "              style=\"display:none;\">\n",
              "        \n",
              "  <svg xmlns=\"http://www.w3.org/2000/svg\" height=\"24px\"viewBox=\"0 0 24 24\"\n",
              "       width=\"24px\">\n",
              "    <path d=\"M0 0h24v24H0V0z\" fill=\"none\"/>\n",
              "    <path d=\"M18.56 5.44l.94 2.06.94-2.06 2.06-.94-2.06-.94-.94-2.06-.94 2.06-2.06.94zm-11 1L8.5 8.5l.94-2.06 2.06-.94-2.06-.94L8.5 2.5l-.94 2.06-2.06.94zm10 10l.94 2.06.94-2.06 2.06-.94-2.06-.94-.94-2.06-.94 2.06-2.06.94z\"/><path d=\"M17.41 7.96l-1.37-1.37c-.4-.4-.92-.59-1.43-.59-.52 0-1.04.2-1.43.59L10.3 9.45l-7.72 7.72c-.78.78-.78 2.05 0 2.83L4 21.41c.39.39.9.59 1.41.59.51 0 1.02-.2 1.41-.59l7.78-7.78 2.81-2.81c.8-.78.8-2.07 0-2.86zM5.41 20L4 18.59l7.72-7.72 1.47 1.35L5.41 20z\"/>\n",
              "  </svg>\n",
              "      </button>\n",
              "      \n",
              "  <style>\n",
              "    .colab-df-container {\n",
              "      display:flex;\n",
              "      flex-wrap:wrap;\n",
              "      gap: 12px;\n",
              "    }\n",
              "\n",
              "    .colab-df-convert {\n",
              "      background-color: #E8F0FE;\n",
              "      border: none;\n",
              "      border-radius: 50%;\n",
              "      cursor: pointer;\n",
              "      display: none;\n",
              "      fill: #1967D2;\n",
              "      height: 32px;\n",
              "      padding: 0 0 0 0;\n",
              "      width: 32px;\n",
              "    }\n",
              "\n",
              "    .colab-df-convert:hover {\n",
              "      background-color: #E2EBFA;\n",
              "      box-shadow: 0px 1px 2px rgba(60, 64, 67, 0.3), 0px 1px 3px 1px rgba(60, 64, 67, 0.15);\n",
              "      fill: #174EA6;\n",
              "    }\n",
              "\n",
              "    [theme=dark] .colab-df-convert {\n",
              "      background-color: #3B4455;\n",
              "      fill: #D2E3FC;\n",
              "    }\n",
              "\n",
              "    [theme=dark] .colab-df-convert:hover {\n",
              "      background-color: #434B5C;\n",
              "      box-shadow: 0px 1px 3px 1px rgba(0, 0, 0, 0.15);\n",
              "      filter: drop-shadow(0px 1px 2px rgba(0, 0, 0, 0.3));\n",
              "      fill: #FFFFFF;\n",
              "    }\n",
              "  </style>\n",
              "\n",
              "      <script>\n",
              "        const buttonEl =\n",
              "          document.querySelector('#df-be9771e2-812f-4361-bb3f-44366d950b9c button.colab-df-convert');\n",
              "        buttonEl.style.display =\n",
              "          google.colab.kernel.accessAllowed ? 'block' : 'none';\n",
              "\n",
              "        async function convertToInteractive(key) {\n",
              "          const element = document.querySelector('#df-be9771e2-812f-4361-bb3f-44366d950b9c');\n",
              "          const dataTable =\n",
              "            await google.colab.kernel.invokeFunction('convertToInteractive',\n",
              "                                                     [key], {});\n",
              "          if (!dataTable) return;\n",
              "\n",
              "          const docLinkHtml = 'Like what you see? Visit the ' +\n",
              "            '<a target=\"_blank\" href=https://colab.research.google.com/notebooks/data_table.ipynb>data table notebook</a>'\n",
              "            + ' to learn more about interactive tables.';\n",
              "          element.innerHTML = '';\n",
              "          dataTable['output_type'] = 'display_data';\n",
              "          await google.colab.output.renderOutput(dataTable, element);\n",
              "          const docLink = document.createElement('div');\n",
              "          docLink.innerHTML = docLinkHtml;\n",
              "          element.appendChild(docLink);\n",
              "        }\n",
              "      </script>\n",
              "    </div>\n",
              "  </div>\n",
              "  "
            ]
          },
          "metadata": {},
          "execution_count": 46
        }
      ],
      "source": [
        "data.head()"
      ],
      "id": "ac62e87f"
    },
    {
      "cell_type": "code",
      "execution_count": null,
      "metadata": {
        "id": "59e113b9",
        "colab": {
          "base_uri": "https://localhost:8080/"
        },
        "outputId": "8fbf4b6c-c20d-4c9c-e0b4-f530ad177476"
      },
      "outputs": [
        {
          "output_type": "stream",
          "name": "stdout",
          "text": [
            "<class 'pandas.core.frame.DataFrame'>\n",
            "RangeIndex: 10000 entries, 0 to 9999\n",
            "Data columns (total 7 columns):\n",
            " #   Column            Non-Null Count  Dtype  \n",
            "---  ------            --------------  -----  \n",
            " 0   brand             10000 non-null  object \n",
            " 1   prices.amountmax  10000 non-null  float64\n",
            " 2   prices.issale     10000 non-null  int64  \n",
            " 3   price.stat        10000 non-null  int64  \n",
            " 4   brand.count       10000 non-null  int64  \n",
            " 5   price_band        10000 non-null  int64  \n",
            " 6   brand_code        10000 non-null  int64  \n",
            "dtypes: float64(1), int64(5), object(1)\n",
            "memory usage: 547.0+ KB\n"
          ]
        }
      ],
      "source": [
        "data.info()"
      ],
      "id": "59e113b9"
    },
    {
      "cell_type": "code",
      "execution_count": null,
      "metadata": {
        "id": "09782846"
      },
      "outputs": [],
      "source": [
        "# New df to split data contains only numerical values.\n",
        "newdf = data[['brand','prices.amountmax','prices.issale','price.stat','brand.count','price_band','brand_code']]"
      ],
      "id": "09782846"
    },
    {
      "cell_type": "code",
      "execution_count": null,
      "metadata": {
        "id": "ed0c57db",
        "colab": {
          "base_uri": "https://localhost:8080/"
        },
        "outputId": "be90d1b2-425c-4203-ba9e-bd923ef7750a"
      },
      "outputs": [
        {
          "output_type": "stream",
          "name": "stdout",
          "text": [
            "(10000, 5)\n",
            "(10000,)\n"
          ]
        }
      ],
      "source": [
        "X = np.array(newdf.iloc[:,1:6])\n",
        "y = np.array(newdf['brand_code'])\n",
        "print(X.shape)\n",
        "print(y.shape)"
      ],
      "id": "ed0c57db"
    },
    {
      "cell_type": "code",
      "execution_count": null,
      "metadata": {
        "id": "de63bb03"
      },
      "outputs": [],
      "source": [
        "#Creating training and test splits(The code splits the dataset into 70% train data and 30% test data)\n",
        "from sklearn.model_selection import train_test_split  \n",
        "X_train, X_test, y_train, y_test = train_test_split(X, y, test_size=0.30) "
      ],
      "id": "de63bb03"
    },
    {
      "cell_type": "code",
      "execution_count": null,
      "metadata": {
        "id": "98aae9f8",
        "colab": {
          "base_uri": "https://localhost:8080/",
          "height": 423
        },
        "outputId": "2b7f59ec-6dad-4daa-c722-a21ccd2dfea9"
      },
      "outputs": [
        {
          "output_type": "execute_result",
          "data": {
            "text/plain": [
              "            brand  prices.amountmax  prices.issale  price.stat  brand.count  \\\n",
              "0     Naturalizer             55.99              0           0            1   \n",
              "1        MUK LUKS             47.00              1           0           18   \n",
              "2        MUK LUKS             35.25              0           0           18   \n",
              "3        MUK LUKS             64.99              0           0           18   \n",
              "4        MUK LUKS             33.00              1           0           18   \n",
              "...           ...               ...            ...         ...          ...   \n",
              "9995        Asics             64.99              1           1           19   \n",
              "9996        Asics             64.99              1           1           19   \n",
              "9997       Kaanas             64.99              1           1            1   \n",
              "9998         Nike             64.99              1           1          179   \n",
              "9999     OTZShoes             99.95              1           0            1   \n",
              "\n",
              "      price_band  brand_code  \n",
              "0              1          44  \n",
              "1              1          39  \n",
              "2              1          39  \n",
              "3              0          39  \n",
              "4              1          39  \n",
              "...          ...         ...  \n",
              "9995           2           5  \n",
              "9996           2           5  \n",
              "9997           2          31  \n",
              "9998           2          46  \n",
              "9999           1          47  \n",
              "\n",
              "[10000 rows x 7 columns]"
            ],
            "text/html": [
              "\n",
              "  <div id=\"df-3030ad3d-7843-49d1-8f97-c36e27f319b3\">\n",
              "    <div class=\"colab-df-container\">\n",
              "      <div>\n",
              "<style scoped>\n",
              "    .dataframe tbody tr th:only-of-type {\n",
              "        vertical-align: middle;\n",
              "    }\n",
              "\n",
              "    .dataframe tbody tr th {\n",
              "        vertical-align: top;\n",
              "    }\n",
              "\n",
              "    .dataframe thead th {\n",
              "        text-align: right;\n",
              "    }\n",
              "</style>\n",
              "<table border=\"1\" class=\"dataframe\">\n",
              "  <thead>\n",
              "    <tr style=\"text-align: right;\">\n",
              "      <th></th>\n",
              "      <th>brand</th>\n",
              "      <th>prices.amountmax</th>\n",
              "      <th>prices.issale</th>\n",
              "      <th>price.stat</th>\n",
              "      <th>brand.count</th>\n",
              "      <th>price_band</th>\n",
              "      <th>brand_code</th>\n",
              "    </tr>\n",
              "  </thead>\n",
              "  <tbody>\n",
              "    <tr>\n",
              "      <th>0</th>\n",
              "      <td>Naturalizer</td>\n",
              "      <td>55.99</td>\n",
              "      <td>0</td>\n",
              "      <td>0</td>\n",
              "      <td>1</td>\n",
              "      <td>1</td>\n",
              "      <td>44</td>\n",
              "    </tr>\n",
              "    <tr>\n",
              "      <th>1</th>\n",
              "      <td>MUK LUKS</td>\n",
              "      <td>47.00</td>\n",
              "      <td>1</td>\n",
              "      <td>0</td>\n",
              "      <td>18</td>\n",
              "      <td>1</td>\n",
              "      <td>39</td>\n",
              "    </tr>\n",
              "    <tr>\n",
              "      <th>2</th>\n",
              "      <td>MUK LUKS</td>\n",
              "      <td>35.25</td>\n",
              "      <td>0</td>\n",
              "      <td>0</td>\n",
              "      <td>18</td>\n",
              "      <td>1</td>\n",
              "      <td>39</td>\n",
              "    </tr>\n",
              "    <tr>\n",
              "      <th>3</th>\n",
              "      <td>MUK LUKS</td>\n",
              "      <td>64.99</td>\n",
              "      <td>0</td>\n",
              "      <td>0</td>\n",
              "      <td>18</td>\n",
              "      <td>0</td>\n",
              "      <td>39</td>\n",
              "    </tr>\n",
              "    <tr>\n",
              "      <th>4</th>\n",
              "      <td>MUK LUKS</td>\n",
              "      <td>33.00</td>\n",
              "      <td>1</td>\n",
              "      <td>0</td>\n",
              "      <td>18</td>\n",
              "      <td>1</td>\n",
              "      <td>39</td>\n",
              "    </tr>\n",
              "    <tr>\n",
              "      <th>...</th>\n",
              "      <td>...</td>\n",
              "      <td>...</td>\n",
              "      <td>...</td>\n",
              "      <td>...</td>\n",
              "      <td>...</td>\n",
              "      <td>...</td>\n",
              "      <td>...</td>\n",
              "    </tr>\n",
              "    <tr>\n",
              "      <th>9995</th>\n",
              "      <td>Asics</td>\n",
              "      <td>64.99</td>\n",
              "      <td>1</td>\n",
              "      <td>1</td>\n",
              "      <td>19</td>\n",
              "      <td>2</td>\n",
              "      <td>5</td>\n",
              "    </tr>\n",
              "    <tr>\n",
              "      <th>9996</th>\n",
              "      <td>Asics</td>\n",
              "      <td>64.99</td>\n",
              "      <td>1</td>\n",
              "      <td>1</td>\n",
              "      <td>19</td>\n",
              "      <td>2</td>\n",
              "      <td>5</td>\n",
              "    </tr>\n",
              "    <tr>\n",
              "      <th>9997</th>\n",
              "      <td>Kaanas</td>\n",
              "      <td>64.99</td>\n",
              "      <td>1</td>\n",
              "      <td>1</td>\n",
              "      <td>1</td>\n",
              "      <td>2</td>\n",
              "      <td>31</td>\n",
              "    </tr>\n",
              "    <tr>\n",
              "      <th>9998</th>\n",
              "      <td>Nike</td>\n",
              "      <td>64.99</td>\n",
              "      <td>1</td>\n",
              "      <td>1</td>\n",
              "      <td>179</td>\n",
              "      <td>2</td>\n",
              "      <td>46</td>\n",
              "    </tr>\n",
              "    <tr>\n",
              "      <th>9999</th>\n",
              "      <td>OTZShoes</td>\n",
              "      <td>99.95</td>\n",
              "      <td>1</td>\n",
              "      <td>0</td>\n",
              "      <td>1</td>\n",
              "      <td>1</td>\n",
              "      <td>47</td>\n",
              "    </tr>\n",
              "  </tbody>\n",
              "</table>\n",
              "<p>10000 rows × 7 columns</p>\n",
              "</div>\n",
              "      <button class=\"colab-df-convert\" onclick=\"convertToInteractive('df-3030ad3d-7843-49d1-8f97-c36e27f319b3')\"\n",
              "              title=\"Convert this dataframe to an interactive table.\"\n",
              "              style=\"display:none;\">\n",
              "        \n",
              "  <svg xmlns=\"http://www.w3.org/2000/svg\" height=\"24px\"viewBox=\"0 0 24 24\"\n",
              "       width=\"24px\">\n",
              "    <path d=\"M0 0h24v24H0V0z\" fill=\"none\"/>\n",
              "    <path d=\"M18.56 5.44l.94 2.06.94-2.06 2.06-.94-2.06-.94-.94-2.06-.94 2.06-2.06.94zm-11 1L8.5 8.5l.94-2.06 2.06-.94-2.06-.94L8.5 2.5l-.94 2.06-2.06.94zm10 10l.94 2.06.94-2.06 2.06-.94-2.06-.94-.94-2.06-.94 2.06-2.06.94z\"/><path d=\"M17.41 7.96l-1.37-1.37c-.4-.4-.92-.59-1.43-.59-.52 0-1.04.2-1.43.59L10.3 9.45l-7.72 7.72c-.78.78-.78 2.05 0 2.83L4 21.41c.39.39.9.59 1.41.59.51 0 1.02-.2 1.41-.59l7.78-7.78 2.81-2.81c.8-.78.8-2.07 0-2.86zM5.41 20L4 18.59l7.72-7.72 1.47 1.35L5.41 20z\"/>\n",
              "  </svg>\n",
              "      </button>\n",
              "      \n",
              "  <style>\n",
              "    .colab-df-container {\n",
              "      display:flex;\n",
              "      flex-wrap:wrap;\n",
              "      gap: 12px;\n",
              "    }\n",
              "\n",
              "    .colab-df-convert {\n",
              "      background-color: #E8F0FE;\n",
              "      border: none;\n",
              "      border-radius: 50%;\n",
              "      cursor: pointer;\n",
              "      display: none;\n",
              "      fill: #1967D2;\n",
              "      height: 32px;\n",
              "      padding: 0 0 0 0;\n",
              "      width: 32px;\n",
              "    }\n",
              "\n",
              "    .colab-df-convert:hover {\n",
              "      background-color: #E2EBFA;\n",
              "      box-shadow: 0px 1px 2px rgba(60, 64, 67, 0.3), 0px 1px 3px 1px rgba(60, 64, 67, 0.15);\n",
              "      fill: #174EA6;\n",
              "    }\n",
              "\n",
              "    [theme=dark] .colab-df-convert {\n",
              "      background-color: #3B4455;\n",
              "      fill: #D2E3FC;\n",
              "    }\n",
              "\n",
              "    [theme=dark] .colab-df-convert:hover {\n",
              "      background-color: #434B5C;\n",
              "      box-shadow: 0px 1px 3px 1px rgba(0, 0, 0, 0.15);\n",
              "      filter: drop-shadow(0px 1px 2px rgba(0, 0, 0, 0.3));\n",
              "      fill: #FFFFFF;\n",
              "    }\n",
              "  </style>\n",
              "\n",
              "      <script>\n",
              "        const buttonEl =\n",
              "          document.querySelector('#df-3030ad3d-7843-49d1-8f97-c36e27f319b3 button.colab-df-convert');\n",
              "        buttonEl.style.display =\n",
              "          google.colab.kernel.accessAllowed ? 'block' : 'none';\n",
              "\n",
              "        async function convertToInteractive(key) {\n",
              "          const element = document.querySelector('#df-3030ad3d-7843-49d1-8f97-c36e27f319b3');\n",
              "          const dataTable =\n",
              "            await google.colab.kernel.invokeFunction('convertToInteractive',\n",
              "                                                     [key], {});\n",
              "          if (!dataTable) return;\n",
              "\n",
              "          const docLinkHtml = 'Like what you see? Visit the ' +\n",
              "            '<a target=\"_blank\" href=https://colab.research.google.com/notebooks/data_table.ipynb>data table notebook</a>'\n",
              "            + ' to learn more about interactive tables.';\n",
              "          element.innerHTML = '';\n",
              "          dataTable['output_type'] = 'display_data';\n",
              "          await google.colab.output.renderOutput(dataTable, element);\n",
              "          const docLink = document.createElement('div');\n",
              "          docLink.innerHTML = docLinkHtml;\n",
              "          element.appendChild(docLink);\n",
              "        }\n",
              "      </script>\n",
              "    </div>\n",
              "  </div>\n",
              "  "
            ]
          },
          "metadata": {},
          "execution_count": 51
        }
      ],
      "source": [
        "newdf"
      ],
      "id": "98aae9f8"
    },
    {
      "cell_type": "markdown",
      "metadata": {
        "id": "a4ae5139"
      },
      "source": [
        "### Scaling"
      ],
      "id": "a4ae5139"
    },
    {
      "cell_type": "code",
      "execution_count": null,
      "metadata": {
        "id": "624548bf"
      },
      "outputs": [],
      "source": [
        "#Feature scaling\n",
        "from sklearn.preprocessing import StandardScaler  \n",
        "scaler = StandardScaler()  \n",
        "scaler.fit(X_train)\n",
        "\n",
        "X_train = scaler.transform(X_train)  \n",
        "X_test = scaler.transform(X_test)  "
      ],
      "id": "624548bf"
    },
    {
      "cell_type": "markdown",
      "metadata": {
        "id": "wnQi-tww4Svw"
      },
      "source": [
        "# Model creation"
      ],
      "id": "wnQi-tww4Svw"
    },
    {
      "cell_type": "code",
      "execution_count": null,
      "metadata": {
        "id": "74bc79fd",
        "colab": {
          "base_uri": "https://localhost:8080/"
        },
        "outputId": "6caa9340-2fc6-4e4b-b0e2-d990ccee6ccd"
      },
      "outputs": [
        {
          "output_type": "stream",
          "name": "stderr",
          "text": [
            "/usr/local/lib/python3.7/dist-packages/sklearn/linear_model/_logistic.py:818: ConvergenceWarning: lbfgs failed to converge (status=1):\n",
            "STOP: TOTAL NO. of ITERATIONS REACHED LIMIT.\n",
            "\n",
            "Increase the number of iterations (max_iter) or scale the data as shown in:\n",
            "    https://scikit-learn.org/stable/modules/preprocessing.html\n",
            "Please also refer to the documentation for alternative solver options:\n",
            "    https://scikit-learn.org/stable/modules/linear_model.html#logistic-regression\n",
            "  extra_warning_msg=_LOGISTIC_SOLVER_CONVERGENCE_MSG,\n"
          ]
        }
      ],
      "source": [
        "#logistic regression\n",
        "from sklearn.linear_model import LogisticRegression\n",
        "logit_model=LogisticRegression()\n",
        "logit_model.fit(X_train,y_train)\n",
        "y_pred=logit_model.predict(X_test)"
      ],
      "id": "74bc79fd"
    },
    {
      "cell_type": "code",
      "execution_count": null,
      "metadata": {
        "id": "ce14c451"
      },
      "outputs": [],
      "source": [
        "from sklearn.metrics import confusion_matrix,accuracy_score,precision_score,recall_score,f1_score,classification_report"
      ],
      "id": "ce14c451"
    },
    {
      "cell_type": "code",
      "execution_count": null,
      "metadata": {
        "id": "-xKQsgpBQs1I",
        "colab": {
          "base_uri": "https://localhost:8080/"
        },
        "outputId": "7dc4da35-21bc-486e-ae1d-df07fa743c0d"
      },
      "outputs": [
        {
          "output_type": "stream",
          "name": "stdout",
          "text": [
            "Classification Report For Logistic regression:               precision    recall  f1-score   support\n",
            "\n",
            "           0       0.00      0.00      0.00         5\n",
            "           1       0.00      0.00      0.00         7\n",
            "           2       0.00      0.00      0.00         1\n",
            "           3       0.00      0.00      0.00         8\n",
            "           5       0.00      0.00      0.00         6\n",
            "           6       0.00      0.00      0.00         3\n",
            "           7       0.00      0.00      0.00         3\n",
            "           9       0.45      0.45      0.45        11\n",
            "          10       0.00      0.00      0.00        12\n",
            "          11       0.00      0.00      0.00         3\n",
            "          15       0.00      0.00      0.00         1\n",
            "          16       0.00      0.00      0.00         1\n",
            "          19       0.00      0.00      0.00         2\n",
            "          20       0.00      0.00      0.00         4\n",
            "          22       0.00      0.00      0.00         1\n",
            "          23       0.00      0.00      0.00         1\n",
            "          24       0.00      0.00      0.00         1\n",
            "          25       0.00      0.00      0.00         1\n",
            "          26       0.00      0.00      0.00         1\n",
            "          27       0.00      0.00      0.00         1\n",
            "          28       0.00      0.00      0.00         1\n",
            "          29       0.00      0.00      0.00         2\n",
            "          33       0.00      0.00      0.00         3\n",
            "          34       0.00      0.00      0.00         3\n",
            "          35       0.00      0.00      0.00        38\n",
            "          36       0.00      0.00      0.00         3\n",
            "          39       0.60      0.60      0.60         5\n",
            "          41       0.00      0.00      0.00         4\n",
            "          42       0.00      0.00      0.00         2\n",
            "          43       0.00      0.00      0.00         5\n",
            "          44       0.00      0.00      0.00         1\n",
            "          45       0.00      0.00      0.00         2\n",
            "          46       0.15      0.40      0.22        43\n",
            "          48       0.00      0.00      0.00         6\n",
            "          49       0.00      0.00      0.00         2\n",
            "          50       0.00      0.00      0.00         2\n",
            "          52       0.00      0.00      0.00         6\n",
            "          53       0.00      0.00      0.00        48\n",
            "          54       0.00      0.00      0.00         1\n",
            "          55       0.08      0.22      0.12         9\n",
            "          56       0.00      0.00      0.00         1\n",
            "          57       0.00      0.00      0.00         1\n",
            "          58       0.00      0.00      0.00        10\n",
            "          59       0.00      0.00      0.00         2\n",
            "          60       0.00      0.00      0.00         1\n",
            "          64       0.00      0.00      0.00         3\n",
            "          65       0.00      0.00      0.00         2\n",
            "          66       0.00      0.00      0.00         2\n",
            "          67       0.00      0.00      0.00         1\n",
            "          68       0.00      0.00      0.00         1\n",
            "          69       0.00      0.00      0.00         4\n",
            "          70       0.00      0.00      0.00         6\n",
            "          72       0.00      0.00      0.00         1\n",
            "          75       0.00      0.00      0.00         4\n",
            "          76       0.00      0.00      0.00         1\n",
            "          77       0.72      0.97      0.83       220\n",
            "          78       0.00      0.00      0.00        31\n",
            "          79       0.00      0.00      0.00         1\n",
            "          80       0.00      0.00      0.00        54\n",
            "          81       0.00      0.00      0.00        35\n",
            "          83       0.74      0.48      0.58        54\n",
            "          84       0.00      0.00      0.00        13\n",
            "          86       0.09      0.14      0.11       105\n",
            "          87       0.00      0.00      0.00        22\n",
            "          88       0.26      0.31      0.29       108\n",
            "          89       0.09      0.33      0.14        15\n",
            "          90       0.64      1.00      0.78       170\n",
            "          91       0.00      0.00      0.00         8\n",
            "          93       0.00      0.00      0.00         1\n",
            "          95       0.00      0.00      0.00         4\n",
            "          96       1.00      1.00      1.00       657\n",
            "          97       0.00      0.00      0.00         2\n",
            "          98       0.00      0.00      0.00         4\n",
            "          99       0.00      0.00      0.00         6\n",
            "         100       0.00      0.00      0.00         6\n",
            "         101       0.40      0.17      0.24        23\n",
            "         102       1.00      1.00      1.00       409\n",
            "         104       0.32      0.88      0.47        25\n",
            "         106       0.00      0.00      0.00        39\n",
            "         107       0.00      0.00      0.00        66\n",
            "         108       0.06      0.06      0.06        78\n",
            "         110       0.00      0.00      0.00         1\n",
            "         111       0.00      0.00      0.00         3\n",
            "         112       0.00      0.00      0.00         1\n",
            "         113       0.00      0.00      0.00         6\n",
            "         114       0.00      0.00      0.00         1\n",
            "         115       0.00      0.00      0.00         2\n",
            "         116       0.00      0.00      0.00        36\n",
            "         117       0.00      0.00      0.00         2\n",
            "         118       0.00      0.00      0.00        54\n",
            "         119       0.03      0.14      0.05        43\n",
            "         120       0.33      0.24      0.28       128\n",
            "         121       0.00      0.00      0.00         5\n",
            "         122       0.00      0.00      0.00        72\n",
            "         123       0.00      0.00      0.00        24\n",
            "         124       0.68      0.74      0.71       137\n",
            "         125       0.00      0.00      0.00         2\n",
            "         126       0.00      0.00      0.00         5\n",
            "         127       0.00      0.00      0.00        14\n",
            "         128       0.00      0.00      0.00         9\n",
            "\n",
            "    accuracy                           0.58      3000\n",
            "   macro avg       0.08      0.09      0.08      3000\n",
            "weighted avg       0.53      0.58      0.54      3000\n",
            "\n"
          ]
        },
        {
          "output_type": "stream",
          "name": "stderr",
          "text": [
            "/usr/local/lib/python3.7/dist-packages/sklearn/metrics/_classification.py:1318: UndefinedMetricWarning: Precision and F-score are ill-defined and being set to 0.0 in labels with no predicted samples. Use `zero_division` parameter to control this behavior.\n",
            "  _warn_prf(average, modifier, msg_start, len(result))\n",
            "/usr/local/lib/python3.7/dist-packages/sklearn/metrics/_classification.py:1318: UndefinedMetricWarning: Precision and F-score are ill-defined and being set to 0.0 in labels with no predicted samples. Use `zero_division` parameter to control this behavior.\n",
            "  _warn_prf(average, modifier, msg_start, len(result))\n",
            "/usr/local/lib/python3.7/dist-packages/sklearn/metrics/_classification.py:1318: UndefinedMetricWarning: Precision and F-score are ill-defined and being set to 0.0 in labels with no predicted samples. Use `zero_division` parameter to control this behavior.\n",
            "  _warn_prf(average, modifier, msg_start, len(result))\n"
          ]
        }
      ],
      "source": [
        "print(\"Classification Report For Logistic regression:\",classification_report(y_test, y_pred)) "
      ],
      "id": "-xKQsgpBQs1I"
    },
    {
      "cell_type": "code",
      "execution_count": null,
      "metadata": {
        "id": "959ea1eb",
        "colab": {
          "base_uri": "https://localhost:8080/"
        },
        "outputId": "80fe3201-eecb-4041-b046-bff8d6e503e8"
      },
      "outputs": [
        {
          "output_type": "stream",
          "name": "stdout",
          "text": [
            "Confusion Matrix: [[0 0 0 ... 0 0 0]\n",
            " [0 0 0 ... 0 0 0]\n",
            " [0 0 0 ... 0 0 0]\n",
            " ...\n",
            " [0 0 0 ... 0 0 0]\n",
            " [0 0 0 ... 0 0 0]\n",
            " [0 0 0 ... 0 0 0]]\n"
          ]
        }
      ],
      "source": [
        "print(\"Confusion Matrix:\",confusion_matrix(y_test,y_pred))"
      ],
      "id": "959ea1eb"
    },
    {
      "cell_type": "code",
      "execution_count": null,
      "metadata": {
        "id": "76e04a5a"
      },
      "outputs": [],
      "source": [
        "# KNN\n",
        "from sklearn.neighbors import KNeighborsClassifier\n",
        "acc_values=[]\n",
        "neighbors=np.arange(3,15)\n",
        "for k in neighbors:\n",
        "    classifier=KNeighborsClassifier(n_neighbors=k,metric='minkowski')\n",
        "    classifier.fit(X_train,y_train)\n",
        "    y_pred1=classifier.predict(X_test)\n",
        "    acc=accuracy_score(y_test,y_pred1)\n",
        "    acc_values.append(acc)"
      ],
      "id": "76e04a5a"
    },
    {
      "cell_type": "code",
      "execution_count": null,
      "metadata": {
        "id": "8af5c0d7",
        "colab": {
          "base_uri": "https://localhost:8080/"
        },
        "outputId": "898df4af-cd5d-418d-a2f0-b2259e29a926"
      },
      "outputs": [
        {
          "output_type": "execute_result",
          "data": {
            "text/plain": [
              "[0.9786666666666667,\n",
              " 0.978,\n",
              " 0.9743333333333334,\n",
              " 0.972,\n",
              " 0.9713333333333334,\n",
              " 0.9693333333333334,\n",
              " 0.9643333333333334,\n",
              " 0.9646666666666667,\n",
              " 0.959,\n",
              " 0.9566666666666667,\n",
              " 0.9536666666666667,\n",
              " 0.9496666666666667]"
            ]
          },
          "metadata": {},
          "execution_count": 63
        }
      ],
      "source": [
        "acc_values"
      ],
      "id": "8af5c0d7"
    },
    {
      "cell_type": "code",
      "execution_count": null,
      "metadata": {
        "id": "1b53d628",
        "colab": {
          "base_uri": "https://localhost:8080/",
          "height": 300
        },
        "outputId": "2b14a597-1782-49c0-c207-7ee82eb13281"
      },
      "outputs": [
        {
          "output_type": "execute_result",
          "data": {
            "text/plain": [
              "Text(0, 0.5, 'accuracy')"
            ]
          },
          "metadata": {},
          "execution_count": 64
        },
        {
          "output_type": "display_data",
          "data": {
            "text/plain": [
              "<Figure size 432x288 with 1 Axes>"
            ],
            "image/png": "[encoded data removed]"
          },
          "metadata": {
            "needs_background": "light"
          }
        }
      ],
      "source": [
        "plt.plot(neighbors,acc_values,'o-')\n",
        "plt.xlabel('k value')\n",
        "plt.ylabel('accuracy')"
      ],
      "id": "1b53d628"
    },
    {
      "cell_type": "markdown",
      "metadata": {
        "id": "3MupIeQ5ZoHP"
      },
      "source": [
        "we get max accuracy with k = 3"
      ],
      "id": "3MupIeQ5ZoHP"
    },
    {
      "cell_type": "code",
      "execution_count": null,
      "metadata": {
        "id": "19f23065"
      },
      "outputs": [],
      "source": [
        "classifier=KNeighborsClassifier(n_neighbors=3,metric='minkowski')\n",
        "classifier.fit(X_train,y_train)\n",
        "y_pred1=classifier.predict(X_test)"
      ],
      "id": "19f23065"
    },
    {
      "cell_type": "code",
      "execution_count": null,
      "metadata": {
        "id": "dxlbmPMTRB_e",
        "colab": {
          "base_uri": "https://localhost:8080/"
        },
        "outputId": "799b5926-b579-4ec7-a914-cf5bb9657f6d"
      },
      "outputs": [
        {
          "output_type": "stream",
          "name": "stdout",
          "text": [
            "Classification Report for KNN:               precision    recall  f1-score   support\n",
            "\n",
            "           0       0.80      0.80      0.80         5\n",
            "           1       0.33      0.14      0.20         7\n",
            "           2       0.33      1.00      0.50         1\n",
            "           3       0.50      0.75      0.60         8\n",
            "           4       0.00      0.00      0.00         0\n",
            "           5       0.67      0.67      0.67         6\n",
            "           6       1.00      1.00      1.00         3\n",
            "           7       0.50      1.00      0.67         3\n",
            "           9       0.70      0.64      0.67        11\n",
            "          10       1.00      1.00      1.00        12\n",
            "          11       0.33      0.33      0.33         3\n",
            "          15       0.00      0.00      0.00         1\n",
            "          16       1.00      1.00      1.00         1\n",
            "          19       0.00      0.00      0.00         2\n",
            "          20       1.00      1.00      1.00         4\n",
            "          22       0.33      1.00      0.50         1\n",
            "          23       0.50      1.00      0.67         1\n",
            "          24       0.00      0.00      0.00         1\n",
            "          25       1.00      1.00      1.00         1\n",
            "          26       0.00      0.00      0.00         1\n",
            "          27       1.00      1.00      1.00         1\n",
            "          28       0.00      0.00      0.00         1\n",
            "          29       0.67      1.00      0.80         2\n",
            "          33       1.00      1.00      1.00         3\n",
            "          34       0.00      0.00      0.00         3\n",
            "          35       1.00      1.00      1.00        38\n",
            "          36       0.00      0.00      0.00         3\n",
            "          38       0.00      0.00      0.00         0\n",
            "          39       0.44      0.80      0.57         5\n",
            "          40       0.00      0.00      0.00         0\n",
            "          41       1.00      0.75      0.86         4\n",
            "          42       0.00      0.00      0.00         2\n",
            "          43       1.00      0.60      0.75         5\n",
            "          44       0.00      0.00      0.00         1\n",
            "          45       1.00      0.50      0.67         2\n",
            "          46       1.00      1.00      1.00        43\n",
            "          47       0.00      0.00      0.00         0\n",
            "          48       0.83      0.83      0.83         6\n",
            "          49       0.00      0.00      0.00         2\n",
            "          50       0.00      0.00      0.00         2\n",
            "          51       0.00      0.00      0.00         0\n",
            "          52       1.00      1.00      1.00         6\n",
            "          53       1.00      0.98      0.99        48\n",
            "          54       0.00      0.00      0.00         1\n",
            "          55       1.00      1.00      1.00         9\n",
            "          56       1.00      1.00      1.00         1\n",
            "          57       1.00      1.00      1.00         1\n",
            "          58       1.00      0.90      0.95        10\n",
            "          59       0.00      0.00      0.00         2\n",
            "          60       0.00      0.00      0.00         1\n",
            "          64       0.50      0.33      0.40         3\n",
            "          65       0.40      1.00      0.57         2\n",
            "          66       0.40      1.00      0.57         2\n",
            "          67       0.00      0.00      0.00         1\n",
            "          68       1.00      1.00      1.00         1\n",
            "          69       0.40      0.50      0.44         4\n",
            "          70       1.00      0.83      0.91         6\n",
            "          72       0.00      0.00      0.00         1\n",
            "          75       1.00      0.25      0.40         4\n",
            "          76       0.00      0.00      0.00         1\n",
            "          77       1.00      1.00      1.00       220\n",
            "          78       1.00      1.00      1.00        31\n",
            "          79       1.00      1.00      1.00         1\n",
            "          80       1.00      1.00      1.00        54\n",
            "          81       1.00      1.00      1.00        35\n",
            "          83       1.00      1.00      1.00        54\n",
            "          84       1.00      1.00      1.00        13\n",
            "          86       1.00      1.00      1.00       105\n",
            "          87       1.00      1.00      1.00        22\n",
            "          88       1.00      1.00      1.00       108\n",
            "          89       1.00      1.00      1.00        15\n",
            "          90       1.00      1.00      1.00       170\n",
            "          91       0.89      1.00      0.94         8\n",
            "          93       0.00      0.00      0.00         1\n",
            "          94       0.00      0.00      0.00         0\n",
            "          95       1.00      1.00      1.00         4\n",
            "          96       1.00      1.00      1.00       657\n",
            "          97       1.00      1.00      1.00         2\n",
            "          98       0.80      1.00      0.89         4\n",
            "          99       0.86      1.00      0.92         6\n",
            "         100       0.86      1.00      0.92         6\n",
            "         101       1.00      1.00      1.00        23\n",
            "         102       1.00      1.00      1.00       409\n",
            "         104       1.00      1.00      1.00        25\n",
            "         106       1.00      1.00      1.00        39\n",
            "         107       1.00      1.00      1.00        66\n",
            "         108       1.00      1.00      1.00        78\n",
            "         110       0.00      0.00      0.00         1\n",
            "         111       0.60      1.00      0.75         3\n",
            "         112       0.00      0.00      0.00         1\n",
            "         113       1.00      1.00      1.00         6\n",
            "         114       0.50      1.00      0.67         1\n",
            "         115       0.50      0.50      0.50         2\n",
            "         116       0.97      1.00      0.99        36\n",
            "         117       1.00      1.00      1.00         2\n",
            "         118       1.00      1.00      1.00        54\n",
            "         119       1.00      1.00      1.00        43\n",
            "         120       1.00      1.00      1.00       128\n",
            "         121       1.00      1.00      1.00         5\n",
            "         122       1.00      1.00      1.00        72\n",
            "         123       1.00      1.00      1.00        24\n",
            "         124       1.00      1.00      1.00       137\n",
            "         125       1.00      1.00      1.00         2\n",
            "         126       0.83      1.00      0.91         5\n",
            "         127       0.93      1.00      0.97        14\n",
            "         128       1.00      0.89      0.94         9\n",
            "\n",
            "    accuracy                           0.98      3000\n",
            "   macro avg       0.65      0.69      0.66      3000\n",
            "weighted avg       0.98      0.98      0.98      3000\n",
            "\n"
          ]
        },
        {
          "output_type": "stream",
          "name": "stderr",
          "text": [
            "/usr/local/lib/python3.7/dist-packages/sklearn/metrics/_classification.py:1318: UndefinedMetricWarning: Precision and F-score are ill-defined and being set to 0.0 in labels with no predicted samples. Use `zero_division` parameter to control this behavior.\n",
            "  _warn_prf(average, modifier, msg_start, len(result))\n",
            "/usr/local/lib/python3.7/dist-packages/sklearn/metrics/_classification.py:1318: UndefinedMetricWarning: Recall and F-score are ill-defined and being set to 0.0 in labels with no true samples. Use `zero_division` parameter to control this behavior.\n",
            "  _warn_prf(average, modifier, msg_start, len(result))\n",
            "/usr/local/lib/python3.7/dist-packages/sklearn/metrics/_classification.py:1318: UndefinedMetricWarning: Precision and F-score are ill-defined and being set to 0.0 in labels with no predicted samples. Use `zero_division` parameter to control this behavior.\n",
            "  _warn_prf(average, modifier, msg_start, len(result))\n",
            "/usr/local/lib/python3.7/dist-packages/sklearn/metrics/_classification.py:1318: UndefinedMetricWarning: Recall and F-score are ill-defined and being set to 0.0 in labels with no true samples. Use `zero_division` parameter to control this behavior.\n",
            "  _warn_prf(average, modifier, msg_start, len(result))\n",
            "/usr/local/lib/python3.7/dist-packages/sklearn/metrics/_classification.py:1318: UndefinedMetricWarning: Precision and F-score are ill-defined and being set to 0.0 in labels with no predicted samples. Use `zero_division` parameter to control this behavior.\n",
            "  _warn_prf(average, modifier, msg_start, len(result))\n",
            "/usr/local/lib/python3.7/dist-packages/sklearn/metrics/_classification.py:1318: UndefinedMetricWarning: Recall and F-score are ill-defined and being set to 0.0 in labels with no true samples. Use `zero_division` parameter to control this behavior.\n",
            "  _warn_prf(average, modifier, msg_start, len(result))\n"
          ]
        }
      ],
      "source": [
        "print(\"Classification Report for KNN:\",classification_report(y_test, y_pred1)) "
      ],
      "id": "dxlbmPMTRB_e"
    },
    {
      "cell_type": "code",
      "execution_count": null,
      "metadata": {
        "id": "dbd90457",
        "colab": {
          "base_uri": "https://localhost:8080/"
        },
        "outputId": "f87bedd6-2b70-4f71-d2f4-2205f50a5609"
      },
      "outputs": [
        {
          "output_type": "stream",
          "name": "stdout",
          "text": [
            "Confusion Matrix: [[ 4  0  0 ...  0  0  0]\n",
            " [ 0  1  0 ...  0  0  0]\n",
            " [ 0  0  1 ...  0  0  0]\n",
            " ...\n",
            " [ 0  0  0 ...  5  0  0]\n",
            " [ 0  0  0 ...  0 14  0]\n",
            " [ 0  0  0 ...  0  0  8]]\n"
          ]
        }
      ],
      "source": [
        "print(\"Confusion Matrix:\",confusion_matrix(y_test,y_pred1))"
      ],
      "id": "dbd90457"
    },
    {
      "cell_type": "code",
      "execution_count": null,
      "metadata": {
        "id": "OlBiOsPACSrA"
      },
      "outputs": [],
      "source": [
        "#decision tree classification\n",
        "from sklearn.tree import DecisionTreeClassifier\n",
        "data_model=DecisionTreeClassifier()\n",
        "data_model.fit(X_train,y_train)\n",
        "y_pred2=data_model.predict(X_test)"
      ],
      "id": "OlBiOsPACSrA"
    },
    {
      "cell_type": "code",
      "execution_count": null,
      "metadata": {
        "colab": {
          "base_uri": "https://localhost:8080/"
        },
        "id": "Ohaqx-jyRZxE",
        "outputId": "2dbf3de8-2baa-462d-f79b-48cd9bf6be53"
      },
      "outputs": [
        {
          "output_type": "stream",
          "name": "stdout",
          "text": [
            "Classification Report For Decision Tree:               precision    recall  f1-score   support\n",
            "\n",
            "           0       1.00      1.00      1.00         5\n",
            "           1       0.60      0.86      0.71         7\n",
            "           2       1.00      1.00      1.00         1\n",
            "           3       0.80      0.50      0.62         8\n",
            "           5       0.00      0.00      0.00         6\n",
            "           6       1.00      1.00      1.00         3\n",
            "           7       0.50      1.00      0.67         3\n",
            "           9       1.00      1.00      1.00        11\n",
            "          10       1.00      1.00      1.00        12\n",
            "          11       0.25      0.67      0.36         3\n",
            "          12       0.00      0.00      0.00         0\n",
            "          13       0.00      0.00      0.00         0\n",
            "          15       0.00      0.00      0.00         1\n",
            "          16       1.00      1.00      1.00         1\n",
            "          18       0.00      0.00      0.00         0\n",
            "          19       0.00      0.00      0.00         2\n",
            "          20       1.00      1.00      1.00         4\n",
            "          22       1.00      1.00      1.00         1\n",
            "          23       1.00      1.00      1.00         1\n",
            "          24       0.00      0.00      0.00         1\n",
            "          25       0.25      1.00      0.40         1\n",
            "          26       0.00      0.00      0.00         1\n",
            "          27       1.00      1.00      1.00         1\n",
            "          28       0.00      0.00      0.00         1\n",
            "          29       0.67      1.00      0.80         2\n",
            "          31       0.00      0.00      0.00         0\n",
            "          32       0.00      0.00      0.00         0\n",
            "          33       0.00      0.00      0.00         3\n",
            "          34       0.00      0.00      0.00         3\n",
            "          35       1.00      1.00      1.00        38\n",
            "          36       0.00      0.00      0.00         3\n",
            "          38       0.00      0.00      0.00         0\n",
            "          39       1.00      1.00      1.00         5\n",
            "          40       0.00      0.00      0.00         0\n",
            "          41       1.00      1.00      1.00         4\n",
            "          42       0.00      0.00      0.00         2\n",
            "          43       1.00      1.00      1.00         5\n",
            "          44       0.00      0.00      0.00         1\n",
            "          45       1.00      1.00      1.00         2\n",
            "          46       1.00      1.00      1.00        43\n",
            "          48       1.00      1.00      1.00         6\n",
            "          49       0.00      0.00      0.00         2\n",
            "          50       1.00      1.00      1.00         2\n",
            "          51       0.00      0.00      0.00         0\n",
            "          52       1.00      1.00      1.00         6\n",
            "          53       1.00      1.00      1.00        48\n",
            "          54       0.00      0.00      0.00         1\n",
            "          55       1.00      1.00      1.00         9\n",
            "          56       1.00      1.00      1.00         1\n",
            "          57       1.00      1.00      1.00         1\n",
            "          58       1.00      1.00      1.00        10\n",
            "          59       0.00      0.00      0.00         2\n",
            "          60       0.00      0.00      0.00         1\n",
            "          62       0.00      0.00      0.00         0\n",
            "          64       1.00      1.00      1.00         3\n",
            "          65       0.50      1.00      0.67         2\n",
            "          66       0.40      1.00      0.57         2\n",
            "          67       0.00      0.00      0.00         1\n",
            "          68       1.00      1.00      1.00         1\n",
            "          69       1.00      0.50      0.67         4\n",
            "          70       1.00      0.83      0.91         6\n",
            "          72       0.00      0.00      0.00         1\n",
            "          75       1.00      1.00      1.00         4\n",
            "          76       0.00      0.00      0.00         1\n",
            "          77       1.00      1.00      1.00       220\n",
            "          78       1.00      1.00      1.00        31\n",
            "          79       0.50      1.00      0.67         1\n",
            "          80       1.00      1.00      1.00        54\n",
            "          81       1.00      1.00      1.00        35\n",
            "          83       1.00      1.00      1.00        54\n",
            "          84       1.00      1.00      1.00        13\n",
            "          86       1.00      1.00      1.00       105\n",
            "          87       1.00      1.00      1.00        22\n",
            "          88       1.00      1.00      1.00       108\n",
            "          89       1.00      1.00      1.00        15\n",
            "          90       1.00      1.00      1.00       170\n",
            "          91       1.00      1.00      1.00         8\n",
            "          93       1.00      1.00      1.00         1\n",
            "          95       1.00      1.00      1.00         4\n",
            "          96       1.00      1.00      1.00       657\n",
            "          97       1.00      1.00      1.00         2\n",
            "          98       1.00      1.00      1.00         4\n",
            "          99       1.00      1.00      1.00         6\n",
            "         100       1.00      1.00      1.00         6\n",
            "         101       1.00      1.00      1.00        23\n",
            "         102       1.00      1.00      1.00       409\n",
            "         103       0.00      0.00      0.00         0\n",
            "         104       1.00      1.00      1.00        25\n",
            "         106       1.00      1.00      1.00        39\n",
            "         107       1.00      1.00      1.00        66\n",
            "         108       1.00      1.00      1.00        78\n",
            "         110       0.00      0.00      0.00         1\n",
            "         111       1.00      1.00      1.00         3\n",
            "         112       0.00      0.00      0.00         1\n",
            "         113       1.00      1.00      1.00         6\n",
            "         114       1.00      1.00      1.00         1\n",
            "         115       1.00      1.00      1.00         2\n",
            "         116       1.00      1.00      1.00        36\n",
            "         117       1.00      1.00      1.00         2\n",
            "         118       1.00      1.00      1.00        54\n",
            "         119       1.00      1.00      1.00        43\n",
            "         120       1.00      1.00      1.00       128\n",
            "         121       1.00      1.00      1.00         5\n",
            "         122       1.00      1.00      1.00        72\n",
            "         123       1.00      1.00      1.00        24\n",
            "         124       1.00      1.00      1.00       137\n",
            "         125       1.00      1.00      1.00         2\n",
            "         126       1.00      1.00      1.00         5\n",
            "         127       1.00      1.00      1.00        14\n",
            "         128       1.00      1.00      1.00         9\n",
            "\n",
            "    accuracy                           0.99      3000\n",
            "   macro avg       0.69      0.71      0.69      3000\n",
            "weighted avg       0.98      0.99      0.98      3000\n",
            "\n"
          ]
        },
        {
          "output_type": "stream",
          "name": "stderr",
          "text": [
            "/usr/local/lib/python3.7/dist-packages/sklearn/metrics/_classification.py:1318: UndefinedMetricWarning: Precision and F-score are ill-defined and being set to 0.0 in labels with no predicted samples. Use `zero_division` parameter to control this behavior.\n",
            "  _warn_prf(average, modifier, msg_start, len(result))\n",
            "/usr/local/lib/python3.7/dist-packages/sklearn/metrics/_classification.py:1318: UndefinedMetricWarning: Recall and F-score are ill-defined and being set to 0.0 in labels with no true samples. Use `zero_division` parameter to control this behavior.\n",
            "  _warn_prf(average, modifier, msg_start, len(result))\n",
            "/usr/local/lib/python3.7/dist-packages/sklearn/metrics/_classification.py:1318: UndefinedMetricWarning: Precision and F-score are ill-defined and being set to 0.0 in labels with no predicted samples. Use `zero_division` parameter to control this behavior.\n",
            "  _warn_prf(average, modifier, msg_start, len(result))\n",
            "/usr/local/lib/python3.7/dist-packages/sklearn/metrics/_classification.py:1318: UndefinedMetricWarning: Recall and F-score are ill-defined and being set to 0.0 in labels with no true samples. Use `zero_division` parameter to control this behavior.\n",
            "  _warn_prf(average, modifier, msg_start, len(result))\n",
            "/usr/local/lib/python3.7/dist-packages/sklearn/metrics/_classification.py:1318: UndefinedMetricWarning: Precision and F-score are ill-defined and being set to 0.0 in labels with no predicted samples. Use `zero_division` parameter to control this behavior.\n",
            "  _warn_prf(average, modifier, msg_start, len(result))\n",
            "/usr/local/lib/python3.7/dist-packages/sklearn/metrics/_classification.py:1318: UndefinedMetricWarning: Recall and F-score are ill-defined and being set to 0.0 in labels with no true samples. Use `zero_division` parameter to control this behavior.\n",
            "  _warn_prf(average, modifier, msg_start, len(result))\n"
          ]
        }
      ],
      "source": [
        "print(\"Classification Report For Decision Tree:\",classification_report(y_test, y_pred2)) "
      ],
      "id": "Ohaqx-jyRZxE"
    },
    {
      "cell_type": "code",
      "execution_count": null,
      "metadata": {
        "colab": {
          "base_uri": "https://localhost:8080/"
        },
        "id": "kjK8w0s0CSw1",
        "outputId": "d1643fa4-2438-4905-f4be-aea583911144"
      },
      "outputs": [
        {
          "output_type": "stream",
          "name": "stdout",
          "text": [
            "Confusion Matrix: [[ 5  0  0 ...  0  0  0]\n",
            " [ 0  6  0 ...  0  0  0]\n",
            " [ 0  0  1 ...  0  0  0]\n",
            " ...\n",
            " [ 0  0  0 ...  5  0  0]\n",
            " [ 0  0  0 ...  0 14  0]\n",
            " [ 0  0  0 ...  0  0  9]]\n"
          ]
        }
      ],
      "source": [
        "print(\"Confusion Matrix:\",confusion_matrix(y_test,y_pred2))"
      ],
      "id": "kjK8w0s0CSw1"
    },
    {
      "cell_type": "code",
      "execution_count": null,
      "metadata": {
        "id": "79NPc6iBNKur"
      },
      "outputs": [],
      "source": [
        "#SVm\n",
        "from sklearn.svm import SVC\n",
        "acc_values = []\n",
        "for item in ['linear','poly','rbf']:\n",
        "    svm_classifier = SVC(kernel=item)\n",
        "    svm_classifier.fit(X_train,y_train)\n",
        "    y_pred3 = svm_classifier.predict(X_test)\n",
        "    acc = accuracy_score(y_test,y_pred3)\n",
        "    acc_values.append(acc)"
      ],
      "id": "79NPc6iBNKur"
    },
    {
      "cell_type": "code",
      "execution_count": null,
      "metadata": {
        "colab": {
          "base_uri": "https://localhost:8080/"
        },
        "id": "XxxsMvZbNie3",
        "outputId": "886be604-3f29-47fe-e087-f2e1e0c8f390"
      },
      "outputs": [
        {
          "output_type": "execute_result",
          "data": {
            "text/plain": [
              "[0.7046666666666667, 0.5636666666666666, 0.6506666666666666]"
            ]
          },
          "metadata": {},
          "execution_count": 74
        }
      ],
      "source": [
        "acc_values"
      ],
      "id": "XxxsMvZbNie3"
    },
    {
      "cell_type": "markdown",
      "metadata": {
        "id": "DNjagQZVP4on"
      },
      "source": [
        "linear kernel provides best result"
      ],
      "id": "DNjagQZVP4on"
    },
    {
      "cell_type": "code",
      "execution_count": null,
      "metadata": {
        "id": "MRgBQnZcCSzc"
      },
      "outputs": [],
      "source": [
        "\n",
        "svm_linear=SVC(kernel='linear')\n",
        "svm_linear.fit(X_train,y_train)\n",
        "y_pred3=svm_linear.predict(X_test)"
      ],
      "id": "MRgBQnZcCSzc"
    },
    {
      "cell_type": "code",
      "execution_count": null,
      "metadata": {
        "colab": {
          "base_uri": "https://localhost:8080/"
        },
        "id": "7gCxm5lrRhu4",
        "outputId": "4380b121-c955-4ff9-ccb7-f749aa03249d"
      },
      "outputs": [
        {
          "output_type": "stream",
          "name": "stdout",
          "text": [
            "Classification Report for SVM:               precision    recall  f1-score   support\n",
            "\n",
            "           0       0.00      0.00      0.00         5\n",
            "           1       0.00      0.00      0.00         7\n",
            "           2       0.00      0.00      0.00         1\n",
            "           3       0.00      0.00      0.00         8\n",
            "           5       0.00      0.00      0.00         6\n",
            "           6       0.00      0.00      0.00         3\n",
            "           7       0.00      0.00      0.00         3\n",
            "           9       0.45      0.45      0.45        11\n",
            "          10       0.00      0.00      0.00        12\n",
            "          11       0.00      0.00      0.00         3\n",
            "          15       0.00      0.00      0.00         1\n",
            "          16       0.00      0.00      0.00         1\n",
            "          19       0.00      0.00      0.00         2\n",
            "          20       0.00      0.00      0.00         4\n",
            "          22       0.00      0.00      0.00         1\n",
            "          23       0.00      0.00      0.00         1\n",
            "          24       0.00      0.00      0.00         1\n",
            "          25       0.00      0.00      0.00         1\n",
            "          26       0.00      0.00      0.00         1\n",
            "          27       0.00      0.00      0.00         1\n",
            "          28       0.00      0.00      0.00         1\n",
            "          29       0.00      0.00      0.00         2\n",
            "          33       0.00      0.00      0.00         3\n",
            "          34       0.00      0.00      0.00         3\n",
            "          35       0.21      1.00      0.35        38\n",
            "          36       0.00      0.00      0.00         3\n",
            "          39       0.50      0.60      0.55         5\n",
            "          41       0.00      0.00      0.00         4\n",
            "          42       0.00      0.00      0.00         2\n",
            "          43       0.00      0.00      0.00         5\n",
            "          44       0.00      0.00      0.00         1\n",
            "          45       0.00      0.00      0.00         2\n",
            "          46       0.24      0.60      0.34        43\n",
            "          48       0.00      0.00      0.00         6\n",
            "          49       0.00      0.00      0.00         2\n",
            "          50       0.00      0.00      0.00         2\n",
            "          52       0.00      0.00      0.00         6\n",
            "          53       0.00      0.00      0.00        48\n",
            "          54       0.00      0.00      0.00         1\n",
            "          55       0.08      0.22      0.12         9\n",
            "          56       0.00      0.00      0.00         1\n",
            "          57       0.00      0.00      0.00         1\n",
            "          58       0.00      0.00      0.00        10\n",
            "          59       0.00      0.00      0.00         2\n",
            "          60       0.00      0.00      0.00         1\n",
            "          64       0.67      0.67      0.67         3\n",
            "          65       0.00      0.00      0.00         2\n",
            "          66       0.00      0.00      0.00         2\n",
            "          67       0.00      0.00      0.00         1\n",
            "          68       0.00      0.00      0.00         1\n",
            "          69       0.00      0.00      0.00         4\n",
            "          70       0.00      0.00      0.00         6\n",
            "          71       0.00      0.00      0.00         0\n",
            "          72       0.00      0.00      0.00         1\n",
            "          75       0.00      0.00      0.00         4\n",
            "          76       0.00      0.00      0.00         1\n",
            "          77       1.00      1.00      1.00       220\n",
            "          78       0.00      0.00      0.00        31\n",
            "          79       0.00      0.00      0.00         1\n",
            "          80       0.33      0.78      0.47        54\n",
            "          81       0.00      0.00      0.00        35\n",
            "          83       0.00      0.00      0.00        54\n",
            "          84       0.00      0.00      0.00        13\n",
            "          86       0.50      0.68      0.57       105\n",
            "          87       0.00      0.00      0.00        22\n",
            "          88       0.70      0.93      0.80       108\n",
            "          89       0.09      0.33      0.14        15\n",
            "          90       1.00      1.00      1.00       170\n",
            "          91       0.00      0.00      0.00         8\n",
            "          93       0.00      0.00      0.00         1\n",
            "          95       0.00      0.00      0.00         4\n",
            "          96       1.00      1.00      1.00       657\n",
            "          97       0.00      0.00      0.00         2\n",
            "          98       0.00      0.00      0.00         4\n",
            "          99       0.00      0.00      0.00         6\n",
            "         100       0.00      0.00      0.00         6\n",
            "         101       0.00      0.00      0.00        23\n",
            "         102       1.00      1.00      1.00       409\n",
            "         104       0.03      0.04      0.03        25\n",
            "         106       0.00      0.00      0.00        39\n",
            "         107       0.45      0.67      0.54        66\n",
            "         108       0.19      0.06      0.10        78\n",
            "         110       0.00      0.00      0.00         1\n",
            "         111       0.00      0.00      0.00         3\n",
            "         112       0.00      0.00      0.00         1\n",
            "         113       0.00      0.00      0.00         6\n",
            "         114       0.00      0.00      0.00         1\n",
            "         115       0.00      0.00      0.00         2\n",
            "         116       0.00      0.00      0.00        36\n",
            "         117       0.00      0.00      0.00         2\n",
            "         118       0.27      0.83      0.41        54\n",
            "         119       0.32      0.58      0.42        43\n",
            "         120       0.88      0.96      0.92       128\n",
            "         121       0.00      0.00      0.00         5\n",
            "         122       0.00      0.00      0.00        72\n",
            "         123       0.00      0.00      0.00        24\n",
            "         124       0.96      0.88      0.92       137\n",
            "         125       0.00      0.00      0.00         2\n",
            "         126       0.00      0.00      0.00         5\n",
            "         127       0.00      0.00      0.00        14\n",
            "         128       0.00      0.00      0.00         9\n",
            "\n",
            "    accuracy                           0.70      3000\n",
            "   macro avg       0.11      0.14      0.12      3000\n",
            "weighted avg       0.65      0.70      0.67      3000\n",
            "\n"
          ]
        },
        {
          "output_type": "stream",
          "name": "stderr",
          "text": [
            "/usr/local/lib/python3.7/dist-packages/sklearn/metrics/_classification.py:1318: UndefinedMetricWarning: Precision and F-score are ill-defined and being set to 0.0 in labels with no predicted samples. Use `zero_division` parameter to control this behavior.\n",
            "  _warn_prf(average, modifier, msg_start, len(result))\n",
            "/usr/local/lib/python3.7/dist-packages/sklearn/metrics/_classification.py:1318: UndefinedMetricWarning: Recall and F-score are ill-defined and being set to 0.0 in labels with no true samples. Use `zero_division` parameter to control this behavior.\n",
            "  _warn_prf(average, modifier, msg_start, len(result))\n",
            "/usr/local/lib/python3.7/dist-packages/sklearn/metrics/_classification.py:1318: UndefinedMetricWarning: Precision and F-score are ill-defined and being set to 0.0 in labels with no predicted samples. Use `zero_division` parameter to control this behavior.\n",
            "  _warn_prf(average, modifier, msg_start, len(result))\n",
            "/usr/local/lib/python3.7/dist-packages/sklearn/metrics/_classification.py:1318: UndefinedMetricWarning: Recall and F-score are ill-defined and being set to 0.0 in labels with no true samples. Use `zero_division` parameter to control this behavior.\n",
            "  _warn_prf(average, modifier, msg_start, len(result))\n",
            "/usr/local/lib/python3.7/dist-packages/sklearn/metrics/_classification.py:1318: UndefinedMetricWarning: Precision and F-score are ill-defined and being set to 0.0 in labels with no predicted samples. Use `zero_division` parameter to control this behavior.\n",
            "  _warn_prf(average, modifier, msg_start, len(result))\n",
            "/usr/local/lib/python3.7/dist-packages/sklearn/metrics/_classification.py:1318: UndefinedMetricWarning: Recall and F-score are ill-defined and being set to 0.0 in labels with no true samples. Use `zero_division` parameter to control this behavior.\n",
            "  _warn_prf(average, modifier, msg_start, len(result))\n"
          ]
        }
      ],
      "source": [
        "print(\"Classification Report for SVM:\",classification_report(y_test, y_pred3)) "
      ],
      "id": "7gCxm5lrRhu4"
    },
    {
      "cell_type": "code",
      "source": [
        "print(\"Confusion Matrix:\",confusion_matrix(y_test,y_pred3))"
      ],
      "metadata": {
        "colab": {
          "base_uri": "https://localhost:8080/"
        },
        "id": "ao4fmqYXaXyA",
        "outputId": "756d2d0c-485d-481f-d566-99243e0bf4c8"
      },
      "id": "ao4fmqYXaXyA",
      "execution_count": null,
      "outputs": [
        {
          "output_type": "stream",
          "name": "stdout",
          "text": [
            "Confusion Matrix: [[0 0 0 ... 0 0 0]\n",
            " [0 0 0 ... 0 0 0]\n",
            " [0 0 0 ... 0 0 0]\n",
            " ...\n",
            " [0 0 0 ... 0 0 0]\n",
            " [0 0 0 ... 0 0 0]\n",
            " [0 0 0 ... 0 0 0]]\n"
          ]
        }
      ]
    },
    {
      "cell_type": "code",
      "execution_count": null,
      "metadata": {
        "id": "BAZWK9GHCS37"
      },
      "outputs": [],
      "source": [
        "#Random forest\n",
        "from sklearn.ensemble import RandomForestClassifier\n",
        "rf=RandomForestClassifier()\n",
        "rf.fit(X_train,y_train)\n",
        "y_pred4=rf.predict(X_test)"
      ],
      "id": "BAZWK9GHCS37"
    },
    {
      "cell_type": "code",
      "execution_count": null,
      "metadata": {
        "colab": {
          "base_uri": "https://localhost:8080/"
        },
        "id": "wK8hoNfGRMOa",
        "outputId": "b7e04350-96bb-40db-94fe-c64577402316"
      },
      "outputs": [
        {
          "output_type": "stream",
          "name": "stdout",
          "text": [
            "Classification Report for Random forest:               precision    recall  f1-score   support\n",
            "\n",
            "           0       1.00      0.80      0.89         5\n",
            "           1       0.60      0.86      0.71         7\n",
            "           2       1.00      1.00      1.00         1\n",
            "           3       0.80      0.50      0.62         8\n",
            "           5       0.00      0.00      0.00         6\n",
            "           6       1.00      1.00      1.00         3\n",
            "           7       0.00      0.00      0.00         3\n",
            "           8       0.00      0.00      0.00         0\n",
            "           9       1.00      1.00      1.00        11\n",
            "          10       1.00      1.00      1.00        12\n",
            "          11       0.25      0.67      0.36         3\n",
            "          12       0.00      0.00      0.00         0\n",
            "          15       0.00      0.00      0.00         1\n",
            "          16       1.00      1.00      1.00         1\n",
            "          19       0.00      0.00      0.00         2\n",
            "          20       1.00      1.00      1.00         4\n",
            "          22       1.00      1.00      1.00         1\n",
            "          23       1.00      1.00      1.00         1\n",
            "          24       0.00      0.00      0.00         1\n",
            "          25       0.25      1.00      0.40         1\n",
            "          26       0.00      0.00      0.00         1\n",
            "          27       1.00      1.00      1.00         1\n",
            "          28       0.00      0.00      0.00         1\n",
            "          29       0.67      1.00      0.80         2\n",
            "          31       0.00      0.00      0.00         0\n",
            "          33       0.00      0.00      0.00         3\n",
            "          34       0.50      1.00      0.67         3\n",
            "          35       1.00      1.00      1.00        38\n",
            "          36       0.00      0.00      0.00         3\n",
            "          38       0.00      0.00      0.00         0\n",
            "          39       1.00      1.00      1.00         5\n",
            "          41       0.75      0.75      0.75         4\n",
            "          42       0.00      0.00      0.00         2\n",
            "          43       1.00      1.00      1.00         5\n",
            "          44       0.00      0.00      0.00         1\n",
            "          45       1.00      0.50      0.67         2\n",
            "          46       1.00      1.00      1.00        43\n",
            "          47       0.00      0.00      0.00         0\n",
            "          48       0.86      1.00      0.92         6\n",
            "          49       0.00      0.00      0.00         2\n",
            "          50       1.00      1.00      1.00         2\n",
            "          52       1.00      1.00      1.00         6\n",
            "          53       1.00      1.00      1.00        48\n",
            "          54       0.00      0.00      0.00         1\n",
            "          55       1.00      1.00      1.00         9\n",
            "          56       1.00      1.00      1.00         1\n",
            "          57       1.00      1.00      1.00         1\n",
            "          58       1.00      0.90      0.95        10\n",
            "          59       0.00      0.00      0.00         2\n",
            "          60       0.00      0.00      0.00         1\n",
            "          62       0.00      0.00      0.00         0\n",
            "          64       0.75      1.00      0.86         3\n",
            "          65       0.40      1.00      0.57         2\n",
            "          66       0.40      1.00      0.57         2\n",
            "          67       0.00      0.00      0.00         1\n",
            "          68       0.00      0.00      0.00         1\n",
            "          69       0.67      0.50      0.57         4\n",
            "          70       0.83      0.83      0.83         6\n",
            "          71       0.00      0.00      0.00         0\n",
            "          72       0.00      0.00      0.00         1\n",
            "          74       0.00      0.00      0.00         0\n",
            "          75       1.00      0.75      0.86         4\n",
            "          76       0.00      0.00      0.00         1\n",
            "          77       1.00      1.00      1.00       220\n",
            "          78       1.00      1.00      1.00        31\n",
            "          79       1.00      1.00      1.00         1\n",
            "          80       1.00      1.00      1.00        54\n",
            "          81       1.00      1.00      1.00        35\n",
            "          83       1.00      1.00      1.00        54\n",
            "          84       1.00      1.00      1.00        13\n",
            "          86       1.00      1.00      1.00       105\n",
            "          87       1.00      1.00      1.00        22\n",
            "          88       1.00      1.00      1.00       108\n",
            "          89       1.00      1.00      1.00        15\n",
            "          90       1.00      1.00      1.00       170\n",
            "          91       1.00      1.00      1.00         8\n",
            "          93       0.00      0.00      0.00         1\n",
            "          94       0.00      0.00      0.00         0\n",
            "          95       1.00      1.00      1.00         4\n",
            "          96       1.00      1.00      1.00       657\n",
            "          97       1.00      1.00      1.00         2\n",
            "          98       1.00      1.00      1.00         4\n",
            "          99       0.75      1.00      0.86         6\n",
            "         100       0.86      1.00      0.92         6\n",
            "         101       1.00      1.00      1.00        23\n",
            "         102       1.00      1.00      1.00       409\n",
            "         103       0.00      0.00      0.00         0\n",
            "         104       1.00      1.00      1.00        25\n",
            "         106       1.00      1.00      1.00        39\n",
            "         107       1.00      1.00      1.00        66\n",
            "         108       1.00      1.00      1.00        78\n",
            "         110       0.00      0.00      0.00         1\n",
            "         111       1.00      1.00      1.00         3\n",
            "         112       0.00      0.00      0.00         1\n",
            "         113       1.00      1.00      1.00         6\n",
            "         114       0.50      1.00      0.67         1\n",
            "         115       1.00      0.50      0.67         2\n",
            "         116       1.00      1.00      1.00        36\n",
            "         117       1.00      1.00      1.00         2\n",
            "         118       1.00      1.00      1.00        54\n",
            "         119       1.00      1.00      1.00        43\n",
            "         120       1.00      1.00      1.00       128\n",
            "         121       0.83      1.00      0.91         5\n",
            "         122       1.00      1.00      1.00        72\n",
            "         123       1.00      1.00      1.00        24\n",
            "         124       1.00      1.00      1.00       137\n",
            "         125       1.00      1.00      1.00         2\n",
            "         126       1.00      1.00      1.00         5\n",
            "         127       1.00      1.00      1.00        14\n",
            "         128       1.00      0.89      0.94         9\n",
            "\n",
            "    accuracy                           0.98      3000\n",
            "   macro avg       0.65      0.68      0.65      3000\n",
            "weighted avg       0.98      0.98      0.98      3000\n",
            "\n"
          ]
        },
        {
          "output_type": "stream",
          "name": "stderr",
          "text": [
            "/usr/local/lib/python3.7/dist-packages/sklearn/metrics/_classification.py:1318: UndefinedMetricWarning: Precision and F-score are ill-defined and being set to 0.0 in labels with no predicted samples. Use `zero_division` parameter to control this behavior.\n",
            "  _warn_prf(average, modifier, msg_start, len(result))\n",
            "/usr/local/lib/python3.7/dist-packages/sklearn/metrics/_classification.py:1318: UndefinedMetricWarning: Recall and F-score are ill-defined and being set to 0.0 in labels with no true samples. Use `zero_division` parameter to control this behavior.\n",
            "  _warn_prf(average, modifier, msg_start, len(result))\n",
            "/usr/local/lib/python3.7/dist-packages/sklearn/metrics/_classification.py:1318: UndefinedMetricWarning: Precision and F-score are ill-defined and being set to 0.0 in labels with no predicted samples. Use `zero_division` parameter to control this behavior.\n",
            "  _warn_prf(average, modifier, msg_start, len(result))\n",
            "/usr/local/lib/python3.7/dist-packages/sklearn/metrics/_classification.py:1318: UndefinedMetricWarning: Recall and F-score are ill-defined and being set to 0.0 in labels with no true samples. Use `zero_division` parameter to control this behavior.\n",
            "  _warn_prf(average, modifier, msg_start, len(result))\n",
            "/usr/local/lib/python3.7/dist-packages/sklearn/metrics/_classification.py:1318: UndefinedMetricWarning: Precision and F-score are ill-defined and being set to 0.0 in labels with no predicted samples. Use `zero_division` parameter to control this behavior.\n",
            "  _warn_prf(average, modifier, msg_start, len(result))\n",
            "/usr/local/lib/python3.7/dist-packages/sklearn/metrics/_classification.py:1318: UndefinedMetricWarning: Recall and F-score are ill-defined and being set to 0.0 in labels with no true samples. Use `zero_division` parameter to control this behavior.\n",
            "  _warn_prf(average, modifier, msg_start, len(result))\n"
          ]
        }
      ],
      "source": [
        "print(\"Classification Report for Random forest:\",classification_report(y_test, y_pred4)) "
      ],
      "id": "wK8hoNfGRMOa"
    },
    {
      "cell_type": "code",
      "execution_count": null,
      "metadata": {
        "colab": {
          "base_uri": "https://localhost:8080/"
        },
        "id": "K4PGH-xSOHNr",
        "outputId": "5ffde3ff-28fc-4547-b7da-becd628c5785"
      },
      "outputs": [
        {
          "output_type": "stream",
          "name": "stdout",
          "text": [
            "Confusion Matrix: [[ 4  0  0 ...  0  0  0]\n",
            " [ 0  6  0 ...  0  0  0]\n",
            " [ 0  0  1 ...  0  0  0]\n",
            " ...\n",
            " [ 0  0  0 ...  5  0  0]\n",
            " [ 0  0  0 ...  0 14  0]\n",
            " [ 0  0  0 ...  0  0  8]]\n"
          ]
        }
      ],
      "source": [
        "print(\"Confusion Matrix:\",confusion_matrix(y_test,y_pred4))"
      ],
      "id": "K4PGH-xSOHNr"
    },
    {
      "cell_type": "markdown",
      "metadata": {
        "id": "wCgD1qRVMP7N"
      },
      "source": [
        "# Fine Tuning"
      ],
      "id": "wCgD1qRVMP7N"
    },
    {
      "cell_type": "code",
      "execution_count": null,
      "metadata": {
        "id": "CXhUYqjmOHQ1"
      },
      "outputs": [],
      "source": [
        "#Random forest\n",
        "model_parameters = {'n_estimators': [50, 100, 200, 400, 500, 700, 900],\n",
        "               'criterion': ['gini', 'entropy'],\n",
        "               'max_features': ['auto', 'sqrt', 'log2'],\n",
        "               'max_depth': [None],\n",
        "               'min_samples_split': [2, 5, 10],\n",
        "               'min_samples_leaf': [1, 2, 4],\n",
        "               'bootstrap': [True, False]}"
      ],
      "id": "CXhUYqjmOHQ1"
    },
    {
      "cell_type": "code",
      "execution_count": null,
      "metadata": {
        "colab": {
          "base_uri": "https://localhost:8080/"
        },
        "id": "uxkKBwArOHUO",
        "outputId": "35dad021-5f66-4338-9954-8bf23567c765"
      },
      "outputs": [
        {
          "metadata": {
            "tags": null
          },
          "name": "stdout",
          "output_type": "stream",
          "text": [
            "Fitting 3 folds for each of 100 candidates, totalling 300 fits\n"
          ]
        },
        {
          "metadata": {
            "tags": null
          },
          "name": "stderr",
          "output_type": "stream",
          "text": [
            "/usr/local/lib/python3.7/dist-packages/sklearn/model_selection/_split.py:680: UserWarning: The least populated class in y has only 1 members, which is less than n_splits=3.\n",
            "  UserWarning,\n",
            "/usr/local/lib/python3.7/dist-packages/joblib/externals/loky/process_executor.py:705: UserWarning: A worker stopped while some jobs were given to the executor. This can be caused by a too short worker timeout or by a memory leak.\n",
            "  \"timeout or by a memory leak.\", UserWarning\n"
          ]
        },
        {
          "output_type": "execute_result",
          "data": {
            "text/plain": [
              "RandomizedSearchCV(cv=3, estimator=RandomForestClassifier(), n_iter=100,\n",
              "                   n_jobs=-1,\n",
              "                   param_distributions={'bootstrap': [True, False],\n",
              "                                        'criterion': ['gini', 'entropy'],\n",
              "                                        'max_depth': [None],\n",
              "                                        'max_features': ['auto', 'sqrt',\n",
              "                                                         'log2'],\n",
              "                                        'min_samples_leaf': [1, 2, 4],\n",
              "                                        'min_samples_split': [2, 5, 10],\n",
              "                                        'n_estimators': [50, 100, 200, 400, 500,\n",
              "                                                         700, 900]},\n",
              "                   random_state=42, verbose=2)"
            ]
          },
          "metadata": {},
          "execution_count": 84
        }
      ],
      "source": [
        "from sklearn.model_selection import RandomizedSearchCV\n",
        "model = RandomForestClassifier()\n",
        "\n",
        "\n",
        "rf_search = RandomizedSearchCV(estimator = model, \n",
        "                               param_distributions = model_parameters, \n",
        "                               n_iter = 100, \n",
        "                               cv = 3, \n",
        "                               verbose=2, \n",
        "                               random_state=42, \n",
        "                               n_jobs = -1)\n",
        "\n",
        "rf_search.fit(X_train, y_train)"
      ],
      "id": "uxkKBwArOHUO"
    },
    {
      "cell_type": "code",
      "execution_count": null,
      "metadata": {
        "colab": {
          "base_uri": "https://localhost:8080/"
        },
        "id": "_vAUJzhmUQ-C",
        "outputId": "89ab52f4-74ca-4494-d6f3-48e4de4a2bb3"
      },
      "outputs": [
        {
          "output_type": "execute_result",
          "data": {
            "text/plain": [
              "{'bootstrap': True,\n",
              " 'criterion': 'entropy',\n",
              " 'max_depth': None,\n",
              " 'max_features': 'auto',\n",
              " 'min_samples_leaf': 1,\n",
              " 'min_samples_split': 2,\n",
              " 'n_estimators': 400}"
            ]
          },
          "metadata": {},
          "execution_count": 85
        }
      ],
      "source": [
        "rf_search.best_params_"
      ],
      "id": "_vAUJzhmUQ-C"
    },
    {
      "cell_type": "code",
      "execution_count": null,
      "metadata": {
        "id": "1kKDQKqYURIy"
      },
      "outputs": [],
      "source": [
        "rf_classifier = RandomForestClassifier(**rf_search.best_params_)\n",
        "rf_classifier.fit(X_train,y_train)\n",
        "y_pred = rf_classifier.predict(X_test)"
      ],
      "id": "1kKDQKqYURIy"
    },
    {
      "cell_type": "code",
      "execution_count": null,
      "metadata": {
        "colab": {
          "base_uri": "https://localhost:8080/"
        },
        "id": "sDgDbQJRURLS",
        "outputId": "af00b089-1eee-46c3-ae39-721c26b1b378"
      },
      "outputs": [
        {
          "output_type": "stream",
          "name": "stdout",
          "text": [
            "Classification report for test data is : \n",
            "               precision    recall  f1-score   support\n",
            "\n",
            "           0       1.00      0.80      0.89         5\n",
            "           1       0.60      0.86      0.71         7\n",
            "           2       1.00      1.00      1.00         1\n",
            "           3       0.80      0.50      0.62         8\n",
            "           5       0.00      0.00      0.00         6\n",
            "           6       1.00      1.00      1.00         3\n",
            "           7       0.00      0.00      0.00         3\n",
            "           8       0.00      0.00      0.00         0\n",
            "           9       1.00      1.00      1.00        11\n",
            "          10       1.00      1.00      1.00        12\n",
            "          11       0.25      0.67      0.36         3\n",
            "          12       0.00      0.00      0.00         0\n",
            "          15       0.00      0.00      0.00         1\n",
            "          16       1.00      1.00      1.00         1\n",
            "          19       0.00      0.00      0.00         2\n",
            "          20       1.00      1.00      1.00         4\n",
            "          22       1.00      1.00      1.00         1\n",
            "          23       1.00      1.00      1.00         1\n",
            "          24       0.00      0.00      0.00         1\n",
            "          25       0.25      1.00      0.40         1\n",
            "          26       0.00      0.00      0.00         1\n",
            "          27       1.00      1.00      1.00         1\n",
            "          28       0.00      0.00      0.00         1\n",
            "          29       0.67      1.00      0.80         2\n",
            "          31       0.00      0.00      0.00         0\n",
            "          33       0.00      0.00      0.00         3\n",
            "          34       0.50      1.00      0.67         3\n",
            "          35       1.00      1.00      1.00        38\n",
            "          36       0.00      0.00      0.00         3\n",
            "          39       1.00      1.00      1.00         5\n",
            "          41       0.75      0.75      0.75         4\n",
            "          42       0.00      0.00      0.00         2\n",
            "          43       1.00      1.00      1.00         5\n",
            "          44       0.00      0.00      0.00         1\n",
            "          45       1.00      0.50      0.67         2\n",
            "          46       1.00      1.00      1.00        43\n",
            "          47       0.00      0.00      0.00         0\n",
            "          48       0.86      1.00      0.92         6\n",
            "          49       0.00      0.00      0.00         2\n",
            "          50       1.00      1.00      1.00         2\n",
            "          52       1.00      1.00      1.00         6\n",
            "          53       1.00      1.00      1.00        48\n",
            "          54       0.00      0.00      0.00         1\n",
            "          55       1.00      1.00      1.00         9\n",
            "          56       1.00      1.00      1.00         1\n",
            "          57       1.00      1.00      1.00         1\n",
            "          58       1.00      0.90      0.95        10\n",
            "          59       0.00      0.00      0.00         2\n",
            "          60       0.00      0.00      0.00         1\n",
            "          62       0.00      0.00      0.00         0\n",
            "          63       0.00      0.00      0.00         0\n",
            "          64       0.75      1.00      0.86         3\n",
            "          65       0.40      1.00      0.57         2\n",
            "          66       0.40      1.00      0.57         2\n",
            "          67       0.00      0.00      0.00         1\n",
            "          68       0.00      0.00      0.00         1\n",
            "          69       0.67      0.50      0.57         4\n",
            "          70       0.83      0.83      0.83         6\n",
            "          71       0.00      0.00      0.00         0\n",
            "          72       0.00      0.00      0.00         1\n",
            "          74       0.00      0.00      0.00         0\n",
            "          75       1.00      0.75      0.86         4\n",
            "          76       0.00      0.00      0.00         1\n",
            "          77       1.00      1.00      1.00       220\n",
            "          78       1.00      1.00      1.00        31\n",
            "          79       1.00      1.00      1.00         1\n",
            "          80       1.00      1.00      1.00        54\n",
            "          81       1.00      1.00      1.00        35\n",
            "          83       1.00      1.00      1.00        54\n",
            "          84       1.00      1.00      1.00        13\n",
            "          86       1.00      1.00      1.00       105\n",
            "          87       1.00      1.00      1.00        22\n",
            "          88       1.00      1.00      1.00       108\n",
            "          89       1.00      1.00      1.00        15\n",
            "          90       1.00      1.00      1.00       170\n",
            "          91       1.00      1.00      1.00         8\n",
            "          93       0.00      0.00      0.00         1\n",
            "          94       0.00      0.00      0.00         0\n",
            "          95       1.00      1.00      1.00         4\n",
            "          96       1.00      1.00      1.00       657\n",
            "          97       1.00      1.00      1.00         2\n",
            "          98       1.00      1.00      1.00         4\n",
            "          99       0.75      1.00      0.86         6\n",
            "         100       0.86      1.00      0.92         6\n",
            "         101       1.00      1.00      1.00        23\n",
            "         102       1.00      1.00      1.00       409\n",
            "         103       0.00      0.00      0.00         0\n",
            "         104       1.00      1.00      1.00        25\n",
            "         106       1.00      1.00      1.00        39\n",
            "         107       1.00      1.00      1.00        66\n",
            "         108       1.00      1.00      1.00        78\n",
            "         110       0.00      0.00      0.00         1\n",
            "         111       1.00      1.00      1.00         3\n",
            "         112       0.00      0.00      0.00         1\n",
            "         113       1.00      1.00      1.00         6\n",
            "         114       0.50      1.00      0.67         1\n",
            "         115       1.00      0.50      0.67         2\n",
            "         116       1.00      1.00      1.00        36\n",
            "         117       1.00      1.00      1.00         2\n",
            "         118       1.00      1.00      1.00        54\n",
            "         119       1.00      1.00      1.00        43\n",
            "         120       1.00      1.00      1.00       128\n",
            "         121       1.00      1.00      1.00         5\n",
            "         122       1.00      1.00      1.00        72\n",
            "         123       1.00      1.00      1.00        24\n",
            "         124       1.00      1.00      1.00       137\n",
            "         125       1.00      1.00      1.00         2\n",
            "         126       1.00      1.00      1.00         5\n",
            "         127       1.00      1.00      1.00        14\n",
            "         128       1.00      0.89      0.94         9\n",
            "\n",
            "    accuracy                           0.98      3000\n",
            "   macro avg       0.65      0.68      0.65      3000\n",
            "weighted avg       0.98      0.98      0.98      3000\n",
            "\n"
          ]
        },
        {
          "output_type": "stream",
          "name": "stderr",
          "text": [
            "/usr/local/lib/python3.7/dist-packages/sklearn/metrics/_classification.py:1318: UndefinedMetricWarning: Precision and F-score are ill-defined and being set to 0.0 in labels with no predicted samples. Use `zero_division` parameter to control this behavior.\n",
            "  _warn_prf(average, modifier, msg_start, len(result))\n",
            "/usr/local/lib/python3.7/dist-packages/sklearn/metrics/_classification.py:1318: UndefinedMetricWarning: Recall and F-score are ill-defined and being set to 0.0 in labels with no true samples. Use `zero_division` parameter to control this behavior.\n",
            "  _warn_prf(average, modifier, msg_start, len(result))\n",
            "/usr/local/lib/python3.7/dist-packages/sklearn/metrics/_classification.py:1318: UndefinedMetricWarning: Precision and F-score are ill-defined and being set to 0.0 in labels with no predicted samples. Use `zero_division` parameter to control this behavior.\n",
            "  _warn_prf(average, modifier, msg_start, len(result))\n",
            "/usr/local/lib/python3.7/dist-packages/sklearn/metrics/_classification.py:1318: UndefinedMetricWarning: Recall and F-score are ill-defined and being set to 0.0 in labels with no true samples. Use `zero_division` parameter to control this behavior.\n",
            "  _warn_prf(average, modifier, msg_start, len(result))\n",
            "/usr/local/lib/python3.7/dist-packages/sklearn/metrics/_classification.py:1318: UndefinedMetricWarning: Precision and F-score are ill-defined and being set to 0.0 in labels with no predicted samples. Use `zero_division` parameter to control this behavior.\n",
            "  _warn_prf(average, modifier, msg_start, len(result))\n",
            "/usr/local/lib/python3.7/dist-packages/sklearn/metrics/_classification.py:1318: UndefinedMetricWarning: Recall and F-score are ill-defined and being set to 0.0 in labels with no true samples. Use `zero_division` parameter to control this behavior.\n",
            "  _warn_prf(average, modifier, msg_start, len(result))\n"
          ]
        }
      ],
      "source": [
        "print('Classification report for test data is : \\n',\n",
        "      classification_report(y_test, y_pred))"
      ],
      "id": "sDgDbQJRURLS"
    },
    {
      "cell_type": "markdown",
      "metadata": {
        "id": "X4GwMXqzZvCB"
      },
      "source": [
        "We can see that it didn't  make a difference"
      ],
      "id": "X4GwMXqzZvCB"
    },
    {
      "cell_type": "code",
      "execution_count": null,
      "metadata": {
        "id": "1q6pjypDURO_"
      },
      "outputs": [],
      "source": [
        "#logistic regression\n",
        "solvers = ['newton-cg', 'lbfgs', 'liblinear']\n",
        "penalty = ['l2']\n",
        "c_values = [100, 10, 1.0, 0.1, 0.01]\n",
        "model_parameters = {'penalty':penalty,'solver':solvers,'C':c_values}"
      ],
      "id": "1q6pjypDURO_"
    },
    {
      "cell_type": "code",
      "execution_count": null,
      "metadata": {
        "colab": {
          "base_uri": "https://localhost:8080/"
        },
        "id": "CG_L_6h0VHit",
        "outputId": "76feed73-0b41-4c7a-d776-79416fed3859"
      },
      "outputs": [
        {
          "output_type": "stream",
          "name": "stderr",
          "text": [
            "/usr/local/lib/python3.7/dist-packages/sklearn/model_selection/_split.py:680: UserWarning: The least populated class in y has only 1 members, which is less than n_splits=3.\n",
            "  UserWarning,\n"
          ]
        },
        {
          "output_type": "execute_result",
          "data": {
            "text/plain": [
              "GridSearchCV(cv=3, error_score=0, estimator=LogisticRegression(), n_jobs=-1,\n",
              "             param_grid={'C': [100, 10, 1.0, 0.1, 0.01], 'penalty': ['l2'],\n",
              "                         'solver': ['newton-cg', 'lbfgs', 'liblinear']},\n",
              "             scoring='accuracy')"
            ]
          },
          "metadata": {},
          "execution_count": 89
        }
      ],
      "source": [
        "from sklearn.model_selection import GridSearchCV\n",
        "model = LogisticRegression()\n",
        "logReg_search = GridSearchCV(estimator=model, param_grid=model_parameters, n_jobs=-1, cv=3, scoring='accuracy',error_score=0)\n",
        "logReg_search.fit(X_test,y_test)"
      ],
      "id": "CG_L_6h0VHit"
    },
    {
      "cell_type": "code",
      "execution_count": null,
      "metadata": {
        "colab": {
          "base_uri": "https://localhost:8080/"
        },
        "id": "rt8Ms-MaVHlp",
        "outputId": "f003f591-2d6c-4772-af9f-6bf242070735"
      },
      "outputs": [
        {
          "output_type": "execute_result",
          "data": {
            "text/plain": [
              "{'C': 100, 'penalty': 'l2', 'solver': 'newton-cg'}"
            ]
          },
          "metadata": {},
          "execution_count": 90
        }
      ],
      "source": [
        "logReg_search.best_params_"
      ],
      "id": "rt8Ms-MaVHlp"
    },
    {
      "cell_type": "code",
      "execution_count": null,
      "metadata": {
        "id": "a16yGjJRVHox"
      },
      "outputs": [],
      "source": [
        "logreg = LogisticRegression(**logReg_search.best_params_)\n",
        "logreg.fit(X_train,y_train)\n",
        "y_pred = logreg.predict(X_test)"
      ],
      "id": "a16yGjJRVHox"
    },
    {
      "cell_type": "code",
      "execution_count": null,
      "metadata": {
        "colab": {
          "base_uri": "https://localhost:8080/"
        },
        "id": "8XAF179yVHsH",
        "outputId": "13bf5a89-b26b-4ba5-efeb-eecd728f13eb"
      },
      "outputs": [
        {
          "output_type": "stream",
          "name": "stdout",
          "text": [
            "Classification report for test data is : \n",
            "               precision    recall  f1-score   support\n",
            "\n",
            "           0       0.00      0.00      0.00         5\n",
            "           1       0.25      0.14      0.18         7\n",
            "           2       0.00      0.00      0.00         1\n",
            "           3       0.00      0.00      0.00         8\n",
            "           5       0.00      0.00      0.00         6\n",
            "           6       0.00      0.00      0.00         3\n",
            "           7       0.00      0.00      0.00         3\n",
            "           9       0.45      0.45      0.45        11\n",
            "          10       0.00      0.00      0.00        12\n",
            "          11       0.00      0.00      0.00         3\n",
            "          15       0.00      0.00      0.00         1\n",
            "          16       0.00      0.00      0.00         1\n",
            "          19       0.00      0.00      0.00         2\n",
            "          20       0.22      1.00      0.36         4\n",
            "          22       0.00      0.00      0.00         1\n",
            "          23       0.00      0.00      0.00         1\n",
            "          24       0.00      0.00      0.00         1\n",
            "          25       0.00      0.00      0.00         1\n",
            "          26       0.00      0.00      0.00         1\n",
            "          27       0.00      0.00      0.00         1\n",
            "          28       0.00      0.00      0.00         1\n",
            "          29       0.00      0.00      0.00         2\n",
            "          30       0.00      0.00      0.00         0\n",
            "          33       0.00      0.00      0.00         3\n",
            "          34       0.00      0.00      0.00         3\n",
            "          35       0.56      1.00      0.72        38\n",
            "          36       0.00      0.00      0.00         3\n",
            "          39       0.60      0.60      0.60         5\n",
            "          41       0.00      0.00      0.00         4\n",
            "          42       0.00      0.00      0.00         2\n",
            "          43       0.00      0.00      0.00         5\n",
            "          44       0.00      0.00      0.00         1\n",
            "          45       0.00      0.00      0.00         2\n",
            "          46       0.72      0.91      0.80        43\n",
            "          47       0.00      0.00      0.00         0\n",
            "          48       0.00      0.00      0.00         6\n",
            "          49       0.00      0.00      0.00         2\n",
            "          50       0.00      0.00      0.00         2\n",
            "          52       0.00      0.00      0.00         6\n",
            "          53       0.00      0.00      0.00        48\n",
            "          54       0.00      0.00      0.00         1\n",
            "          55       0.07      0.22      0.11         9\n",
            "          56       0.00      0.00      0.00         1\n",
            "          57       0.00      0.00      0.00         1\n",
            "          58       0.00      0.00      0.00        10\n",
            "          59       0.00      0.00      0.00         2\n",
            "          60       0.00      0.00      0.00         1\n",
            "          61       0.00      0.00      0.00         0\n",
            "          64       0.50      0.67      0.57         3\n",
            "          65       0.00      0.00      0.00         2\n",
            "          66       0.00      0.00      0.00         2\n",
            "          67       0.00      0.00      0.00         1\n",
            "          68       0.00      0.00      0.00         1\n",
            "          69       0.00      0.00      0.00         4\n",
            "          70       0.00      0.00      0.00         6\n",
            "          71       0.00      0.00      0.00         0\n",
            "          72       0.00      0.00      0.00         1\n",
            "          75       0.00      0.00      0.00         4\n",
            "          76       0.00      0.00      0.00         1\n",
            "          77       1.00      1.00      1.00       220\n",
            "          78       0.00      0.00      0.00        31\n",
            "          79       0.00      0.00      0.00         1\n",
            "          80       0.60      0.69      0.64        54\n",
            "          81       0.06      0.03      0.04        35\n",
            "          83       0.81      0.48      0.60        54\n",
            "          84       0.30      1.00      0.46        13\n",
            "          86       0.86      0.68      0.76       105\n",
            "          87       0.00      0.00      0.00        22\n",
            "          88       0.70      0.93      0.80       108\n",
            "          89       0.10      0.33      0.15        15\n",
            "          90       1.00      1.00      1.00       170\n",
            "          91       0.00      0.00      0.00         8\n",
            "          93       0.00      0.00      0.00         1\n",
            "          95       0.00      0.00      0.00         4\n",
            "          96       1.00      1.00      1.00       657\n",
            "          97       0.00      0.00      0.00         2\n",
            "          98       0.00      0.00      0.00         4\n",
            "          99       0.00      0.00      0.00         6\n",
            "         100       0.25      0.33      0.29         6\n",
            "         101       0.40      0.17      0.24        23\n",
            "         102       1.00      1.00      1.00       409\n",
            "         104       0.41      0.88      0.56        25\n",
            "         106       0.14      0.23      0.17        39\n",
            "         107       0.52      0.67      0.58        66\n",
            "         108       0.75      0.83      0.79        78\n",
            "         110       0.00      0.00      0.00         1\n",
            "         111       0.00      0.00      0.00         3\n",
            "         112       0.00      0.00      0.00         1\n",
            "         113       0.00      0.00      0.00         6\n",
            "         114       0.00      0.00      0.00         1\n",
            "         115       0.00      0.00      0.00         2\n",
            "         116       0.00      0.00      0.00        36\n",
            "         117       0.33      1.00      0.50         2\n",
            "         118       0.64      0.83      0.73        54\n",
            "         119       0.37      0.72      0.49        43\n",
            "         120       0.88      0.96      0.92       128\n",
            "         121       0.00      0.00      0.00         5\n",
            "         122       0.59      0.18      0.28        72\n",
            "         123       0.00      0.00      0.00        24\n",
            "         124       0.96      0.88      0.92       137\n",
            "         125       0.00      0.00      0.00         2\n",
            "         126       0.00      0.00      0.00         5\n",
            "         127       0.38      0.43      0.40        14\n",
            "         128       0.00      0.00      0.00         9\n",
            "\n",
            "    accuracy                           0.76      3000\n",
            "   macro avg       0.17      0.20      0.17      3000\n",
            "weighted avg       0.74      0.76      0.74      3000\n",
            "\n"
          ]
        },
        {
          "output_type": "stream",
          "name": "stderr",
          "text": [
            "/usr/local/lib/python3.7/dist-packages/sklearn/metrics/_classification.py:1318: UndefinedMetricWarning: Precision and F-score are ill-defined and being set to 0.0 in labels with no predicted samples. Use `zero_division` parameter to control this behavior.\n",
            "  _warn_prf(average, modifier, msg_start, len(result))\n",
            "/usr/local/lib/python3.7/dist-packages/sklearn/metrics/_classification.py:1318: UndefinedMetricWarning: Recall and F-score are ill-defined and being set to 0.0 in labels with no true samples. Use `zero_division` parameter to control this behavior.\n",
            "  _warn_prf(average, modifier, msg_start, len(result))\n",
            "/usr/local/lib/python3.7/dist-packages/sklearn/metrics/_classification.py:1318: UndefinedMetricWarning: Precision and F-score are ill-defined and being set to 0.0 in labels with no predicted samples. Use `zero_division` parameter to control this behavior.\n",
            "  _warn_prf(average, modifier, msg_start, len(result))\n",
            "/usr/local/lib/python3.7/dist-packages/sklearn/metrics/_classification.py:1318: UndefinedMetricWarning: Recall and F-score are ill-defined and being set to 0.0 in labels with no true samples. Use `zero_division` parameter to control this behavior.\n",
            "  _warn_prf(average, modifier, msg_start, len(result))\n",
            "/usr/local/lib/python3.7/dist-packages/sklearn/metrics/_classification.py:1318: UndefinedMetricWarning: Precision and F-score are ill-defined and being set to 0.0 in labels with no predicted samples. Use `zero_division` parameter to control this behavior.\n",
            "  _warn_prf(average, modifier, msg_start, len(result))\n",
            "/usr/local/lib/python3.7/dist-packages/sklearn/metrics/_classification.py:1318: UndefinedMetricWarning: Recall and F-score are ill-defined and being set to 0.0 in labels with no true samples. Use `zero_division` parameter to control this behavior.\n",
            "  _warn_prf(average, modifier, msg_start, len(result))\n"
          ]
        }
      ],
      "source": [
        "print('Classification report for test data is : \\n',\n",
        "      classification_report(y_test, y_pred))"
      ],
      "id": "8XAF179yVHsH"
    },
    {
      "cell_type": "markdown",
      "metadata": {
        "id": "Bplcx2JzaAbv"
      },
      "source": [
        "In logistic regression we can see a 22% increase in accuracy after hyperparameter tuning"
      ],
      "id": "Bplcx2JzaAbv"
    },
    {
      "cell_type": "code",
      "execution_count": null,
      "metadata": {
        "id": "7QzDUDLMam3_"
      },
      "outputs": [],
      "source": [
        "#Decision tree\n",
        "from sklearn.model_selection import GridSearchCV\n",
        "params = {\n",
        "    'max_depth': [2, 3, 5, 10, 20],\n",
        "    'min_samples_leaf': [5, 10, 20, 50, 100],\n",
        "    'criterion': [\"gini\", \"entropy\"]\n",
        "}"
      ],
      "id": "7QzDUDLMam3_"
    },
    {
      "cell_type": "code",
      "execution_count": null,
      "metadata": {
        "colab": {
          "base_uri": "https://localhost:8080/"
        },
        "id": "X8Ujb5lXSXlm",
        "outputId": "5dffedcf-6afc-499c-c0b0-268c0030095b"
      },
      "outputs": [
        {
          "output_type": "stream",
          "name": "stdout",
          "text": [
            "Fitting 4 folds for each of 50 candidates, totalling 200 fits\n"
          ]
        },
        {
          "output_type": "stream",
          "name": "stderr",
          "text": [
            "/usr/local/lib/python3.7/dist-packages/sklearn/model_selection/_split.py:680: UserWarning: The least populated class in y has only 1 members, which is less than n_splits=4.\n",
            "  UserWarning,\n"
          ]
        },
        {
          "output_type": "execute_result",
          "data": {
            "text/plain": [
              "GridSearchCV(cv=4, estimator=DecisionTreeClassifier(), n_jobs=-1,\n",
              "             param_grid={'criterion': ['gini', 'entropy'],\n",
              "                         'max_depth': [2, 3, 5, 10, 20],\n",
              "                         'min_samples_leaf': [5, 10, 20, 50, 100]},\n",
              "             verbose=1)"
            ]
          },
          "metadata": {},
          "execution_count": 96
        }
      ],
      "source": [
        "grid_search = GridSearchCV(estimator=data_model, \n",
        "                           param_grid=params, \n",
        "                           cv=4, n_jobs=-1, verbose=1)\n",
        "grid_search.fit(X_train, y_train)"
      ],
      "id": "X8Ujb5lXSXlm"
    },
    {
      "cell_type": "code",
      "execution_count": null,
      "metadata": {
        "colab": {
          "base_uri": "https://localhost:8080/"
        },
        "id": "Z6V5z-RISXou",
        "outputId": "68f655cc-b97d-42c9-9bc9-1ef1503ddeac"
      },
      "outputs": [
        {
          "output_type": "execute_result",
          "data": {
            "text/plain": [
              "DecisionTreeClassifier(criterion='entropy', max_depth=20, min_samples_leaf=5)"
            ]
          },
          "metadata": {},
          "execution_count": 97
        }
      ],
      "source": [
        "grid_search.best_estimator_"
      ],
      "id": "Z6V5z-RISXou"
    },
    {
      "cell_type": "code",
      "execution_count": null,
      "metadata": {
        "colab": {
          "base_uri": "https://localhost:8080/"
        },
        "id": "4PlVSJEh1XF5",
        "outputId": "a2a8d79c-13f4-4964-8dad-0486e8485999"
      },
      "outputs": [
        {
          "output_type": "stream",
          "name": "stdout",
          "text": [
            "              precision    recall  f1-score   support\n",
            "\n",
            "           0       1.00      0.80      0.89         5\n",
            "           1       0.60      0.86      0.71         7\n",
            "           2       0.25      1.00      0.40         1\n",
            "           3       0.80      0.50      0.62         8\n",
            "           5       0.00      0.00      0.00         6\n",
            "           6       1.00      1.00      1.00         3\n",
            "           7       0.50      1.00      0.67         3\n",
            "           8       0.00      0.00      0.00         0\n",
            "           9       1.00      1.00      1.00        11\n",
            "          10       1.00      1.00      1.00        12\n",
            "          11       0.30      1.00      0.46         3\n",
            "          12       0.00      0.00      0.00         0\n",
            "          13       0.00      0.00      0.00         0\n",
            "          15       0.00      0.00      0.00         1\n",
            "          16       0.50      1.00      0.67         1\n",
            "          19       0.00      0.00      0.00         2\n",
            "          20       1.00      1.00      1.00         4\n",
            "          22       0.00      0.00      0.00         1\n",
            "          23       0.00      0.00      0.00         1\n",
            "          24       0.00      0.00      0.00         1\n",
            "          25       0.25      1.00      0.40         1\n",
            "          26       0.00      0.00      0.00         1\n",
            "          27       1.00      1.00      1.00         1\n",
            "          28       0.00      0.00      0.00         1\n",
            "          29       0.25      1.00      0.40         2\n",
            "          33       0.00      0.00      0.00         3\n",
            "          34       0.00      0.00      0.00         3\n",
            "          35       1.00      1.00      1.00        38\n",
            "          36       0.00      0.00      0.00         3\n",
            "          37       0.00      0.00      0.00         0\n",
            "          39       1.00      1.00      1.00         5\n",
            "          41       1.00      1.00      1.00         4\n",
            "          42       0.00      0.00      0.00         2\n",
            "          43       0.00      0.00      0.00         5\n",
            "          44       0.00      0.00      0.00         1\n",
            "          45       1.00      1.00      1.00         2\n",
            "          46       1.00      1.00      1.00        43\n",
            "          47       0.00      0.00      0.00         0\n",
            "          48       1.00      1.00      1.00         6\n",
            "          49       0.00      0.00      0.00         2\n",
            "          50       0.00      0.00      0.00         2\n",
            "          52       1.00      1.00      1.00         6\n",
            "          53       1.00      1.00      1.00        48\n",
            "          54       0.00      0.00      0.00         1\n",
            "          55       1.00      1.00      1.00         9\n",
            "          56       0.00      0.00      0.00         1\n",
            "          57       0.00      0.00      0.00         1\n",
            "          58       1.00      1.00      1.00        10\n",
            "          59       0.00      0.00      0.00         2\n",
            "          60       0.00      0.00      0.00         1\n",
            "          64       1.00      1.00      1.00         3\n",
            "          65       0.33      1.00      0.50         2\n",
            "          66       0.40      1.00      0.57         2\n",
            "          67       0.00      0.00      0.00         1\n",
            "          68       0.00      0.00      0.00         1\n",
            "          69       0.00      0.00      0.00         4\n",
            "          70       0.00      0.00      0.00         6\n",
            "          71       0.00      0.00      0.00         0\n",
            "          72       0.20      1.00      0.33         1\n",
            "          75       0.00      0.00      0.00         4\n",
            "          76       0.00      0.00      0.00         1\n",
            "          77       1.00      1.00      1.00       220\n",
            "          78       1.00      1.00      1.00        31\n",
            "          79       0.00      0.00      0.00         1\n",
            "          80       1.00      1.00      1.00        54\n",
            "          81       1.00      1.00      1.00        35\n",
            "          83       1.00      1.00      1.00        54\n",
            "          84       1.00      1.00      1.00        13\n",
            "          86       1.00      1.00      1.00       105\n",
            "          87       1.00      1.00      1.00        22\n",
            "          88       1.00      1.00      1.00       108\n",
            "          89       1.00      1.00      1.00        15\n",
            "          90       1.00      1.00      1.00       170\n",
            "          91       1.00      1.00      1.00         8\n",
            "          93       0.00      0.00      0.00         1\n",
            "          95       1.00      1.00      1.00         4\n",
            "          96       1.00      1.00      1.00       657\n",
            "          97       1.00      1.00      1.00         2\n",
            "          98       1.00      1.00      1.00         4\n",
            "          99       1.00      1.00      1.00         6\n",
            "         100       1.00      1.00      1.00         6\n",
            "         101       1.00      1.00      1.00        23\n",
            "         102       1.00      1.00      1.00       409\n",
            "         104       1.00      1.00      1.00        25\n",
            "         106       1.00      1.00      1.00        39\n",
            "         107       1.00      1.00      1.00        66\n",
            "         108       1.00      1.00      1.00        78\n",
            "         110       0.00      0.00      0.00         1\n",
            "         111       0.43      1.00      0.60         3\n",
            "         112       0.00      0.00      0.00         1\n",
            "         113       1.00      1.00      1.00         6\n",
            "         114       1.00      1.00      1.00         1\n",
            "         115       1.00      1.00      1.00         2\n",
            "         116       1.00      1.00      1.00        36\n",
            "         117       1.00      1.00      1.00         2\n",
            "         118       1.00      1.00      1.00        54\n",
            "         119       1.00      1.00      1.00        43\n",
            "         120       1.00      1.00      1.00       128\n",
            "         121       1.00      1.00      1.00         5\n",
            "         122       1.00      1.00      1.00        72\n",
            "         123       1.00      1.00      1.00        24\n",
            "         124       1.00      1.00      1.00       137\n",
            "         125       0.29      1.00      0.44         2\n",
            "         126       1.00      1.00      1.00         5\n",
            "         127       1.00      1.00      1.00        14\n",
            "         128       1.00      1.00      1.00         9\n",
            "\n",
            "    accuracy                           0.98      3000\n",
            "   macro avg       0.58      0.64      0.59      3000\n",
            "weighted avg       0.97      0.98      0.97      3000\n",
            "\n"
          ]
        },
        {
          "output_type": "stream",
          "name": "stderr",
          "text": [
            "/usr/local/lib/python3.7/dist-packages/sklearn/metrics/_classification.py:1318: UndefinedMetricWarning: Precision and F-score are ill-defined and being set to 0.0 in labels with no predicted samples. Use `zero_division` parameter to control this behavior.\n",
            "  _warn_prf(average, modifier, msg_start, len(result))\n",
            "/usr/local/lib/python3.7/dist-packages/sklearn/metrics/_classification.py:1318: UndefinedMetricWarning: Recall and F-score are ill-defined and being set to 0.0 in labels with no true samples. Use `zero_division` parameter to control this behavior.\n",
            "  _warn_prf(average, modifier, msg_start, len(result))\n",
            "/usr/local/lib/python3.7/dist-packages/sklearn/metrics/_classification.py:1318: UndefinedMetricWarning: Precision and F-score are ill-defined and being set to 0.0 in labels with no predicted samples. Use `zero_division` parameter to control this behavior.\n",
            "  _warn_prf(average, modifier, msg_start, len(result))\n",
            "/usr/local/lib/python3.7/dist-packages/sklearn/metrics/_classification.py:1318: UndefinedMetricWarning: Recall and F-score are ill-defined and being set to 0.0 in labels with no true samples. Use `zero_division` parameter to control this behavior.\n",
            "  _warn_prf(average, modifier, msg_start, len(result))\n",
            "/usr/local/lib/python3.7/dist-packages/sklearn/metrics/_classification.py:1318: UndefinedMetricWarning: Precision and F-score are ill-defined and being set to 0.0 in labels with no predicted samples. Use `zero_division` parameter to control this behavior.\n",
            "  _warn_prf(average, modifier, msg_start, len(result))\n",
            "/usr/local/lib/python3.7/dist-packages/sklearn/metrics/_classification.py:1318: UndefinedMetricWarning: Recall and F-score are ill-defined and being set to 0.0 in labels with no true samples. Use `zero_division` parameter to control this behavior.\n",
            "  _warn_prf(average, modifier, msg_start, len(result))\n"
          ]
        }
      ],
      "source": [
        "grid_search_predictions = grid_search.predict(X_test)\n",
        "print(classification_report(y_test,grid_search_predictions))"
      ],
      "id": "4PlVSJEh1XF5"
    },
    {
      "cell_type": "code",
      "execution_count": null,
      "metadata": {
        "colab": {
          "base_uri": "https://localhost:8080/"
        },
        "id": "fr01FHIJ1Hjc",
        "outputId": "073116e7-45b5-4bfc-950a-dc6d98499816"
      },
      "outputs": [
        {
          "output_type": "stream",
          "name": "stdout",
          "text": [
            "[[ 4  0  0 ...  0  0  0]\n",
            " [ 0  6  0 ...  0  0  0]\n",
            " [ 0  0  1 ...  0  0  0]\n",
            " ...\n",
            " [ 0  0  0 ...  5  0  0]\n",
            " [ 0  0  0 ...  0 14  0]\n",
            " [ 0  0  0 ...  0  0  9]]\n"
          ]
        }
      ],
      "source": [
        "print(confusion_matrix(y_test,grid_search_predictions))"
      ],
      "id": "fr01FHIJ1Hjc"
    },
    {
      "cell_type": "markdown",
      "metadata": {
        "id": "rMLKLTUl2t_D"
      },
      "source": [
        "We can see that it didn't make much difference"
      ],
      "id": "rMLKLTUl2t_D"
    },
    {
      "cell_type": "code",
      "execution_count": null,
      "metadata": {
        "id": "zhVg6Ansaqfm"
      },
      "outputs": [],
      "source": [
        "#KNN\n",
        "grid_params = { 'n_neighbors' : [3,5,7,9,11,13,15],\n",
        "               'weights' : ['uniform','distance'],\n",
        "               'metric' : ['minkowski','euclidean','manhattan']}"
      ],
      "id": "zhVg6Ansaqfm"
    },
    {
      "cell_type": "code",
      "execution_count": null,
      "metadata": {
        "colab": {
          "base_uri": "https://localhost:8080/"
        },
        "id": "AiaygVX1byVd",
        "outputId": "3715a64b-8d3f-40bd-a882-4fffcb839db0"
      },
      "outputs": [
        {
          "output_type": "stream",
          "name": "stdout",
          "text": [
            "Fitting 3 folds for each of 42 candidates, totalling 126 fits\n"
          ]
        },
        {
          "output_type": "stream",
          "name": "stderr",
          "text": [
            "/usr/local/lib/python3.7/dist-packages/sklearn/model_selection/_split.py:680: UserWarning: The least populated class in y has only 1 members, which is less than n_splits=3.\n",
            "  UserWarning,\n"
          ]
        }
      ],
      "source": [
        "gs = GridSearchCV(KNeighborsClassifier(), grid_params, verbose = 1, cv=3, n_jobs = -1)\n",
        "g_res = gs.fit(X_train, y_train)"
      ],
      "id": "AiaygVX1byVd"
    },
    {
      "cell_type": "code",
      "execution_count": null,
      "metadata": {
        "colab": {
          "base_uri": "https://localhost:8080/"
        },
        "id": "57IcPK9EfVxk",
        "outputId": "c1130ed0-8dcf-47e3-dd9f-ad30ae804ef3"
      },
      "outputs": [
        {
          "output_type": "execute_result",
          "data": {
            "text/plain": [
              "{'metric': 'manhattan', 'n_neighbors': 3, 'weights': 'distance'}"
            ]
          },
          "metadata": {},
          "execution_count": 102
        }
      ],
      "source": [
        "g_res.best_params_"
      ],
      "id": "57IcPK9EfVxk"
    },
    {
      "cell_type": "code",
      "execution_count": null,
      "metadata": {
        "colab": {
          "base_uri": "https://localhost:8080/"
        },
        "id": "RCIbZJjb0kA9",
        "outputId": "516bfab1-281d-407d-d29d-3912a5e0319f"
      },
      "outputs": [
        {
          "output_type": "stream",
          "name": "stdout",
          "text": [
            "              precision    recall  f1-score   support\n",
            "\n",
            "           0       1.00      0.80      0.89         5\n",
            "           1       0.33      0.14      0.20         7\n",
            "           2       0.33      1.00      0.50         1\n",
            "           3       0.50      0.75      0.60         8\n",
            "           5       0.67      0.67      0.67         6\n",
            "           6       1.00      1.00      1.00         3\n",
            "           7       0.50      1.00      0.67         3\n",
            "           8       0.00      0.00      0.00         0\n",
            "           9       0.70      0.64      0.67        11\n",
            "          10       1.00      1.00      1.00        12\n",
            "          11       0.33      0.33      0.33         3\n",
            "          15       0.00      0.00      0.00         1\n",
            "          16       1.00      1.00      1.00         1\n",
            "          17       0.00      0.00      0.00         0\n",
            "          19       0.00      0.00      0.00         2\n",
            "          20       1.00      1.00      1.00         4\n",
            "          22       1.00      1.00      1.00         1\n",
            "          23       0.50      1.00      0.67         1\n",
            "          24       0.00      0.00      0.00         1\n",
            "          25       1.00      1.00      1.00         1\n",
            "          26       0.00      0.00      0.00         1\n",
            "          27       1.00      1.00      1.00         1\n",
            "          28       0.00      0.00      0.00         1\n",
            "          29       0.67      1.00      0.80         2\n",
            "          31       0.00      0.00      0.00         0\n",
            "          33       1.00      1.00      1.00         3\n",
            "          34       0.00      0.00      0.00         3\n",
            "          35       1.00      1.00      1.00        38\n",
            "          36       0.00      0.00      0.00         3\n",
            "          38       0.00      0.00      0.00         0\n",
            "          39       0.80      0.80      0.80         5\n",
            "          40       0.00      0.00      0.00         0\n",
            "          41       1.00      0.75      0.86         4\n",
            "          42       0.00      0.00      0.00         2\n",
            "          43       1.00      1.00      1.00         5\n",
            "          44       0.00      0.00      0.00         1\n",
            "          45       0.50      0.50      0.50         2\n",
            "          46       1.00      1.00      1.00        43\n",
            "          48       0.86      1.00      0.92         6\n",
            "          49       0.00      0.00      0.00         2\n",
            "          50       0.00      0.00      0.00         2\n",
            "          51       0.00      0.00      0.00         0\n",
            "          52       1.00      1.00      1.00         6\n",
            "          53       1.00      1.00      1.00        48\n",
            "          54       0.00      0.00      0.00         1\n",
            "          55       1.00      1.00      1.00         9\n",
            "          56       1.00      1.00      1.00         1\n",
            "          57       1.00      1.00      1.00         1\n",
            "          58       1.00      0.90      0.95        10\n",
            "          59       0.00      0.00      0.00         2\n",
            "          60       0.00      0.00      0.00         1\n",
            "          61       0.00      0.00      0.00         0\n",
            "          62       0.00      0.00      0.00         0\n",
            "          64       1.00      1.00      1.00         3\n",
            "          65       0.50      1.00      0.67         2\n",
            "          66       0.40      1.00      0.57         2\n",
            "          67       0.00      0.00      0.00         1\n",
            "          68       1.00      1.00      1.00         1\n",
            "          69       0.50      0.50      0.50         4\n",
            "          70       0.83      0.83      0.83         6\n",
            "          72       0.00      0.00      0.00         1\n",
            "          75       1.00      0.75      0.86         4\n",
            "          76       0.00      0.00      0.00         1\n",
            "          77       1.00      1.00      1.00       220\n",
            "          78       1.00      1.00      1.00        31\n",
            "          79       0.50      1.00      0.67         1\n",
            "          80       1.00      1.00      1.00        54\n",
            "          81       1.00      1.00      1.00        35\n",
            "          83       1.00      1.00      1.00        54\n",
            "          84       1.00      1.00      1.00        13\n",
            "          86       1.00      1.00      1.00       105\n",
            "          87       1.00      1.00      1.00        22\n",
            "          88       1.00      1.00      1.00       108\n",
            "          89       1.00      1.00      1.00        15\n",
            "          90       1.00      1.00      1.00       170\n",
            "          91       0.89      1.00      0.94         8\n",
            "          93       0.00      0.00      0.00         1\n",
            "          94       0.00      0.00      0.00         0\n",
            "          95       1.00      1.00      1.00         4\n",
            "          96       1.00      1.00      1.00       657\n",
            "          97       1.00      1.00      1.00         2\n",
            "          98       1.00      1.00      1.00         4\n",
            "          99       0.86      1.00      0.92         6\n",
            "         100       0.86      1.00      0.92         6\n",
            "         101       1.00      1.00      1.00        23\n",
            "         102       1.00      1.00      1.00       409\n",
            "         103       0.00      0.00      0.00         0\n",
            "         104       1.00      1.00      1.00        25\n",
            "         106       1.00      1.00      1.00        39\n",
            "         107       1.00      1.00      1.00        66\n",
            "         108       1.00      1.00      1.00        78\n",
            "         110       0.00      0.00      0.00         1\n",
            "         111       1.00      1.00      1.00         3\n",
            "         112       0.00      0.00      0.00         1\n",
            "         113       1.00      1.00      1.00         6\n",
            "         114       0.50      1.00      0.67         1\n",
            "         115       0.50      0.50      0.50         2\n",
            "         116       1.00      1.00      1.00        36\n",
            "         117       1.00      1.00      1.00         2\n",
            "         118       1.00      1.00      1.00        54\n",
            "         119       1.00      1.00      1.00        43\n",
            "         120       1.00      1.00      1.00       128\n",
            "         121       1.00      1.00      1.00         5\n",
            "         122       1.00      1.00      1.00        72\n",
            "         123       1.00      1.00      1.00        24\n",
            "         124       1.00      1.00      1.00       137\n",
            "         125       1.00      1.00      1.00         2\n",
            "         126       1.00      1.00      1.00         5\n",
            "         127       1.00      1.00      1.00        14\n",
            "         128       1.00      0.89      0.94         9\n",
            "\n",
            "    accuracy                           0.98      3000\n",
            "   macro avg       0.65      0.68      0.65      3000\n",
            "weighted avg       0.98      0.98      0.98      3000\n",
            "\n"
          ]
        },
        {
          "output_type": "stream",
          "name": "stderr",
          "text": [
            "/usr/local/lib/python3.7/dist-packages/sklearn/metrics/_classification.py:1318: UndefinedMetricWarning: Precision and F-score are ill-defined and being set to 0.0 in labels with no predicted samples. Use `zero_division` parameter to control this behavior.\n",
            "  _warn_prf(average, modifier, msg_start, len(result))\n",
            "/usr/local/lib/python3.7/dist-packages/sklearn/metrics/_classification.py:1318: UndefinedMetricWarning: Recall and F-score are ill-defined and being set to 0.0 in labels with no true samples. Use `zero_division` parameter to control this behavior.\n",
            "  _warn_prf(average, modifier, msg_start, len(result))\n",
            "/usr/local/lib/python3.7/dist-packages/sklearn/metrics/_classification.py:1318: UndefinedMetricWarning: Precision and F-score are ill-defined and being set to 0.0 in labels with no predicted samples. Use `zero_division` parameter to control this behavior.\n",
            "  _warn_prf(average, modifier, msg_start, len(result))\n",
            "/usr/local/lib/python3.7/dist-packages/sklearn/metrics/_classification.py:1318: UndefinedMetricWarning: Recall and F-score are ill-defined and being set to 0.0 in labels with no true samples. Use `zero_division` parameter to control this behavior.\n",
            "  _warn_prf(average, modifier, msg_start, len(result))\n",
            "/usr/local/lib/python3.7/dist-packages/sklearn/metrics/_classification.py:1318: UndefinedMetricWarning: Precision and F-score are ill-defined and being set to 0.0 in labels with no predicted samples. Use `zero_division` parameter to control this behavior.\n",
            "  _warn_prf(average, modifier, msg_start, len(result))\n",
            "/usr/local/lib/python3.7/dist-packages/sklearn/metrics/_classification.py:1318: UndefinedMetricWarning: Recall and F-score are ill-defined and being set to 0.0 in labels with no true samples. Use `zero_division` parameter to control this behavior.\n",
            "  _warn_prf(average, modifier, msg_start, len(result))\n"
          ]
        }
      ],
      "source": [
        "g_res_predictions = g_res.predict(X_test)\n",
        "print(classification_report(y_test,g_res_predictions))"
      ],
      "id": "RCIbZJjb0kA9"
    },
    {
      "cell_type": "code",
      "execution_count": null,
      "metadata": {
        "colab": {
          "base_uri": "https://localhost:8080/"
        },
        "id": "2KNADVGZ00hR",
        "outputId": "a4f1c8a7-9677-4ea1-e661-e7464c106332"
      },
      "outputs": [
        {
          "output_type": "stream",
          "name": "stdout",
          "text": [
            "[[ 4  0  0 ...  0  0  0]\n",
            " [ 0  1  0 ...  0  0  0]\n",
            " [ 0  0  1 ...  0  0  0]\n",
            " ...\n",
            " [ 0  0  0 ...  5  0  0]\n",
            " [ 0  0  0 ...  0 14  0]\n",
            " [ 0  0  0 ...  0  0  8]]\n"
          ]
        }
      ],
      "source": [
        "print(confusion_matrix(y_test,g_res_predictions))"
      ],
      "id": "2KNADVGZ00hR"
    },
    {
      "cell_type": "markdown",
      "metadata": {
        "id": "5hSuFLh42nDT"
      },
      "source": [
        "We can see that it didn't make a difference"
      ],
      "id": "5hSuFLh42nDT"
    },
    {
      "cell_type": "code",
      "execution_count": null,
      "metadata": {
        "id": "kef3nlspgHH6"
      },
      "outputs": [],
      "source": [
        "#SVM\n",
        "param_grid = {'C': [0.1,1, 10, 100], 'gamma': [1,0.1,0.01,0.001],'kernel': ['rbf', 'poly', 'sigmoid']}"
      ],
      "id": "kef3nlspgHH6"
    },
    {
      "cell_type": "code",
      "execution_count": null,
      "metadata": {
        "colab": {
          "base_uri": "https://localhost:8080/"
        },
        "id": "KfIQ9cuRgHKQ",
        "outputId": "eab5354b-d5bd-4a03-febf-415eda0fecf8"
      },
      "outputs": [
        {
          "output_type": "stream",
          "name": "stdout",
          "text": [
            "Fitting 5 folds for each of 48 candidates, totalling 240 fits\n"
          ]
        },
        {
          "output_type": "stream",
          "name": "stderr",
          "text": [
            "/usr/local/lib/python3.7/dist-packages/sklearn/model_selection/_split.py:680: UserWarning: The least populated class in y has only 1 members, which is less than n_splits=5.\n",
            "  UserWarning,\n"
          ]
        },
        {
          "output_type": "stream",
          "name": "stdout",
          "text": [
            "[CV] END .........................C=0.1, gamma=1, kernel=rbf; total time=   2.0s\n",
            "[CV] END .........................C=0.1, gamma=1, kernel=rbf; total time=   2.0s\n",
            "[CV] END .........................C=0.1, gamma=1, kernel=rbf; total time=   2.0s\n",
            "[CV] END .........................C=0.1, gamma=1, kernel=rbf; total time=   2.0s\n",
            "[CV] END .........................C=0.1, gamma=1, kernel=rbf; total time=   2.0s\n",
            "[CV] END ........................C=0.1, gamma=1, kernel=poly; total time=   1.2s\n",
            "[CV] END ........................C=0.1, gamma=1, kernel=poly; total time=   1.2s\n",
            "[CV] END ........................C=0.1, gamma=1, kernel=poly; total time=   1.1s\n",
            "[CV] END ........................C=0.1, gamma=1, kernel=poly; total time=   1.1s\n",
            "[CV] END ........................C=0.1, gamma=1, kernel=poly; total time=   1.2s\n",
            "[CV] END .....................C=0.1, gamma=1, kernel=sigmoid; total time=   3.4s\n",
            "[CV] END .....................C=0.1, gamma=1, kernel=sigmoid; total time=   3.4s\n",
            "[CV] END .....................C=0.1, gamma=1, kernel=sigmoid; total time=   3.4s\n",
            "[CV] END .....................C=0.1, gamma=1, kernel=sigmoid; total time=   3.4s\n",
            "[CV] END .....................C=0.1, gamma=1, kernel=sigmoid; total time=   3.4s\n",
            "[CV] END .......................C=0.1, gamma=0.1, kernel=rbf; total time=   2.4s\n",
            "[CV] END .......................C=0.1, gamma=0.1, kernel=rbf; total time=   2.3s\n",
            "[CV] END .......................C=0.1, gamma=0.1, kernel=rbf; total time=   2.4s\n",
            "[CV] END .......................C=0.1, gamma=0.1, kernel=rbf; total time=   2.3s\n",
            "[CV] END .......................C=0.1, gamma=0.1, kernel=rbf; total time=   2.4s\n",
            "[CV] END ......................C=0.1, gamma=0.1, kernel=poly; total time=   2.5s\n",
            "[CV] END ......................C=0.1, gamma=0.1, kernel=poly; total time=   2.5s\n",
            "[CV] END ......................C=0.1, gamma=0.1, kernel=poly; total time=   2.4s\n",
            "[CV] END ......................C=0.1, gamma=0.1, kernel=poly; total time=   2.4s\n",
            "[CV] END ......................C=0.1, gamma=0.1, kernel=poly; total time=   2.5s\n",
            "[CV] END ...................C=0.1, gamma=0.1, kernel=sigmoid; total time=   3.0s\n",
            "[CV] END ...................C=0.1, gamma=0.1, kernel=sigmoid; total time=   2.9s\n",
            "[CV] END ...................C=0.1, gamma=0.1, kernel=sigmoid; total time=   3.5s\n",
            "[CV] END ...................C=0.1, gamma=0.1, kernel=sigmoid; total time=   2.8s\n",
            "[CV] END ...................C=0.1, gamma=0.1, kernel=sigmoid; total time=   2.9s\n",
            "[CV] END ......................C=0.1, gamma=0.01, kernel=rbf; total time=   3.5s\n",
            "[CV] END ......................C=0.1, gamma=0.01, kernel=rbf; total time=   3.6s\n",
            "[CV] END ......................C=0.1, gamma=0.01, kernel=rbf; total time=   3.5s\n",
            "[CV] END ......................C=0.1, gamma=0.01, kernel=rbf; total time=   3.5s\n",
            "[CV] END ......................C=0.1, gamma=0.01, kernel=rbf; total time=   3.7s\n",
            "[CV] END .....................C=0.1, gamma=0.01, kernel=poly; total time=   2.7s\n",
            "[CV] END .....................C=0.1, gamma=0.01, kernel=poly; total time=   2.7s\n",
            "[CV] END .....................C=0.1, gamma=0.01, kernel=poly; total time=   2.6s\n",
            "[CV] END .....................C=0.1, gamma=0.01, kernel=poly; total time=   2.5s\n",
            "[CV] END .....................C=0.1, gamma=0.01, kernel=poly; total time=   2.5s\n",
            "[CV] END ..................C=0.1, gamma=0.01, kernel=sigmoid; total time=   3.7s\n",
            "[CV] END ..................C=0.1, gamma=0.01, kernel=sigmoid; total time=   3.7s\n",
            "[CV] END ..................C=0.1, gamma=0.01, kernel=sigmoid; total time=   3.6s\n",
            "[CV] END ..................C=0.1, gamma=0.01, kernel=sigmoid; total time=   3.6s\n",
            "[CV] END ..................C=0.1, gamma=0.01, kernel=sigmoid; total time=   3.7s\n",
            "[CV] END .....................C=0.1, gamma=0.001, kernel=rbf; total time=   3.6s\n",
            "[CV] END .....................C=0.1, gamma=0.001, kernel=rbf; total time=   3.6s\n",
            "[CV] END .....................C=0.1, gamma=0.001, kernel=rbf; total time=   3.5s\n",
            "[CV] END .....................C=0.1, gamma=0.001, kernel=rbf; total time=   3.5s\n",
            "[CV] END .....................C=0.1, gamma=0.001, kernel=rbf; total time=   3.5s\n",
            "[CV] END ....................C=0.1, gamma=0.001, kernel=poly; total time=   2.6s\n",
            "[CV] END ....................C=0.1, gamma=0.001, kernel=poly; total time=   2.5s\n",
            "[CV] END ....................C=0.1, gamma=0.001, kernel=poly; total time=   2.5s\n",
            "[CV] END ....................C=0.1, gamma=0.001, kernel=poly; total time=   2.5s\n",
            "[CV] END ....................C=0.1, gamma=0.001, kernel=poly; total time=   2.5s\n",
            "[CV] END .................C=0.1, gamma=0.001, kernel=sigmoid; total time=   3.7s\n",
            "[CV] END .................C=0.1, gamma=0.001, kernel=sigmoid; total time=   3.7s\n",
            "[CV] END .................C=0.1, gamma=0.001, kernel=sigmoid; total time=   3.6s\n",
            "[CV] END .................C=0.1, gamma=0.001, kernel=sigmoid; total time=   3.6s\n",
            "[CV] END .................C=0.1, gamma=0.001, kernel=sigmoid; total time=   3.7s\n",
            "[CV] END ...........................C=1, gamma=1, kernel=rbf; total time=   2.1s\n",
            "[CV] END ...........................C=1, gamma=1, kernel=rbf; total time=   1.5s\n",
            "[CV] END ...........................C=1, gamma=1, kernel=rbf; total time=   1.4s\n",
            "[CV] END ...........................C=1, gamma=1, kernel=rbf; total time=   1.4s\n",
            "[CV] END ...........................C=1, gamma=1, kernel=rbf; total time=   1.4s\n",
            "[CV] END ..........................C=1, gamma=1, kernel=poly; total time=   1.0s\n",
            "[CV] END ..........................C=1, gamma=1, kernel=poly; total time=   1.0s\n",
            "[CV] END ..........................C=1, gamma=1, kernel=poly; total time=   0.9s\n",
            "[CV] END ..........................C=1, gamma=1, kernel=poly; total time=   0.9s\n",
            "[CV] END ..........................C=1, gamma=1, kernel=poly; total time=   0.9s\n",
            "[CV] END .......................C=1, gamma=1, kernel=sigmoid; total time=   2.9s\n",
            "[CV] END .......................C=1, gamma=1, kernel=sigmoid; total time=   2.9s\n",
            "[CV] END .......................C=1, gamma=1, kernel=sigmoid; total time=   2.8s\n",
            "[CV] END .......................C=1, gamma=1, kernel=sigmoid; total time=   2.8s\n",
            "[CV] END .......................C=1, gamma=1, kernel=sigmoid; total time=   2.9s\n",
            "[CV] END .........................C=1, gamma=0.1, kernel=rbf; total time=   1.8s\n",
            "[CV] END .........................C=1, gamma=0.1, kernel=rbf; total time=   1.8s\n",
            "[CV] END .........................C=1, gamma=0.1, kernel=rbf; total time=   1.8s\n",
            "[CV] END .........................C=1, gamma=0.1, kernel=rbf; total time=   1.7s\n",
            "[CV] END .........................C=1, gamma=0.1, kernel=rbf; total time=   1.8s\n",
            "[CV] END ........................C=1, gamma=0.1, kernel=poly; total time=   2.0s\n",
            "[CV] END ........................C=1, gamma=0.1, kernel=poly; total time=   2.0s\n",
            "[CV] END ........................C=1, gamma=0.1, kernel=poly; total time=   2.0s\n",
            "[CV] END ........................C=1, gamma=0.1, kernel=poly; total time=   1.9s\n",
            "[CV] END ........................C=1, gamma=0.1, kernel=poly; total time=   2.0s\n",
            "[CV] END .....................C=1, gamma=0.1, kernel=sigmoid; total time=   2.1s\n",
            "[CV] END .....................C=1, gamma=0.1, kernel=sigmoid; total time=   2.0s\n",
            "[CV] END .....................C=1, gamma=0.1, kernel=sigmoid; total time=   2.0s\n",
            "[CV] END .....................C=1, gamma=0.1, kernel=sigmoid; total time=   2.0s\n",
            "[CV] END .....................C=1, gamma=0.1, kernel=sigmoid; total time=   2.0s\n",
            "[CV] END ........................C=1, gamma=0.01, kernel=rbf; total time=   2.3s\n",
            "[CV] END ........................C=1, gamma=0.01, kernel=rbf; total time=   2.3s\n",
            "[CV] END ........................C=1, gamma=0.01, kernel=rbf; total time=   2.3s\n",
            "[CV] END ........................C=1, gamma=0.01, kernel=rbf; total time=   2.3s\n",
            "[CV] END ........................C=1, gamma=0.01, kernel=rbf; total time=   2.3s\n",
            "[CV] END .......................C=1, gamma=0.01, kernel=poly; total time=   2.6s\n",
            "[CV] END .......................C=1, gamma=0.01, kernel=poly; total time=   2.5s\n",
            "[CV] END .......................C=1, gamma=0.01, kernel=poly; total time=   2.6s\n",
            "[CV] END .......................C=1, gamma=0.01, kernel=poly; total time=   2.5s\n",
            "[CV] END .......................C=1, gamma=0.01, kernel=poly; total time=   2.5s\n",
            "[CV] END ....................C=1, gamma=0.01, kernel=sigmoid; total time=   2.7s\n",
            "[CV] END ....................C=1, gamma=0.01, kernel=sigmoid; total time=   2.7s\n",
            "[CV] END ....................C=1, gamma=0.01, kernel=sigmoid; total time=   2.7s\n",
            "[CV] END ....................C=1, gamma=0.01, kernel=sigmoid; total time=   2.6s\n",
            "[CV] END ....................C=1, gamma=0.01, kernel=sigmoid; total time=   2.7s\n",
            "[CV] END .......................C=1, gamma=0.001, kernel=rbf; total time=   3.6s\n",
            "[CV] END .......................C=1, gamma=0.001, kernel=rbf; total time=   3.6s\n",
            "[CV] END .......................C=1, gamma=0.001, kernel=rbf; total time=   3.6s\n",
            "[CV] END .......................C=1, gamma=0.001, kernel=rbf; total time=   4.2s\n",
            "[CV] END .......................C=1, gamma=0.001, kernel=rbf; total time=   3.6s\n",
            "[CV] END ......................C=1, gamma=0.001, kernel=poly; total time=   2.5s\n",
            "[CV] END ......................C=1, gamma=0.001, kernel=poly; total time=   2.5s\n",
            "[CV] END ......................C=1, gamma=0.001, kernel=poly; total time=   2.5s\n",
            "[CV] END ......................C=1, gamma=0.001, kernel=poly; total time=   2.5s\n",
            "[CV] END ......................C=1, gamma=0.001, kernel=poly; total time=   2.5s\n",
            "[CV] END ...................C=1, gamma=0.001, kernel=sigmoid; total time=   3.8s\n",
            "[CV] END ...................C=1, gamma=0.001, kernel=sigmoid; total time=   3.8s\n",
            "[CV] END ...................C=1, gamma=0.001, kernel=sigmoid; total time=   3.8s\n",
            "[CV] END ...................C=1, gamma=0.001, kernel=sigmoid; total time=   3.6s\n",
            "[CV] END ...................C=1, gamma=0.001, kernel=sigmoid; total time=   3.8s\n",
            "[CV] END ..........................C=10, gamma=1, kernel=rbf; total time=   1.1s\n",
            "[CV] END ..........................C=10, gamma=1, kernel=rbf; total time=   1.1s\n",
            "[CV] END ..........................C=10, gamma=1, kernel=rbf; total time=   1.1s\n",
            "[CV] END ..........................C=10, gamma=1, kernel=rbf; total time=   1.1s\n",
            "[CV] END ..........................C=10, gamma=1, kernel=rbf; total time=   1.1s\n",
            "[CV] END .........................C=10, gamma=1, kernel=poly; total time=   0.9s\n",
            "[CV] END .........................C=10, gamma=1, kernel=poly; total time=   0.9s\n",
            "[CV] END .........................C=10, gamma=1, kernel=poly; total time=   0.9s\n",
            "[CV] END .........................C=10, gamma=1, kernel=poly; total time=   0.8s\n",
            "[CV] END .........................C=10, gamma=1, kernel=poly; total time=   0.9s\n",
            "[CV] END ......................C=10, gamma=1, kernel=sigmoid; total time=   2.7s\n",
            "[CV] END ......................C=10, gamma=1, kernel=sigmoid; total time=   2.7s\n",
            "[CV] END ......................C=10, gamma=1, kernel=sigmoid; total time=   2.7s\n",
            "[CV] END ......................C=10, gamma=1, kernel=sigmoid; total time=   2.6s\n",
            "[CV] END ......................C=10, gamma=1, kernel=sigmoid; total time=   2.6s\n",
            "[CV] END ........................C=10, gamma=0.1, kernel=rbf; total time=   1.5s\n",
            "[CV] END ........................C=10, gamma=0.1, kernel=rbf; total time=   1.4s\n",
            "[CV] END ........................C=10, gamma=0.1, kernel=rbf; total time=   1.4s\n",
            "[CV] END ........................C=10, gamma=0.1, kernel=rbf; total time=   1.4s\n",
            "[CV] END ........................C=10, gamma=0.1, kernel=rbf; total time=   1.4s\n",
            "[CV] END .......................C=10, gamma=0.1, kernel=poly; total time=   1.6s\n",
            "[CV] END .......................C=10, gamma=0.1, kernel=poly; total time=   1.6s\n",
            "[CV] END .......................C=10, gamma=0.1, kernel=poly; total time=   1.6s\n",
            "[CV] END .......................C=10, gamma=0.1, kernel=poly; total time=   1.5s\n",
            "[CV] END .......................C=10, gamma=0.1, kernel=poly; total time=   1.6s\n",
            "[CV] END ....................C=10, gamma=0.1, kernel=sigmoid; total time=   1.6s\n",
            "[CV] END ....................C=10, gamma=0.1, kernel=sigmoid; total time=   1.6s\n",
            "[CV] END ....................C=10, gamma=0.1, kernel=sigmoid; total time=   1.6s\n",
            "[CV] END ....................C=10, gamma=0.1, kernel=sigmoid; total time=   1.5s\n",
            "[CV] END ....................C=10, gamma=0.1, kernel=sigmoid; total time=   1.6s\n",
            "[CV] END .......................C=10, gamma=0.01, kernel=rbf; total time=   1.8s\n",
            "[CV] END .......................C=10, gamma=0.01, kernel=rbf; total time=   1.8s\n",
            "[CV] END .......................C=10, gamma=0.01, kernel=rbf; total time=   1.8s\n",
            "[CV] END .......................C=10, gamma=0.01, kernel=rbf; total time=   1.8s\n",
            "[CV] END .......................C=10, gamma=0.01, kernel=rbf; total time=   1.8s\n",
            "[CV] END ......................C=10, gamma=0.01, kernel=poly; total time=   2.6s\n",
            "[CV] END ......................C=10, gamma=0.01, kernel=poly; total time=   2.6s\n",
            "[CV] END ......................C=10, gamma=0.01, kernel=poly; total time=   2.5s\n",
            "[CV] END ......................C=10, gamma=0.01, kernel=poly; total time=   2.5s\n",
            "[CV] END ......................C=10, gamma=0.01, kernel=poly; total time=   2.5s\n",
            "[CV] END ...................C=10, gamma=0.01, kernel=sigmoid; total time=   2.0s\n",
            "[CV] END ...................C=10, gamma=0.01, kernel=sigmoid; total time=   2.1s\n",
            "[CV] END ...................C=10, gamma=0.01, kernel=sigmoid; total time=   2.0s\n",
            "[CV] END ...................C=10, gamma=0.01, kernel=sigmoid; total time=   2.0s\n",
            "[CV] END ...................C=10, gamma=0.01, kernel=sigmoid; total time=   2.0s\n",
            "[CV] END ......................C=10, gamma=0.001, kernel=rbf; total time=   2.5s\n",
            "[CV] END ......................C=10, gamma=0.001, kernel=rbf; total time=   2.5s\n",
            "[CV] END ......................C=10, gamma=0.001, kernel=rbf; total time=   2.5s\n",
            "[CV] END ......................C=10, gamma=0.001, kernel=rbf; total time=   2.4s\n",
            "[CV] END ......................C=10, gamma=0.001, kernel=rbf; total time=   2.4s\n",
            "[CV] END .....................C=10, gamma=0.001, kernel=poly; total time=   2.6s\n",
            "[CV] END .....................C=10, gamma=0.001, kernel=poly; total time=   2.6s\n",
            "[CV] END .....................C=10, gamma=0.001, kernel=poly; total time=   2.5s\n",
            "[CV] END .....................C=10, gamma=0.001, kernel=poly; total time=   2.5s\n",
            "[CV] END .....................C=10, gamma=0.001, kernel=poly; total time=   2.5s\n",
            "[CV] END ..................C=10, gamma=0.001, kernel=sigmoid; total time=   2.7s\n",
            "[CV] END ..................C=10, gamma=0.001, kernel=sigmoid; total time=   2.7s\n",
            "[CV] END ..................C=10, gamma=0.001, kernel=sigmoid; total time=   2.7s\n",
            "[CV] END ..................C=10, gamma=0.001, kernel=sigmoid; total time=   2.6s\n",
            "[CV] END ..................C=10, gamma=0.001, kernel=sigmoid; total time=   2.7s\n",
            "[CV] END .........................C=100, gamma=1, kernel=rbf; total time=   0.8s\n",
            "[CV] END .........................C=100, gamma=1, kernel=rbf; total time=   0.8s\n",
            "[CV] END .........................C=100, gamma=1, kernel=rbf; total time=   0.8s\n",
            "[CV] END .........................C=100, gamma=1, kernel=rbf; total time=   0.8s\n",
            "[CV] END .........................C=100, gamma=1, kernel=rbf; total time=   0.8s\n",
            "[CV] END ........................C=100, gamma=1, kernel=poly; total time=   0.8s\n",
            "[CV] END ........................C=100, gamma=1, kernel=poly; total time=   0.8s\n",
            "[CV] END ........................C=100, gamma=1, kernel=poly; total time=   0.8s\n",
            "[CV] END ........................C=100, gamma=1, kernel=poly; total time=   0.8s\n",
            "[CV] END ........................C=100, gamma=1, kernel=poly; total time=   0.8s\n",
            "[CV] END .....................C=100, gamma=1, kernel=sigmoid; total time=   2.6s\n",
            "[CV] END .....................C=100, gamma=1, kernel=sigmoid; total time=   2.6s\n",
            "[CV] END .....................C=100, gamma=1, kernel=sigmoid; total time=   2.5s\n",
            "[CV] END .....................C=100, gamma=1, kernel=sigmoid; total time=   2.5s\n",
            "[CV] END .....................C=100, gamma=1, kernel=sigmoid; total time=   2.5s\n",
            "[CV] END .......................C=100, gamma=0.1, kernel=rbf; total time=   1.3s\n",
            "[CV] END .......................C=100, gamma=0.1, kernel=rbf; total time=   1.2s\n",
            "[CV] END .......................C=100, gamma=0.1, kernel=rbf; total time=   1.2s\n",
            "[CV] END .......................C=100, gamma=0.1, kernel=rbf; total time=   1.2s\n",
            "[CV] END .......................C=100, gamma=0.1, kernel=rbf; total time=   1.2s\n",
            "[CV] END ......................C=100, gamma=0.1, kernel=poly; total time=   1.2s\n",
            "[CV] END ......................C=100, gamma=0.1, kernel=poly; total time=   1.2s\n",
            "[CV] END ......................C=100, gamma=0.1, kernel=poly; total time=   1.2s\n",
            "[CV] END ......................C=100, gamma=0.1, kernel=poly; total time=   1.2s\n",
            "[CV] END ......................C=100, gamma=0.1, kernel=poly; total time=   1.2s\n",
            "[CV] END ...................C=100, gamma=0.1, kernel=sigmoid; total time=   1.3s\n",
            "[CV] END ...................C=100, gamma=0.1, kernel=sigmoid; total time=   1.3s\n",
            "[CV] END ...................C=100, gamma=0.1, kernel=sigmoid; total time=   1.3s\n",
            "[CV] END ...................C=100, gamma=0.1, kernel=sigmoid; total time=   1.3s\n",
            "[CV] END ...................C=100, gamma=0.1, kernel=sigmoid; total time=   1.3s\n",
            "[CV] END ......................C=100, gamma=0.01, kernel=rbf; total time=   1.8s\n",
            "[CV] END ......................C=100, gamma=0.01, kernel=rbf; total time=   1.8s\n",
            "[CV] END ......................C=100, gamma=0.01, kernel=rbf; total time=   1.7s\n",
            "[CV] END ......................C=100, gamma=0.01, kernel=rbf; total time=   1.7s\n",
            "[CV] END ......................C=100, gamma=0.01, kernel=rbf; total time=   1.7s\n",
            "[CV] END .....................C=100, gamma=0.01, kernel=poly; total time=   2.5s\n",
            "[CV] END .....................C=100, gamma=0.01, kernel=poly; total time=   2.6s\n",
            "[CV] END .....................C=100, gamma=0.01, kernel=poly; total time=   2.5s\n",
            "[CV] END .....................C=100, gamma=0.01, kernel=poly; total time=   2.5s\n",
            "[CV] END .....................C=100, gamma=0.01, kernel=poly; total time=   2.5s\n",
            "[CV] END ..................C=100, gamma=0.01, kernel=sigmoid; total time=   1.7s\n",
            "[CV] END ..................C=100, gamma=0.01, kernel=sigmoid; total time=   1.7s\n",
            "[CV] END ..................C=100, gamma=0.01, kernel=sigmoid; total time=   1.8s\n",
            "[CV] END ..................C=100, gamma=0.01, kernel=sigmoid; total time=   1.7s\n",
            "[CV] END ..................C=100, gamma=0.01, kernel=sigmoid; total time=   1.7s\n",
            "[CV] END .....................C=100, gamma=0.001, kernel=rbf; total time=   2.1s\n",
            "[CV] END .....................C=100, gamma=0.001, kernel=rbf; total time=   2.1s\n",
            "[CV] END .....................C=100, gamma=0.001, kernel=rbf; total time=   2.0s\n",
            "[CV] END .....................C=100, gamma=0.001, kernel=rbf; total time=   2.0s\n",
            "[CV] END .....................C=100, gamma=0.001, kernel=rbf; total time=   2.1s\n",
            "[CV] END ....................C=100, gamma=0.001, kernel=poly; total time=   2.6s\n",
            "[CV] END ....................C=100, gamma=0.001, kernel=poly; total time=   2.5s\n",
            "[CV] END ....................C=100, gamma=0.001, kernel=poly; total time=   2.5s\n",
            "[CV] END ....................C=100, gamma=0.001, kernel=poly; total time=   2.5s\n",
            "[CV] END ....................C=100, gamma=0.001, kernel=poly; total time=   2.5s\n",
            "[CV] END .................C=100, gamma=0.001, kernel=sigmoid; total time=   1.8s\n",
            "[CV] END .................C=100, gamma=0.001, kernel=sigmoid; total time=   1.8s\n",
            "[CV] END .................C=100, gamma=0.001, kernel=sigmoid; total time=   1.8s\n",
            "[CV] END .................C=100, gamma=0.001, kernel=sigmoid; total time=   1.8s\n",
            "[CV] END .................C=100, gamma=0.001, kernel=sigmoid; total time=   1.8s\n"
          ]
        },
        {
          "output_type": "execute_result",
          "data": {
            "text/plain": [
              "GridSearchCV(estimator=SVC(),\n",
              "             param_grid={'C': [0.1, 1, 10, 100], 'gamma': [1, 0.1, 0.01, 0.001],\n",
              "                         'kernel': ['rbf', 'poly', 'sigmoid']},\n",
              "             verbose=2)"
            ]
          },
          "metadata": {},
          "execution_count": 106
        }
      ],
      "source": [
        "grid = GridSearchCV(SVC(),param_grid,refit=True,verbose=2)\n",
        "grid.fit(X_train,y_train)"
      ],
      "id": "KfIQ9cuRgHKQ"
    },
    {
      "cell_type": "code",
      "execution_count": null,
      "metadata": {
        "id": "gPUC1IX9z_Fh",
        "colab": {
          "base_uri": "https://localhost:8080/"
        },
        "outputId": "8cf418c6-56d2-40d5-8b95-0abf99dcafb3"
      },
      "outputs": [
        {
          "output_type": "execute_result",
          "data": {
            "text/plain": [
              "SVC(C=100, gamma=1, kernel='poly')"
            ]
          },
          "metadata": {},
          "execution_count": 107
        }
      ],
      "source": [
        "grid.best_estimator_"
      ],
      "id": "gPUC1IX9z_Fh"
    },
    {
      "cell_type": "code",
      "execution_count": null,
      "metadata": {
        "id": "_2G_CsZV0PI-",
        "colab": {
          "base_uri": "https://localhost:8080/"
        },
        "outputId": "0c2045da-c0fa-478f-b447-2cacfa0b5236"
      },
      "outputs": [
        {
          "output_type": "stream",
          "name": "stdout",
          "text": [
            "              precision    recall  f1-score   support\n",
            "\n",
            "           0       0.40      0.80      0.53         5\n",
            "           1       0.60      0.86      0.71         7\n",
            "           2       1.00      1.00      1.00         1\n",
            "           3       0.75      0.38      0.50         8\n",
            "           5       0.00      0.00      0.00         6\n",
            "           6       1.00      0.33      0.50         3\n",
            "           7       0.00      0.00      0.00         3\n",
            "           9       1.00      0.73      0.84        11\n",
            "          10       1.00      1.00      1.00        12\n",
            "          11       0.20      0.33      0.25         3\n",
            "          12       0.00      0.00      0.00         0\n",
            "          15       0.00      0.00      0.00         1\n",
            "          16       1.00      1.00      1.00         1\n",
            "          17       0.00      0.00      0.00         0\n",
            "          19       0.00      0.00      0.00         2\n",
            "          20       0.40      1.00      0.57         4\n",
            "          22       0.50      1.00      0.67         1\n",
            "          23       1.00      1.00      1.00         1\n",
            "          24       0.00      0.00      0.00         1\n",
            "          25       0.25      1.00      0.40         1\n",
            "          26       0.00      0.00      0.00         1\n",
            "          27       1.00      1.00      1.00         1\n",
            "          28       0.00      0.00      0.00         1\n",
            "          29       0.67      1.00      0.80         2\n",
            "          31       0.00      0.00      0.00         0\n",
            "          33       0.00      0.00      0.00         3\n",
            "          34       0.50      1.00      0.67         3\n",
            "          35       1.00      1.00      1.00        38\n",
            "          36       0.00      0.00      0.00         3\n",
            "          39       0.80      0.80      0.80         5\n",
            "          40       0.00      0.00      0.00         0\n",
            "          41       1.00      0.75      0.86         4\n",
            "          42       0.00      0.00      0.00         2\n",
            "          43       0.00      0.00      0.00         5\n",
            "          44       0.00      0.00      0.00         1\n",
            "          45       0.00      0.00      0.00         2\n",
            "          46       1.00      1.00      1.00        43\n",
            "          48       0.83      0.83      0.83         6\n",
            "          49       0.00      0.00      0.00         2\n",
            "          50       1.00      1.00      1.00         2\n",
            "          52       1.00      1.00      1.00         6\n",
            "          53       1.00      1.00      1.00        48\n",
            "          54       0.00      0.00      0.00         1\n",
            "          55       1.00      1.00      1.00         9\n",
            "          56       1.00      1.00      1.00         1\n",
            "          57       1.00      1.00      1.00         1\n",
            "          58       1.00      0.90      0.95        10\n",
            "          59       0.00      0.00      0.00         2\n",
            "          60       0.00      0.00      0.00         1\n",
            "          61       0.00      0.00      0.00         0\n",
            "          62       0.00      0.00      0.00         0\n",
            "          63       0.00      0.00      0.00         0\n",
            "          64       1.00      1.00      1.00         3\n",
            "          65       0.25      1.00      0.40         2\n",
            "          66       0.40      1.00      0.57         2\n",
            "          67       0.00      0.00      0.00         1\n",
            "          68       0.00      0.00      0.00         1\n",
            "          69       0.50      0.50      0.50         4\n",
            "          70       0.83      0.83      0.83         6\n",
            "          71       0.00      0.00      0.00         0\n",
            "          72       0.50      1.00      0.67         1\n",
            "          75       1.00      0.75      0.86         4\n",
            "          76       0.00      0.00      0.00         1\n",
            "          77       1.00      1.00      1.00       220\n",
            "          78       0.87      0.65      0.74        31\n",
            "          79       0.00      0.00      0.00         1\n",
            "          80       0.86      1.00      0.92        54\n",
            "          81       0.79      0.97      0.87        35\n",
            "          83       1.00      1.00      1.00        54\n",
            "          84       1.00      1.00      1.00        13\n",
            "          86       1.00      1.00      1.00       105\n",
            "          87       1.00      1.00      1.00        22\n",
            "          88       1.00      1.00      1.00       108\n",
            "          89       1.00      1.00      1.00        15\n",
            "          90       1.00      1.00      1.00       170\n",
            "          91       1.00      0.25      0.40         8\n",
            "          92       0.00      0.00      0.00         0\n",
            "          93       0.00      0.00      0.00         1\n",
            "          94       0.00      0.00      0.00         0\n",
            "          95       0.40      1.00      0.57         4\n",
            "          96       1.00      1.00      1.00       657\n",
            "          97       0.20      1.00      0.33         2\n",
            "          98       1.00      0.75      0.86         4\n",
            "          99       0.57      0.67      0.62         6\n",
            "         100       0.33      0.33      0.33         6\n",
            "         101       0.68      1.00      0.81        23\n",
            "         102       1.00      1.00      1.00       409\n",
            "         104       1.00      0.88      0.94        25\n",
            "         106       0.97      0.77      0.86        39\n",
            "         107       1.00      1.00      1.00        66\n",
            "         108       1.00      1.00      1.00        78\n",
            "         110       0.00      0.00      0.00         1\n",
            "         111       0.00      0.00      0.00         3\n",
            "         112       0.00      0.00      0.00         1\n",
            "         113       0.67      1.00      0.80         6\n",
            "         114       0.50      1.00      0.67         1\n",
            "         115       0.50      0.50      0.50         2\n",
            "         116       1.00      1.00      1.00        36\n",
            "         117       1.00      1.00      1.00         2\n",
            "         118       1.00      1.00      1.00        54\n",
            "         119       1.00      0.79      0.88        43\n",
            "         120       1.00      1.00      1.00       128\n",
            "         121       0.60      0.60      0.60         5\n",
            "         122       1.00      1.00      1.00        72\n",
            "         123       1.00      1.00      1.00        24\n",
            "         124       1.00      1.00      1.00       137\n",
            "         125       1.00      1.00      1.00         2\n",
            "         126       0.56      1.00      0.71         5\n",
            "         127       1.00      1.00      1.00        14\n",
            "         128       0.00      0.00      0.00         9\n",
            "\n",
            "    accuracy                           0.96      3000\n",
            "   macro avg       0.55      0.60      0.56      3000\n",
            "weighted avg       0.96      0.96      0.95      3000\n",
            "\n"
          ]
        },
        {
          "output_type": "stream",
          "name": "stderr",
          "text": [
            "/usr/local/lib/python3.7/dist-packages/sklearn/metrics/_classification.py:1318: UndefinedMetricWarning: Precision and F-score are ill-defined and being set to 0.0 in labels with no predicted samples. Use `zero_division` parameter to control this behavior.\n",
            "  _warn_prf(average, modifier, msg_start, len(result))\n",
            "/usr/local/lib/python3.7/dist-packages/sklearn/metrics/_classification.py:1318: UndefinedMetricWarning: Recall and F-score are ill-defined and being set to 0.0 in labels with no true samples. Use `zero_division` parameter to control this behavior.\n",
            "  _warn_prf(average, modifier, msg_start, len(result))\n",
            "/usr/local/lib/python3.7/dist-packages/sklearn/metrics/_classification.py:1318: UndefinedMetricWarning: Precision and F-score are ill-defined and being set to 0.0 in labels with no predicted samples. Use `zero_division` parameter to control this behavior.\n",
            "  _warn_prf(average, modifier, msg_start, len(result))\n",
            "/usr/local/lib/python3.7/dist-packages/sklearn/metrics/_classification.py:1318: UndefinedMetricWarning: Recall and F-score are ill-defined and being set to 0.0 in labels with no true samples. Use `zero_division` parameter to control this behavior.\n",
            "  _warn_prf(average, modifier, msg_start, len(result))\n",
            "/usr/local/lib/python3.7/dist-packages/sklearn/metrics/_classification.py:1318: UndefinedMetricWarning: Precision and F-score are ill-defined and being set to 0.0 in labels with no predicted samples. Use `zero_division` parameter to control this behavior.\n",
            "  _warn_prf(average, modifier, msg_start, len(result))\n",
            "/usr/local/lib/python3.7/dist-packages/sklearn/metrics/_classification.py:1318: UndefinedMetricWarning: Recall and F-score are ill-defined and being set to 0.0 in labels with no true samples. Use `zero_division` parameter to control this behavior.\n",
            "  _warn_prf(average, modifier, msg_start, len(result))\n"
          ]
        }
      ],
      "source": [
        "grid_predictions = grid.predict(X_test)\n",
        "print(classification_report(y_test,grid_predictions))"
      ],
      "id": "_2G_CsZV0PI-"
    },
    {
      "cell_type": "code",
      "execution_count": null,
      "metadata": {
        "id": "sUKioGZy0bY9",
        "colab": {
          "base_uri": "https://localhost:8080/"
        },
        "outputId": "e94ff2f4-b473-43da-84f6-dd1abfc63d72"
      },
      "outputs": [
        {
          "output_type": "stream",
          "name": "stdout",
          "text": [
            "[[ 4  0  0 ...  0  0  0]\n",
            " [ 0  6  0 ...  0  0  0]\n",
            " [ 0  0  1 ...  0  0  0]\n",
            " ...\n",
            " [ 0  0  0 ...  5  0  0]\n",
            " [ 0  0  0 ...  0 14  0]\n",
            " [ 5  0  0 ...  0  0  0]]\n"
          ]
        }
      ],
      "source": [
        "print(confusion_matrix(y_test,grid_predictions))"
      ],
      "id": "sUKioGZy0bY9"
    },
    {
      "cell_type": "markdown",
      "metadata": {
        "id": "i66ay7972VbC"
      },
      "source": [
        "In svm we can see a 26% increase in accuracy after hyperparameter tuning"
      ],
      "id": "i66ay7972VbC"
    },
    {
      "cell_type": "markdown",
      "metadata": {
        "id": "_xZqW4fX21IV"
      },
      "source": [
        "# Result"
      ],
      "id": "_xZqW4fX21IV"
    },
    {
      "cell_type": "markdown",
      "metadata": {
        "id": "YaWEIxL-34-t"
      },
      "source": [
        "we can conclude that decision tree,random forest and knn have the largest estimated accuracy score(99%). Logestic regression has the worst."
      ],
      "id": "YaWEIxL-34-t"
    },
    {
      "cell_type": "code",
      "execution_count": null,
      "metadata": {
        "id": "2NvesE6E37Bq"
      },
      "outputs": [],
      "source": [
        ""
      ],
      "id": "2NvesE6E37Bq"
    }
  ],
  "metadata": {
    "colab": {
      "collapsed_sections": [],
      "name": "Final_project(1).ipynb",
      "provenance": []
    },
    "kernelspec": {
      "display_name": "Python 3 (ipykernel)",
      "language": "python",
      "name": "python3"
    },
    "language_info": {
      "codemirror_mode": {
        "name": "ipython",
        "version": 3
      },
      "file_extension": ".py",
      "mimetype": "text/x-python",
      "name": "python",
      "nbconvert_exporter": "python",
      "pygments_lexer": "ipython3",
      "version": "3.8.12"
    }
  },
  "nbformat": 4,
  "nbformat_minor": 5
}
